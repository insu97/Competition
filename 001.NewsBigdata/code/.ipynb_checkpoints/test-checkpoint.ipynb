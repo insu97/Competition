{
 "cells": [
  {
   "cell_type": "code",
   "execution_count": 1,
   "id": "0e57649e-6cfc-4188-8611-bb3d87b35f53",
   "metadata": {},
   "outputs": [],
   "source": [
    "import requests\n",
    "import json\n",
    "f = open('../data/key/key.txt','r')\n",
    "api_key = f.read()"
   ]
  },
  {
   "cell_type": "code",
   "execution_count": 2,
   "id": "c9782cf5-fed7-49dc-b401-2a93c8410428",
   "metadata": {},
   "outputs": [],
   "source": [
    "url = \"https://tools.kinds.or.kr/search/news\""
   ]
  },
  {
   "cell_type": "code",
   "execution_count": 3,
   "id": "43bcf136-f182-4724-895b-96e8467646dd",
   "metadata": {},
   "outputs": [],
   "source": [
    "new_data = {\n",
    "    \"access_key\": api_key,\n",
    "    \"argument\": {\n",
    "        \"query\": \"서비스 AND 출시\",\n",
    "        \"published_at\": {\n",
    "            \"from\": \"2023-10-01\",\n",
    "            \"until\": \"2023-10-24\"\n",
    "        },\n",
    "        \"provider\": [\"경향신문\"],\n",
    "        \"category\": [\"정치>정치일반\", \"IT_과학\"],\n",
    "        \"category_incident\": [\"범죄\", \"교통사고\", \"재해>자연재해\"],\n",
    "        \"byline\": \"\",\n",
    "        \"provider_subject\": [\"경제\", \"부동산\"],\n",
    "        \"subject_info\": [\"\"],\n",
    "        \"subject_info1\": [\"\"],\n",
    "        \"subject_info2\": [\"\"],\n",
    "        \"subject_info3\": [\"\"],\n",
    "        \"subject_info4\": [\"\"],\n",
    "        \"sort\": {\"date\": \"desc\"},\n",
    "        \"hilight\": 200,\n",
    "        \"return_from\": 0,\n",
    "        \"return_size\": 5,\n",
    "        \"fields\": [\"byline\", \"category\", \"category_incident\", \"provider_news_id\"]\n",
    "    }\n",
    "}"
   ]
  },
  {
   "cell_type": "code",
   "execution_count": 4,
   "id": "f87a7609-77fd-4611-832f-6b391bac8500",
   "metadata": {},
   "outputs": [],
   "source": [
    "response = requests.post(url, json=new_data)"
   ]
  },
  {
   "cell_type": "code",
   "execution_count": 5,
   "id": "4e4c1754-9bb8-44f8-b5a6-2fff2591bb0d",
   "metadata": {
    "tags": []
   },
   "outputs": [
    {
     "data": {
      "text/html": [
       "<div>\n",
       "<style scoped>\n",
       "    .dataframe tbody tr th:only-of-type {\n",
       "        vertical-align: middle;\n",
       "    }\n",
       "\n",
       "    .dataframe tbody tr th {\n",
       "        vertical-align: top;\n",
       "    }\n",
       "\n",
       "    .dataframe thead th {\n",
       "        text-align: right;\n",
       "    }\n",
       "</style>\n",
       "<table border=\"1\" class=\"dataframe\">\n",
       "  <thead>\n",
       "    <tr style=\"text-align: right;\">\n",
       "      <th></th>\n",
       "      <th>news_id</th>\n",
       "      <th>title</th>\n",
       "      <th>hilight</th>\n",
       "      <th>published_at</th>\n",
       "      <th>enveloped_at</th>\n",
       "      <th>dateline</th>\n",
       "      <th>provider</th>\n",
       "      <th>category</th>\n",
       "      <th>category_incident</th>\n",
       "      <th>byline</th>\n",
       "      <th>provider_news_id</th>\n",
       "    </tr>\n",
       "  </thead>\n",
       "  <tbody>\n",
       "    <tr>\n",
       "      <th>0</th>\n",
       "      <td>01100101.20231022215317001</td>\n",
       "      <td>‘1강’ 테슬라 뒤에…‘차량용 OS’ 춘추전국 시대</td>\n",
       "      <td>테슬라의 모델 S는 &lt;b&gt;출시&lt;/b&gt; 다음해인 2013년 위기를 맞았다...기존 완...</td>\n",
       "      <td>2023-10-22T00:00:00.000+09:00</td>\n",
       "      <td>2023-10-22T21:53:17.000+09:00</td>\n",
       "      <td>2023-10-23T15:40:08.000+09:00</td>\n",
       "      <td>경향신문</td>\n",
       "      <td>[경제&gt;자동차, IT_과학&gt;모바일, IT_과학&gt;보안]</td>\n",
       "      <td>[범죄&gt;범죄일반&gt;방화, 사고&gt;산업사고&gt;화재]</td>\n",
       "      <td>이재덕 기자 duk@kyunghyang.com</td>\n",
       "      <td>202310222151005</td>\n",
       "    </tr>\n",
       "  </tbody>\n",
       "</table>\n",
       "</div>"
      ],
      "text/plain": [
       "                      news_id                         title  \\\n",
       "0  01100101.20231022215317001  ‘1강’ 테슬라 뒤에…‘차량용 OS’ 춘추전국 시대   \n",
       "\n",
       "                                             hilight  \\\n",
       "0  테슬라의 모델 S는 <b>출시</b> 다음해인 2013년 위기를 맞았다...기존 완...   \n",
       "\n",
       "                    published_at                   enveloped_at  \\\n",
       "0  2023-10-22T00:00:00.000+09:00  2023-10-22T21:53:17.000+09:00   \n",
       "\n",
       "                        dateline provider                       category  \\\n",
       "0  2023-10-23T15:40:08.000+09:00     경향신문  [경제>자동차, IT_과학>모바일, IT_과학>보안]   \n",
       "\n",
       "          category_incident                     byline provider_news_id  \n",
       "0  [범죄>범죄일반>방화, 사고>산업사고>화재]  이재덕 기자 duk@kyunghyang.com  202310222151005  "
      ]
     },
     "metadata": {},
     "output_type": "display_data"
    }
   ],
   "source": [
    "import pandas as pd\n",
    "\n",
    "if response.status_code == 200:\n",
    "    parsed_data = response.json()\n",
    "    \n",
    "    df = pd.json_normalize(parsed_data,record_path=['return_object','documents'])\n",
    "\n",
    "    display(df)\n",
    "else:\n",
    "    print(\"API 호출 실패:\", response.status_code)"
   ]
  }
 ],
 "metadata": {
  "kernelspec": {
   "display_name": "Python 3 (ipykernel)",
   "language": "python",
   "name": "python3"
  },
  "language_info": {
   "codemirror_mode": {
    "name": "ipython",
    "version": 3
   },
   "file_extension": ".py",
   "mimetype": "text/x-python",
   "name": "python",
   "nbconvert_exporter": "python",
   "pygments_lexer": "ipython3",
   "version": "3.9.12"
  }
 },
 "nbformat": 4,
 "nbformat_minor": 5
}
