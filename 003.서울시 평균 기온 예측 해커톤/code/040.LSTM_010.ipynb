{
 "cells": [
  {
   "cell_type": "code",
   "execution_count": 1,
   "id": "1f45094b",
   "metadata": {
    "ExecuteTime": {
     "end_time": "2023-12-27T02:30:32.070697Z",
     "start_time": "2023-12-27T02:30:30.121489Z"
    }
   },
   "outputs": [],
   "source": [
    "import random\n",
    "import os\n",
    "import numpy as np\n",
    "import matplotlib.pyplot as plt\n",
    "import pandas as pd\n",
    "import warnings\n",
    "warnings.filterwarnings('ignore')\n",
    "\n",
    "\n",
    "plt.rc('font', family='Malgun Gothic')  # 폰트 지정\n",
    "plt.rc('axes', unicode_minus=False)  # 마이너스 폰트 설정\n",
    "%config InlineBackend.figure_format = 'retina'  # 그래프 글씨 뚜렷\n",
    "\n",
    "\n",
    "def seed_everything(seed):\n",
    "    random.seed(seed)\n",
    "    os.environ['PYTHONHASHSEED'] = str(seed)\n",
    "    np.random.seed(seed)\n",
    "\n",
    "\n",
    "seed_everything(42)\n",
    "\n",
    "df_train = pd.read_csv(\"../data/preprocessed/df_train001.csv\")\n",
    "df = pd.read_csv(\"../data/preprocessed/df.csv\")"
   ]
  },
  {
   "cell_type": "markdown",
   "id": "6b28ac3b",
   "metadata": {},
   "source": [
    "---"
   ]
  },
  {
   "cell_type": "code",
   "execution_count": 2,
   "id": "e62ad25b",
   "metadata": {
    "ExecuteTime": {
     "end_time": "2023-12-27T02:30:32.132377Z",
     "start_time": "2023-12-27T02:30:32.103736Z"
    }
   },
   "outputs": [
    {
     "data": {
      "text/html": [
       "<div>\n",
       "<style scoped>\n",
       "    .dataframe tbody tr th:only-of-type {\n",
       "        vertical-align: middle;\n",
       "    }\n",
       "\n",
       "    .dataframe tbody tr th {\n",
       "        vertical-align: top;\n",
       "    }\n",
       "\n",
       "    .dataframe thead th {\n",
       "        text-align: right;\n",
       "    }\n",
       "</style>\n",
       "<table border=\"1\" class=\"dataframe\">\n",
       "  <thead>\n",
       "    <tr style=\"text-align: right;\">\n",
       "      <th></th>\n",
       "      <th>일시</th>\n",
       "      <th>최고기온</th>\n",
       "      <th>최저기온</th>\n",
       "      <th>일교차</th>\n",
       "      <th>강수량</th>\n",
       "      <th>평균습도</th>\n",
       "      <th>평균풍속</th>\n",
       "      <th>일조합</th>\n",
       "      <th>일사합</th>\n",
       "      <th>일조율</th>\n",
       "      <th>평균기온</th>\n",
       "    </tr>\n",
       "  </thead>\n",
       "  <tbody>\n",
       "    <tr>\n",
       "      <th>0</th>\n",
       "      <td>1960-01-01</td>\n",
       "      <td>2.2</td>\n",
       "      <td>-5.2</td>\n",
       "      <td>7.4</td>\n",
       "      <td>0.0</td>\n",
       "      <td>68.3</td>\n",
       "      <td>1.7</td>\n",
       "      <td>6.7</td>\n",
       "      <td>11.933</td>\n",
       "      <td>48.699342</td>\n",
       "      <td>-1.6</td>\n",
       "    </tr>\n",
       "    <tr>\n",
       "      <th>1</th>\n",
       "      <td>1960-01-02</td>\n",
       "      <td>1.2</td>\n",
       "      <td>-5.6</td>\n",
       "      <td>6.8</td>\n",
       "      <td>0.4</td>\n",
       "      <td>87.7</td>\n",
       "      <td>1.3</td>\n",
       "      <td>0.0</td>\n",
       "      <td>11.933</td>\n",
       "      <td>48.699342</td>\n",
       "      <td>-1.9</td>\n",
       "    </tr>\n",
       "    <tr>\n",
       "      <th>2</th>\n",
       "      <td>1960-01-03</td>\n",
       "      <td>8.7</td>\n",
       "      <td>-2.1</td>\n",
       "      <td>10.8</td>\n",
       "      <td>0.0</td>\n",
       "      <td>81.3</td>\n",
       "      <td>3.0</td>\n",
       "      <td>0.0</td>\n",
       "      <td>11.933</td>\n",
       "      <td>48.699342</td>\n",
       "      <td>4.0</td>\n",
       "    </tr>\n",
       "    <tr>\n",
       "      <th>3</th>\n",
       "      <td>1960-01-04</td>\n",
       "      <td>10.8</td>\n",
       "      <td>1.2</td>\n",
       "      <td>9.6</td>\n",
       "      <td>0.0</td>\n",
       "      <td>79.7</td>\n",
       "      <td>4.4</td>\n",
       "      <td>2.6</td>\n",
       "      <td>11.933</td>\n",
       "      <td>48.699342</td>\n",
       "      <td>7.5</td>\n",
       "    </tr>\n",
       "    <tr>\n",
       "      <th>4</th>\n",
       "      <td>1960-01-05</td>\n",
       "      <td>1.3</td>\n",
       "      <td>-8.2</td>\n",
       "      <td>9.5</td>\n",
       "      <td>0.0</td>\n",
       "      <td>44.0</td>\n",
       "      <td>5.1</td>\n",
       "      <td>8.2</td>\n",
       "      <td>11.933</td>\n",
       "      <td>48.699342</td>\n",
       "      <td>-4.6</td>\n",
       "    </tr>\n",
       "  </tbody>\n",
       "</table>\n",
       "</div>"
      ],
      "text/plain": [
       "           일시  최고기온  최저기온   일교차  강수량  평균습도  평균풍속  일조합     일사합        일조율  평균기온\n",
       "0  1960-01-01   2.2  -5.2   7.4  0.0  68.3   1.7  6.7  11.933  48.699342  -1.6\n",
       "1  1960-01-02   1.2  -5.6   6.8  0.4  87.7   1.3  0.0  11.933  48.699342  -1.9\n",
       "2  1960-01-03   8.7  -2.1  10.8  0.0  81.3   3.0  0.0  11.933  48.699342   4.0\n",
       "3  1960-01-04  10.8   1.2   9.6  0.0  79.7   4.4  2.6  11.933  48.699342   7.5\n",
       "4  1960-01-05   1.3  -8.2   9.5  0.0  44.0   5.1  8.2  11.933  48.699342  -4.6"
      ]
     },
     "execution_count": 2,
     "metadata": {},
     "output_type": "execute_result"
    }
   ],
   "source": [
    "df_train.head()"
   ]
  },
  {
   "cell_type": "code",
   "execution_count": 3,
   "id": "1b258a06",
   "metadata": {
    "ExecuteTime": {
     "end_time": "2023-12-27T02:30:32.508648Z",
     "start_time": "2023-12-27T02:30:32.375722Z"
    }
   },
   "outputs": [],
   "source": [
    "df_train['년'] = np.float64(df_train['일시'].str.split('-', expand=True)[0])\n",
    "df_train['월'] = np.float64(df_train['일시'].str.split('-', expand=True)[1])\n",
    "df_train['일'] = np.float64(df_train['일시'].str.split('-', expand=True)[2])"
   ]
  },
  {
   "cell_type": "code",
   "execution_count": 4,
   "id": "150d90dc",
   "metadata": {
    "ExecuteTime": {
     "end_time": "2023-12-27T02:30:32.556056Z",
     "start_time": "2023-12-27T02:30:32.540153Z"
    }
   },
   "outputs": [],
   "source": [
    "df['년'] = np.float64(df['일시'].str.split('-', expand=True)[0])\n",
    "df['월'] = np.float64(df['일시'].str.split('-', expand=True)[1])\n",
    "df['일'] = np.float64(df['일시'].str.split('-', expand=True)[2])"
   ]
  },
  {
   "cell_type": "code",
   "execution_count": 5,
   "id": "2fc1b5c6",
   "metadata": {
    "ExecuteTime": {
     "end_time": "2023-12-27T02:30:34.287350Z",
     "start_time": "2023-12-27T02:30:32.708618Z"
    }
   },
   "outputs": [],
   "source": [
    "from sklearn.preprocessing import StandardScaler"
   ]
  },
  {
   "cell_type": "code",
   "execution_count": 6,
   "id": "2c806ea8",
   "metadata": {
    "ExecuteTime": {
     "end_time": "2023-12-27T02:30:34.333584Z",
     "start_time": "2023-12-27T02:30:34.320419Z"
    }
   },
   "outputs": [],
   "source": [
    "scaler = StandardScaler()"
   ]
  },
  {
   "cell_type": "code",
   "execution_count": 7,
   "id": "81717947",
   "metadata": {
    "ExecuteTime": {
     "end_time": "2023-12-27T02:30:35.314358Z",
     "start_time": "2023-12-27T02:30:35.293487Z"
    }
   },
   "outputs": [],
   "source": [
    "X = df_train.drop(columns=['일시','평균기온'], axis=1)\n",
    "y = df_train['평균기온']"
   ]
  },
  {
   "cell_type": "code",
   "execution_count": 8,
   "id": "6d8b278d",
   "metadata": {
    "ExecuteTime": {
     "end_time": "2023-12-27T02:30:35.783364Z",
     "start_time": "2023-12-27T02:30:35.759287Z"
    }
   },
   "outputs": [],
   "source": [
    "X = scaler.fit_transform(X)"
   ]
  },
  {
   "cell_type": "markdown",
   "id": "7c72c059",
   "metadata": {
    "ExecuteTime": {
     "end_time": "2023-12-26T10:17:56.459475Z",
     "start_time": "2023-12-26T10:17:56.448922Z"
    }
   },
   "source": [
    "from sklearn.model_selection import train_test_split\n",
    "\n",
    "x_train, x_test, y_train , y_test = train_test_split(X, y, test_size = 0.5, random_state=42 )"
   ]
  },
  {
   "cell_type": "markdown",
   "id": "5ee2bf28",
   "metadata": {},
   "source": [
    "---"
   ]
  },
  {
   "cell_type": "code",
   "execution_count": 9,
   "id": "dc915eae",
   "metadata": {
    "ExecuteTime": {
     "end_time": "2023-12-27T02:31:30.613514Z",
     "start_time": "2023-12-27T02:31:30.608239Z"
    }
   },
   "outputs": [],
   "source": [
    "df_train = df_train.drop(columns='일시')"
   ]
  },
  {
   "cell_type": "code",
   "execution_count": 10,
   "id": "1d777ff2",
   "metadata": {
    "ExecuteTime": {
     "end_time": "2023-12-27T02:31:38.246795Z",
     "start_time": "2023-12-27T02:31:30.952502Z"
    }
   },
   "outputs": [],
   "source": [
    "from tensorflow.keras.models import Sequential\n",
    "from tensorflow.keras.layers import LSTM, Dense"
   ]
  },
  {
   "cell_type": "code",
   "execution_count": 11,
   "id": "356ef784",
   "metadata": {
    "ExecuteTime": {
     "end_time": "2023-12-27T02:32:07.175251Z",
     "start_time": "2023-12-27T02:32:06.857610Z"
    }
   },
   "outputs": [],
   "source": [
    "# LSTM에 사용할 데이터 생성\n",
    "X_L = []\n",
    "y_L = []\n",
    "\n",
    "for i in range(len(df_train)-365):  # 예측을 위해 마지막 20개 데이터는 제외\n",
    "    X_L.append(X[i:i+365])\n",
    "    y_L.append(y.iloc[i+365])  # Stock1_Price를 예측\n",
    "\n",
    "X_L, y_L = np.array(X_L), np.array(y_L)"
   ]
  },
  {
   "cell_type": "code",
   "execution_count": 12,
   "id": "9d54b0d1",
   "metadata": {
    "ExecuteTime": {
     "end_time": "2023-12-27T02:32:08.302071Z",
     "start_time": "2023-12-27T02:32:08.284365Z"
    }
   },
   "outputs": [
    {
     "data": {
      "text/plain": [
       "(22646, 365, 12)"
      ]
     },
     "execution_count": 12,
     "metadata": {},
     "output_type": "execute_result"
    }
   ],
   "source": [
    "X_L.shape"
   ]
  },
  {
   "cell_type": "code",
   "execution_count": 13,
   "id": "e59c1a6f",
   "metadata": {
    "ExecuteTime": {
     "end_time": "2023-12-27T02:32:09.227815Z",
     "start_time": "2023-12-27T02:32:09.222631Z"
    }
   },
   "outputs": [
    {
     "data": {
      "text/plain": [
       "(22646,)"
      ]
     },
     "execution_count": 13,
     "metadata": {},
     "output_type": "execute_result"
    }
   ],
   "source": [
    "y_L.shape"
   ]
  },
  {
   "cell_type": "code",
   "execution_count": 14,
   "id": "b39e97ad",
   "metadata": {
    "ExecuteTime": {
     "end_time": "2023-12-27T02:32:33.148734Z",
     "start_time": "2023-12-27T02:32:32.701048Z"
    }
   },
   "outputs": [],
   "source": [
    "# LSTM 모델 정의\n",
    "model = Sequential()\n",
    "model.add(LSTM(units=50, activation='tanh', input_shape=(X_L.shape[1], X_L.shape[2])))\n",
    "model.add(Dense(units=1))\n",
    "model.compile(optimizer='adam', loss='mean_squared_error')"
   ]
  },
  {
   "cell_type": "code",
   "execution_count": 15,
   "id": "575214d0",
   "metadata": {
    "ExecuteTime": {
     "end_time": "2023-12-27T02:32:34.284403Z",
     "start_time": "2023-12-27T02:32:34.265474Z"
    }
   },
   "outputs": [],
   "source": [
    "from tensorflow.keras.callbacks import EarlyStopping"
   ]
  },
  {
   "cell_type": "code",
   "execution_count": 16,
   "id": "c2e654e3",
   "metadata": {
    "ExecuteTime": {
     "end_time": "2023-12-27T02:32:34.625664Z",
     "start_time": "2023-12-27T02:32:34.621659Z"
    }
   },
   "outputs": [],
   "source": [
    "early_stopping = EarlyStopping(monitor='loss', patience=2, restore_best_weights=True)"
   ]
  },
  {
   "cell_type": "code",
   "execution_count": 17,
   "id": "26f1926b",
   "metadata": {
    "ExecuteTime": {
     "end_time": "2023-12-27T03:25:19.934708Z",
     "start_time": "2023-12-27T02:32:43.317343Z"
    }
   },
   "outputs": [
    {
     "name": "stdout",
     "output_type": "stream",
     "text": [
      "Epoch 1/50\n",
      "708/708 [==============================] - 56s 78ms/step - loss: 35.4574\n",
      "Epoch 2/50\n",
      "708/708 [==============================] - 50s 71ms/step - loss: 5.9247\n",
      "Epoch 3/50\n",
      "708/708 [==============================] - 51s 72ms/step - loss: 4.6399\n",
      "Epoch 4/50\n",
      "708/708 [==============================] - 62s 87ms/step - loss: 4.1101\n",
      "Epoch 5/50\n",
      "708/708 [==============================] - 55s 78ms/step - loss: 3.8885\n",
      "Epoch 6/50\n",
      "708/708 [==============================] - 53s 75ms/step - loss: 3.7509\n",
      "Epoch 7/50\n",
      "708/708 [==============================] - 55s 77ms/step - loss: 3.6689\n",
      "Epoch 8/50\n",
      "708/708 [==============================] - 54s 77ms/step - loss: 3.6051\n",
      "Epoch 9/50\n",
      "708/708 [==============================] - 66s 93ms/step - loss: 3.5616\n",
      "Epoch 10/50\n",
      "708/708 [==============================] - 54s 77ms/step - loss: 3.5303\n",
      "Epoch 11/50\n",
      "708/708 [==============================] - 50s 70ms/step - loss: 3.4930\n",
      "Epoch 12/50\n",
      "708/708 [==============================] - 59s 84ms/step - loss: 3.4664\n",
      "Epoch 13/50\n",
      "708/708 [==============================] - 59s 84ms/step - loss: 3.4276\n",
      "Epoch 14/50\n",
      "708/708 [==============================] - 52s 73ms/step - loss: 3.4138\n",
      "Epoch 15/50\n",
      "708/708 [==============================] - 52s 73ms/step - loss: 3.3813\n",
      "Epoch 16/50\n",
      "708/708 [==============================] - 56s 79ms/step - loss: 3.3786\n",
      "Epoch 17/50\n",
      "708/708 [==============================] - 56s 79ms/step - loss: 3.3472\n",
      "Epoch 18/50\n",
      "708/708 [==============================] - 61s 86ms/step - loss: 3.3168\n",
      "Epoch 19/50\n",
      "708/708 [==============================] - 59s 83ms/step - loss: 3.3058\n",
      "Epoch 20/50\n",
      "708/708 [==============================] - 59s 83ms/step - loss: 3.2907\n",
      "Epoch 21/50\n",
      "708/708 [==============================] - 60s 84ms/step - loss: 3.2633\n",
      "Epoch 22/50\n",
      "708/708 [==============================] - 68s 96ms/step - loss: 3.2478\n",
      "Epoch 23/50\n",
      "708/708 [==============================] - 68s 96ms/step - loss: 3.2332\n",
      "Epoch 24/50\n",
      "708/708 [==============================] - 63s 89ms/step - loss: 3.2201\n",
      "Epoch 25/50\n",
      "708/708 [==============================] - 55s 78ms/step - loss: 3.1907\n",
      "Epoch 26/50\n",
      "708/708 [==============================] - 51s 72ms/step - loss: 3.1753\n",
      "Epoch 27/50\n",
      "708/708 [==============================] - 51s 72ms/step - loss: 3.1670\n",
      "Epoch 28/50\n",
      "708/708 [==============================] - 54s 76ms/step - loss: 3.1404\n",
      "Epoch 29/50\n",
      "708/708 [==============================] - 50s 70ms/step - loss: 3.1304\n",
      "Epoch 30/50\n",
      "708/708 [==============================] - 51s 72ms/step - loss: 3.1268\n",
      "Epoch 31/50\n",
      "708/708 [==============================] - 61s 87ms/step - loss: 3.0980\n",
      "Epoch 32/50\n",
      "708/708 [==============================] - 49s 69ms/step - loss: 3.0870\n",
      "Epoch 33/50\n",
      "708/708 [==============================] - 53s 75ms/step - loss: 3.0536\n",
      "Epoch 34/50\n",
      "708/708 [==============================] - 62s 87ms/step - loss: 3.0595\n",
      "Epoch 35/50\n",
      "708/708 [==============================] - 60s 84ms/step - loss: 3.0236\n",
      "Epoch 36/50\n",
      "708/708 [==============================] - 66s 93ms/step - loss: 3.0091\n",
      "Epoch 37/50\n",
      "708/708 [==============================] - 58s 82ms/step - loss: 2.9978\n",
      "Epoch 38/50\n",
      "708/708 [==============================] - 65s 92ms/step - loss: 2.9709\n",
      "Epoch 39/50\n",
      "708/708 [==============================] - 66s 93ms/step - loss: 2.9583\n",
      "Epoch 40/50\n",
      "708/708 [==============================] - 67s 94ms/step - loss: 2.9287\n",
      "Epoch 41/50\n",
      "708/708 [==============================] - 58s 83ms/step - loss: 2.9153\n",
      "Epoch 42/50\n",
      "708/708 [==============================] - 58s 82ms/step - loss: 2.8828\n",
      "Epoch 43/50\n",
      "708/708 [==============================] - 62s 88ms/step - loss: 2.8709\n",
      "Epoch 44/50\n",
      "708/708 [==============================] - 67s 94ms/step - loss: 2.8490\n",
      "Epoch 45/50\n",
      "708/708 [==============================] - 62s 87ms/step - loss: 2.8230\n",
      "Epoch 46/50\n",
      "708/708 [==============================] - 162s 229ms/step - loss: 2.8129\n",
      "Epoch 47/50\n",
      "708/708 [==============================] - 110s 155ms/step - loss: 2.7904\n",
      "Epoch 48/50\n",
      "708/708 [==============================] - 96s 136ms/step - loss: 2.7774\n",
      "Epoch 49/50\n",
      "708/708 [==============================] - 90s 127ms/step - loss: 2.7545\n",
      "Epoch 50/50\n",
      "708/708 [==============================] - 96s 135ms/step - loss: 2.7360\n"
     ]
    },
    {
     "data": {
      "text/plain": [
       "<keras.callbacks.History at 0x1feaa01bf10>"
      ]
     },
     "execution_count": 17,
     "metadata": {},
     "output_type": "execute_result"
    }
   ],
   "source": [
    "# 모델 훈련\n",
    "model.fit(X_L, y_L, epochs=50, batch_size=32, callbacks=[early_stopping])"
   ]
  },
  {
   "cell_type": "markdown",
   "id": "052aba9d",
   "metadata": {},
   "source": [
    "---"
   ]
  },
  {
   "cell_type": "code",
   "execution_count": 18,
   "id": "1fb4c188",
   "metadata": {
    "ExecuteTime": {
     "end_time": "2023-12-27T03:49:30.694461Z",
     "start_time": "2023-12-27T03:49:30.674976Z"
    }
   },
   "outputs": [],
   "source": [
    "df = df.drop(columns='일시')"
   ]
  },
  {
   "cell_type": "code",
   "execution_count": 19,
   "id": "8af167a7",
   "metadata": {
    "ExecuteTime": {
     "end_time": "2023-12-27T03:49:31.692211Z",
     "start_time": "2023-12-27T03:49:31.671347Z"
    }
   },
   "outputs": [
    {
     "data": {
      "text/plain": [
       "12"
      ]
     },
     "execution_count": 19,
     "metadata": {},
     "output_type": "execute_result"
    }
   ],
   "source": [
    "len(df.columns)"
   ]
  },
  {
   "cell_type": "code",
   "execution_count": 20,
   "id": "e0d9b716",
   "metadata": {
    "ExecuteTime": {
     "end_time": "2023-12-27T03:49:32.174631Z",
     "start_time": "2023-12-27T03:49:32.142229Z"
    }
   },
   "outputs": [
    {
     "data": {
      "text/html": [
       "<div>\n",
       "<style scoped>\n",
       "    .dataframe tbody tr th:only-of-type {\n",
       "        vertical-align: middle;\n",
       "    }\n",
       "\n",
       "    .dataframe tbody tr th {\n",
       "        vertical-align: top;\n",
       "    }\n",
       "\n",
       "    .dataframe thead th {\n",
       "        text-align: right;\n",
       "    }\n",
       "</style>\n",
       "<table border=\"1\" class=\"dataframe\">\n",
       "  <thead>\n",
       "    <tr style=\"text-align: right;\">\n",
       "      <th></th>\n",
       "      <th>최고기온</th>\n",
       "      <th>최저기온</th>\n",
       "      <th>일교차</th>\n",
       "      <th>강수량</th>\n",
       "      <th>평균습도</th>\n",
       "      <th>평균풍속</th>\n",
       "      <th>일조합</th>\n",
       "      <th>일사합</th>\n",
       "      <th>일조율</th>\n",
       "      <th>년</th>\n",
       "      <th>월</th>\n",
       "      <th>일</th>\n",
       "    </tr>\n",
       "  </thead>\n",
       "  <tbody>\n",
       "    <tr>\n",
       "      <th>0</th>\n",
       "      <td>3.440736</td>\n",
       "      <td>-4.955768</td>\n",
       "      <td>8.291536</td>\n",
       "      <td>0.247622</td>\n",
       "      <td>57.922851</td>\n",
       "      <td>2.048582</td>\n",
       "      <td>6.346739</td>\n",
       "      <td>9.046484</td>\n",
       "      <td>63.322335</td>\n",
       "      <td>2023.0</td>\n",
       "      <td>1.0</td>\n",
       "      <td>1.0</td>\n",
       "    </tr>\n",
       "    <tr>\n",
       "      <th>1</th>\n",
       "      <td>3.316959</td>\n",
       "      <td>-5.080847</td>\n",
       "      <td>8.292753</td>\n",
       "      <td>-0.104605</td>\n",
       "      <td>57.570453</td>\n",
       "      <td>2.085003</td>\n",
       "      <td>6.343067</td>\n",
       "      <td>8.991727</td>\n",
       "      <td>63.058012</td>\n",
       "      <td>2023.0</td>\n",
       "      <td>1.0</td>\n",
       "      <td>2.0</td>\n",
       "    </tr>\n",
       "    <tr>\n",
       "      <th>2</th>\n",
       "      <td>3.242369</td>\n",
       "      <td>-5.215355</td>\n",
       "      <td>8.352588</td>\n",
       "      <td>0.147203</td>\n",
       "      <td>57.257687</td>\n",
       "      <td>2.089586</td>\n",
       "      <td>6.396719</td>\n",
       "      <td>9.095666</td>\n",
       "      <td>63.566176</td>\n",
       "      <td>2023.0</td>\n",
       "      <td>1.0</td>\n",
       "      <td>3.0</td>\n",
       "    </tr>\n",
       "    <tr>\n",
       "      <th>3</th>\n",
       "      <td>3.152782</td>\n",
       "      <td>-5.269017</td>\n",
       "      <td>8.316578</td>\n",
       "      <td>-0.113693</td>\n",
       "      <td>57.222059</td>\n",
       "      <td>2.076001</td>\n",
       "      <td>6.398162</td>\n",
       "      <td>9.050127</td>\n",
       "      <td>63.482985</td>\n",
       "      <td>2023.0</td>\n",
       "      <td>1.0</td>\n",
       "      <td>4.0</td>\n",
       "    </tr>\n",
       "    <tr>\n",
       "      <th>4</th>\n",
       "      <td>3.133007</td>\n",
       "      <td>-5.294683</td>\n",
       "      <td>8.322387</td>\n",
       "      <td>-0.008150</td>\n",
       "      <td>57.120590</td>\n",
       "      <td>2.092534</td>\n",
       "      <td>6.418973</td>\n",
       "      <td>9.143932</td>\n",
       "      <td>63.529628</td>\n",
       "      <td>2023.0</td>\n",
       "      <td>1.0</td>\n",
       "      <td>5.0</td>\n",
       "    </tr>\n",
       "  </tbody>\n",
       "</table>\n",
       "</div>"
      ],
      "text/plain": [
       "       최고기온      최저기온       일교차       강수량       평균습도      평균풍속       일조합  \\\n",
       "0  3.440736 -4.955768  8.291536  0.247622  57.922851  2.048582  6.346739   \n",
       "1  3.316959 -5.080847  8.292753 -0.104605  57.570453  2.085003  6.343067   \n",
       "2  3.242369 -5.215355  8.352588  0.147203  57.257687  2.089586  6.396719   \n",
       "3  3.152782 -5.269017  8.316578 -0.113693  57.222059  2.076001  6.398162   \n",
       "4  3.133007 -5.294683  8.322387 -0.008150  57.120590  2.092534  6.418973   \n",
       "\n",
       "        일사합        일조율       년    월    일  \n",
       "0  9.046484  63.322335  2023.0  1.0  1.0  \n",
       "1  8.991727  63.058012  2023.0  1.0  2.0  \n",
       "2  9.095666  63.566176  2023.0  1.0  3.0  \n",
       "3  9.050127  63.482985  2023.0  1.0  4.0  \n",
       "4  9.143932  63.529628  2023.0  1.0  5.0  "
      ]
     },
     "execution_count": 20,
     "metadata": {},
     "output_type": "execute_result"
    }
   ],
   "source": [
    "df.head()"
   ]
  },
  {
   "cell_type": "code",
   "execution_count": 21,
   "id": "8375edca",
   "metadata": {
    "ExecuteTime": {
     "end_time": "2023-12-27T03:49:33.183764Z",
     "start_time": "2023-12-27T03:49:33.156486Z"
    }
   },
   "outputs": [
    {
     "data": {
      "text/html": [
       "<div>\n",
       "<style scoped>\n",
       "    .dataframe tbody tr th:only-of-type {\n",
       "        vertical-align: middle;\n",
       "    }\n",
       "\n",
       "    .dataframe tbody tr th {\n",
       "        vertical-align: top;\n",
       "    }\n",
       "\n",
       "    .dataframe thead th {\n",
       "        text-align: right;\n",
       "    }\n",
       "</style>\n",
       "<table border=\"1\" class=\"dataframe\">\n",
       "  <thead>\n",
       "    <tr style=\"text-align: right;\">\n",
       "      <th></th>\n",
       "      <th>최고기온</th>\n",
       "      <th>최저기온</th>\n",
       "      <th>일교차</th>\n",
       "      <th>강수량</th>\n",
       "      <th>평균습도</th>\n",
       "      <th>평균풍속</th>\n",
       "      <th>일조합</th>\n",
       "      <th>일사합</th>\n",
       "      <th>일조율</th>\n",
       "      <th>평균기온</th>\n",
       "      <th>년</th>\n",
       "      <th>월</th>\n",
       "      <th>일</th>\n",
       "    </tr>\n",
       "  </thead>\n",
       "  <tbody>\n",
       "    <tr>\n",
       "      <th>0</th>\n",
       "      <td>2.2</td>\n",
       "      <td>-5.2</td>\n",
       "      <td>7.4</td>\n",
       "      <td>0.0</td>\n",
       "      <td>68.3</td>\n",
       "      <td>1.7</td>\n",
       "      <td>6.7</td>\n",
       "      <td>11.933</td>\n",
       "      <td>48.699342</td>\n",
       "      <td>-1.6</td>\n",
       "      <td>1960.0</td>\n",
       "      <td>1.0</td>\n",
       "      <td>1.0</td>\n",
       "    </tr>\n",
       "    <tr>\n",
       "      <th>1</th>\n",
       "      <td>1.2</td>\n",
       "      <td>-5.6</td>\n",
       "      <td>6.8</td>\n",
       "      <td>0.4</td>\n",
       "      <td>87.7</td>\n",
       "      <td>1.3</td>\n",
       "      <td>0.0</td>\n",
       "      <td>11.933</td>\n",
       "      <td>48.699342</td>\n",
       "      <td>-1.9</td>\n",
       "      <td>1960.0</td>\n",
       "      <td>1.0</td>\n",
       "      <td>2.0</td>\n",
       "    </tr>\n",
       "    <tr>\n",
       "      <th>2</th>\n",
       "      <td>8.7</td>\n",
       "      <td>-2.1</td>\n",
       "      <td>10.8</td>\n",
       "      <td>0.0</td>\n",
       "      <td>81.3</td>\n",
       "      <td>3.0</td>\n",
       "      <td>0.0</td>\n",
       "      <td>11.933</td>\n",
       "      <td>48.699342</td>\n",
       "      <td>4.0</td>\n",
       "      <td>1960.0</td>\n",
       "      <td>1.0</td>\n",
       "      <td>3.0</td>\n",
       "    </tr>\n",
       "    <tr>\n",
       "      <th>3</th>\n",
       "      <td>10.8</td>\n",
       "      <td>1.2</td>\n",
       "      <td>9.6</td>\n",
       "      <td>0.0</td>\n",
       "      <td>79.7</td>\n",
       "      <td>4.4</td>\n",
       "      <td>2.6</td>\n",
       "      <td>11.933</td>\n",
       "      <td>48.699342</td>\n",
       "      <td>7.5</td>\n",
       "      <td>1960.0</td>\n",
       "      <td>1.0</td>\n",
       "      <td>4.0</td>\n",
       "    </tr>\n",
       "    <tr>\n",
       "      <th>4</th>\n",
       "      <td>1.3</td>\n",
       "      <td>-8.2</td>\n",
       "      <td>9.5</td>\n",
       "      <td>0.0</td>\n",
       "      <td>44.0</td>\n",
       "      <td>5.1</td>\n",
       "      <td>8.2</td>\n",
       "      <td>11.933</td>\n",
       "      <td>48.699342</td>\n",
       "      <td>-4.6</td>\n",
       "      <td>1960.0</td>\n",
       "      <td>1.0</td>\n",
       "      <td>5.0</td>\n",
       "    </tr>\n",
       "  </tbody>\n",
       "</table>\n",
       "</div>"
      ],
      "text/plain": [
       "   최고기온  최저기온   일교차  강수량  평균습도  평균풍속  일조합     일사합        일조율  평균기온       년  \\\n",
       "0   2.2  -5.2   7.4  0.0  68.3   1.7  6.7  11.933  48.699342  -1.6  1960.0   \n",
       "1   1.2  -5.6   6.8  0.4  87.7   1.3  0.0  11.933  48.699342  -1.9  1960.0   \n",
       "2   8.7  -2.1  10.8  0.0  81.3   3.0  0.0  11.933  48.699342   4.0  1960.0   \n",
       "3  10.8   1.2   9.6  0.0  79.7   4.4  2.6  11.933  48.699342   7.5  1960.0   \n",
       "4   1.3  -8.2   9.5  0.0  44.0   5.1  8.2  11.933  48.699342  -4.6  1960.0   \n",
       "\n",
       "     월    일  \n",
       "0  1.0  1.0  \n",
       "1  1.0  2.0  \n",
       "2  1.0  3.0  \n",
       "3  1.0  4.0  \n",
       "4  1.0  5.0  "
      ]
     },
     "execution_count": 21,
     "metadata": {},
     "output_type": "execute_result"
    }
   ],
   "source": [
    "df_train.head()"
   ]
  },
  {
   "cell_type": "code",
   "execution_count": 22,
   "id": "bc67d1d6",
   "metadata": {
    "ExecuteTime": {
     "end_time": "2023-12-27T03:49:33.574345Z",
     "start_time": "2023-12-27T03:49:33.553357Z"
    }
   },
   "outputs": [],
   "source": [
    "df_d = df_train.drop(columns = '평균기온')"
   ]
  },
  {
   "cell_type": "code",
   "execution_count": 23,
   "id": "dcae1024",
   "metadata": {
    "ExecuteTime": {
     "end_time": "2023-12-27T03:49:38.118758Z",
     "start_time": "2023-12-27T03:49:38.097749Z"
    }
   },
   "outputs": [],
   "source": [
    "combined_data = np.vstack((df_d[-365:], df))"
   ]
  },
  {
   "cell_type": "code",
   "execution_count": 24,
   "id": "8a88c81a",
   "metadata": {
    "ExecuteTime": {
     "end_time": "2023-12-27T03:49:39.659163Z",
     "start_time": "2023-12-27T03:49:39.630348Z"
    }
   },
   "outputs": [],
   "source": [
    "combined_data = scaler.fit_transform(combined_data)"
   ]
  },
  {
   "cell_type": "code",
   "execution_count": 25,
   "id": "fbe06059",
   "metadata": {
    "ExecuteTime": {
     "end_time": "2023-12-27T03:49:39.988793Z",
     "start_time": "2023-12-27T03:49:39.967742Z"
    }
   },
   "outputs": [
    {
     "data": {
      "text/plain": [
       "(723, 12)"
      ]
     },
     "execution_count": 25,
     "metadata": {},
     "output_type": "execute_result"
    }
   ],
   "source": [
    "combined_data.shape"
   ]
  },
  {
   "cell_type": "code",
   "execution_count": 26,
   "id": "392a701f",
   "metadata": {
    "ExecuteTime": {
     "end_time": "2023-12-27T03:49:45.312824Z",
     "start_time": "2023-12-27T03:49:45.295833Z"
    }
   },
   "outputs": [],
   "source": [
    "# LSTM에 사용할 데이터 생성\n",
    "X_LL = []\n",
    "\n",
    "for i in range(len(combined_data)-365):\n",
    "    X_LL.append(combined_data[i:i+365])\n",
    "\n",
    "X_LL = np.array(X_LL)"
   ]
  },
  {
   "cell_type": "code",
   "execution_count": 27,
   "id": "12d35a60",
   "metadata": {
    "ExecuteTime": {
     "end_time": "2023-12-27T03:49:46.264831Z",
     "start_time": "2023-12-27T03:49:46.243579Z"
    }
   },
   "outputs": [
    {
     "data": {
      "text/plain": [
       "(358, 365, 12)"
      ]
     },
     "execution_count": 27,
     "metadata": {},
     "output_type": "execute_result"
    }
   ],
   "source": [
    "X_LL.shape"
   ]
  },
  {
   "cell_type": "code",
   "execution_count": 28,
   "id": "dddcd14e",
   "metadata": {
    "ExecuteTime": {
     "end_time": "2023-12-27T03:49:48.535876Z",
     "start_time": "2023-12-27T03:49:48.485849Z"
    }
   },
   "outputs": [],
   "source": [
    "sub_file = pd.read_csv(\"../data/original/sample_submission.csv\")"
   ]
  },
  {
   "cell_type": "code",
   "execution_count": 29,
   "id": "78d1295d",
   "metadata": {
    "ExecuteTime": {
     "end_time": "2023-12-27T03:49:50.180427Z",
     "start_time": "2023-12-27T03:49:48.783664Z"
    }
   },
   "outputs": [
    {
     "name": "stdout",
     "output_type": "stream",
     "text": [
      "12/12 [==============================] - 1s 33ms/step\n"
     ]
    }
   ],
   "source": [
    "sub_file['평균기온'] = model.predict(X_LL)"
   ]
  },
  {
   "cell_type": "code",
   "execution_count": 30,
   "id": "b69a70b6",
   "metadata": {
    "ExecuteTime": {
     "end_time": "2023-12-27T03:49:51.486558Z",
     "start_time": "2023-12-27T03:49:51.232951Z"
    }
   },
   "outputs": [
    {
     "data": {
      "text/plain": [
       "<AxesSubplot:>"
      ]
     },
     "execution_count": 30,
     "metadata": {},
     "output_type": "execute_result"
    },
    {
     "data": {
      "image/png": "[encoded data removed]",
      "text/plain": [
       "<Figure size 432x288 with 1 Axes>"
      ]
     },
     "metadata": {
      "image/png": {
       "height": 249,
       "width": 367
      },
      "needs_background": "light"
     },
     "output_type": "display_data"
    }
   ],
   "source": [
    "sub_file['평균기온'].plot()"
   ]
  },
  {
   "cell_type": "code",
   "execution_count": 31,
   "id": "a351b6b6",
   "metadata": {
    "ExecuteTime": {
     "end_time": "2023-12-27T03:50:00.111633Z",
     "start_time": "2023-12-27T03:50:00.071496Z"
    }
   },
   "outputs": [],
   "source": [
    "sub_file.to_csv(\"../data/sub/040_df_LSTM_010.csv\",\n",
    "                index=False, encoding='utf-8')"
   ]
  },
  {
   "cell_type": "markdown",
   "id": "dd9a662b",
   "metadata": {},
   "source": [
    "---"
   ]
  },
  {
   "cell_type": "code",
   "execution_count": 32,
   "id": "96156456",
   "metadata": {
    "ExecuteTime": {
     "end_time": "2023-12-27T03:50:01.263738Z",
     "start_time": "2023-12-27T03:50:01.257715Z"
    }
   },
   "outputs": [],
   "source": [
    "import joblib"
   ]
  },
  {
   "cell_type": "code",
   "execution_count": 33,
   "id": "cf902769",
   "metadata": {
    "ExecuteTime": {
     "end_time": "2023-12-27T03:50:05.119229Z",
     "start_time": "2023-12-27T03:50:04.940685Z"
    }
   },
   "outputs": [
    {
     "name": "stdout",
     "output_type": "stream",
     "text": [
      "Keras weights file (<HDF5 file \"variables.h5\" (mode r+)>) saving:\n",
      "...layers\\dense\n",
      "......vars\n",
      ".........0\n",
      ".........1\n",
      "...layers\\lstm\n",
      "......vars\n",
      "...layers\\lstm\\cell\n",
      "......vars\n",
      ".........0\n",
      ".........1\n",
      ".........2\n",
      "...metrics\\mean\n",
      "......vars\n",
      ".........0\n",
      ".........1\n",
      "...optimizer\n",
      "......vars\n",
      ".........0\n",
      ".........1\n",
      ".........10\n",
      ".........2\n",
      ".........3\n",
      ".........4\n",
      ".........5\n",
      ".........6\n",
      ".........7\n",
      ".........8\n",
      ".........9\n",
      "...vars\n",
      "Keras model archive saving:\n",
      "File Name                                             Modified             Size\n",
      "config.json                                    2023-12-27 12:50:04         1809\n",
      "metadata.json                                  2023-12-27 12:50:04           64\n",
      "variables.h5                                   2023-12-27 12:50:05       170400\n"
     ]
    },
    {
     "data": {
      "text/plain": [
       "['../model/LSTM_010.pkl']"
      ]
     },
     "execution_count": 33,
     "metadata": {},
     "output_type": "execute_result"
    }
   ],
   "source": [
    "joblib.dump(model, '../model/LSTM_010.pkl')"
   ]
  },
  {
   "cell_type": "code",
   "execution_count": 34,
   "id": "bed4400d",
   "metadata": {
    "ExecuteTime": {
     "end_time": "2023-12-27T03:50:09.478135Z",
     "start_time": "2023-12-27T03:50:09.093127Z"
    }
   },
   "outputs": [
    {
     "name": "stdout",
     "output_type": "stream",
     "text": [
      "Keras model archive loading:\n",
      "File Name                                             Modified             Size\n",
      "config.json                                    2023-12-27 12:50:04         1809\n",
      "metadata.json                                  2023-12-27 12:50:04           64\n",
      "variables.h5                                   2023-12-27 12:50:04       170400\n",
      "Keras weights file (<HDF5 file \"variables.h5\" (mode r)>) loading:\n",
      "...layers\\dense\n",
      "......vars\n",
      ".........0\n",
      ".........1\n",
      "...layers\\lstm\n",
      "......vars\n",
      "...layers\\lstm\\cell\n",
      "......vars\n",
      ".........0\n",
      ".........1\n",
      ".........2\n",
      "...metrics\\mean\n",
      "......vars\n",
      ".........0\n",
      ".........1\n",
      "...optimizer\n",
      "......vars\n",
      ".........0\n",
      ".........1\n",
      ".........10\n",
      ".........2\n",
      ".........3\n",
      ".........4\n",
      ".........5\n",
      ".........6\n",
      ".........7\n",
      ".........8\n",
      ".........9\n",
      "...vars\n"
     ]
    }
   ],
   "source": [
    "loaded_model = joblib.load('../model/LSTM_010.pkl')"
   ]
  }
 ],
 "metadata": {
  "hide_input": false,
  "kernelspec": {
   "display_name": "Python 3 (ipykernel)",
   "language": "python",
   "name": "python3"
  },
  "language_info": {
   "codemirror_mode": {
    "name": "ipython",
    "version": 3
   },
   "file_extension": ".py",
   "mimetype": "text/x-python",
   "name": "python",
   "nbconvert_exporter": "python",
   "pygments_lexer": "ipython3",
   "version": "3.9.12"
  },
  "toc": {
   "base_numbering": 1,
   "nav_menu": {},
   "number_sections": true,
   "sideBar": true,
   "skip_h1_title": false,
   "title_cell": "Table of Contents",
   "title_sidebar": "Contents",
   "toc_cell": false,
   "toc_position": {},
   "toc_section_display": true,
   "toc_window_display": false
  },
  "varInspector": {
   "cols": {
    "lenName": 16,
    "lenType": 16,
    "lenVar": 40
   },
   "kernels_config": {
    "python": {
     "delete_cmd_postfix": "",
     "delete_cmd_prefix": "del ",
     "library": "var_list.py",
     "varRefreshCmd": "print(var_dic_list())"
    },
    "r": {
     "delete_cmd_postfix": ") ",
     "delete_cmd_prefix": "rm(",
     "library": "var_list.r",
     "varRefreshCmd": "cat(var_dic_list()) "
    }
   },
   "types_to_exclude": [
    "module",
    "function",
    "builtin_function_or_method",
    "instance",
    "_Feature"
   ],
   "window_display": false
  }
 },
 "nbformat": 4,
 "nbformat_minor": 5
}
