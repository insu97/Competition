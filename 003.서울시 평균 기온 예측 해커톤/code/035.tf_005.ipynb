{
 "cells": [
  {
   "cell_type": "code",
   "execution_count": 29,
   "id": "1f45094b",
   "metadata": {
    "ExecuteTime": {
     "end_time": "2023-12-24T10:36:57.752361Z",
     "start_time": "2023-12-24T10:36:57.698146Z"
    }
   },
   "outputs": [],
   "source": [
    "import random\n",
    "import os\n",
    "import numpy as np\n",
    "import matplotlib.pyplot as plt\n",
    "import pandas as pd\n",
    "import warnings\n",
    "warnings.filterwarnings('ignore')\n",
    "\n",
    "\n",
    "plt.rc('font', family='Malgun Gothic')  # 폰트 지정\n",
    "plt.rc('axes', unicode_minus=False)  # 마이너스 폰트 설정\n",
    "%config InlineBackend.figure_format = 'retina'  # 그래프 글씨 뚜렷\n",
    "\n",
    "\n",
    "def seed_everything(seed):\n",
    "    random.seed(seed)\n",
    "    os.environ['PYTHONHASHSEED'] = str(seed)\n",
    "    np.random.seed(seed)\n",
    "\n",
    "\n",
    "seed_everything(42)\n",
    "\n",
    "df_train = pd.read_csv(\"../data/preprocessed/df_train001.csv\")\n",
    "df = pd.read_csv(\"../data/preprocessed/df.csv\")"
   ]
  },
  {
   "cell_type": "markdown",
   "id": "6b28ac3b",
   "metadata": {},
   "source": [
    "---"
   ]
  },
  {
   "cell_type": "code",
   "execution_count": 30,
   "id": "e62ad25b",
   "metadata": {
    "ExecuteTime": {
     "end_time": "2023-12-24T10:36:58.000498Z",
     "start_time": "2023-12-24T10:36:57.981130Z"
    }
   },
   "outputs": [
    {
     "data": {
      "text/html": [
       "<div>\n",
       "<style scoped>\n",
       "    .dataframe tbody tr th:only-of-type {\n",
       "        vertical-align: middle;\n",
       "    }\n",
       "\n",
       "    .dataframe tbody tr th {\n",
       "        vertical-align: top;\n",
       "    }\n",
       "\n",
       "    .dataframe thead th {\n",
       "        text-align: right;\n",
       "    }\n",
       "</style>\n",
       "<table border=\"1\" class=\"dataframe\">\n",
       "  <thead>\n",
       "    <tr style=\"text-align: right;\">\n",
       "      <th></th>\n",
       "      <th>일시</th>\n",
       "      <th>최고기온</th>\n",
       "      <th>최저기온</th>\n",
       "      <th>일교차</th>\n",
       "      <th>강수량</th>\n",
       "      <th>평균습도</th>\n",
       "      <th>평균풍속</th>\n",
       "      <th>일조합</th>\n",
       "      <th>일사합</th>\n",
       "      <th>일조율</th>\n",
       "      <th>평균기온</th>\n",
       "    </tr>\n",
       "  </thead>\n",
       "  <tbody>\n",
       "    <tr>\n",
       "      <th>0</th>\n",
       "      <td>1960-01-01</td>\n",
       "      <td>2.2</td>\n",
       "      <td>-5.2</td>\n",
       "      <td>7.4</td>\n",
       "      <td>0.0</td>\n",
       "      <td>68.3</td>\n",
       "      <td>1.7</td>\n",
       "      <td>6.7</td>\n",
       "      <td>11.933</td>\n",
       "      <td>48.699342</td>\n",
       "      <td>-1.6</td>\n",
       "    </tr>\n",
       "    <tr>\n",
       "      <th>1</th>\n",
       "      <td>1960-01-02</td>\n",
       "      <td>1.2</td>\n",
       "      <td>-5.6</td>\n",
       "      <td>6.8</td>\n",
       "      <td>0.4</td>\n",
       "      <td>87.7</td>\n",
       "      <td>1.3</td>\n",
       "      <td>0.0</td>\n",
       "      <td>11.933</td>\n",
       "      <td>48.699342</td>\n",
       "      <td>-1.9</td>\n",
       "    </tr>\n",
       "    <tr>\n",
       "      <th>2</th>\n",
       "      <td>1960-01-03</td>\n",
       "      <td>8.7</td>\n",
       "      <td>-2.1</td>\n",
       "      <td>10.8</td>\n",
       "      <td>0.0</td>\n",
       "      <td>81.3</td>\n",
       "      <td>3.0</td>\n",
       "      <td>0.0</td>\n",
       "      <td>11.933</td>\n",
       "      <td>48.699342</td>\n",
       "      <td>4.0</td>\n",
       "    </tr>\n",
       "    <tr>\n",
       "      <th>3</th>\n",
       "      <td>1960-01-04</td>\n",
       "      <td>10.8</td>\n",
       "      <td>1.2</td>\n",
       "      <td>9.6</td>\n",
       "      <td>0.0</td>\n",
       "      <td>79.7</td>\n",
       "      <td>4.4</td>\n",
       "      <td>2.6</td>\n",
       "      <td>11.933</td>\n",
       "      <td>48.699342</td>\n",
       "      <td>7.5</td>\n",
       "    </tr>\n",
       "    <tr>\n",
       "      <th>4</th>\n",
       "      <td>1960-01-05</td>\n",
       "      <td>1.3</td>\n",
       "      <td>-8.2</td>\n",
       "      <td>9.5</td>\n",
       "      <td>0.0</td>\n",
       "      <td>44.0</td>\n",
       "      <td>5.1</td>\n",
       "      <td>8.2</td>\n",
       "      <td>11.933</td>\n",
       "      <td>48.699342</td>\n",
       "      <td>-4.6</td>\n",
       "    </tr>\n",
       "  </tbody>\n",
       "</table>\n",
       "</div>"
      ],
      "text/plain": [
       "           일시  최고기온  최저기온   일교차  강수량  평균습도  평균풍속  일조합     일사합        일조율  평균기온\n",
       "0  1960-01-01   2.2  -5.2   7.4  0.0  68.3   1.7  6.7  11.933  48.699342  -1.6\n",
       "1  1960-01-02   1.2  -5.6   6.8  0.4  87.7   1.3  0.0  11.933  48.699342  -1.9\n",
       "2  1960-01-03   8.7  -2.1  10.8  0.0  81.3   3.0  0.0  11.933  48.699342   4.0\n",
       "3  1960-01-04  10.8   1.2   9.6  0.0  79.7   4.4  2.6  11.933  48.699342   7.5\n",
       "4  1960-01-05   1.3  -8.2   9.5  0.0  44.0   5.1  8.2  11.933  48.699342  -4.6"
      ]
     },
     "execution_count": 30,
     "metadata": {},
     "output_type": "execute_result"
    }
   ],
   "source": [
    "df_train.head()"
   ]
  },
  {
   "cell_type": "code",
   "execution_count": 31,
   "id": "1b258a06",
   "metadata": {
    "ExecuteTime": {
     "end_time": "2023-12-24T10:36:58.201175Z",
     "start_time": "2023-12-24T10:36:58.120278Z"
    }
   },
   "outputs": [],
   "source": [
    "df_train['년'] = np.float64(df_train['일시'].str.split('-', expand=True)[0])\n",
    "df_train['월'] = np.float64(df_train['일시'].str.split('-', expand=True)[1])\n",
    "df_train['일'] = np.float64(df_train['일시'].str.split('-', expand=True)[2])"
   ]
  },
  {
   "cell_type": "code",
   "execution_count": 32,
   "id": "150d90dc",
   "metadata": {
    "ExecuteTime": {
     "end_time": "2023-12-24T10:36:58.248711Z",
     "start_time": "2023-12-24T10:36:58.239412Z"
    }
   },
   "outputs": [],
   "source": [
    "df['년'] = np.float64(df['일시'].str.split('-', expand=True)[0])\n",
    "df['월'] = np.float64(df['일시'].str.split('-', expand=True)[1])\n",
    "df['일'] = np.float64(df['일시'].str.split('-', expand=True)[2])"
   ]
  },
  {
   "cell_type": "code",
   "execution_count": 33,
   "id": "2fc1b5c6",
   "metadata": {
    "ExecuteTime": {
     "end_time": "2023-12-24T10:36:58.403856Z",
     "start_time": "2023-12-24T10:36:58.385846Z"
    }
   },
   "outputs": [],
   "source": [
    "from sklearn.preprocessing import StandardScaler"
   ]
  },
  {
   "cell_type": "code",
   "execution_count": 34,
   "id": "2c806ea8",
   "metadata": {
    "ExecuteTime": {
     "end_time": "2023-12-24T10:36:58.527943Z",
     "start_time": "2023-12-24T10:36:58.511274Z"
    }
   },
   "outputs": [],
   "source": [
    "scaler = StandardScaler()"
   ]
  },
  {
   "cell_type": "code",
   "execution_count": 35,
   "id": "81717947",
   "metadata": {
    "ExecuteTime": {
     "end_time": "2023-12-24T10:36:58.761945Z",
     "start_time": "2023-12-24T10:36:58.745935Z"
    }
   },
   "outputs": [],
   "source": [
    "X = df_train.drop(columns=['일시','평균기온'], axis=1)\n",
    "y = df_train['평균기온']"
   ]
  },
  {
   "cell_type": "code",
   "execution_count": 36,
   "id": "6d8b278d",
   "metadata": {
    "ExecuteTime": {
     "end_time": "2023-12-24T10:36:58.947722Z",
     "start_time": "2023-12-24T10:36:58.919674Z"
    }
   },
   "outputs": [],
   "source": [
    "X = scaler.fit_transform(X)"
   ]
  },
  {
   "cell_type": "code",
   "execution_count": 37,
   "id": "86df154b",
   "metadata": {
    "ExecuteTime": {
     "end_time": "2023-12-24T10:36:59.101794Z",
     "start_time": "2023-12-24T10:36:59.088925Z"
    }
   },
   "outputs": [],
   "source": [
    "from sklearn.model_selection import train_test_split"
   ]
  },
  {
   "cell_type": "code",
   "execution_count": 38,
   "id": "d31efc78",
   "metadata": {
    "ExecuteTime": {
     "end_time": "2023-12-24T10:36:59.287937Z",
     "start_time": "2023-12-24T10:36:59.271331Z"
    }
   },
   "outputs": [],
   "source": [
    "x_train, x_test, y_train , y_test = train_test_split(X, y, test_size = 0.5, random_state=42 )"
   ]
  },
  {
   "cell_type": "markdown",
   "id": "57644946",
   "metadata": {},
   "source": [
    "---"
   ]
  },
  {
   "cell_type": "code",
   "execution_count": 39,
   "id": "127512ef",
   "metadata": {
    "ExecuteTime": {
     "end_time": "2023-12-24T10:36:59.627719Z",
     "start_time": "2023-12-24T10:36:59.618376Z"
    }
   },
   "outputs": [],
   "source": [
    "import tensorflow as tf"
   ]
  },
  {
   "cell_type": "code",
   "execution_count": 40,
   "id": "30ce510d",
   "metadata": {
    "ExecuteTime": {
     "end_time": "2023-12-24T10:36:59.830201Z",
     "start_time": "2023-12-24T10:36:59.810315Z"
    }
   },
   "outputs": [],
   "source": [
    "model = tf.keras.Sequential([\n",
    "    tf.keras.layers.Dense(100),\n",
    "    tf.keras.layers.BatchNormalization(),\n",
    "    tf.keras.layers.LeakyReLU(alpha=0.2),\n",
    "    tf.keras.layers.Dense(80),\n",
    "    tf.keras.layers.BatchNormalization(),\n",
    "    tf.keras.layers.LeakyReLU(alpha=0.2),\n",
    "    tf.keras.layers.Dense(60),\n",
    "    tf.keras.layers.BatchNormalization(),\n",
    "    tf.keras.layers.LeakyReLU(alpha=0.2),\n",
    "    tf.keras.layers.Dense(40),\n",
    "    tf.keras.layers.BatchNormalization(),\n",
    "    tf.keras.layers.LeakyReLU(alpha=0.2),\n",
    "    tf.keras.layers.Dense(1)\n",
    "])"
   ]
  },
  {
   "cell_type": "code",
   "execution_count": 41,
   "id": "f4cd7596",
   "metadata": {
    "ExecuteTime": {
     "end_time": "2023-12-24T10:37:00.014815Z",
     "start_time": "2023-12-24T10:37:00.000788Z"
    }
   },
   "outputs": [],
   "source": [
    "model.compile(optimizer = tf.keras.optimizers.Nadam(learning_rate=0.001), loss='huber')"
   ]
  },
  {
   "cell_type": "code",
   "execution_count": 42,
   "id": "e535db3f",
   "metadata": {
    "ExecuteTime": {
     "end_time": "2023-12-24T10:37:00.430986Z",
     "start_time": "2023-12-24T10:37:00.416374Z"
    }
   },
   "outputs": [],
   "source": [
    "from keras.callbacks import EarlyStopping\n",
    "\n",
    "early_stopping = EarlyStopping(monitor='loss', patience=2)"
   ]
  },
  {
   "cell_type": "code",
   "execution_count": 43,
   "id": "4a93e243",
   "metadata": {
    "ExecuteTime": {
     "end_time": "2023-12-24T10:37:24.228651Z",
     "start_time": "2023-12-24T10:37:00.875684Z"
    }
   },
   "outputs": [
    {
     "name": "stdout",
     "output_type": "stream",
     "text": [
      "Epoch 1/40\n",
      "360/360 [==============================] - 3s 3ms/step - loss: 7.2731 - val_loss: 3.9955\n",
      "Epoch 2/40\n",
      "360/360 [==============================] - 1s 3ms/step - loss: 1.2994 - val_loss: 0.3483\n",
      "Epoch 3/40\n",
      "360/360 [==============================] - 1s 4ms/step - loss: 1.2314 - val_loss: 0.3289\n",
      "Epoch 4/40\n",
      "360/360 [==============================] - 2s 5ms/step - loss: 1.2880 - val_loss: 0.3224\n",
      "Epoch 5/40\n",
      "360/360 [==============================] - 1s 4ms/step - loss: 1.1753 - val_loss: 0.2045\n",
      "Epoch 6/40\n",
      "360/360 [==============================] - 1s 3ms/step - loss: 1.1237 - val_loss: 0.2864\n",
      "Epoch 7/40\n",
      "360/360 [==============================] - 1s 3ms/step - loss: 1.1527 - val_loss: 0.2999\n",
      "Epoch 8/40\n",
      "360/360 [==============================] - 1s 3ms/step - loss: 1.0467 - val_loss: 0.1626\n",
      "Epoch 9/40\n",
      "360/360 [==============================] - 1s 3ms/step - loss: 1.0382 - val_loss: 0.2533\n",
      "Epoch 10/40\n",
      "360/360 [==============================] - 1s 3ms/step - loss: 0.9893 - val_loss: 0.2492\n",
      "Epoch 11/40\n",
      "360/360 [==============================] - 1s 3ms/step - loss: 0.9505 - val_loss: 0.4111\n",
      "Epoch 12/40\n",
      "360/360 [==============================] - 1s 3ms/step - loss: 0.9070 - val_loss: 0.4422\n",
      "Epoch 13/40\n",
      "360/360 [==============================] - 1s 3ms/step - loss: 0.9454 - val_loss: 0.3192\n",
      "Epoch 14/40\n",
      "360/360 [==============================] - 1s 4ms/step - loss: 0.8160 - val_loss: 0.1952\n",
      "Epoch 15/40\n",
      "360/360 [==============================] - 1s 4ms/step - loss: 0.8148 - val_loss: 0.1923\n",
      "Epoch 16/40\n",
      "360/360 [==============================] - 1s 3ms/step - loss: 0.8564 - val_loss: 0.4064\n",
      "Epoch 17/40\n",
      "360/360 [==============================] - 1s 3ms/step - loss: 0.8276 - val_loss: 0.4569\n"
     ]
    }
   ],
   "source": [
    "history = model.fit(x_train, y_train, validation_data=(x_test, y_test), epochs=40, callbacks=early_stopping)"
   ]
  },
  {
   "cell_type": "code",
   "execution_count": 44,
   "id": "2e345a3a",
   "metadata": {
    "ExecuteTime": {
     "end_time": "2023-12-24T10:37:25.836315Z",
     "start_time": "2023-12-24T10:37:25.700919Z"
    }
   },
   "outputs": [
    {
     "data": {
      "image/png": "[encoded data removed]",
      "text/plain": [
       "<Figure size 864x648 with 1 Axes>"
      ]
     },
     "metadata": {
      "image/png": {
       "height": 535,
       "width": 710
      },
      "needs_background": "light"
     },
     "output_type": "display_data"
    }
   ],
   "source": [
    "plt.figure(figsize=(12, 9))\n",
    "plt.plot(np.arange(1,len(history.history['loss'])+1), history.history['loss'], color='green',linestyle='-')\n",
    "plt.plot(np.arange(1,len(history.history['val_loss'])+1), history.history['val_loss'], color='red',linestyle='-')\n",
    "\n",
    "plt.xlabel('epochs')\n",
    "plt.ylabel('loss')\n",
    "plt.show()"
   ]
  },
  {
   "cell_type": "markdown",
   "id": "f8110924",
   "metadata": {},
   "source": [
    "---"
   ]
  },
  {
   "cell_type": "code",
   "execution_count": 45,
   "id": "d6e3b846",
   "metadata": {
    "ExecuteTime": {
     "end_time": "2023-12-24T10:37:27.628630Z",
     "start_time": "2023-12-24T10:37:27.610755Z"
    }
   },
   "outputs": [],
   "source": [
    "sub_file = pd.read_csv(\"../data/original/sample_submission.csv\")"
   ]
  },
  {
   "cell_type": "code",
   "execution_count": 46,
   "id": "2a6be7c4",
   "metadata": {
    "ExecuteTime": {
     "end_time": "2023-12-24T10:37:28.077965Z",
     "start_time": "2023-12-24T10:37:28.057723Z"
    }
   },
   "outputs": [],
   "source": [
    "df_x = scaler.transform(df.drop(columns=['일시'], axis=1))"
   ]
  },
  {
   "cell_type": "code",
   "execution_count": 47,
   "id": "cf1a80f5",
   "metadata": {
    "ExecuteTime": {
     "end_time": "2023-12-24T10:37:29.105104Z",
     "start_time": "2023-12-24T10:37:28.942509Z"
    }
   },
   "outputs": [
    {
     "name": "stdout",
     "output_type": "stream",
     "text": [
      "12/12 [==============================] - 0s 2ms/step\n"
     ]
    }
   ],
   "source": [
    "sub_file['평균기온'] = model.predict(df_x)"
   ]
  },
  {
   "cell_type": "code",
   "execution_count": 48,
   "id": "b863f375",
   "metadata": {
    "ExecuteTime": {
     "end_time": "2023-12-24T10:37:30.087787Z",
     "start_time": "2023-12-24T10:37:29.986266Z"
    }
   },
   "outputs": [
    {
     "data": {
      "text/plain": [
       "<AxesSubplot:>"
      ]
     },
     "execution_count": 48,
     "metadata": {},
     "output_type": "execute_result"
    },
    {
     "data": {
      "image/png": "[encoded data removed]",
      "text/plain": [
       "<Figure size 432x288 with 1 Axes>"
      ]
     },
     "metadata": {
      "image/png": {
       "height": 249,
       "width": 367
      },
      "needs_background": "light"
     },
     "output_type": "display_data"
    }
   ],
   "source": [
    "sub_file['평균기온'].plot()"
   ]
  },
  {
   "cell_type": "code",
   "execution_count": 49,
   "id": "a351b6b6",
   "metadata": {
    "ExecuteTime": {
     "end_time": "2023-12-24T10:37:32.469729Z",
     "start_time": "2023-12-24T10:37:32.457613Z"
    }
   },
   "outputs": [],
   "source": [
    "sub_file.to_csv(\"../data/sub/031_df_tf_005.csv\",\n",
    "                index=False, encoding='utf-8')"
   ]
  },
  {
   "cell_type": "markdown",
   "id": "dd9a662b",
   "metadata": {},
   "source": [
    "---"
   ]
  },
  {
   "cell_type": "code",
   "execution_count": 50,
   "id": "96156456",
   "metadata": {
    "ExecuteTime": {
     "end_time": "2023-12-24T10:37:34.977608Z",
     "start_time": "2023-12-24T10:37:34.963708Z"
    }
   },
   "outputs": [],
   "source": [
    "import joblib"
   ]
  },
  {
   "cell_type": "code",
   "execution_count": 51,
   "id": "cf902769",
   "metadata": {
    "ExecuteTime": {
     "end_time": "2023-12-24T10:37:35.273488Z",
     "start_time": "2023-12-24T10:37:35.125560Z"
    }
   },
   "outputs": [
    {
     "name": "stdout",
     "output_type": "stream",
     "text": [
      "Keras weights file (<HDF5 file \"variables.h5\" (mode r+)>) saving:\n",
      "...layers\\batch_normalization\n",
      "......vars\n",
      ".........0\n",
      ".........1\n",
      ".........2\n",
      ".........3\n",
      "...layers\\batch_normalization_1\n",
      "......vars\n",
      ".........0\n",
      ".........1\n",
      ".........2\n",
      ".........3\n",
      "...layers\\batch_normalization_2\n",
      "......vars\n",
      ".........0\n",
      ".........1\n",
      ".........2\n",
      ".........3\n",
      "...layers\\batch_normalization_3\n",
      "......vars\n",
      ".........0\n",
      ".........1\n",
      ".........2\n",
      ".........3\n",
      "...layers\\dense\n",
      "......vars\n",
      ".........0\n",
      ".........1\n",
      "...layers\\dense_1\n",
      "......vars\n",
      ".........0\n",
      ".........1\n",
      "...layers\\dense_2\n",
      "......vars\n",
      ".........0\n",
      ".........1\n",
      "...layers\\dense_3\n",
      "......vars\n",
      ".........0\n",
      ".........1\n",
      "...layers\\dense_4\n",
      "......vars\n",
      ".........0\n",
      ".........1\n",
      "...layers\\leaky_re_lu\n",
      "......vars\n",
      "...layers\\leaky_re_lu_1\n",
      "......vars\n",
      "...layers\\leaky_re_lu_2\n",
      "......vars\n",
      "...layers\\leaky_re_lu_3\n",
      "......vars\n",
      "...metrics\\mean\n",
      "......vars\n",
      ".........0\n",
      ".........1\n",
      "...optimizer\n",
      "......vars\n",
      ".........0\n",
      ".........1\n",
      ".........10\n",
      ".........11\n",
      ".........12\n",
      ".........13\n",
      ".........14\n",
      ".........15\n",
      ".........16\n",
      ".........17\n",
      ".........18\n",
      ".........19\n",
      ".........2\n",
      ".........20\n",
      ".........21\n",
      ".........22\n",
      ".........23\n",
      ".........24\n",
      ".........25\n",
      ".........26\n",
      ".........27\n",
      ".........28\n",
      ".........29\n",
      ".........3\n",
      ".........30\n",
      ".........31\n",
      ".........32\n",
      ".........33\n",
      ".........34\n",
      ".........35\n",
      ".........36\n",
      ".........4\n",
      ".........5\n",
      ".........6\n",
      ".........7\n",
      ".........8\n",
      ".........9\n",
      "...vars\n",
      "Keras model archive saving:\n",
      "File Name                                             Modified             Size\n",
      "config.json                                    2023-12-24 19:37:35         5820\n",
      "metadata.json                                  2023-12-24 19:37:35           64\n",
      "variables.h5                                   2023-12-24 19:37:35       264960\n"
     ]
    },
    {
     "data": {
      "text/plain": [
       "['../model/tf_005.pkl']"
      ]
     },
     "execution_count": 51,
     "metadata": {},
     "output_type": "execute_result"
    }
   ],
   "source": [
    "joblib.dump(model, '../model/tf_005.pkl')"
   ]
  },
  {
   "cell_type": "code",
   "execution_count": 52,
   "id": "bed4400d",
   "metadata": {
    "ExecuteTime": {
     "end_time": "2023-12-24T10:37:35.692198Z",
     "start_time": "2023-12-24T10:37:35.506310Z"
    }
   },
   "outputs": [
    {
     "name": "stdout",
     "output_type": "stream",
     "text": [
      "Keras model archive loading:\n",
      "File Name                                             Modified             Size\n",
      "config.json                                    2023-12-24 19:37:34         5820\n",
      "metadata.json                                  2023-12-24 19:37:34           64\n",
      "variables.h5                                   2023-12-24 19:37:34       264960\n",
      "Keras weights file (<HDF5 file \"variables.h5\" (mode r)>) loading:\n",
      "...layers\\batch_normalization\n",
      "......vars\n",
      ".........0\n",
      ".........1\n",
      ".........2\n",
      ".........3\n",
      "...layers\\batch_normalization_1\n",
      "......vars\n",
      ".........0\n",
      ".........1\n",
      ".........2\n",
      ".........3\n",
      "...layers\\batch_normalization_2\n",
      "......vars\n",
      ".........0\n",
      ".........1\n",
      ".........2\n",
      ".........3\n",
      "...layers\\batch_normalization_3\n",
      "......vars\n",
      ".........0\n",
      ".........1\n",
      ".........2\n",
      ".........3\n",
      "...layers\\dense\n",
      "......vars\n",
      ".........0\n",
      ".........1\n",
      "...layers\\dense_1\n",
      "......vars\n",
      ".........0\n",
      ".........1\n",
      "...layers\\dense_2\n",
      "......vars\n",
      ".........0\n",
      ".........1\n",
      "...layers\\dense_3\n",
      "......vars\n",
      ".........0\n",
      ".........1\n",
      "...layers\\dense_4\n",
      "......vars\n",
      ".........0\n",
      ".........1\n",
      "...layers\\leaky_re_lu\n",
      "......vars\n",
      "...layers\\leaky_re_lu_1\n",
      "......vars\n",
      "...layers\\leaky_re_lu_2\n",
      "......vars\n",
      "...layers\\leaky_re_lu_3\n",
      "......vars\n",
      "...metrics\\mean\n",
      "......vars\n",
      ".........0\n",
      ".........1\n",
      "...optimizer\n",
      "......vars\n",
      ".........0\n",
      ".........1\n",
      ".........10\n",
      ".........11\n",
      ".........12\n",
      ".........13\n",
      ".........14\n",
      ".........15\n",
      ".........16\n",
      ".........17\n",
      ".........18\n",
      ".........19\n",
      ".........2\n",
      ".........20\n",
      ".........21\n",
      ".........22\n",
      ".........23\n",
      ".........24\n",
      ".........25\n",
      ".........26\n",
      ".........27\n",
      ".........28\n",
      ".........29\n",
      ".........3\n",
      ".........30\n",
      ".........31\n",
      ".........32\n",
      ".........33\n",
      ".........34\n",
      ".........35\n",
      ".........36\n",
      ".........4\n",
      ".........5\n",
      ".........6\n",
      ".........7\n",
      ".........8\n",
      ".........9\n",
      "...vars\n"
     ]
    }
   ],
   "source": [
    "loaded_model = joblib.load('../model/tf_005.pkl')"
   ]
  }
 ],
 "metadata": {
  "hide_input": false,
  "kernelspec": {
   "display_name": "Python 3 (ipykernel)",
   "language": "python",
   "name": "python3"
  },
  "language_info": {
   "codemirror_mode": {
    "name": "ipython",
    "version": 3
   },
   "file_extension": ".py",
   "mimetype": "text/x-python",
   "name": "python",
   "nbconvert_exporter": "python",
   "pygments_lexer": "ipython3",
   "version": "3.9.12"
  },
  "toc": {
   "base_numbering": 1,
   "nav_menu": {},
   "number_sections": true,
   "sideBar": true,
   "skip_h1_title": false,
   "title_cell": "Table of Contents",
   "title_sidebar": "Contents",
   "toc_cell": false,
   "toc_position": {},
   "toc_section_display": true,
   "toc_window_display": false
  },
  "varInspector": {
   "cols": {
    "lenName": 16,
    "lenType": 16,
    "lenVar": 40
   },
   "kernels_config": {
    "python": {
     "delete_cmd_postfix": "",
     "delete_cmd_prefix": "del ",
     "library": "var_list.py",
     "varRefreshCmd": "print(var_dic_list())"
    },
    "r": {
     "delete_cmd_postfix": ") ",
     "delete_cmd_prefix": "rm(",
     "library": "var_list.r",
     "varRefreshCmd": "cat(var_dic_list()) "
    }
   },
   "types_to_exclude": [
    "module",
    "function",
    "builtin_function_or_method",
    "instance",
    "_Feature"
   ],
   "window_display": false
  }
 },
 "nbformat": 4,
 "nbformat_minor": 5
}
