{
 "cells": [
  {
   "cell_type": "code",
   "execution_count": 31,
   "id": "1f45094b",
   "metadata": {
    "ExecuteTime": {
     "end_time": "2023-12-20T05:09:52.686450Z",
     "start_time": "2023-12-20T05:09:52.598698Z"
    }
   },
   "outputs": [],
   "source": [
    "import random\n",
    "import os\n",
    "import numpy as np\n",
    "import matplotlib.pyplot as plt\n",
    "import pandas as pd\n",
    "import warnings\n",
    "warnings.filterwarnings('ignore')\n",
    "\n",
    "\n",
    "plt.rc('font', family='Malgun Gothic')  # 폰트 지정\n",
    "plt.rc('axes', unicode_minus=False)  # 마이너스 폰트 설정\n",
    "%config InlineBackend.figure_format = 'retina'  # 그래프 글씨 뚜렷\n",
    "\n",
    "\n",
    "def seed_everything(seed):\n",
    "    random.seed(seed)\n",
    "    os.environ['PYTHONHASHSEED'] = str(seed)\n",
    "    np.random.seed(seed)\n",
    "\n",
    "\n",
    "seed_everything(42)\n",
    "\n",
    "df_train = pd.read_csv(\"../data/preprocessed/df_train001.csv\")\n",
    "df = pd.read_csv(\"../data/preprocessed/df.csv\")"
   ]
  },
  {
   "cell_type": "markdown",
   "id": "6b28ac3b",
   "metadata": {},
   "source": [
    "---"
   ]
  },
  {
   "cell_type": "code",
   "execution_count": 32,
   "id": "e62ad25b",
   "metadata": {
    "ExecuteTime": {
     "end_time": "2023-12-20T05:09:52.951409Z",
     "start_time": "2023-12-20T05:09:52.923298Z"
    }
   },
   "outputs": [
    {
     "data": {
      "text/html": [
       "<div>\n",
       "<style scoped>\n",
       "    .dataframe tbody tr th:only-of-type {\n",
       "        vertical-align: middle;\n",
       "    }\n",
       "\n",
       "    .dataframe tbody tr th {\n",
       "        vertical-align: top;\n",
       "    }\n",
       "\n",
       "    .dataframe thead th {\n",
       "        text-align: right;\n",
       "    }\n",
       "</style>\n",
       "<table border=\"1\" class=\"dataframe\">\n",
       "  <thead>\n",
       "    <tr style=\"text-align: right;\">\n",
       "      <th></th>\n",
       "      <th>일시</th>\n",
       "      <th>최고기온</th>\n",
       "      <th>최저기온</th>\n",
       "      <th>일교차</th>\n",
       "      <th>강수량</th>\n",
       "      <th>평균습도</th>\n",
       "      <th>평균풍속</th>\n",
       "      <th>일조합</th>\n",
       "      <th>일사합</th>\n",
       "      <th>일조율</th>\n",
       "      <th>평균기온</th>\n",
       "    </tr>\n",
       "  </thead>\n",
       "  <tbody>\n",
       "    <tr>\n",
       "      <th>0</th>\n",
       "      <td>1960-01-01</td>\n",
       "      <td>2.2</td>\n",
       "      <td>-5.2</td>\n",
       "      <td>7.4</td>\n",
       "      <td>0.0</td>\n",
       "      <td>68.3</td>\n",
       "      <td>1.7</td>\n",
       "      <td>6.7</td>\n",
       "      <td>11.933</td>\n",
       "      <td>48.699342</td>\n",
       "      <td>-1.6</td>\n",
       "    </tr>\n",
       "    <tr>\n",
       "      <th>1</th>\n",
       "      <td>1960-01-02</td>\n",
       "      <td>1.2</td>\n",
       "      <td>-5.6</td>\n",
       "      <td>6.8</td>\n",
       "      <td>0.4</td>\n",
       "      <td>87.7</td>\n",
       "      <td>1.3</td>\n",
       "      <td>0.0</td>\n",
       "      <td>11.933</td>\n",
       "      <td>48.699342</td>\n",
       "      <td>-1.9</td>\n",
       "    </tr>\n",
       "    <tr>\n",
       "      <th>2</th>\n",
       "      <td>1960-01-03</td>\n",
       "      <td>8.7</td>\n",
       "      <td>-2.1</td>\n",
       "      <td>10.8</td>\n",
       "      <td>0.0</td>\n",
       "      <td>81.3</td>\n",
       "      <td>3.0</td>\n",
       "      <td>0.0</td>\n",
       "      <td>11.933</td>\n",
       "      <td>48.699342</td>\n",
       "      <td>4.0</td>\n",
       "    </tr>\n",
       "    <tr>\n",
       "      <th>3</th>\n",
       "      <td>1960-01-04</td>\n",
       "      <td>10.8</td>\n",
       "      <td>1.2</td>\n",
       "      <td>9.6</td>\n",
       "      <td>0.0</td>\n",
       "      <td>79.7</td>\n",
       "      <td>4.4</td>\n",
       "      <td>2.6</td>\n",
       "      <td>11.933</td>\n",
       "      <td>48.699342</td>\n",
       "      <td>7.5</td>\n",
       "    </tr>\n",
       "    <tr>\n",
       "      <th>4</th>\n",
       "      <td>1960-01-05</td>\n",
       "      <td>1.3</td>\n",
       "      <td>-8.2</td>\n",
       "      <td>9.5</td>\n",
       "      <td>0.0</td>\n",
       "      <td>44.0</td>\n",
       "      <td>5.1</td>\n",
       "      <td>8.2</td>\n",
       "      <td>11.933</td>\n",
       "      <td>48.699342</td>\n",
       "      <td>-4.6</td>\n",
       "    </tr>\n",
       "  </tbody>\n",
       "</table>\n",
       "</div>"
      ],
      "text/plain": [
       "           일시  최고기온  최저기온   일교차  강수량  평균습도  평균풍속  일조합     일사합        일조율  평균기온\n",
       "0  1960-01-01   2.2  -5.2   7.4  0.0  68.3   1.7  6.7  11.933  48.699342  -1.6\n",
       "1  1960-01-02   1.2  -5.6   6.8  0.4  87.7   1.3  0.0  11.933  48.699342  -1.9\n",
       "2  1960-01-03   8.7  -2.1  10.8  0.0  81.3   3.0  0.0  11.933  48.699342   4.0\n",
       "3  1960-01-04  10.8   1.2   9.6  0.0  79.7   4.4  2.6  11.933  48.699342   7.5\n",
       "4  1960-01-05   1.3  -8.2   9.5  0.0  44.0   5.1  8.2  11.933  48.699342  -4.6"
      ]
     },
     "execution_count": 32,
     "metadata": {},
     "output_type": "execute_result"
    }
   ],
   "source": [
    "df_train.head()"
   ]
  },
  {
   "cell_type": "code",
   "execution_count": 33,
   "id": "1b258a06",
   "metadata": {
    "ExecuteTime": {
     "end_time": "2023-12-20T05:09:53.186450Z",
     "start_time": "2023-12-20T05:09:53.052151Z"
    }
   },
   "outputs": [],
   "source": [
    "df_train['월'] = np.float64(df_train['일시'].str.split('-', expand=True)[1])\n",
    "df_train['일'] = np.float64(df_train['일시'].str.split('-', expand=True)[2])"
   ]
  },
  {
   "cell_type": "code",
   "execution_count": 34,
   "id": "150d90dc",
   "metadata": {
    "ExecuteTime": {
     "end_time": "2023-12-20T05:09:53.295391Z",
     "start_time": "2023-12-20T05:09:53.272127Z"
    }
   },
   "outputs": [],
   "source": [
    "df['월'] = np.float64(df['일시'].str.split('-', expand=True)[1])\n",
    "df['일'] = np.float64(df['일시'].str.split('-', expand=True)[2])"
   ]
  },
  {
   "cell_type": "code",
   "execution_count": 35,
   "id": "2fc1b5c6",
   "metadata": {
    "ExecuteTime": {
     "end_time": "2023-12-20T05:09:53.389742Z",
     "start_time": "2023-12-20T05:09:53.381761Z"
    }
   },
   "outputs": [],
   "source": [
    "from sklearn.preprocessing import StandardScaler"
   ]
  },
  {
   "cell_type": "code",
   "execution_count": 36,
   "id": "2c806ea8",
   "metadata": {
    "ExecuteTime": {
     "end_time": "2023-12-20T05:09:53.497987Z",
     "start_time": "2023-12-20T05:09:53.479750Z"
    }
   },
   "outputs": [],
   "source": [
    "scaler = StandardScaler()"
   ]
  },
  {
   "cell_type": "code",
   "execution_count": 37,
   "id": "c378bbf6",
   "metadata": {
    "ExecuteTime": {
     "end_time": "2023-12-20T05:09:53.638927Z",
     "start_time": "2023-12-20T05:09:53.622930Z"
    }
   },
   "outputs": [],
   "source": [
    "X = df_train.drop(columns=['일시','평균기온'], axis=1)\n",
    "y = df_train['평균기온']"
   ]
  },
  {
   "cell_type": "code",
   "execution_count": 38,
   "id": "6d8b278d",
   "metadata": {
    "ExecuteTime": {
     "end_time": "2023-12-20T05:09:53.792369Z",
     "start_time": "2023-12-20T05:09:53.762802Z"
    }
   },
   "outputs": [],
   "source": [
    "X = scaler.fit_transform(X)"
   ]
  },
  {
   "cell_type": "code",
   "execution_count": 39,
   "id": "86df154b",
   "metadata": {
    "ExecuteTime": {
     "end_time": "2023-12-20T05:09:53.918136Z",
     "start_time": "2023-12-20T05:09:53.911028Z"
    }
   },
   "outputs": [],
   "source": [
    "from sklearn.model_selection import train_test_split"
   ]
  },
  {
   "cell_type": "code",
   "execution_count": 40,
   "id": "d31efc78",
   "metadata": {
    "ExecuteTime": {
     "end_time": "2023-12-20T05:09:54.089536Z",
     "start_time": "2023-12-20T05:09:54.068981Z"
    }
   },
   "outputs": [],
   "source": [
    "x_train, x_test, y_train , y_test = train_test_split(X, y, test_size = 0.3, random_state=42 )"
   ]
  },
  {
   "cell_type": "markdown",
   "id": "84bb7a24",
   "metadata": {},
   "source": [
    "---"
   ]
  },
  {
   "cell_type": "code",
   "execution_count": 41,
   "id": "fdc96848",
   "metadata": {
    "ExecuteTime": {
     "end_time": "2023-12-20T05:09:54.386084Z",
     "start_time": "2023-12-20T05:09:54.375229Z"
    }
   },
   "outputs": [],
   "source": [
    "import lightgbm as lgb"
   ]
  },
  {
   "cell_type": "code",
   "execution_count": 42,
   "id": "33643661",
   "metadata": {
    "ExecuteTime": {
     "end_time": "2023-12-20T05:09:54.558920Z",
     "start_time": "2023-12-20T05:09:54.551017Z"
    }
   },
   "outputs": [],
   "source": [
    "model = lgb.LGBMRegressor(learning_rate = 0.055, random_state=42, boosting_type='gbdt')"
   ]
  },
  {
   "cell_type": "code",
   "execution_count": 43,
   "id": "6c2bdc46",
   "metadata": {
    "ExecuteTime": {
     "end_time": "2023-12-20T05:09:55.698386Z",
     "start_time": "2023-12-20T05:09:54.750750Z"
    }
   },
   "outputs": [
    {
     "name": "stdout",
     "output_type": "stream",
     "text": [
      "[1]\tvalid_0's l2: 99.0316\n",
      "[2]\tvalid_0's l2: 88.5438\n",
      "[3]\tvalid_0's l2: 79.1802\n",
      "[4]\tvalid_0's l2: 70.7963\n",
      "[5]\tvalid_0's l2: 63.3091\n",
      "[6]\tvalid_0's l2: 56.6262\n",
      "[7]\tvalid_0's l2: 50.6467\n",
      "[8]\tvalid_0's l2: 45.2952\n",
      "[9]\tvalid_0's l2: 40.5292\n",
      "[10]\tvalid_0's l2: 36.257\n",
      "[11]\tvalid_0's l2: 32.4315\n",
      "[12]\tvalid_0's l2: 29.0284\n",
      "[13]\tvalid_0's l2: 25.9744\n",
      "[14]\tvalid_0's l2: 23.2477\n",
      "[15]\tvalid_0's l2: 20.8108\n",
      "[16]\tvalid_0's l2: 18.641\n",
      "[17]\tvalid_0's l2: 16.6978\n",
      "[18]\tvalid_0's l2: 14.9549\n",
      "[19]\tvalid_0's l2: 13.3944\n",
      "[20]\tvalid_0's l2: 12.0049\n",
      "[21]\tvalid_0's l2: 10.7628\n",
      "[22]\tvalid_0's l2: 9.65134\n",
      "[23]\tvalid_0's l2: 8.65652\n",
      "[24]\tvalid_0's l2: 7.76633\n",
      "[25]\tvalid_0's l2: 6.97437\n",
      "[26]\tvalid_0's l2: 6.26523\n",
      "[27]\tvalid_0's l2: 5.62992\n",
      "[28]\tvalid_0's l2: 5.06147\n",
      "[29]\tvalid_0's l2: 4.55389\n",
      "[30]\tvalid_0's l2: 4.09948\n",
      "[31]\tvalid_0's l2: 3.69378\n",
      "[32]\tvalid_0's l2: 3.33122\n",
      "[33]\tvalid_0's l2: 3.00772\n",
      "[34]\tvalid_0's l2: 2.71742\n",
      "[35]\tvalid_0's l2: 2.4587\n",
      "[36]\tvalid_0's l2: 2.22689\n",
      "[37]\tvalid_0's l2: 2.01975\n",
      "[38]\tvalid_0's l2: 1.83476\n",
      "[39]\tvalid_0's l2: 1.66937\n",
      "[40]\tvalid_0's l2: 1.52097\n",
      "[41]\tvalid_0's l2: 1.38841\n",
      "[42]\tvalid_0's l2: 1.26962\n",
      "[43]\tvalid_0's l2: 1.16359\n",
      "[44]\tvalid_0's l2: 1.0691\n",
      "[45]\tvalid_0's l2: 0.984422\n",
      "[46]\tvalid_0's l2: 0.908771\n",
      "[47]\tvalid_0's l2: 0.840983\n",
      "[48]\tvalid_0's l2: 0.780688\n",
      "[49]\tvalid_0's l2: 0.726489\n",
      "[50]\tvalid_0's l2: 0.678055\n",
      "[51]\tvalid_0's l2: 0.634666\n",
      "[52]\tvalid_0's l2: 0.596109\n",
      "[53]\tvalid_0's l2: 0.561522\n",
      "[54]\tvalid_0's l2: 0.530149\n",
      "[55]\tvalid_0's l2: 0.50207\n",
      "[56]\tvalid_0's l2: 0.477054\n",
      "[57]\tvalid_0's l2: 0.454634\n",
      "[58]\tvalid_0's l2: 0.434405\n",
      "[59]\tvalid_0's l2: 0.416109\n",
      "[60]\tvalid_0's l2: 0.399953\n",
      "[61]\tvalid_0's l2: 0.38543\n",
      "[62]\tvalid_0's l2: 0.372252\n",
      "[63]\tvalid_0's l2: 0.360574\n",
      "[64]\tvalid_0's l2: 0.35006\n",
      "[65]\tvalid_0's l2: 0.340527\n",
      "[66]\tvalid_0's l2: 0.331875\n",
      "[67]\tvalid_0's l2: 0.324104\n",
      "[68]\tvalid_0's l2: 0.317242\n",
      "[69]\tvalid_0's l2: 0.310861\n",
      "[70]\tvalid_0's l2: 0.30514\n",
      "[71]\tvalid_0's l2: 0.300082\n",
      "[72]\tvalid_0's l2: 0.295779\n",
      "[73]\tvalid_0's l2: 0.291652\n",
      "[74]\tvalid_0's l2: 0.287992\n",
      "[75]\tvalid_0's l2: 0.284532\n",
      "[76]\tvalid_0's l2: 0.281646\n",
      "[77]\tvalid_0's l2: 0.279009\n",
      "[78]\tvalid_0's l2: 0.27641\n",
      "[79]\tvalid_0's l2: 0.274347\n",
      "[80]\tvalid_0's l2: 0.272248\n",
      "[81]\tvalid_0's l2: 0.270262\n",
      "[82]\tvalid_0's l2: 0.268726\n",
      "[83]\tvalid_0's l2: 0.267243\n",
      "[84]\tvalid_0's l2: 0.265934\n",
      "[85]\tvalid_0's l2: 0.264749\n",
      "[86]\tvalid_0's l2: 0.26359\n",
      "[87]\tvalid_0's l2: 0.262322\n",
      "[88]\tvalid_0's l2: 0.261341\n",
      "[89]\tvalid_0's l2: 0.26037\n",
      "[90]\tvalid_0's l2: 0.259352\n",
      "[91]\tvalid_0's l2: 0.258726\n",
      "[92]\tvalid_0's l2: 0.25798\n",
      "[93]\tvalid_0's l2: 0.257227\n",
      "[94]\tvalid_0's l2: 0.256692\n",
      "[95]\tvalid_0's l2: 0.256071\n",
      "[96]\tvalid_0's l2: 0.25561\n",
      "[97]\tvalid_0's l2: 0.255126\n",
      "[98]\tvalid_0's l2: 0.254788\n",
      "[99]\tvalid_0's l2: 0.254492\n",
      "[100]\tvalid_0's l2: 0.254139\n"
     ]
    },
    {
     "data": {
      "text/html": [
       "<style>#sk-container-id-2 {color: black;background-color: white;}#sk-container-id-2 pre{padding: 0;}#sk-container-id-2 div.sk-toggleable {background-color: white;}#sk-container-id-2 label.sk-toggleable__label {cursor: pointer;display: block;width: 100%;margin-bottom: 0;padding: 0.3em;box-sizing: border-box;text-align: center;}#sk-container-id-2 label.sk-toggleable__label-arrow:before {content: \"▸\";float: left;margin-right: 0.25em;color: #696969;}#sk-container-id-2 label.sk-toggleable__label-arrow:hover:before {color: black;}#sk-container-id-2 div.sk-estimator:hover label.sk-toggleable__label-arrow:before {color: black;}#sk-container-id-2 div.sk-toggleable__content {max-height: 0;max-width: 0;overflow: hidden;text-align: left;background-color: #f0f8ff;}#sk-container-id-2 div.sk-toggleable__content pre {margin: 0.2em;color: black;border-radius: 0.25em;background-color: #f0f8ff;}#sk-container-id-2 input.sk-toggleable__control:checked~div.sk-toggleable__content {max-height: 200px;max-width: 100%;overflow: auto;}#sk-container-id-2 input.sk-toggleable__control:checked~label.sk-toggleable__label-arrow:before {content: \"▾\";}#sk-container-id-2 div.sk-estimator input.sk-toggleable__control:checked~label.sk-toggleable__label {background-color: #d4ebff;}#sk-container-id-2 div.sk-label input.sk-toggleable__control:checked~label.sk-toggleable__label {background-color: #d4ebff;}#sk-container-id-2 input.sk-hidden--visually {border: 0;clip: rect(1px 1px 1px 1px);clip: rect(1px, 1px, 1px, 1px);height: 1px;margin: -1px;overflow: hidden;padding: 0;position: absolute;width: 1px;}#sk-container-id-2 div.sk-estimator {font-family: monospace;background-color: #f0f8ff;border: 1px dotted black;border-radius: 0.25em;box-sizing: border-box;margin-bottom: 0.5em;}#sk-container-id-2 div.sk-estimator:hover {background-color: #d4ebff;}#sk-container-id-2 div.sk-parallel-item::after {content: \"\";width: 100%;border-bottom: 1px solid gray;flex-grow: 1;}#sk-container-id-2 div.sk-label:hover label.sk-toggleable__label {background-color: #d4ebff;}#sk-container-id-2 div.sk-serial::before {content: \"\";position: absolute;border-left: 1px solid gray;box-sizing: border-box;top: 0;bottom: 0;left: 50%;z-index: 0;}#sk-container-id-2 div.sk-serial {display: flex;flex-direction: column;align-items: center;background-color: white;padding-right: 0.2em;padding-left: 0.2em;position: relative;}#sk-container-id-2 div.sk-item {position: relative;z-index: 1;}#sk-container-id-2 div.sk-parallel {display: flex;align-items: stretch;justify-content: center;background-color: white;position: relative;}#sk-container-id-2 div.sk-item::before, #sk-container-id-2 div.sk-parallel-item::before {content: \"\";position: absolute;border-left: 1px solid gray;box-sizing: border-box;top: 0;bottom: 0;left: 50%;z-index: -1;}#sk-container-id-2 div.sk-parallel-item {display: flex;flex-direction: column;z-index: 1;position: relative;background-color: white;}#sk-container-id-2 div.sk-parallel-item:first-child::after {align-self: flex-end;width: 50%;}#sk-container-id-2 div.sk-parallel-item:last-child::after {align-self: flex-start;width: 50%;}#sk-container-id-2 div.sk-parallel-item:only-child::after {width: 0;}#sk-container-id-2 div.sk-dashed-wrapped {border: 1px dashed gray;margin: 0 0.4em 0.5em 0.4em;box-sizing: border-box;padding-bottom: 0.4em;background-color: white;}#sk-container-id-2 div.sk-label label {font-family: monospace;font-weight: bold;display: inline-block;line-height: 1.2em;}#sk-container-id-2 div.sk-label-container {text-align: center;}#sk-container-id-2 div.sk-container {/* jupyter's `normalize.less` sets `[hidden] { display: none; }` but bootstrap.min.css set `[hidden] { display: none !important; }` so we also need the `!important` here to be able to override the default hidden behavior on the sphinx rendered scikit-learn.org. See: https://github.com/scikit-learn/scikit-learn/issues/21755 */display: inline-block !important;position: relative;}#sk-container-id-2 div.sk-text-repr-fallback {display: none;}</style><div id=\"sk-container-id-2\" class=\"sk-top-container\"><div class=\"sk-text-repr-fallback\"><pre>LGBMRegressor(learning_rate=0.055, random_state=42)</pre><b>In a Jupyter environment, please rerun this cell to show the HTML representation or trust the notebook. <br />On GitHub, the HTML representation is unable to render, please try loading this page with nbviewer.org.</b></div><div class=\"sk-container\" hidden><div class=\"sk-item\"><div class=\"sk-estimator sk-toggleable\"><input class=\"sk-toggleable__control sk-hidden--visually\" id=\"sk-estimator-id-2\" type=\"checkbox\" checked><label for=\"sk-estimator-id-2\" class=\"sk-toggleable__label sk-toggleable__label-arrow\">LGBMRegressor</label><div class=\"sk-toggleable__content\"><pre>LGBMRegressor(learning_rate=0.055, random_state=42)</pre></div></div></div></div></div>"
      ],
      "text/plain": [
       "LGBMRegressor(learning_rate=0.055, random_state=42)"
      ]
     },
     "execution_count": 43,
     "metadata": {},
     "output_type": "execute_result"
    }
   ],
   "source": [
    "model.fit(x_train, y_train, eval_set=(x_test, y_test)) "
   ]
  },
  {
   "cell_type": "code",
   "execution_count": 44,
   "id": "31490455",
   "metadata": {
    "ExecuteTime": {
     "end_time": "2023-12-20T05:09:57.069102Z",
     "start_time": "2023-12-20T05:09:56.990592Z"
    }
   },
   "outputs": [
    {
     "data": {
      "text/plain": [
       "0.9980724741383658"
      ]
     },
     "execution_count": 44,
     "metadata": {},
     "output_type": "execute_result"
    }
   ],
   "source": [
    "model.score(x_train, y_train)"
   ]
  },
  {
   "cell_type": "code",
   "execution_count": 45,
   "id": "a2741624",
   "metadata": {
    "ExecuteTime": {
     "end_time": "2023-12-20T05:09:57.443031Z",
     "start_time": "2023-12-20T05:09:57.397248Z"
    }
   },
   "outputs": [
    {
     "data": {
      "text/plain": [
       "0.9977053583833767"
      ]
     },
     "execution_count": 45,
     "metadata": {},
     "output_type": "execute_result"
    }
   ],
   "source": [
    "model.score(x_test, y_test)"
   ]
  },
  {
   "cell_type": "markdown",
   "id": "864033ca",
   "metadata": {},
   "source": [
    "---"
   ]
  },
  {
   "cell_type": "code",
   "execution_count": 46,
   "id": "d6e3b846",
   "metadata": {
    "ExecuteTime": {
     "end_time": "2023-12-20T05:09:58.956928Z",
     "start_time": "2023-12-20T05:09:58.932257Z"
    }
   },
   "outputs": [],
   "source": [
    "sub_file = pd.read_csv(\"../data/original/sample_submission.csv\")"
   ]
  },
  {
   "cell_type": "code",
   "execution_count": 47,
   "id": "62cb4fbb",
   "metadata": {
    "ExecuteTime": {
     "end_time": "2023-12-20T05:09:59.379416Z",
     "start_time": "2023-12-20T05:09:59.352796Z"
    }
   },
   "outputs": [],
   "source": [
    "df = scaler.transform(df.drop(columns='일시', axis=1))"
   ]
  },
  {
   "cell_type": "code",
   "execution_count": 48,
   "id": "cf1a80f5",
   "metadata": {
    "ExecuteTime": {
     "end_time": "2023-12-20T05:10:00.298634Z",
     "start_time": "2023-12-20T05:10:00.284494Z"
    }
   },
   "outputs": [],
   "source": [
    "sub_file['평균기온'] = model.predict(df)"
   ]
  },
  {
   "cell_type": "code",
   "execution_count": 49,
   "id": "b863f375",
   "metadata": {
    "ExecuteTime": {
     "end_time": "2023-12-20T05:10:03.512062Z",
     "start_time": "2023-12-20T05:10:03.212224Z"
    }
   },
   "outputs": [
    {
     "data": {
      "text/plain": [
       "<AxesSubplot:>"
      ]
     },
     "execution_count": 49,
     "metadata": {},
     "output_type": "execute_result"
    },
    {
     "data": {
      "image/png": "[encoded data removed]",
      "text/plain": [
       "<Figure size 432x288 with 1 Axes>"
      ]
     },
     "metadata": {
      "image/png": {
       "height": 249,
       "width": 367
      },
      "needs_background": "light"
     },
     "output_type": "display_data"
    }
   ],
   "source": [
    "sub_file['평균기온'].plot()"
   ]
  },
  {
   "cell_type": "code",
   "execution_count": 50,
   "id": "a351b6b6",
   "metadata": {
    "ExecuteTime": {
     "end_time": "2023-12-20T05:10:49.638049Z",
     "start_time": "2023-12-20T05:10:49.599831Z"
    }
   },
   "outputs": [],
   "source": [
    "sub_file.to_csv(\"../data/sub/020_df_lightgbm_001.csv\",\n",
    "                index=False, encoding='utf-8')"
   ]
  },
  {
   "cell_type": "markdown",
   "id": "dd9a662b",
   "metadata": {},
   "source": [
    "---"
   ]
  },
  {
   "cell_type": "code",
   "execution_count": 51,
   "id": "96156456",
   "metadata": {
    "ExecuteTime": {
     "end_time": "2023-12-20T05:10:51.148200Z",
     "start_time": "2023-12-20T05:10:51.140614Z"
    }
   },
   "outputs": [],
   "source": [
    "import joblib"
   ]
  },
  {
   "cell_type": "code",
   "execution_count": 52,
   "id": "cf902769",
   "metadata": {
    "ExecuteTime": {
     "end_time": "2023-12-20T05:10:56.907389Z",
     "start_time": "2023-12-20T05:10:56.867420Z"
    }
   },
   "outputs": [
    {
     "data": {
      "text/plain": [
       "['../model/lightgbm_001.pkl']"
      ]
     },
     "execution_count": 52,
     "metadata": {},
     "output_type": "execute_result"
    }
   ],
   "source": [
    "joblib.dump(model, '../model/lightgbm_001.pkl')"
   ]
  },
  {
   "cell_type": "code",
   "execution_count": 53,
   "id": "bed4400d",
   "metadata": {
    "ExecuteTime": {
     "end_time": "2023-12-20T05:11:05.081649Z",
     "start_time": "2023-12-20T05:11:05.044497Z"
    }
   },
   "outputs": [],
   "source": [
    "loaded_model = joblib.load('../model/lightgbm_001.pkl')"
   ]
  }
 ],
 "metadata": {
  "hide_input": false,
  "kernelspec": {
   "display_name": "Python 3 (ipykernel)",
   "language": "python",
   "name": "python3"
  },
  "language_info": {
   "codemirror_mode": {
    "name": "ipython",
    "version": 3
   },
   "file_extension": ".py",
   "mimetype": "text/x-python",
   "name": "python",
   "nbconvert_exporter": "python",
   "pygments_lexer": "ipython3",
   "version": "3.9.12"
  },
  "toc": {
   "base_numbering": 1,
   "nav_menu": {},
   "number_sections": true,
   "sideBar": true,
   "skip_h1_title": false,
   "title_cell": "Table of Contents",
   "title_sidebar": "Contents",
   "toc_cell": false,
   "toc_position": {},
   "toc_section_display": true,
   "toc_window_display": false
  },
  "varInspector": {
   "cols": {
    "lenName": 16,
    "lenType": 16,
    "lenVar": 40
   },
   "kernels_config": {
    "python": {
     "delete_cmd_postfix": "",
     "delete_cmd_prefix": "del ",
     "library": "var_list.py",
     "varRefreshCmd": "print(var_dic_list())"
    },
    "r": {
     "delete_cmd_postfix": ") ",
     "delete_cmd_prefix": "rm(",
     "library": "var_list.r",
     "varRefreshCmd": "cat(var_dic_list()) "
    }
   },
   "types_to_exclude": [
    "module",
    "function",
    "builtin_function_or_method",
    "instance",
    "_Feature"
   ],
   "window_display": false
  }
 },
 "nbformat": 4,
 "nbformat_minor": 5
}
