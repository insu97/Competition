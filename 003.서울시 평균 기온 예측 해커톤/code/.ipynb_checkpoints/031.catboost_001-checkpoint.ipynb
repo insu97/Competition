{
 "cells": [
  {
   "cell_type": "code",
   "execution_count": 1,
   "id": "1f45094b",
   "metadata": {
    "ExecuteTime": {
     "end_time": "2023-12-22T02:52:03.527606Z",
     "start_time": "2023-12-22T02:51:58.994908Z"
    }
   },
   "outputs": [],
   "source": [
    "import random\n",
    "import os\n",
    "import numpy as np\n",
    "import matplotlib.pyplot as plt\n",
    "import pandas as pd\n",
    "import warnings\n",
    "warnings.filterwarnings('ignore')\n",
    "\n",
    "\n",
    "plt.rc('font', family='Malgun Gothic')  # 폰트 지정\n",
    "plt.rc('axes', unicode_minus=False)  # 마이너스 폰트 설정\n",
    "%config InlineBackend.figure_format = 'retina'  # 그래프 글씨 뚜렷\n",
    "\n",
    "\n",
    "def seed_everything(seed):\n",
    "    random.seed(seed)\n",
    "    os.environ['PYTHONHASHSEED'] = str(seed)\n",
    "    np.random.seed(seed)\n",
    "\n",
    "\n",
    "seed_everything(42)\n",
    "\n",
    "df_train = pd.read_csv(\"../data/preprocessed/df_train001.csv\")\n",
    "df = pd.read_csv(\"../data/preprocessed/df.csv\")"
   ]
  },
  {
   "cell_type": "markdown",
   "id": "6b28ac3b",
   "metadata": {},
   "source": [
    "---"
   ]
  },
  {
   "cell_type": "code",
   "execution_count": 2,
   "id": "e62ad25b",
   "metadata": {
    "ExecuteTime": {
     "end_time": "2023-12-22T02:52:03.605280Z",
     "start_time": "2023-12-22T02:52:03.576893Z"
    }
   },
   "outputs": [
    {
     "data": {
      "text/html": [
       "<div>\n",
       "<style scoped>\n",
       "    .dataframe tbody tr th:only-of-type {\n",
       "        vertical-align: middle;\n",
       "    }\n",
       "\n",
       "    .dataframe tbody tr th {\n",
       "        vertical-align: top;\n",
       "    }\n",
       "\n",
       "    .dataframe thead th {\n",
       "        text-align: right;\n",
       "    }\n",
       "</style>\n",
       "<table border=\"1\" class=\"dataframe\">\n",
       "  <thead>\n",
       "    <tr style=\"text-align: right;\">\n",
       "      <th></th>\n",
       "      <th>일시</th>\n",
       "      <th>최고기온</th>\n",
       "      <th>최저기온</th>\n",
       "      <th>일교차</th>\n",
       "      <th>강수량</th>\n",
       "      <th>평균습도</th>\n",
       "      <th>평균풍속</th>\n",
       "      <th>일조합</th>\n",
       "      <th>일사합</th>\n",
       "      <th>일조율</th>\n",
       "      <th>평균기온</th>\n",
       "    </tr>\n",
       "  </thead>\n",
       "  <tbody>\n",
       "    <tr>\n",
       "      <th>0</th>\n",
       "      <td>1960-01-01</td>\n",
       "      <td>2.2</td>\n",
       "      <td>-5.2</td>\n",
       "      <td>7.4</td>\n",
       "      <td>0.0</td>\n",
       "      <td>68.3</td>\n",
       "      <td>1.7</td>\n",
       "      <td>6.7</td>\n",
       "      <td>11.933</td>\n",
       "      <td>48.699342</td>\n",
       "      <td>-1.6</td>\n",
       "    </tr>\n",
       "    <tr>\n",
       "      <th>1</th>\n",
       "      <td>1960-01-02</td>\n",
       "      <td>1.2</td>\n",
       "      <td>-5.6</td>\n",
       "      <td>6.8</td>\n",
       "      <td>0.4</td>\n",
       "      <td>87.7</td>\n",
       "      <td>1.3</td>\n",
       "      <td>0.0</td>\n",
       "      <td>11.933</td>\n",
       "      <td>48.699342</td>\n",
       "      <td>-1.9</td>\n",
       "    </tr>\n",
       "    <tr>\n",
       "      <th>2</th>\n",
       "      <td>1960-01-03</td>\n",
       "      <td>8.7</td>\n",
       "      <td>-2.1</td>\n",
       "      <td>10.8</td>\n",
       "      <td>0.0</td>\n",
       "      <td>81.3</td>\n",
       "      <td>3.0</td>\n",
       "      <td>0.0</td>\n",
       "      <td>11.933</td>\n",
       "      <td>48.699342</td>\n",
       "      <td>4.0</td>\n",
       "    </tr>\n",
       "    <tr>\n",
       "      <th>3</th>\n",
       "      <td>1960-01-04</td>\n",
       "      <td>10.8</td>\n",
       "      <td>1.2</td>\n",
       "      <td>9.6</td>\n",
       "      <td>0.0</td>\n",
       "      <td>79.7</td>\n",
       "      <td>4.4</td>\n",
       "      <td>2.6</td>\n",
       "      <td>11.933</td>\n",
       "      <td>48.699342</td>\n",
       "      <td>7.5</td>\n",
       "    </tr>\n",
       "    <tr>\n",
       "      <th>4</th>\n",
       "      <td>1960-01-05</td>\n",
       "      <td>1.3</td>\n",
       "      <td>-8.2</td>\n",
       "      <td>9.5</td>\n",
       "      <td>0.0</td>\n",
       "      <td>44.0</td>\n",
       "      <td>5.1</td>\n",
       "      <td>8.2</td>\n",
       "      <td>11.933</td>\n",
       "      <td>48.699342</td>\n",
       "      <td>-4.6</td>\n",
       "    </tr>\n",
       "  </tbody>\n",
       "</table>\n",
       "</div>"
      ],
      "text/plain": [
       "           일시  최고기온  최저기온   일교차  강수량  평균습도  평균풍속  일조합     일사합        일조율  평균기온\n",
       "0  1960-01-01   2.2  -5.2   7.4  0.0  68.3   1.7  6.7  11.933  48.699342  -1.6\n",
       "1  1960-01-02   1.2  -5.6   6.8  0.4  87.7   1.3  0.0  11.933  48.699342  -1.9\n",
       "2  1960-01-03   8.7  -2.1  10.8  0.0  81.3   3.0  0.0  11.933  48.699342   4.0\n",
       "3  1960-01-04  10.8   1.2   9.6  0.0  79.7   4.4  2.6  11.933  48.699342   7.5\n",
       "4  1960-01-05   1.3  -8.2   9.5  0.0  44.0   5.1  8.2  11.933  48.699342  -4.6"
      ]
     },
     "execution_count": 2,
     "metadata": {},
     "output_type": "execute_result"
    }
   ],
   "source": [
    "df_train.head()"
   ]
  },
  {
   "cell_type": "code",
   "execution_count": 3,
   "id": "1b258a06",
   "metadata": {
    "ExecuteTime": {
     "end_time": "2023-12-22T02:52:03.760742Z",
     "start_time": "2023-12-22T02:52:03.639105Z"
    }
   },
   "outputs": [],
   "source": [
    "df_train['월'] = np.float64(df_train['일시'].str.split('-', expand=True)[1])\n",
    "df_train['일'] = np.float64(df_train['일시'].str.split('-', expand=True)[2])"
   ]
  },
  {
   "cell_type": "code",
   "execution_count": 4,
   "id": "150d90dc",
   "metadata": {
    "ExecuteTime": {
     "end_time": "2023-12-22T02:52:03.807391Z",
     "start_time": "2023-12-22T02:52:03.795394Z"
    }
   },
   "outputs": [],
   "source": [
    "df['월'] = np.float64(df['일시'].str.split('-', expand=True)[1])\n",
    "df['일'] = np.float64(df['일시'].str.split('-', expand=True)[2])"
   ]
  },
  {
   "cell_type": "code",
   "execution_count": 5,
   "id": "2fc1b5c6",
   "metadata": {
    "ExecuteTime": {
     "end_time": "2023-12-22T02:52:08.891079Z",
     "start_time": "2023-12-22T02:52:03.841301Z"
    }
   },
   "outputs": [],
   "source": [
    "from sklearn.preprocessing import StandardScaler"
   ]
  },
  {
   "cell_type": "code",
   "execution_count": 6,
   "id": "2c806ea8",
   "metadata": {
    "ExecuteTime": {
     "end_time": "2023-12-22T02:52:08.953024Z",
     "start_time": "2023-12-22T02:52:08.945025Z"
    }
   },
   "outputs": [],
   "source": [
    "scaler = StandardScaler()"
   ]
  },
  {
   "cell_type": "code",
   "execution_count": 7,
   "id": "81717947",
   "metadata": {
    "ExecuteTime": {
     "end_time": "2023-12-22T02:52:08.999553Z",
     "start_time": "2023-12-22T02:52:08.987199Z"
    }
   },
   "outputs": [],
   "source": [
    "X = df_train.drop(columns=['일시','평균기온'], axis=1)\n",
    "y = df_train['평균기온']"
   ]
  },
  {
   "cell_type": "code",
   "execution_count": 8,
   "id": "6d8b278d",
   "metadata": {
    "ExecuteTime": {
     "end_time": "2023-12-22T02:52:09.045771Z",
     "start_time": "2023-12-22T02:52:09.033018Z"
    }
   },
   "outputs": [],
   "source": [
    "X = scaler.fit_transform(X)"
   ]
  },
  {
   "cell_type": "code",
   "execution_count": 9,
   "id": "86df154b",
   "metadata": {
    "ExecuteTime": {
     "end_time": "2023-12-22T02:52:09.533042Z",
     "start_time": "2023-12-22T02:52:09.079760Z"
    }
   },
   "outputs": [],
   "source": [
    "from sklearn.model_selection import train_test_split"
   ]
  },
  {
   "cell_type": "code",
   "execution_count": 10,
   "id": "d31efc78",
   "metadata": {
    "ExecuteTime": {
     "end_time": "2023-12-22T02:52:09.580359Z",
     "start_time": "2023-12-22T02:52:09.567888Z"
    }
   },
   "outputs": [],
   "source": [
    "x_train, x_test, y_train , y_test = train_test_split(X, y, test_size = 0.3, random_state=42 )"
   ]
  },
  {
   "cell_type": "markdown",
   "id": "57644946",
   "metadata": {},
   "source": [
    "---"
   ]
  },
  {
   "cell_type": "code",
   "execution_count": 14,
   "id": "1198cda8",
   "metadata": {
    "ExecuteTime": {
     "end_time": "2023-12-22T03:00:41.299709Z",
     "start_time": "2023-12-22T03:00:41.293749Z"
    }
   },
   "outputs": [],
   "source": [
    "# 필요한 라이브러리 import\n",
    "import catboost\n",
    "from catboost import CatBoostRegressor"
   ]
  },
  {
   "cell_type": "code",
   "execution_count": 19,
   "id": "e4c1f9b6",
   "metadata": {
    "ExecuteTime": {
     "end_time": "2023-12-22T03:01:31.819571Z",
     "start_time": "2023-12-22T03:01:31.809571Z"
    }
   },
   "outputs": [],
   "source": [
    "# CatBoost 모델 초기화\n",
    "model = CatBoostRegressor(iterations=2000,  # 부스팅 반복 횟수\n",
    "                          learning_rate=0.01,  # 학습률\n",
    "                          depth=6,  # 트리 깊이\n",
    "                          loss_function='RMSE',  # 손실 함수 (회귀 문제이므로 RMSE를 사용)\n",
    "                          random_seed=42)  # 랜덤 시드"
   ]
  },
  {
   "cell_type": "code",
   "execution_count": 20,
   "id": "6fde8e16",
   "metadata": {
    "ExecuteTime": {
     "end_time": "2023-12-22T03:01:43.485820Z",
     "start_time": "2023-12-22T03:01:32.263285Z"
    }
   },
   "outputs": [
    {
     "name": "stdout",
     "output_type": "stream",
     "text": [
      "0:\tlearn: 10.3769794\ttest: 10.4266572\tbest: 10.4266572 (0)\ttotal: 4.89ms\tremaining: 9.78s\n",
      "100:\tlearn: 4.1375135\ttest: 4.1746767\tbest: 4.1746767 (100)\ttotal: 403ms\tremaining: 7.58s\n",
      "200:\tlearn: 1.7400135\ttest: 1.7614707\tbest: 1.7614707 (200)\ttotal: 920ms\tremaining: 8.23s\n",
      "300:\tlearn: 0.8661909\ttest: 0.8785071\tbest: 0.8785071 (300)\ttotal: 1.47s\tremaining: 8.28s\n",
      "400:\tlearn: 0.6014459\ttest: 0.6082088\tbest: 0.6082088 (400)\ttotal: 2s\tremaining: 7.98s\n",
      "500:\tlearn: 0.5332449\ttest: 0.5380102\tbest: 0.5380102 (500)\ttotal: 2.53s\tremaining: 7.58s\n",
      "600:\tlearn: 0.5116825\ttest: 0.5169326\tbest: 0.5169326 (600)\ttotal: 3.07s\tremaining: 7.15s\n",
      "700:\tlearn: 0.5005421\ttest: 0.5076874\tbest: 0.5076874 (700)\ttotal: 3.6s\tremaining: 6.68s\n",
      "800:\tlearn: 0.4930176\ttest: 0.5024288\tbest: 0.5024288 (800)\ttotal: 4.13s\tremaining: 6.19s\n",
      "900:\tlearn: 0.4870737\ttest: 0.4987142\tbest: 0.4987142 (900)\ttotal: 4.67s\tremaining: 5.7s\n",
      "1000:\tlearn: 0.4817086\ttest: 0.4957537\tbest: 0.4957537 (1000)\ttotal: 5.21s\tremaining: 5.2s\n",
      "1100:\tlearn: 0.4772044\ttest: 0.4937947\tbest: 0.4937947 (1100)\ttotal: 5.74s\tremaining: 4.69s\n",
      "1200:\tlearn: 0.4728673\ttest: 0.4921514\tbest: 0.4921514 (1200)\ttotal: 6.28s\tremaining: 4.18s\n",
      "1300:\tlearn: 0.4688233\ttest: 0.4907720\tbest: 0.4907720 (1300)\ttotal: 6.84s\tremaining: 3.67s\n",
      "1400:\tlearn: 0.4652336\ttest: 0.4894886\tbest: 0.4894886 (1400)\ttotal: 7.39s\tremaining: 3.16s\n",
      "1500:\tlearn: 0.4618471\ttest: 0.4884159\tbest: 0.4884159 (1500)\ttotal: 7.93s\tremaining: 2.64s\n",
      "1600:\tlearn: 0.4588147\ttest: 0.4874249\tbest: 0.4874099 (1598)\ttotal: 8.47s\tremaining: 2.11s\n",
      "1700:\tlearn: 0.4558614\ttest: 0.4864748\tbest: 0.4864748 (1700)\ttotal: 9s\tremaining: 1.58s\n",
      "1800:\tlearn: 0.4531585\ttest: 0.4856322\tbest: 0.4856307 (1799)\ttotal: 9.54s\tremaining: 1.05s\n",
      "1900:\tlearn: 0.4506319\ttest: 0.4848858\tbest: 0.4848751 (1899)\ttotal: 10.1s\tremaining: 525ms\n",
      "1999:\tlearn: 0.4480091\ttest: 0.4840855\tbest: 0.4840855 (1999)\ttotal: 10.6s\tremaining: 0us\n",
      "\n",
      "bestTest = 0.4840854845\n",
      "bestIteration = 1999\n",
      "\n"
     ]
    },
    {
     "data": {
      "text/plain": [
       "<catboost.core.CatBoostRegressor at 0x15dfc71d9d0>"
      ]
     },
     "execution_count": 20,
     "metadata": {},
     "output_type": "execute_result"
    }
   ],
   "source": [
    "# 모델 훈련\n",
    "model.fit(x_train, y_train, eval_set=(x_test, y_test), early_stopping_rounds=50, verbose=100)"
   ]
  },
  {
   "cell_type": "markdown",
   "id": "28df376f",
   "metadata": {},
   "source": [
    "---"
   ]
  },
  {
   "cell_type": "code",
   "execution_count": 22,
   "id": "bc3ba903",
   "metadata": {
    "ExecuteTime": {
     "end_time": "2023-12-22T03:02:42.314755Z",
     "start_time": "2023-12-22T03:02:42.268890Z"
    }
   },
   "outputs": [],
   "source": [
    "sub_file = pd.read_csv(\"../data/original/sample_submission.csv\")"
   ]
  },
  {
   "cell_type": "code",
   "execution_count": 23,
   "id": "5e11b192",
   "metadata": {
    "ExecuteTime": {
     "end_time": "2023-12-22T03:02:42.984559Z",
     "start_time": "2023-12-22T03:02:42.963542Z"
    }
   },
   "outputs": [],
   "source": [
    "df = scaler.transform(df.drop(columns='일시', axis=1))"
   ]
  },
  {
   "cell_type": "code",
   "execution_count": 24,
   "id": "085dd22f",
   "metadata": {
    "ExecuteTime": {
     "end_time": "2023-12-22T03:02:44.317297Z",
     "start_time": "2023-12-22T03:02:44.287120Z"
    }
   },
   "outputs": [],
   "source": [
    "sub_file['평균기온'] = model.predict(df)"
   ]
  },
  {
   "cell_type": "code",
   "execution_count": 25,
   "id": "2b43afc2",
   "metadata": {
    "ExecuteTime": {
     "end_time": "2023-12-22T03:02:45.706915Z",
     "start_time": "2023-12-22T03:02:45.418113Z"
    }
   },
   "outputs": [
    {
     "data": {
      "text/plain": [
       "<AxesSubplot:>"
      ]
     },
     "execution_count": 25,
     "metadata": {},
     "output_type": "execute_result"
    },
    {
     "data": {
      "image/png": "[encoded data removed]",
      "text/plain": [
       "<Figure size 432x288 with 1 Axes>"
      ]
     },
     "metadata": {
      "image/png": {
       "height": 249,
       "width": 367
      },
      "needs_background": "light"
     },
     "output_type": "display_data"
    }
   ],
   "source": [
    "sub_file['평균기온'].plot()"
   ]
  },
  {
   "cell_type": "code",
   "execution_count": 26,
   "id": "5c38456a",
   "metadata": {
    "ExecuteTime": {
     "end_time": "2023-12-22T03:02:56.118675Z",
     "start_time": "2023-12-22T03:02:56.088874Z"
    }
   },
   "outputs": [],
   "source": [
    "sub_file.to_csv(\"../data/sub/027_df_catboost_001.csv\",\n",
    "                index=False, encoding='utf-8')"
   ]
  },
  {
   "cell_type": "markdown",
   "id": "c08ef8e6",
   "metadata": {},
   "source": [
    "---"
   ]
  },
  {
   "cell_type": "code",
   "execution_count": 28,
   "id": "96156456",
   "metadata": {
    "ExecuteTime": {
     "end_time": "2023-12-22T03:03:11.926628Z",
     "start_time": "2023-12-22T03:03:11.920269Z"
    }
   },
   "outputs": [],
   "source": [
    "import joblib"
   ]
  },
  {
   "cell_type": "code",
   "execution_count": 29,
   "id": "cf902769",
   "metadata": {
    "ExecuteTime": {
     "end_time": "2023-12-22T03:03:12.082972Z",
     "start_time": "2023-12-22T03:03:12.048831Z"
    }
   },
   "outputs": [
    {
     "data": {
      "text/plain": [
       "['../model/catboost_001.pkl']"
      ]
     },
     "execution_count": 29,
     "metadata": {},
     "output_type": "execute_result"
    }
   ],
   "source": [
    "joblib.dump(model, '../model/catboost_001.pkl')"
   ]
  },
  {
   "cell_type": "code",
   "execution_count": 30,
   "id": "bed4400d",
   "metadata": {
    "ExecuteTime": {
     "end_time": "2023-12-22T03:03:16.486107Z",
     "start_time": "2023-12-22T03:03:16.456824Z"
    }
   },
   "outputs": [],
   "source": [
    "loaded_model = joblib.load('../model/catboost_001.pkl')"
   ]
  }
 ],
 "metadata": {
  "hide_input": false,
  "kernelspec": {
   "display_name": "Python 3 (ipykernel)",
   "language": "python",
   "name": "python3"
  },
  "language_info": {
   "codemirror_mode": {
    "name": "ipython",
    "version": 3
   },
   "file_extension": ".py",
   "mimetype": "text/x-python",
   "name": "python",
   "nbconvert_exporter": "python",
   "pygments_lexer": "ipython3",
   "version": "3.9.12"
  },
  "toc": {
   "base_numbering": 1,
   "nav_menu": {},
   "number_sections": true,
   "sideBar": true,
   "skip_h1_title": false,
   "title_cell": "Table of Contents",
   "title_sidebar": "Contents",
   "toc_cell": false,
   "toc_position": {},
   "toc_section_display": true,
   "toc_window_display": false
  },
  "varInspector": {
   "cols": {
    "lenName": 16,
    "lenType": 16,
    "lenVar": 40
   },
   "kernels_config": {
    "python": {
     "delete_cmd_postfix": "",
     "delete_cmd_prefix": "del ",
     "library": "var_list.py",
     "varRefreshCmd": "print(var_dic_list())"
    },
    "r": {
     "delete_cmd_postfix": ") ",
     "delete_cmd_prefix": "rm(",
     "library": "var_list.r",
     "varRefreshCmd": "cat(var_dic_list()) "
    }
   },
   "types_to_exclude": [
    "module",
    "function",
    "builtin_function_or_method",
    "instance",
    "_Feature"
   ],
   "window_display": false
  }
 },
 "nbformat": 4,
 "nbformat_minor": 5
}
