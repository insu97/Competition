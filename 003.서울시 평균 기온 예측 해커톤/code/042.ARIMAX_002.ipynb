{
 "cells": [
  {
   "cell_type": "code",
   "execution_count": 11,
   "id": "1f45094b",
   "metadata": {
    "ExecuteTime": {
     "end_time": "2023-12-28T07:23:44.581576Z",
     "start_time": "2023-12-28T07:23:44.447421Z"
    }
   },
   "outputs": [],
   "source": [
    "import random\n",
    "import os\n",
    "import numpy as np\n",
    "import matplotlib.pyplot as plt\n",
    "import pandas as pd\n",
    "import warnings\n",
    "warnings.filterwarnings('ignore')\n",
    "\n",
    "\n",
    "plt.rc('font', family='Malgun Gothic')  # 폰트 지정\n",
    "plt.rc('axes', unicode_minus=False)  # 마이너스 폰트 설정\n",
    "%config InlineBackend.figure_format = 'retina'  # 그래프 글씨 뚜렷\n",
    "\n",
    "\n",
    "def seed_everything(seed):\n",
    "    random.seed(seed)\n",
    "    os.environ['PYTHONHASHSEED'] = str(seed)\n",
    "    np.random.seed(seed)\n",
    "\n",
    "\n",
    "seed_everything(42)\n",
    "\n",
    "df_train = pd.read_csv(\"../data/preprocessed/df_train001.csv\")\n",
    "df = pd.read_csv(\"../data/preprocessed/df.csv\")"
   ]
  },
  {
   "cell_type": "markdown",
   "id": "6b28ac3b",
   "metadata": {},
   "source": [
    "---"
   ]
  },
  {
   "cell_type": "code",
   "execution_count": 12,
   "id": "e62ad25b",
   "metadata": {
    "ExecuteTime": {
     "end_time": "2023-12-28T07:23:45.157788Z",
     "start_time": "2023-12-28T07:23:45.121768Z"
    }
   },
   "outputs": [
    {
     "data": {
      "text/html": [
       "<div>\n",
       "<style scoped>\n",
       "    .dataframe tbody tr th:only-of-type {\n",
       "        vertical-align: middle;\n",
       "    }\n",
       "\n",
       "    .dataframe tbody tr th {\n",
       "        vertical-align: top;\n",
       "    }\n",
       "\n",
       "    .dataframe thead th {\n",
       "        text-align: right;\n",
       "    }\n",
       "</style>\n",
       "<table border=\"1\" class=\"dataframe\">\n",
       "  <thead>\n",
       "    <tr style=\"text-align: right;\">\n",
       "      <th></th>\n",
       "      <th>일시</th>\n",
       "      <th>최고기온</th>\n",
       "      <th>최저기온</th>\n",
       "      <th>일교차</th>\n",
       "      <th>강수량</th>\n",
       "      <th>평균습도</th>\n",
       "      <th>평균풍속</th>\n",
       "      <th>일조합</th>\n",
       "      <th>일사합</th>\n",
       "      <th>일조율</th>\n",
       "      <th>평균기온</th>\n",
       "    </tr>\n",
       "  </thead>\n",
       "  <tbody>\n",
       "    <tr>\n",
       "      <th>0</th>\n",
       "      <td>1960-01-01</td>\n",
       "      <td>2.2</td>\n",
       "      <td>-5.2</td>\n",
       "      <td>7.4</td>\n",
       "      <td>0.0</td>\n",
       "      <td>68.3</td>\n",
       "      <td>1.7</td>\n",
       "      <td>6.7</td>\n",
       "      <td>11.933</td>\n",
       "      <td>48.699342</td>\n",
       "      <td>-1.6</td>\n",
       "    </tr>\n",
       "    <tr>\n",
       "      <th>1</th>\n",
       "      <td>1960-01-02</td>\n",
       "      <td>1.2</td>\n",
       "      <td>-5.6</td>\n",
       "      <td>6.8</td>\n",
       "      <td>0.4</td>\n",
       "      <td>87.7</td>\n",
       "      <td>1.3</td>\n",
       "      <td>0.0</td>\n",
       "      <td>11.933</td>\n",
       "      <td>48.699342</td>\n",
       "      <td>-1.9</td>\n",
       "    </tr>\n",
       "    <tr>\n",
       "      <th>2</th>\n",
       "      <td>1960-01-03</td>\n",
       "      <td>8.7</td>\n",
       "      <td>-2.1</td>\n",
       "      <td>10.8</td>\n",
       "      <td>0.0</td>\n",
       "      <td>81.3</td>\n",
       "      <td>3.0</td>\n",
       "      <td>0.0</td>\n",
       "      <td>11.933</td>\n",
       "      <td>48.699342</td>\n",
       "      <td>4.0</td>\n",
       "    </tr>\n",
       "    <tr>\n",
       "      <th>3</th>\n",
       "      <td>1960-01-04</td>\n",
       "      <td>10.8</td>\n",
       "      <td>1.2</td>\n",
       "      <td>9.6</td>\n",
       "      <td>0.0</td>\n",
       "      <td>79.7</td>\n",
       "      <td>4.4</td>\n",
       "      <td>2.6</td>\n",
       "      <td>11.933</td>\n",
       "      <td>48.699342</td>\n",
       "      <td>7.5</td>\n",
       "    </tr>\n",
       "    <tr>\n",
       "      <th>4</th>\n",
       "      <td>1960-01-05</td>\n",
       "      <td>1.3</td>\n",
       "      <td>-8.2</td>\n",
       "      <td>9.5</td>\n",
       "      <td>0.0</td>\n",
       "      <td>44.0</td>\n",
       "      <td>5.1</td>\n",
       "      <td>8.2</td>\n",
       "      <td>11.933</td>\n",
       "      <td>48.699342</td>\n",
       "      <td>-4.6</td>\n",
       "    </tr>\n",
       "  </tbody>\n",
       "</table>\n",
       "</div>"
      ],
      "text/plain": [
       "           일시  최고기온  최저기온   일교차  강수량  평균습도  평균풍속  일조합     일사합        일조율  평균기온\n",
       "0  1960-01-01   2.2  -5.2   7.4  0.0  68.3   1.7  6.7  11.933  48.699342  -1.6\n",
       "1  1960-01-02   1.2  -5.6   6.8  0.4  87.7   1.3  0.0  11.933  48.699342  -1.9\n",
       "2  1960-01-03   8.7  -2.1  10.8  0.0  81.3   3.0  0.0  11.933  48.699342   4.0\n",
       "3  1960-01-04  10.8   1.2   9.6  0.0  79.7   4.4  2.6  11.933  48.699342   7.5\n",
       "4  1960-01-05   1.3  -8.2   9.5  0.0  44.0   5.1  8.2  11.933  48.699342  -4.6"
      ]
     },
     "execution_count": 12,
     "metadata": {},
     "output_type": "execute_result"
    }
   ],
   "source": [
    "df_train.head()"
   ]
  },
  {
   "cell_type": "code",
   "execution_count": 13,
   "id": "1b258a06",
   "metadata": {
    "ExecuteTime": {
     "end_time": "2023-12-28T07:23:45.736354Z",
     "start_time": "2023-12-28T07:23:45.483448Z"
    }
   },
   "outputs": [],
   "source": [
    "df_train['년'] = np.float64(df_train['일시'].str.split('-', expand=True)[0])\n",
    "df_train['월'] = np.float64(df_train['일시'].str.split('-', expand=True)[1])\n",
    "df_train['일'] = np.float64(df_train['일시'].str.split('-', expand=True)[2])"
   ]
  },
  {
   "cell_type": "code",
   "execution_count": 14,
   "id": "150d90dc",
   "metadata": {
    "ExecuteTime": {
     "end_time": "2023-12-28T07:23:46.363477Z",
     "start_time": "2023-12-28T07:23:46.345467Z"
    }
   },
   "outputs": [],
   "source": [
    "df['년'] = np.float64(df['일시'].str.split('-', expand=True)[0])\n",
    "df['월'] = np.float64(df['일시'].str.split('-', expand=True)[1])\n",
    "df['일'] = np.float64(df['일시'].str.split('-', expand=True)[2])"
   ]
  },
  {
   "cell_type": "code",
   "execution_count": 15,
   "id": "2fc1b5c6",
   "metadata": {
    "ExecuteTime": {
     "end_time": "2023-12-28T07:23:46.521677Z",
     "start_time": "2023-12-28T07:23:46.512694Z"
    }
   },
   "outputs": [],
   "source": [
    "from sklearn.preprocessing import StandardScaler"
   ]
  },
  {
   "cell_type": "code",
   "execution_count": 16,
   "id": "2c806ea8",
   "metadata": {
    "ExecuteTime": {
     "end_time": "2023-12-28T07:23:46.663842Z",
     "start_time": "2023-12-28T07:23:46.647861Z"
    }
   },
   "outputs": [],
   "source": [
    "scaler = StandardScaler()"
   ]
  },
  {
   "cell_type": "code",
   "execution_count": 17,
   "id": "81717947",
   "metadata": {
    "ExecuteTime": {
     "end_time": "2023-12-28T07:23:46.821575Z",
     "start_time": "2023-12-28T07:23:46.803595Z"
    }
   },
   "outputs": [],
   "source": [
    "X = df_train.drop(columns=['일시','평균기온'], axis=1)\n",
    "y = df_train['평균기온']"
   ]
  },
  {
   "cell_type": "code",
   "execution_count": 18,
   "id": "6d8b278d",
   "metadata": {
    "ExecuteTime": {
     "end_time": "2023-12-28T07:23:48.490290Z",
     "start_time": "2023-12-28T07:23:48.443473Z"
    }
   },
   "outputs": [],
   "source": [
    "X = scaler.fit_transform(X)"
   ]
  },
  {
   "cell_type": "markdown",
   "id": "5ee2bf28",
   "metadata": {},
   "source": [
    "---"
   ]
  },
  {
   "cell_type": "code",
   "execution_count": 19,
   "id": "4d94ba8b",
   "metadata": {
    "ExecuteTime": {
     "end_time": "2023-12-28T07:23:51.174166Z",
     "start_time": "2023-12-28T07:23:51.157539Z"
    }
   },
   "outputs": [],
   "source": [
    "import statsmodels.api as sm"
   ]
  },
  {
   "cell_type": "code",
   "execution_count": 69,
   "id": "f7225092",
   "metadata": {
    "ExecuteTime": {
     "end_time": "2023-12-28T07:52:33.481016Z",
     "start_time": "2023-12-28T07:52:33.472085Z"
    }
   },
   "outputs": [],
   "source": [
    "# ARIMAX 모델 생성\n",
    "order = (1,2,1)  # ARIMA(p, d, q)의 각각의 차수를 지정"
   ]
  },
  {
   "cell_type": "code",
   "execution_count": 70,
   "id": "48b48abe",
   "metadata": {
    "ExecuteTime": {
     "end_time": "2023-12-28T07:52:33.668209Z",
     "start_time": "2023-12-28T07:52:33.613401Z"
    }
   },
   "outputs": [],
   "source": [
    "model = sm.tsa.ARIMA(endog=y, order=order, exog=X)"
   ]
  },
  {
   "cell_type": "code",
   "execution_count": 71,
   "id": "f15dfae2",
   "metadata": {
    "ExecuteTime": {
     "end_time": "2023-12-28T07:52:54.942363Z",
     "start_time": "2023-12-28T07:52:33.764108Z"
    }
   },
   "outputs": [],
   "source": [
    "# 모델 피팅\n",
    "results = model.fit()"
   ]
  },
  {
   "cell_type": "markdown",
   "id": "44154950",
   "metadata": {},
   "source": [
    "---"
   ]
  },
  {
   "cell_type": "code",
   "execution_count": 72,
   "id": "bd4feb71",
   "metadata": {
    "ExecuteTime": {
     "end_time": "2023-12-28T07:52:55.055299Z",
     "start_time": "2023-12-28T07:52:55.040084Z"
    }
   },
   "outputs": [],
   "source": [
    "sub_file = pd.read_csv(\"../data/original/sample_submission.csv\")"
   ]
  },
  {
   "cell_type": "code",
   "execution_count": 73,
   "id": "c2bd773a",
   "metadata": {
    "ExecuteTime": {
     "end_time": "2023-12-28T07:52:55.164281Z",
     "start_time": "2023-12-28T07:52:55.152322Z"
    }
   },
   "outputs": [
    {
     "data": {
      "text/plain": [
       "358"
      ]
     },
     "execution_count": 73,
     "metadata": {},
     "output_type": "execute_result"
    }
   ],
   "source": [
    "len(sub_file)"
   ]
  },
  {
   "cell_type": "code",
   "execution_count": 74,
   "id": "38f28868",
   "metadata": {
    "ExecuteTime": {
     "end_time": "2023-12-28T07:52:55.274526Z",
     "start_time": "2023-12-28T07:52:55.260864Z"
    }
   },
   "outputs": [],
   "source": [
    "# 예측\n",
    "forecast_steps = 358  # 예측할 스텝 수를 지정\n",
    "forecast = results.get_forecast(steps=forecast_steps, exog=X[-forecast_steps:])"
   ]
  },
  {
   "cell_type": "code",
   "execution_count": 75,
   "id": "05ea0e00",
   "metadata": {
    "ExecuteTime": {
     "end_time": "2023-12-28T07:52:55.383135Z",
     "start_time": "2023-12-28T07:52:55.369186Z"
    }
   },
   "outputs": [],
   "source": [
    "sub_file['평균기온'] = forecast.predicted_mean.values"
   ]
  },
  {
   "cell_type": "code",
   "execution_count": 76,
   "id": "6851ae66",
   "metadata": {
    "ExecuteTime": {
     "end_time": "2023-12-28T07:52:55.553215Z",
     "start_time": "2023-12-28T07:52:55.477538Z"
    }
   },
   "outputs": [
    {
     "data": {
      "text/plain": [
       "<AxesSubplot:>"
      ]
     },
     "execution_count": 76,
     "metadata": {},
     "output_type": "execute_result"
    },
    {
     "data": {
      "image/png": "[encoded data removed]",
      "text/plain": [
       "<Figure size 432x288 with 1 Axes>"
      ]
     },
     "metadata": {
      "image/png": {
       "height": 249,
       "width": 367
      },
      "needs_background": "light"
     },
     "output_type": "display_data"
    }
   ],
   "source": [
    "sub_file['평균기온'].plot()"
   ]
  },
  {
   "cell_type": "code",
   "execution_count": 77,
   "id": "16938a13",
   "metadata": {
    "ExecuteTime": {
     "end_time": "2023-12-28T07:55:06.521079Z",
     "start_time": "2023-12-28T07:55:06.472187Z"
    }
   },
   "outputs": [],
   "source": [
    "sub_file.to_csv(\"../data/sub/042_df_ARIMAX_002.csv\",\n",
    "                index=False, encoding='utf-8')"
   ]
  },
  {
   "cell_type": "markdown",
   "id": "c3265e7e",
   "metadata": {},
   "source": [
    "---"
   ]
  },
  {
   "cell_type": "code",
   "execution_count": 78,
   "id": "96156456",
   "metadata": {
    "ExecuteTime": {
     "end_time": "2023-12-28T07:55:07.860021Z",
     "start_time": "2023-12-28T07:55:07.847895Z"
    }
   },
   "outputs": [],
   "source": [
    "import joblib"
   ]
  },
  {
   "cell_type": "code",
   "execution_count": 79,
   "id": "cf902769",
   "metadata": {
    "ExecuteTime": {
     "end_time": "2023-12-28T07:55:10.979387Z",
     "start_time": "2023-12-28T07:55:10.882094Z"
    }
   },
   "outputs": [
    {
     "data": {
      "text/plain": [
       "['../model/ARIMAX_002.pkl']"
      ]
     },
     "execution_count": 79,
     "metadata": {},
     "output_type": "execute_result"
    }
   ],
   "source": [
    "joblib.dump(model, '../model/ARIMAX_002.pkl')"
   ]
  },
  {
   "cell_type": "code",
   "execution_count": 80,
   "id": "bed4400d",
   "metadata": {
    "ExecuteTime": {
     "end_time": "2023-12-28T07:55:13.472503Z",
     "start_time": "2023-12-28T07:55:13.379921Z"
    }
   },
   "outputs": [],
   "source": [
    "loaded_model = joblib.load('../model/ARIMAX_002.pkl')"
   ]
  }
 ],
 "metadata": {
  "hide_input": false,
  "kernelspec": {
   "display_name": "Python 3 (ipykernel)",
   "language": "python",
   "name": "python3"
  },
  "language_info": {
   "codemirror_mode": {
    "name": "ipython",
    "version": 3
   },
   "file_extension": ".py",
   "mimetype": "text/x-python",
   "name": "python",
   "nbconvert_exporter": "python",
   "pygments_lexer": "ipython3",
   "version": "3.9.12"
  },
  "toc": {
   "base_numbering": 1,
   "nav_menu": {},
   "number_sections": true,
   "sideBar": true,
   "skip_h1_title": false,
   "title_cell": "Table of Contents",
   "title_sidebar": "Contents",
   "toc_cell": false,
   "toc_position": {},
   "toc_section_display": true,
   "toc_window_display": false
  },
  "varInspector": {
   "cols": {
    "lenName": 16,
    "lenType": 16,
    "lenVar": 40
   },
   "kernels_config": {
    "python": {
     "delete_cmd_postfix": "",
     "delete_cmd_prefix": "del ",
     "library": "var_list.py",
     "varRefreshCmd": "print(var_dic_list())"
    },
    "r": {
     "delete_cmd_postfix": ") ",
     "delete_cmd_prefix": "rm(",
     "library": "var_list.r",
     "varRefreshCmd": "cat(var_dic_list()) "
    }
   },
   "types_to_exclude": [
    "module",
    "function",
    "builtin_function_or_method",
    "instance",
    "_Feature"
   ],
   "window_display": false
  }
 },
 "nbformat": 4,
 "nbformat_minor": 5
}
