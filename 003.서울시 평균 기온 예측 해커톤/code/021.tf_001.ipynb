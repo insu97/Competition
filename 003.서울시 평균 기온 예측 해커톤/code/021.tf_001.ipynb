{
 "cells": [
  {
   "cell_type": "code",
   "execution_count": 131,
   "id": "1f45094b",
   "metadata": {
    "ExecuteTime": {
     "end_time": "2023-12-19T01:55:58.380343Z",
     "start_time": "2023-12-19T01:55:58.328766Z"
    }
   },
   "outputs": [],
   "source": [
    "import random\n",
    "import os\n",
    "import numpy as np\n",
    "import matplotlib.pyplot as plt\n",
    "import pandas as pd\n",
    "import warnings\n",
    "warnings.filterwarnings('ignore')\n",
    "\n",
    "\n",
    "plt.rc('font', family='Malgun Gothic')  # 폰트 지정\n",
    "plt.rc('axes', unicode_minus=False)  # 마이너스 폰트 설정\n",
    "%config InlineBackend.figure_format = 'retina'  # 그래프 글씨 뚜렷\n",
    "\n",
    "\n",
    "def seed_everything(seed):\n",
    "    random.seed(seed)\n",
    "    os.environ['PYTHONHASHSEED'] = str(seed)\n",
    "    np.random.seed(seed)\n",
    "\n",
    "\n",
    "seed_everything(42)\n",
    "\n",
    "df_train = pd.read_csv(\"../data/preprocessed/df_train001.csv\")\n",
    "df = pd.read_csv(\"../data/preprocessed/df.csv\")"
   ]
  },
  {
   "cell_type": "markdown",
   "id": "5ba3db1b",
   "metadata": {},
   "source": [
    "---"
   ]
  },
  {
   "cell_type": "code",
   "execution_count": 132,
   "id": "6d5b33ba",
   "metadata": {
    "ExecuteTime": {
     "end_time": "2023-12-19T01:55:58.613817Z",
     "start_time": "2023-12-19T01:55:58.590661Z"
    }
   },
   "outputs": [
    {
     "data": {
      "text/html": [
       "<div>\n",
       "<style scoped>\n",
       "    .dataframe tbody tr th:only-of-type {\n",
       "        vertical-align: middle;\n",
       "    }\n",
       "\n",
       "    .dataframe tbody tr th {\n",
       "        vertical-align: top;\n",
       "    }\n",
       "\n",
       "    .dataframe thead th {\n",
       "        text-align: right;\n",
       "    }\n",
       "</style>\n",
       "<table border=\"1\" class=\"dataframe\">\n",
       "  <thead>\n",
       "    <tr style=\"text-align: right;\">\n",
       "      <th></th>\n",
       "      <th>일시</th>\n",
       "      <th>최고기온</th>\n",
       "      <th>최저기온</th>\n",
       "      <th>일교차</th>\n",
       "      <th>강수량</th>\n",
       "      <th>평균습도</th>\n",
       "      <th>평균풍속</th>\n",
       "      <th>일조합</th>\n",
       "      <th>일사합</th>\n",
       "      <th>일조율</th>\n",
       "      <th>평균기온</th>\n",
       "    </tr>\n",
       "  </thead>\n",
       "  <tbody>\n",
       "    <tr>\n",
       "      <th>0</th>\n",
       "      <td>1960-01-01</td>\n",
       "      <td>2.2</td>\n",
       "      <td>-5.2</td>\n",
       "      <td>7.4</td>\n",
       "      <td>0.0</td>\n",
       "      <td>68.3</td>\n",
       "      <td>1.7</td>\n",
       "      <td>6.7</td>\n",
       "      <td>11.933</td>\n",
       "      <td>48.699342</td>\n",
       "      <td>-1.6</td>\n",
       "    </tr>\n",
       "    <tr>\n",
       "      <th>1</th>\n",
       "      <td>1960-01-02</td>\n",
       "      <td>1.2</td>\n",
       "      <td>-5.6</td>\n",
       "      <td>6.8</td>\n",
       "      <td>0.4</td>\n",
       "      <td>87.7</td>\n",
       "      <td>1.3</td>\n",
       "      <td>0.0</td>\n",
       "      <td>11.933</td>\n",
       "      <td>48.699342</td>\n",
       "      <td>-1.9</td>\n",
       "    </tr>\n",
       "    <tr>\n",
       "      <th>2</th>\n",
       "      <td>1960-01-03</td>\n",
       "      <td>8.7</td>\n",
       "      <td>-2.1</td>\n",
       "      <td>10.8</td>\n",
       "      <td>0.0</td>\n",
       "      <td>81.3</td>\n",
       "      <td>3.0</td>\n",
       "      <td>0.0</td>\n",
       "      <td>11.933</td>\n",
       "      <td>48.699342</td>\n",
       "      <td>4.0</td>\n",
       "    </tr>\n",
       "    <tr>\n",
       "      <th>3</th>\n",
       "      <td>1960-01-04</td>\n",
       "      <td>10.8</td>\n",
       "      <td>1.2</td>\n",
       "      <td>9.6</td>\n",
       "      <td>0.0</td>\n",
       "      <td>79.7</td>\n",
       "      <td>4.4</td>\n",
       "      <td>2.6</td>\n",
       "      <td>11.933</td>\n",
       "      <td>48.699342</td>\n",
       "      <td>7.5</td>\n",
       "    </tr>\n",
       "    <tr>\n",
       "      <th>4</th>\n",
       "      <td>1960-01-05</td>\n",
       "      <td>1.3</td>\n",
       "      <td>-8.2</td>\n",
       "      <td>9.5</td>\n",
       "      <td>0.0</td>\n",
       "      <td>44.0</td>\n",
       "      <td>5.1</td>\n",
       "      <td>8.2</td>\n",
       "      <td>11.933</td>\n",
       "      <td>48.699342</td>\n",
       "      <td>-4.6</td>\n",
       "    </tr>\n",
       "  </tbody>\n",
       "</table>\n",
       "</div>"
      ],
      "text/plain": [
       "           일시  최고기온  최저기온   일교차  강수량  평균습도  평균풍속  일조합     일사합        일조율  평균기온\n",
       "0  1960-01-01   2.2  -5.2   7.4  0.0  68.3   1.7  6.7  11.933  48.699342  -1.6\n",
       "1  1960-01-02   1.2  -5.6   6.8  0.4  87.7   1.3  0.0  11.933  48.699342  -1.9\n",
       "2  1960-01-03   8.7  -2.1  10.8  0.0  81.3   3.0  0.0  11.933  48.699342   4.0\n",
       "3  1960-01-04  10.8   1.2   9.6  0.0  79.7   4.4  2.6  11.933  48.699342   7.5\n",
       "4  1960-01-05   1.3  -8.2   9.5  0.0  44.0   5.1  8.2  11.933  48.699342  -4.6"
      ]
     },
     "execution_count": 132,
     "metadata": {},
     "output_type": "execute_result"
    }
   ],
   "source": [
    "df_train.head()"
   ]
  },
  {
   "cell_type": "code",
   "execution_count": 133,
   "id": "07934572",
   "metadata": {
    "ExecuteTime": {
     "end_time": "2023-12-19T01:56:06.444972Z",
     "start_time": "2023-12-19T01:56:06.432648Z"
    }
   },
   "outputs": [],
   "source": [
    "X = df_train.drop(columns=['일시','평균기온'], axis=1)\n",
    "y = df_train['평균기온']"
   ]
  },
  {
   "cell_type": "code",
   "execution_count": 134,
   "id": "230cff1e",
   "metadata": {
    "ExecuteTime": {
     "end_time": "2023-12-19T01:56:08.032175Z",
     "start_time": "2023-12-19T01:56:08.016207Z"
    }
   },
   "outputs": [],
   "source": [
    "from sklearn.preprocessing import StandardScaler"
   ]
  },
  {
   "cell_type": "code",
   "execution_count": 135,
   "id": "10cbf307",
   "metadata": {
    "ExecuteTime": {
     "end_time": "2023-12-19T01:56:15.898965Z",
     "start_time": "2023-12-19T01:56:15.893437Z"
    }
   },
   "outputs": [],
   "source": [
    "scaler = StandardScaler()"
   ]
  },
  {
   "cell_type": "code",
   "execution_count": 137,
   "id": "39a1647e",
   "metadata": {
    "ExecuteTime": {
     "end_time": "2023-12-19T01:56:28.663264Z",
     "start_time": "2023-12-19T01:56:28.645187Z"
    }
   },
   "outputs": [],
   "source": [
    "X = scaler.fit_transform(X)"
   ]
  },
  {
   "cell_type": "code",
   "execution_count": 138,
   "id": "522b031c",
   "metadata": {
    "ExecuteTime": {
     "end_time": "2023-12-19T01:56:30.142201Z",
     "start_time": "2023-12-19T01:56:30.135990Z"
    }
   },
   "outputs": [],
   "source": [
    "from sklearn.model_selection import train_test_split"
   ]
  },
  {
   "cell_type": "code",
   "execution_count": 139,
   "id": "ad3e8ecc",
   "metadata": {
    "ExecuteTime": {
     "end_time": "2023-12-19T01:56:31.822046Z",
     "start_time": "2023-12-19T01:56:31.799225Z"
    }
   },
   "outputs": [],
   "source": [
    "x_train, x_test, y_train , y_test = train_test_split(X, y, test_size = 0.3, random_state=42 )"
   ]
  },
  {
   "cell_type": "code",
   "execution_count": 140,
   "id": "806715de",
   "metadata": {
    "ExecuteTime": {
     "end_time": "2023-12-19T01:56:32.319601Z",
     "start_time": "2023-12-19T01:56:32.314131Z"
    }
   },
   "outputs": [
    {
     "data": {
      "text/plain": [
       "(23011, 9)"
      ]
     },
     "execution_count": 140,
     "metadata": {},
     "output_type": "execute_result"
    }
   ],
   "source": [
    "X.shape"
   ]
  },
  {
   "cell_type": "markdown",
   "id": "fe64684b",
   "metadata": {},
   "source": [
    "---"
   ]
  },
  {
   "cell_type": "code",
   "execution_count": 154,
   "id": "fa634152",
   "metadata": {
    "ExecuteTime": {
     "end_time": "2023-12-19T01:58:47.219606Z",
     "start_time": "2023-12-19T01:58:47.200397Z"
    }
   },
   "outputs": [],
   "source": [
    "import tensorflow as tf"
   ]
  },
  {
   "cell_type": "code",
   "execution_count": 155,
   "id": "e16c64b8",
   "metadata": {
    "ExecuteTime": {
     "end_time": "2023-12-19T01:58:47.360021Z",
     "start_time": "2023-12-19T01:58:47.337072Z"
    }
   },
   "outputs": [],
   "source": [
    "model = tf.keras.Sequential([\n",
    "    tf.keras.layers.Dense(10),\n",
    "    tf.keras.layers.BatchNormalization(),\n",
    "    tf.keras.layers.LeakyReLU(alpha=0.2),\n",
    "    tf.keras.layers.Dense(1)\n",
    "])"
   ]
  },
  {
   "cell_type": "code",
   "execution_count": 156,
   "id": "0180e94d",
   "metadata": {
    "ExecuteTime": {
     "end_time": "2023-12-19T01:58:47.485170Z",
     "start_time": "2023-12-19T01:58:47.470199Z"
    }
   },
   "outputs": [],
   "source": [
    "model.compile(optimizer = tf.keras.optimizers.Adam(learning_rate=0.001), loss='huber', metrics=['mse'])"
   ]
  },
  {
   "cell_type": "code",
   "execution_count": 157,
   "id": "696336e7",
   "metadata": {
    "ExecuteTime": {
     "end_time": "2023-12-19T01:58:47.609732Z",
     "start_time": "2023-12-19T01:58:47.597257Z"
    }
   },
   "outputs": [],
   "source": [
    "from keras.callbacks import EarlyStopping\n",
    "\n",
    "early_stopping = EarlyStopping(monitor='loss', patience=2)"
   ]
  },
  {
   "cell_type": "code",
   "execution_count": 158,
   "id": "f3ea0405",
   "metadata": {
    "ExecuteTime": {
     "end_time": "2023-12-19T01:58:55.819830Z",
     "start_time": "2023-12-19T01:58:48.149985Z"
    }
   },
   "outputs": [
    {
     "name": "stdout",
     "output_type": "stream",
     "text": [
      "Epoch 1/20\n",
      "504/504 [==============================] - 1s 2ms/step - loss: 9.4706 - mse: 146.2143 - val_loss: 4.2496 - val_mse: 27.9468\n",
      "Epoch 2/20\n",
      "504/504 [==============================] - 1s 2ms/step - loss: 1.9517 - mse: 9.4111 - val_loss: 0.6466 - val_mse: 1.8945\n",
      "Epoch 3/20\n",
      "504/504 [==============================] - 1s 2ms/step - loss: 1.3856 - mse: 5.3427 - val_loss: 0.4691 - val_mse: 1.2291\n",
      "Epoch 4/20\n",
      "504/504 [==============================] - 1s 2ms/step - loss: 1.3349 - mse: 4.9940 - val_loss: 0.3998 - val_mse: 0.9914\n",
      "Epoch 5/20\n",
      "504/504 [==============================] - 1s 2ms/step - loss: 1.2667 - mse: 4.5324 - val_loss: 0.3533 - val_mse: 0.8443\n",
      "Epoch 6/20\n",
      "504/504 [==============================] - 1s 2ms/step - loss: 1.1720 - mse: 4.0807 - val_loss: 0.3047 - val_mse: 0.7168\n",
      "Epoch 7/20\n",
      "504/504 [==============================] - 1s 2ms/step - loss: 1.2427 - mse: 4.4701 - val_loss: 0.2875 - val_mse: 0.6724\n",
      "Epoch 8/20\n",
      "504/504 [==============================] - 1s 2ms/step - loss: 1.2939 - mse: 4.7541 - val_loss: 0.2788 - val_mse: 0.6475\n"
     ]
    }
   ],
   "source": [
    "history = model.fit(x_train, y_train, validation_data=(x_test, y_test), epochs=20, callbacks=early_stopping)"
   ]
  },
  {
   "cell_type": "code",
   "execution_count": 159,
   "id": "d0d98108",
   "metadata": {
    "ExecuteTime": {
     "end_time": "2023-12-19T01:59:10.700778Z",
     "start_time": "2023-12-19T01:59:10.545019Z"
    }
   },
   "outputs": [
    {
     "data": {
      "image/png": "[encoded data removed]",
      "text/plain": [
       "<Figure size 864x648 with 1 Axes>"
      ]
     },
     "metadata": {
      "image/png": {
       "height": 535,
       "width": 711
      },
      "needs_background": "light"
     },
     "output_type": "display_data"
    }
   ],
   "source": [
    "plt.figure(figsize=(12, 9))\n",
    "plt.plot(np.arange(1,len(history.history['loss'])+1), history.history['loss'], color='green',linestyle='-')\n",
    "plt.plot(np.arange(1,len(history.history['val_loss'])+1), history.history['val_loss'], color='red',linestyle='-')\n",
    "\n",
    "plt.xlabel('epochs')\n",
    "plt.ylabel('loss')\n",
    "plt.show()"
   ]
  },
  {
   "cell_type": "markdown",
   "id": "a518ca19",
   "metadata": {},
   "source": [
    "---"
   ]
  },
  {
   "cell_type": "code",
   "execution_count": 160,
   "id": "03506040",
   "metadata": {
    "ExecuteTime": {
     "end_time": "2023-12-19T01:59:39.454255Z",
     "start_time": "2023-12-19T01:59:39.434341Z"
    }
   },
   "outputs": [],
   "source": [
    "sub_file = pd.read_csv(\"../data/original/sample_submission.csv\")"
   ]
  },
  {
   "cell_type": "code",
   "execution_count": 163,
   "id": "47630da7",
   "metadata": {
    "ExecuteTime": {
     "end_time": "2023-12-19T02:00:19.269020Z",
     "start_time": "2023-12-19T02:00:19.251872Z"
    }
   },
   "outputs": [],
   "source": [
    "df_x = scaler.transform(df.drop(columns=['일시'], axis=1))"
   ]
  },
  {
   "cell_type": "code",
   "execution_count": 166,
   "id": "e0228979",
   "metadata": {
    "ExecuteTime": {
     "end_time": "2023-12-19T02:00:43.168131Z",
     "start_time": "2023-12-19T02:00:43.085619Z"
    }
   },
   "outputs": [
    {
     "name": "stdout",
     "output_type": "stream",
     "text": [
      "12/12 [==============================] - 0s 1ms/step\n"
     ]
    }
   ],
   "source": [
    "sub_file['평균기온'] = model.predict(df_x)"
   ]
  },
  {
   "cell_type": "code",
   "execution_count": 169,
   "id": "e79b9a71",
   "metadata": {
    "ExecuteTime": {
     "end_time": "2023-12-19T02:00:53.002057Z",
     "start_time": "2023-12-19T02:00:52.866155Z"
    }
   },
   "outputs": [
    {
     "data": {
      "text/plain": [
       "<AxesSubplot:>"
      ]
     },
     "execution_count": 169,
     "metadata": {},
     "output_type": "execute_result"
    },
    {
     "data": {
      "image/png": "[encoded data removed]",
      "text/plain": [
       "<Figure size 432x288 with 1 Axes>"
      ]
     },
     "metadata": {
      "image/png": {
       "height": 249,
       "width": 367
      },
      "needs_background": "light"
     },
     "output_type": "display_data"
    }
   ],
   "source": [
    "sub_file['평균기온'].plot()"
   ]
  },
  {
   "cell_type": "code",
   "execution_count": 170,
   "id": "59c8279b",
   "metadata": {
    "ExecuteTime": {
     "end_time": "2023-12-19T02:01:26.111625Z",
     "start_time": "2023-12-19T02:01:26.086744Z"
    }
   },
   "outputs": [],
   "source": [
    "sub_file.to_csv(\"../data/sub/017_df_tf_001.csv\",\n",
    "                index=False, encoding='utf-8')"
   ]
  },
  {
   "cell_type": "markdown",
   "id": "6426c701",
   "metadata": {},
   "source": [
    "---"
   ]
  },
  {
   "cell_type": "code",
   "execution_count": 171,
   "id": "96156456",
   "metadata": {
    "ExecuteTime": {
     "end_time": "2023-12-19T02:01:36.558579Z",
     "start_time": "2023-12-19T02:01:36.551664Z"
    }
   },
   "outputs": [],
   "source": [
    "import joblib"
   ]
  },
  {
   "cell_type": "code",
   "execution_count": 172,
   "id": "cf902769",
   "metadata": {
    "ExecuteTime": {
     "end_time": "2023-12-19T02:01:43.021876Z",
     "start_time": "2023-12-19T02:01:42.891168Z"
    }
   },
   "outputs": [
    {
     "name": "stdout",
     "output_type": "stream",
     "text": [
      "Keras weights file (<HDF5 file \"variables.h5\" (mode r+)>) saving:\n",
      "...layers\\batch_normalization\n",
      "......vars\n",
      ".........0\n",
      ".........1\n",
      ".........2\n",
      ".........3\n",
      "...layers\\dense\n",
      "......vars\n",
      ".........0\n",
      ".........1\n",
      "...layers\\dense_1\n",
      "......vars\n",
      ".........0\n",
      ".........1\n",
      "...layers\\leaky_re_lu\n",
      "......vars\n",
      "...metrics\\mean\n",
      "......vars\n",
      ".........0\n",
      ".........1\n",
      "...metrics\\mean_metric_wrapper\n",
      "......vars\n",
      ".........0\n",
      ".........1\n",
      "...optimizer\n",
      "......vars\n",
      ".........0\n",
      ".........1\n",
      ".........10\n",
      ".........11\n",
      ".........12\n",
      ".........2\n",
      ".........3\n",
      ".........4\n",
      ".........5\n",
      ".........6\n",
      ".........7\n",
      ".........8\n",
      ".........9\n",
      "...vars\n",
      "Keras model archive saving:\n",
      "File Name                                             Modified             Size\n",
      "config.json                                    2023-12-19 11:01:42         2469\n",
      "metadata.json                                  2023-12-19 11:01:42           64\n",
      "variables.h5                                   2023-12-19 11:01:42        25592\n"
     ]
    },
    {
     "data": {
      "text/plain": [
       "['../model/tf_001.pkl']"
      ]
     },
     "execution_count": 172,
     "metadata": {},
     "output_type": "execute_result"
    }
   ],
   "source": [
    "joblib.dump(model, '../model/tf_001.pkl')"
   ]
  },
  {
   "cell_type": "code",
   "execution_count": 173,
   "id": "bed4400d",
   "metadata": {
    "ExecuteTime": {
     "end_time": "2023-12-19T02:01:51.606311Z",
     "start_time": "2023-12-19T02:01:51.496098Z"
    }
   },
   "outputs": [
    {
     "name": "stdout",
     "output_type": "stream",
     "text": [
      "Keras model archive loading:\n",
      "File Name                                             Modified             Size\n",
      "config.json                                    2023-12-19 11:01:42         2469\n",
      "metadata.json                                  2023-12-19 11:01:42           64\n",
      "variables.h5                                   2023-12-19 11:01:42        25592\n",
      "Keras weights file (<HDF5 file \"variables.h5\" (mode r)>) loading:\n",
      "...layers\\batch_normalization\n",
      "......vars\n",
      ".........0\n",
      ".........1\n",
      ".........2\n",
      ".........3\n",
      "...layers\\dense\n",
      "......vars\n",
      ".........0\n",
      ".........1\n",
      "...layers\\dense_1\n",
      "......vars\n",
      ".........0\n",
      ".........1\n",
      "...layers\\leaky_re_lu\n",
      "......vars\n",
      "...metrics\\mean\n",
      "......vars\n",
      ".........0\n",
      ".........1\n",
      "...metrics\\mean_metric_wrapper\n",
      "......vars\n",
      ".........0\n",
      ".........1\n",
      "...optimizer\n",
      "......vars\n",
      ".........0\n",
      ".........1\n",
      ".........10\n",
      ".........11\n",
      ".........12\n",
      ".........2\n",
      ".........3\n",
      ".........4\n",
      ".........5\n",
      ".........6\n",
      ".........7\n",
      ".........8\n",
      ".........9\n",
      "...vars\n"
     ]
    }
   ],
   "source": [
    "loaded_model = joblib.load('../model/tf_001.pkl')"
   ]
  }
 ],
 "metadata": {
  "hide_input": false,
  "kernelspec": {
   "display_name": "Python 3 (ipykernel)",
   "language": "python",
   "name": "python3"
  },
  "language_info": {
   "codemirror_mode": {
    "name": "ipython",
    "version": 3
   },
   "file_extension": ".py",
   "mimetype": "text/x-python",
   "name": "python",
   "nbconvert_exporter": "python",
   "pygments_lexer": "ipython3",
   "version": "3.9.12"
  },
  "toc": {
   "base_numbering": 1,
   "nav_menu": {},
   "number_sections": true,
   "sideBar": true,
   "skip_h1_title": false,
   "title_cell": "Table of Contents",
   "title_sidebar": "Contents",
   "toc_cell": false,
   "toc_position": {},
   "toc_section_display": true,
   "toc_window_display": false
  },
  "varInspector": {
   "cols": {
    "lenName": 16,
    "lenType": 16,
    "lenVar": 40
   },
   "kernels_config": {
    "python": {
     "delete_cmd_postfix": "",
     "delete_cmd_prefix": "del ",
     "library": "var_list.py",
     "varRefreshCmd": "print(var_dic_list())"
    },
    "r": {
     "delete_cmd_postfix": ") ",
     "delete_cmd_prefix": "rm(",
     "library": "var_list.r",
     "varRefreshCmd": "cat(var_dic_list()) "
    }
   },
   "types_to_exclude": [
    "module",
    "function",
    "builtin_function_or_method",
    "instance",
    "_Feature"
   ],
   "window_display": false
  }
 },
 "nbformat": 4,
 "nbformat_minor": 5
}
