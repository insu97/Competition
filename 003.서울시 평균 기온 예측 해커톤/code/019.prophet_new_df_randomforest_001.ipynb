{
 "cells": [
  {
   "cell_type": "code",
   "execution_count": 1,
   "id": "1f45094b",
   "metadata": {
    "ExecuteTime": {
     "end_time": "2023-12-18T06:20:23.584249Z",
     "start_time": "2023-12-18T06:20:22.056587Z"
    }
   },
   "outputs": [],
   "source": [
    "import random\n",
    "import os\n",
    "import numpy as np\n",
    "import matplotlib.pyplot as plt\n",
    "import pandas as pd\n",
    "import warnings\n",
    "warnings.filterwarnings('ignore')\n",
    "\n",
    "\n",
    "plt.rc('font', family='Malgun Gothic')  # 폰트 지정\n",
    "plt.rc('axes', unicode_minus=False)  # 마이너스 폰트 설정\n",
    "%config InlineBackend.figure_format = 'retina'  # 그래프 글씨 뚜렷\n",
    "\n",
    "\n",
    "def seed_everything(seed):\n",
    "    random.seed(seed)\n",
    "    os.environ['PYTHONHASHSEED'] = str(seed)\n",
    "    np.random.seed(seed)\n",
    "\n",
    "\n",
    "seed_everything(42)\n",
    "\n",
    "df_train = pd.read_csv(\"../data/preprocessed/df_train001.csv\")"
   ]
  },
  {
   "cell_type": "markdown",
   "id": "4f627902",
   "metadata": {},
   "source": [
    "---"
   ]
  },
  {
   "cell_type": "code",
   "execution_count": 2,
   "id": "f920dcf1",
   "metadata": {
    "ExecuteTime": {
     "end_time": "2023-12-18T06:20:23.770612Z",
     "start_time": "2023-12-18T06:20:23.586154Z"
    }
   },
   "outputs": [],
   "source": [
    "from prophet import Prophet"
   ]
  },
  {
   "cell_type": "code",
   "execution_count": 3,
   "id": "1ace4d67",
   "metadata": {
    "ExecuteTime": {
     "end_time": "2023-12-18T06:20:23.787102Z",
     "start_time": "2023-12-18T06:20:23.775474Z"
    }
   },
   "outputs": [],
   "source": [
    "df = pd.DataFrame()\n",
    "df['일시'] = pd.date_range(start='2023-01-01',end='2023-12-24', freq='D')"
   ]
  },
  {
   "cell_type": "code",
   "execution_count": 4,
   "id": "57c7987d",
   "metadata": {
    "ExecuteTime": {
     "end_time": "2023-12-18T06:20:23.803332Z",
     "start_time": "2023-12-18T06:20:23.789523Z"
    }
   },
   "outputs": [],
   "source": [
    "use_col = df_train.columns.drop(['일시','평균기온']).tolist()"
   ]
  },
  {
   "cell_type": "code",
   "execution_count": 5,
   "id": "367dd716",
   "metadata": {
    "ExecuteTime": {
     "end_time": "2023-12-18T06:21:58.590797Z",
     "start_time": "2023-12-18T06:20:23.806233Z"
    }
   },
   "outputs": [
    {
     "name": "stderr",
     "output_type": "stream",
     "text": [
      "15:20:26 - cmdstanpy - INFO - Chain [1] start processing\n",
      "15:20:30 - cmdstanpy - INFO - Chain [1] done processing\n",
      "15:20:37 - cmdstanpy - INFO - Chain [1] start processing\n",
      "15:20:42 - cmdstanpy - INFO - Chain [1] done processing\n",
      "15:20:49 - cmdstanpy - INFO - Chain [1] start processing\n",
      "15:20:52 - cmdstanpy - INFO - Chain [1] done processing\n",
      "15:20:59 - cmdstanpy - INFO - Chain [1] start processing\n",
      "15:21:01 - cmdstanpy - INFO - Chain [1] done processing\n",
      "15:21:07 - cmdstanpy - INFO - Chain [1] start processing\n",
      "15:21:10 - cmdstanpy - INFO - Chain [1] done processing\n",
      "15:21:17 - cmdstanpy - INFO - Chain [1] start processing\n",
      "15:21:22 - cmdstanpy - INFO - Chain [1] done processing\n",
      "15:21:28 - cmdstanpy - INFO - Chain [1] start processing\n",
      "15:21:31 - cmdstanpy - INFO - Chain [1] done processing\n",
      "15:21:38 - cmdstanpy - INFO - Chain [1] start processing\n",
      "15:21:43 - cmdstanpy - INFO - Chain [1] done processing\n",
      "15:21:49 - cmdstanpy - INFO - Chain [1] start processing\n",
      "15:21:54 - cmdstanpy - INFO - Chain [1] done processing\n"
     ]
    }
   ],
   "source": [
    "for i in use_col :\n",
    "    # 모델 초기화\n",
    "    model = Prophet()\n",
    "    \n",
    "    df_1 = pd.DataFrame()\n",
    "    df_1['ds'] = pd.to_datetime(df_train['일시'])\n",
    "    df_1['y'] = df_train[i]\n",
    "    \n",
    "    model.fit(df_1)\n",
    "    \n",
    "    future = model.make_future_dataframe(periods=358)\n",
    "    forecast = model.predict(future)\n",
    "    \n",
    "    df[i] = forecast['yhat'][-358:].values"
   ]
  },
  {
   "cell_type": "markdown",
   "id": "683b2f34",
   "metadata": {},
   "source": [
    "---"
   ]
  },
  {
   "cell_type": "code",
   "execution_count": 9,
   "id": "0552d5b7",
   "metadata": {
    "ExecuteTime": {
     "end_time": "2023-12-18T06:27:36.619695Z",
     "start_time": "2023-12-18T06:27:34.717372Z"
    }
   },
   "outputs": [],
   "source": [
    "from sklearn.model_selection import train_test_split\n",
    "from sklearn.ensemble import RandomForestRegressor\n",
    "from sklearn.metrics import mean_squared_error"
   ]
  },
  {
   "cell_type": "code",
   "execution_count": 13,
   "id": "4a21cbee",
   "metadata": {
    "ExecuteTime": {
     "end_time": "2023-12-18T06:29:02.051971Z",
     "start_time": "2023-12-18T06:29:02.037953Z"
    }
   },
   "outputs": [],
   "source": [
    "X = df_train.drop(columns = ['일시','평균기온'], axis=1)\n",
    "y = df_train['평균기온']"
   ]
  },
  {
   "cell_type": "code",
   "execution_count": 14,
   "id": "d38222e2",
   "metadata": {
    "ExecuteTime": {
     "end_time": "2023-12-18T06:29:38.628038Z",
     "start_time": "2023-12-18T06:29:12.661096Z"
    }
   },
   "outputs": [
    {
     "data": {
      "text/html": [
       "<style>#sk-container-id-1 {color: black;background-color: white;}#sk-container-id-1 pre{padding: 0;}#sk-container-id-1 div.sk-toggleable {background-color: white;}#sk-container-id-1 label.sk-toggleable__label {cursor: pointer;display: block;width: 100%;margin-bottom: 0;padding: 0.3em;box-sizing: border-box;text-align: center;}#sk-container-id-1 label.sk-toggleable__label-arrow:before {content: \"▸\";float: left;margin-right: 0.25em;color: #696969;}#sk-container-id-1 label.sk-toggleable__label-arrow:hover:before {color: black;}#sk-container-id-1 div.sk-estimator:hover label.sk-toggleable__label-arrow:before {color: black;}#sk-container-id-1 div.sk-toggleable__content {max-height: 0;max-width: 0;overflow: hidden;text-align: left;background-color: #f0f8ff;}#sk-container-id-1 div.sk-toggleable__content pre {margin: 0.2em;color: black;border-radius: 0.25em;background-color: #f0f8ff;}#sk-container-id-1 input.sk-toggleable__control:checked~div.sk-toggleable__content {max-height: 200px;max-width: 100%;overflow: auto;}#sk-container-id-1 input.sk-toggleable__control:checked~label.sk-toggleable__label-arrow:before {content: \"▾\";}#sk-container-id-1 div.sk-estimator input.sk-toggleable__control:checked~label.sk-toggleable__label {background-color: #d4ebff;}#sk-container-id-1 div.sk-label input.sk-toggleable__control:checked~label.sk-toggleable__label {background-color: #d4ebff;}#sk-container-id-1 input.sk-hidden--visually {border: 0;clip: rect(1px 1px 1px 1px);clip: rect(1px, 1px, 1px, 1px);height: 1px;margin: -1px;overflow: hidden;padding: 0;position: absolute;width: 1px;}#sk-container-id-1 div.sk-estimator {font-family: monospace;background-color: #f0f8ff;border: 1px dotted black;border-radius: 0.25em;box-sizing: border-box;margin-bottom: 0.5em;}#sk-container-id-1 div.sk-estimator:hover {background-color: #d4ebff;}#sk-container-id-1 div.sk-parallel-item::after {content: \"\";width: 100%;border-bottom: 1px solid gray;flex-grow: 1;}#sk-container-id-1 div.sk-label:hover label.sk-toggleable__label {background-color: #d4ebff;}#sk-container-id-1 div.sk-serial::before {content: \"\";position: absolute;border-left: 1px solid gray;box-sizing: border-box;top: 0;bottom: 0;left: 50%;z-index: 0;}#sk-container-id-1 div.sk-serial {display: flex;flex-direction: column;align-items: center;background-color: white;padding-right: 0.2em;padding-left: 0.2em;position: relative;}#sk-container-id-1 div.sk-item {position: relative;z-index: 1;}#sk-container-id-1 div.sk-parallel {display: flex;align-items: stretch;justify-content: center;background-color: white;position: relative;}#sk-container-id-1 div.sk-item::before, #sk-container-id-1 div.sk-parallel-item::before {content: \"\";position: absolute;border-left: 1px solid gray;box-sizing: border-box;top: 0;bottom: 0;left: 50%;z-index: -1;}#sk-container-id-1 div.sk-parallel-item {display: flex;flex-direction: column;z-index: 1;position: relative;background-color: white;}#sk-container-id-1 div.sk-parallel-item:first-child::after {align-self: flex-end;width: 50%;}#sk-container-id-1 div.sk-parallel-item:last-child::after {align-self: flex-start;width: 50%;}#sk-container-id-1 div.sk-parallel-item:only-child::after {width: 0;}#sk-container-id-1 div.sk-dashed-wrapped {border: 1px dashed gray;margin: 0 0.4em 0.5em 0.4em;box-sizing: border-box;padding-bottom: 0.4em;background-color: white;}#sk-container-id-1 div.sk-label label {font-family: monospace;font-weight: bold;display: inline-block;line-height: 1.2em;}#sk-container-id-1 div.sk-label-container {text-align: center;}#sk-container-id-1 div.sk-container {/* jupyter's `normalize.less` sets `[hidden] { display: none; }` but bootstrap.min.css set `[hidden] { display: none !important; }` so we also need the `!important` here to be able to override the default hidden behavior on the sphinx rendered scikit-learn.org. See: https://github.com/scikit-learn/scikit-learn/issues/21755 */display: inline-block !important;position: relative;}#sk-container-id-1 div.sk-text-repr-fallback {display: none;}</style><div id=\"sk-container-id-1\" class=\"sk-top-container\"><div class=\"sk-text-repr-fallback\"><pre>RandomForestRegressor(random_state=42)</pre><b>In a Jupyter environment, please rerun this cell to show the HTML representation or trust the notebook. <br />On GitHub, the HTML representation is unable to render, please try loading this page with nbviewer.org.</b></div><div class=\"sk-container\" hidden><div class=\"sk-item\"><div class=\"sk-estimator sk-toggleable\"><input class=\"sk-toggleable__control sk-hidden--visually\" id=\"sk-estimator-id-1\" type=\"checkbox\" checked><label for=\"sk-estimator-id-1\" class=\"sk-toggleable__label sk-toggleable__label-arrow\">RandomForestRegressor</label><div class=\"sk-toggleable__content\"><pre>RandomForestRegressor(random_state=42)</pre></div></div></div></div></div>"
      ],
      "text/plain": [
       "RandomForestRegressor(random_state=42)"
      ]
     },
     "execution_count": 14,
     "metadata": {},
     "output_type": "execute_result"
    }
   ],
   "source": [
    "# 랜덤 포레스트 회귀 모델 생성 및 학습\n",
    "rf_regressor = RandomForestRegressor(n_estimators=100, random_state=42)\n",
    "rf_regressor.fit(X, y)"
   ]
  },
  {
   "cell_type": "code",
   "execution_count": 17,
   "id": "38873338",
   "metadata": {
    "ExecuteTime": {
     "end_time": "2023-12-18T06:29:56.377519Z",
     "start_time": "2023-12-18T06:29:56.329748Z"
    }
   },
   "outputs": [],
   "source": [
    "# 테스트 데이터에 대한 예측\n",
    "y_pred = rf_regressor.predict(df.drop(columns = ['일시'], axis=1))"
   ]
  },
  {
   "cell_type": "code",
   "execution_count": 18,
   "id": "498a73b3",
   "metadata": {
    "ExecuteTime": {
     "end_time": "2023-12-18T06:30:11.135979Z",
     "start_time": "2023-12-18T06:30:10.963305Z"
    }
   },
   "outputs": [
    {
     "data": {
      "text/plain": [
       "[<matplotlib.lines.Line2D at 0x2339a9b13d0>]"
      ]
     },
     "execution_count": 18,
     "metadata": {},
     "output_type": "execute_result"
    },
    {
     "data": {
      "image/png": "[encoded data removed]",
      "text/plain": [
       "<Figure size 432x288 with 1 Axes>"
      ]
     },
     "metadata": {
      "image/png": {
       "height": 249,
       "width": 367
      },
      "needs_background": "light"
     },
     "output_type": "display_data"
    }
   ],
   "source": [
    "plt.plot(y_pred)"
   ]
  },
  {
   "cell_type": "markdown",
   "id": "4b127cb2",
   "metadata": {},
   "source": [
    "---"
   ]
  },
  {
   "cell_type": "code",
   "execution_count": 19,
   "id": "714453c5",
   "metadata": {
    "ExecuteTime": {
     "end_time": "2023-12-18T06:30:44.380199Z",
     "start_time": "2023-12-18T06:30:44.368678Z"
    }
   },
   "outputs": [],
   "source": [
    "sub_file = pd.read_csv(\"../data/original/sample_submission.csv\")"
   ]
  },
  {
   "cell_type": "code",
   "execution_count": 21,
   "id": "a36456fc",
   "metadata": {
    "ExecuteTime": {
     "end_time": "2023-12-18T06:30:58.949390Z",
     "start_time": "2023-12-18T06:30:58.932605Z"
    }
   },
   "outputs": [],
   "source": [
    "sub_file['평균기온'] = y_pred"
   ]
  },
  {
   "cell_type": "code",
   "execution_count": 23,
   "id": "58e310c6",
   "metadata": {
    "ExecuteTime": {
     "end_time": "2023-12-18T06:31:59.148605Z",
     "start_time": "2023-12-18T06:31:59.132852Z"
    }
   },
   "outputs": [],
   "source": [
    "sub_file.to_csv(\"../data/sub/015_df_randomforest_001.csv\",\n",
    "                index=False, encoding='utf-8')"
   ]
  },
  {
   "cell_type": "markdown",
   "id": "29fc1ac5",
   "metadata": {},
   "source": [
    "---"
   ]
  },
  {
   "cell_type": "code",
   "execution_count": 8,
   "id": "8bf7e4de",
   "metadata": {
    "ExecuteTime": {
     "end_time": "2023-12-18T06:23:10.577420Z",
     "start_time": "2023-12-18T06:23:10.532812Z"
    }
   },
   "outputs": [],
   "source": [
    "df.to_csv('../data/preprocessed/df.csv', index=False, encoding='utf-8')"
   ]
  },
  {
   "cell_type": "markdown",
   "id": "f9c2a17e",
   "metadata": {},
   "source": [
    "---"
   ]
  },
  {
   "cell_type": "code",
   "execution_count": 24,
   "id": "96156456",
   "metadata": {
    "ExecuteTime": {
     "end_time": "2023-12-18T06:48:43.769287Z",
     "start_time": "2023-12-18T06:48:43.763147Z"
    }
   },
   "outputs": [],
   "source": [
    "import joblib"
   ]
  },
  {
   "cell_type": "code",
   "execution_count": 25,
   "id": "cf902769",
   "metadata": {
    "ExecuteTime": {
     "end_time": "2023-12-18T06:48:58.352987Z",
     "start_time": "2023-12-18T06:48:58.096867Z"
    }
   },
   "outputs": [
    {
     "data": {
      "text/plain": [
       "['../model/rf_regressor_001.pkl']"
      ]
     },
     "execution_count": 25,
     "metadata": {},
     "output_type": "execute_result"
    }
   ],
   "source": [
    "joblib.dump(rf_regressor, '../model/rf_regressor_001.pkl')"
   ]
  },
  {
   "cell_type": "code",
   "execution_count": 26,
   "id": "bed4400d",
   "metadata": {
    "ExecuteTime": {
     "end_time": "2023-12-18T06:49:02.999713Z",
     "start_time": "2023-12-18T06:49:02.680759Z"
    }
   },
   "outputs": [],
   "source": [
    "loaded_model = joblib.load('../model/rf_regressor_001.pkl')"
   ]
  }
 ],
 "metadata": {
  "hide_input": false,
  "kernelspec": {
   "display_name": "Python 3 (ipykernel)",
   "language": "python",
   "name": "python3"
  },
  "language_info": {
   "codemirror_mode": {
    "name": "ipython",
    "version": 3
   },
   "file_extension": ".py",
   "mimetype": "text/x-python",
   "name": "python",
   "nbconvert_exporter": "python",
   "pygments_lexer": "ipython3",
   "version": "3.9.12"
  },
  "toc": {
   "base_numbering": 1,
   "nav_menu": {},
   "number_sections": true,
   "sideBar": true,
   "skip_h1_title": false,
   "title_cell": "Table of Contents",
   "title_sidebar": "Contents",
   "toc_cell": false,
   "toc_position": {},
   "toc_section_display": true,
   "toc_window_display": false
  },
  "varInspector": {
   "cols": {
    "lenName": 16,
    "lenType": 16,
    "lenVar": 40
   },
   "kernels_config": {
    "python": {
     "delete_cmd_postfix": "",
     "delete_cmd_prefix": "del ",
     "library": "var_list.py",
     "varRefreshCmd": "print(var_dic_list())"
    },
    "r": {
     "delete_cmd_postfix": ") ",
     "delete_cmd_prefix": "rm(",
     "library": "var_list.r",
     "varRefreshCmd": "cat(var_dic_list()) "
    }
   },
   "types_to_exclude": [
    "module",
    "function",
    "builtin_function_or_method",
    "instance",
    "_Feature"
   ],
   "window_display": false
  }
 },
 "nbformat": 4,
 "nbformat_minor": 5
}
