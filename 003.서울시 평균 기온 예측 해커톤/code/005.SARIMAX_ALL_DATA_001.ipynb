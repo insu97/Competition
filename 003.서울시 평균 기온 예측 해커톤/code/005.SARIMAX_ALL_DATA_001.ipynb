{
 "cells": [
  {
   "cell_type": "code",
   "execution_count": 1,
   "id": "6573ae39",
   "metadata": {
    "ExecuteTime": {
     "end_time": "2023-12-13T12:01:03.567463Z",
     "start_time": "2023-12-13T12:01:00.890955Z"
    }
   },
   "outputs": [],
   "source": [
    "import random\n",
    "import os\n",
    "import matplotlib.pyplot as plt\n",
    "import pandas as pd\n",
    "import numpy as np\n",
    "import warnings\n",
    "warnings.filterwarnings('ignore')\n",
    "\n",
    "\n",
    "plt.rc('font', family='Malgun Gothic')  # 폰트 지정\n",
    "plt.rc('axes', unicode_minus=False)  # 마이너스 폰트 설정\n",
    "%config InlineBackend.figure_format = 'retina'  # 그래프 글씨 뚜렷\n",
    "\n",
    "\n",
    "def seed_everything(seed):\n",
    "    random.seed(seed)\n",
    "    os.environ['PYTHONHASHSEED'] = str(seed)\n",
    "    np.random.seed(seed)\n",
    "\n",
    "\n",
    "seed_everything(42)"
   ]
  },
  {
   "cell_type": "code",
   "execution_count": 2,
   "id": "b0ac0484",
   "metadata": {
    "ExecuteTime": {
     "end_time": "2023-12-13T12:01:06.939568Z",
     "start_time": "2023-12-13T12:01:03.585019Z"
    }
   },
   "outputs": [],
   "source": [
    "from statsmodels.tsa.statespace.sarimax import SARIMAX"
   ]
  },
  {
   "cell_type": "code",
   "execution_count": 3,
   "id": "bd51fc42",
   "metadata": {
    "ExecuteTime": {
     "end_time": "2023-12-13T12:01:07.018278Z",
     "start_time": "2023-12-13T12:01:06.957018Z"
    }
   },
   "outputs": [],
   "source": [
    "df_train = pd.read_csv(\"../data/preprocessed/df_train001.csv\")"
   ]
  },
  {
   "cell_type": "markdown",
   "id": "ea840532",
   "metadata": {},
   "source": [
    "---"
   ]
  },
  {
   "cell_type": "code",
   "execution_count": 4,
   "id": "1bad6be4",
   "metadata": {
    "ExecuteTime": {
     "end_time": "2023-12-13T12:01:15.192126Z",
     "start_time": "2023-12-13T12:01:15.156447Z"
    }
   },
   "outputs": [],
   "source": [
    "df_train['일시'] = pd.to_datetime(df_train['일시'])\n",
    "df_train.set_index('일시', inplace=True)"
   ]
  },
  {
   "cell_type": "code",
   "execution_count": 7,
   "id": "c2fc1d31",
   "metadata": {
    "ExecuteTime": {
     "end_time": "2023-12-13T12:03:29.096365Z",
     "start_time": "2023-12-13T12:03:12.129427Z"
    }
   },
   "outputs": [
    {
     "name": "stderr",
     "output_type": "stream",
     "text": [
      "C:\\ProgramData\\Anaconda3\\lib\\site-packages\\statsmodels\\tsa\\base\\tsa_model.py:471: ValueWarning: No frequency information was provided, so inferred frequency D will be used.\n",
      "  self._init_dates(dates, freq)\n",
      "C:\\ProgramData\\Anaconda3\\lib\\site-packages\\statsmodels\\tsa\\base\\tsa_model.py:471: ValueWarning: No frequency information was provided, so inferred frequency D will be used.\n",
      "  self._init_dates(dates, freq)\n"
     ]
    }
   ],
   "source": [
    "# 모델 생성 및 학습\n",
    "model = SARIMAX(df_train['평균기온'], order=(1, 0, 1),\n",
    "                seasonal_order=(1, 0, 1, 12))  # p,d,q,s\n",
    "result = model.fit()"
   ]
  },
  {
   "cell_type": "markdown",
   "id": "0c6dad9e",
   "metadata": {},
   "source": [
    "---"
   ]
  },
  {
   "cell_type": "code",
   "execution_count": 8,
   "id": "5c12e57d",
   "metadata": {
    "ExecuteTime": {
     "end_time": "2023-12-13T12:03:43.091817Z",
     "start_time": "2023-12-13T12:03:43.057929Z"
    }
   },
   "outputs": [],
   "source": [
    "sub_file = pd.read_csv(\"../data/original/sample_submission.csv\")"
   ]
  },
  {
   "cell_type": "code",
   "execution_count": 9,
   "id": "031bc903",
   "metadata": {
    "ExecuteTime": {
     "end_time": "2023-12-13T12:03:47.136693Z",
     "start_time": "2023-12-13T12:03:47.117077Z"
    }
   },
   "outputs": [],
   "source": [
    "target = pd.to_datetime(sub_file['일시'])"
   ]
  },
  {
   "cell_type": "code",
   "execution_count": 10,
   "id": "833eabd1",
   "metadata": {
    "ExecuteTime": {
     "end_time": "2023-12-13T12:03:47.668614Z",
     "start_time": "2023-12-13T12:03:47.628423Z"
    }
   },
   "outputs": [],
   "source": [
    "pred = result.get_prediction(\n",
    "    start=target.values[0], end=target.values[-1], dynamic=False)"
   ]
  },
  {
   "cell_type": "code",
   "execution_count": 11,
   "id": "61f7fcae",
   "metadata": {
    "ExecuteTime": {
     "end_time": "2023-12-13T12:06:28.003926Z",
     "start_time": "2023-12-13T12:06:27.992194Z"
    }
   },
   "outputs": [],
   "source": [
    "sub_file['평균기온'] = pred.predicted_mean.values"
   ]
  },
  {
   "cell_type": "code",
   "execution_count": 12,
   "id": "15608fbe",
   "metadata": {
    "ExecuteTime": {
     "end_time": "2023-12-13T12:06:46.785149Z",
     "start_time": "2023-12-13T12:06:46.758996Z"
    }
   },
   "outputs": [],
   "source": [
    "sub_file.to_csv(\"../data/sub/005_SARIMAX_all_data.csv\",\n",
    "                index=False, encoding='utf-8')"
   ]
  },
  {
   "cell_type": "markdown",
   "id": "c70159b5",
   "metadata": {},
   "source": [
    "---"
   ]
  },
  {
   "cell_type": "code",
   "execution_count": 13,
   "id": "96156456",
   "metadata": {
    "ExecuteTime": {
     "end_time": "2023-12-13T12:06:48.934384Z",
     "start_time": "2023-12-13T12:06:48.776423Z"
    }
   },
   "outputs": [],
   "source": [
    "import joblib"
   ]
  },
  {
   "cell_type": "code",
   "execution_count": 14,
   "id": "cf902769",
   "metadata": {
    "ExecuteTime": {
     "end_time": "2023-12-13T12:07:08.568784Z",
     "start_time": "2023-12-13T12:07:06.689798Z"
    }
   },
   "outputs": [
    {
     "data": {
      "text/plain": [
       "['../model/sarimax_model_005.pkl']"
      ]
     },
     "execution_count": 14,
     "metadata": {},
     "output_type": "execute_result"
    }
   ],
   "source": [
    "joblib.dump(result, '../model/sarimax_model_005.pkl')"
   ]
  },
  {
   "cell_type": "code",
   "execution_count": 15,
   "id": "bed4400d",
   "metadata": {
    "ExecuteTime": {
     "end_time": "2023-12-13T12:07:11.832858Z",
     "start_time": "2023-12-13T12:07:11.332272Z"
    }
   },
   "outputs": [],
   "source": [
    "loaded_model = joblib.load('../model/sarimax_model_005.pkl')"
   ]
  },
  {
   "cell_type": "code",
   "execution_count": 16,
   "id": "ad574dbc",
   "metadata": {
    "ExecuteTime": {
     "end_time": "2023-12-13T12:07:13.311475Z",
     "start_time": "2023-12-13T12:07:13.283052Z"
    }
   },
   "outputs": [
    {
     "data": {
      "text/html": [
       "<div>\n",
       "<style scoped>\n",
       "    .dataframe tbody tr th:only-of-type {\n",
       "        vertical-align: middle;\n",
       "    }\n",
       "\n",
       "    .dataframe tbody tr th {\n",
       "        vertical-align: top;\n",
       "    }\n",
       "\n",
       "    .dataframe thead th {\n",
       "        text-align: right;\n",
       "    }\n",
       "</style>\n",
       "<table border=\"1\" class=\"dataframe\">\n",
       "  <thead>\n",
       "    <tr style=\"text-align: right;\">\n",
       "      <th></th>\n",
       "      <th>lower 평균기온</th>\n",
       "      <th>upper 평균기온</th>\n",
       "    </tr>\n",
       "  </thead>\n",
       "  <tbody>\n",
       "    <tr>\n",
       "      <th>2023-01-01</th>\n",
       "      <td>-5.364468</td>\n",
       "      <td>3.799812</td>\n",
       "    </tr>\n",
       "    <tr>\n",
       "      <th>2023-01-02</th>\n",
       "      <td>-7.313489</td>\n",
       "      <td>6.632064</td>\n",
       "    </tr>\n",
       "    <tr>\n",
       "      <th>2023-01-03</th>\n",
       "      <td>-8.530990</td>\n",
       "      <td>8.727097</td>\n",
       "    </tr>\n",
       "    <tr>\n",
       "      <th>2023-01-04</th>\n",
       "      <td>-9.425770</td>\n",
       "      <td>10.437102</td>\n",
       "    </tr>\n",
       "    <tr>\n",
       "      <th>2023-01-05</th>\n",
       "      <td>-10.177453</td>\n",
       "      <td>11.844929</td>\n",
       "    </tr>\n",
       "    <tr>\n",
       "      <th>2023-01-06</th>\n",
       "      <td>-10.801279</td>\n",
       "      <td>13.064997</td>\n",
       "    </tr>\n",
       "    <tr>\n",
       "      <th>2023-01-07</th>\n",
       "      <td>-11.267122</td>\n",
       "      <td>14.203490</td>\n",
       "    </tr>\n",
       "    <tr>\n",
       "      <th>2023-01-08</th>\n",
       "      <td>-11.740377</td>\n",
       "      <td>15.144498</td>\n",
       "    </tr>\n",
       "    <tr>\n",
       "      <th>2023-01-09</th>\n",
       "      <td>-12.133692</td>\n",
       "      <td>16.009905</td>\n",
       "    </tr>\n",
       "    <tr>\n",
       "      <th>2023-01-10</th>\n",
       "      <td>-12.374841</td>\n",
       "      <td>16.897284</td>\n",
       "    </tr>\n",
       "  </tbody>\n",
       "</table>\n",
       "</div>"
      ],
      "text/plain": [
       "            lower 평균기온  upper 평균기온\n",
       "2023-01-01   -5.364468    3.799812\n",
       "2023-01-02   -7.313489    6.632064\n",
       "2023-01-03   -8.530990    8.727097\n",
       "2023-01-04   -9.425770   10.437102\n",
       "2023-01-05  -10.177453   11.844929\n",
       "2023-01-06  -10.801279   13.064997\n",
       "2023-01-07  -11.267122   14.203490\n",
       "2023-01-08  -11.740377   15.144498\n",
       "2023-01-09  -12.133692   16.009905\n",
       "2023-01-10  -12.374841   16.897284"
      ]
     },
     "execution_count": 16,
     "metadata": {},
     "output_type": "execute_result"
    }
   ],
   "source": [
    "# 예측 수행 (불러온 모델로 예측 가능)\n",
    "forecast = loaded_model.get_forecast(steps=10)\n",
    "\n",
    "forecast.conf_int()"
   ]
  }
 ],
 "metadata": {
  "hide_input": false,
  "kernelspec": {
   "display_name": "Python 3 (ipykernel)",
   "language": "python",
   "name": "python3"
  },
  "language_info": {
   "codemirror_mode": {
    "name": "ipython",
    "version": 3
   },
   "file_extension": ".py",
   "mimetype": "text/x-python",
   "name": "python",
   "nbconvert_exporter": "python",
   "pygments_lexer": "ipython3",
   "version": "3.9.12"
  },
  "toc": {
   "base_numbering": 1,
   "nav_menu": {},
   "number_sections": true,
   "sideBar": true,
   "skip_h1_title": false,
   "title_cell": "Table of Contents",
   "title_sidebar": "Contents",
   "toc_cell": false,
   "toc_position": {},
   "toc_section_display": true,
   "toc_window_display": false
  },
  "varInspector": {
   "cols": {
    "lenName": 16,
    "lenType": 16,
    "lenVar": 40
   },
   "kernels_config": {
    "python": {
     "delete_cmd_postfix": "",
     "delete_cmd_prefix": "del ",
     "library": "var_list.py",
     "varRefreshCmd": "print(var_dic_list())"
    },
    "r": {
     "delete_cmd_postfix": ") ",
     "delete_cmd_prefix": "rm(",
     "library": "var_list.r",
     "varRefreshCmd": "cat(var_dic_list()) "
    }
   },
   "types_to_exclude": [
    "module",
    "function",
    "builtin_function_or_method",
    "instance",
    "_Feature"
   ],
   "window_display": false
  }
 },
 "nbformat": 4,
 "nbformat_minor": 5
}
