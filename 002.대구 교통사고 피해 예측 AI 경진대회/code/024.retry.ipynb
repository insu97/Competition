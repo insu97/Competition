{
 "cells": [
  {
   "cell_type": "code",
   "execution_count": 1,
   "id": "b8342452",
   "metadata": {
    "ExecuteTime": {
     "end_time": "2023-12-10T05:16:45.895759Z",
     "start_time": "2023-12-10T05:16:34.383965Z"
    },
    "scrolled": false
   },
   "outputs": [
    {
     "name": "stdout",
     "output_type": "stream",
     "text": [
      "WARNING:tensorflow:From C:\\ProgramData\\Anaconda3\\lib\\site-packages\\keras\\src\\losses.py:2976: The name tf.losses.sparse_softmax_cross_entropy is deprecated. Please use tf.compat.v1.losses.sparse_softmax_cross_entropy instead.\n",
      "\n"
     ]
    }
   ],
   "source": [
    "import numpy as np\n",
    "import pandas as pd\n",
    "import tensorflow as tf\n",
    "import matplotlib.pyplot as plt\n",
    "\n",
    "from sklearn.model_selection import train_test_split\n",
    "\n",
    "plt.rc('font', family='Malgun Gothic')  # 폰트 지정\n",
    "plt.rc('axes', unicode_minus=False)  # 마이너스 폰트 설정\n",
    "%config InlineBackend.figure_format = 'retina'  # 그래프 글씨 뚜렷"
   ]
  },
  {
   "cell_type": "code",
   "execution_count": 2,
   "id": "dc4b0f3d",
   "metadata": {
    "ExecuteTime": {
     "end_time": "2023-12-10T05:16:46.809137Z",
     "start_time": "2023-12-10T05:16:45.901641Z"
    }
   },
   "outputs": [],
   "source": [
    "df_train = pd.read_csv(\"../data/df_train_005.csv\")\n",
    "df_test = pd.read_csv(\"../data/df_test_005.csv\")"
   ]
  },
  {
   "cell_type": "code",
   "execution_count": 3,
   "id": "047e5346",
   "metadata": {
    "ExecuteTime": {
     "end_time": "2023-12-10T05:16:46.870651Z",
     "start_time": "2023-12-10T05:16:46.815748Z"
    }
   },
   "outputs": [],
   "source": [
    "X = df_train.drop(columns = 'ECLO',axis=1)\n",
    "y = df_train['ECLO']"
   ]
  },
  {
   "cell_type": "code",
   "execution_count": 4,
   "id": "41e73b1d",
   "metadata": {
    "ExecuteTime": {
     "end_time": "2023-12-10T05:16:46.966331Z",
     "start_time": "2023-12-10T05:16:46.879633Z"
    }
   },
   "outputs": [],
   "source": [
    "x_train, x_test, y_train , y_test = train_test_split(X, y, test_size = 0.2, random_state=42 )"
   ]
  },
  {
   "cell_type": "code",
   "execution_count": 5,
   "id": "9263ae53",
   "metadata": {
    "ExecuteTime": {
     "end_time": "2023-12-10T05:16:46.981677Z",
     "start_time": "2023-12-10T05:16:46.970328Z"
    }
   },
   "outputs": [],
   "source": [
    "import os\n",
    "import random\n",
    "\n",
    "def seed_everything(seed):\n",
    "    random.seed(seed)\n",
    "    os.environ['PYTHONHASHSEED'] = str(seed)\n",
    "    np.random.seed(seed)\n",
    "\n",
    "seed_everything(42)"
   ]
  },
  {
   "cell_type": "markdown",
   "id": "6cb2b53f",
   "metadata": {},
   "source": [
    "---"
   ]
  },
  {
   "cell_type": "code",
   "execution_count": 6,
   "id": "c375a41b",
   "metadata": {
    "ExecuteTime": {
     "end_time": "2023-12-10T05:16:56.863490Z",
     "start_time": "2023-12-10T05:16:46.986112Z"
    }
   },
   "outputs": [],
   "source": [
    "from supervised.automl import AutoML\n",
    "automl = AutoML(mode=\"Compete\",\n",
    "                algorithms = ['Random Forest', 'LightGBM', 'Xgboost', 'CatBoost'],\n",
    "                n_jobs = -1,total_time_limit=43200, eval_metric=\"rmse\", ml_task = \"regression\")\n",
    "#3.209155"
   ]
  },
  {
   "cell_type": "code",
   "execution_count": 7,
   "id": "476e6802",
   "metadata": {
    "ExecuteTime": {
     "end_time": "2023-12-10T08:26:59.672328Z",
     "start_time": "2023-12-10T05:17:09.219043Z"
    },
    "scrolled": false
   },
   "outputs": [
    {
     "name": "stdout",
     "output_type": "stream",
     "text": [
      "AutoML directory: AutoML_1\n",
      "The task is regression with evaluation metric rmse\n",
      "AutoML will use algorithms: ['Random Forest', 'LightGBM', 'Xgboost', 'CatBoost']\n",
      "AutoML will stack models\n",
      "AutoML will ensemble available models\n",
      "AutoML steps: ['adjust_validation', 'simple_algorithms', 'default_algorithms', 'not_so_random', 'golden_features', 'kmeans_features', 'insert_random_feature', 'features_selection', 'hill_climbing_1', 'hill_climbing_2', 'boost_on_errors', 'ensemble', 'stack', 'ensemble_stacked']\n",
      "* Step adjust_validation will try to check up to 1 model\n",
      "1_DecisionTree rmse 3.046606 trained in 4.65 seconds\n",
      "Adjust validation. Remove: 1_DecisionTree\n",
      "Validation strategy: 10-fold CV Shuffle\n",
      "Skip simple_algorithms because no parameters were generated.\n",
      "* Step default_algorithms will try to check up to 4 models\n",
      "1_Default_LightGBM rmse 3.243376 trained in 65.71 seconds\n",
      "2_Default_Xgboost rmse 3.245334 trained in 54.45 seconds\n",
      "3_Default_CatBoost rmse 3.240316 trained in 59.09 seconds\n",
      "4_Default_RandomForest rmse 3.250352 trained in 137.74 seconds\n",
      "* Step not_so_random will try to check up to 36 models\n",
      "14_LightGBM rmse 3.242498 trained in 51.33 seconds\n",
      "5_Xgboost rmse 3.247079 trained in 57.43 seconds\n",
      "23_CatBoost rmse 3.242287 trained in 69.76 seconds\n",
      "32_RandomForest rmse 3.251997 trained in 121.71 seconds\n",
      "15_LightGBM rmse 3.242486 trained in 56.57 seconds\n",
      "6_Xgboost rmse 3.246382 trained in 51.44 seconds\n",
      "24_CatBoost rmse 3.444686 trained in 66.37 seconds\n",
      "33_RandomForest rmse 3.253692 trained in 119.6 seconds\n",
      "16_LightGBM rmse 3.243021 trained in 63.28 seconds\n",
      "7_Xgboost rmse 3.243538 trained in 53.86 seconds\n",
      "25_CatBoost rmse 3.241198 trained in 59.8 seconds\n",
      "34_RandomForest rmse 3.247901 trained in 180.48 seconds\n",
      "17_LightGBM rmse 3.245846 trained in 68.64 seconds\n",
      "8_Xgboost rmse 3.243412 trained in 52.01 seconds\n",
      "26_CatBoost rmse 3.442424 trained in 65.16 seconds\n",
      "35_RandomForest rmse 3.247724 trained in 135.06 seconds\n",
      "18_LightGBM rmse 3.24364 trained in 54.67 seconds\n",
      "9_Xgboost rmse 3.242691 trained in 53.87 seconds\n",
      "27_CatBoost rmse 3.459146 trained in 65.11 seconds\n",
      "36_RandomForest rmse 3.246623 trained in 162.41 seconds\n",
      "19_LightGBM rmse 3.246083 trained in 81.94 seconds\n",
      "10_Xgboost rmse 3.2425 trained in 54.92 seconds\n",
      "28_CatBoost rmse 3.57807 trained in 92.74 seconds\n",
      "37_RandomForest rmse 3.246572 trained in 181.86 seconds\n",
      "20_LightGBM rmse 3.243706 trained in 63.01 seconds\n",
      "11_Xgboost rmse 3.242667 trained in 58.29 seconds\n",
      "29_CatBoost rmse 3.436376 trained in 199.49 seconds\n",
      "38_RandomForest rmse 3.250463 trained in 147.44 seconds\n",
      "21_LightGBM rmse 3.243587 trained in 50.71 seconds\n",
      "12_Xgboost rmse 3.245411 trained in 52.59 seconds\n",
      "30_CatBoost rmse 3.451369 trained in 71.35 seconds\n",
      "39_RandomForest rmse 3.251508 trained in 131.09 seconds\n",
      "22_LightGBM rmse 3.243546 trained in 51.55 seconds\n",
      "13_Xgboost rmse 3.244209 trained in 57.57 seconds\n",
      "31_CatBoost rmse 3.241417 trained in 89.01 seconds\n",
      "40_RandomForest rmse 3.246982 trained in 130.58 seconds\n",
      "* Step golden_features will try to check up to 3 models\n",
      "None 22\n",
      "Add Golden Feature: 차대차_sum_교차로 - 교차로안\n",
      "Add Golden Feature: 차대차_sum_중구 남산동\n",
      "Add Golden Feature: 중구 남산동_diff_차대차\n",
      "Add Golden Feature: 차대차_sum_달서구 파호동\n",
      "Add Golden Feature: 차대차_sum_달서구 호림동\n",
      "Add Golden Feature: 차대차_sum_북구 고성동2가\n",
      "Add Golden Feature: 북구 복현동_diff_차대차\n",
      "Add Golden Feature: 차대차_sum_중구 수창동\n",
      "Add Golden Feature: 차대차_sum_달성군 가창면\n",
      "Add Golden Feature: 차대차_sum_달성군 구지면\n",
      "Add Golden Feature: 북구 고성동2가_diff_차대차\n",
      "Add Golden Feature: 동구 효목동_diff_차대차\n",
      "Add Golden Feature: 중구 수창동_diff_차대차\n",
      "Add Golden Feature: 차대차_sum_일요일\n",
      "Add Golden Feature: 차대차_sum_중구 삼덕동3가\n",
      "Add Golden Feature: 차대차_sum_달서구 죽전동\n",
      "Add Golden Feature: 차대차_sum_서구 내당동\n",
      "Add Golden Feature: 차대차_sum_중구 동인동1가\n",
      "Add Golden Feature: 북구 산격동_diff_차대차\n",
      "Add Golden Feature: 중구 동인동1가_diff_차대차\n",
      "Add Golden Feature: 북구 노원동1가_diff_차대차\n",
      "Add Golden Feature: 차대차_sum_달성군 논공읍\n",
      "Created 22 Golden Features in 87.47 seconds.\n",
      "3_Default_CatBoost_GoldenFeatures rmse 3.239405 trained in 159.2 seconds\n",
      "25_CatBoost_GoldenFeatures rmse 3.240033 trained in 73.56 seconds\n",
      "31_CatBoost_GoldenFeatures rmse 3.240504 trained in 109.7 seconds\n",
      "* Step kmeans_features will try to check up to 3 models\n"
     ]
    },
    {
     "name": "stderr",
     "output_type": "stream",
     "text": [
      "C:\\Users\\USER\\AppData\\Roaming\\Python\\Python39\\site-packages\\sklearn\\cluster\\_kmeans.py:870: FutureWarning: The default value of `n_init` will change from 3 to 'auto' in 1.4. Set the value of `n_init` explicitly to suppress the warning\n",
      "C:\\Users\\USER\\AppData\\Roaming\\Python\\Python39\\site-packages\\sklearn\\cluster\\_kmeans.py:870: FutureWarning: The default value of `n_init` will change from 3 to 'auto' in 1.4. Set the value of `n_init` explicitly to suppress the warning\n",
      "C:\\Users\\USER\\AppData\\Roaming\\Python\\Python39\\site-packages\\sklearn\\cluster\\_kmeans.py:870: FutureWarning: The default value of `n_init` will change from 3 to 'auto' in 1.4. Set the value of `n_init` explicitly to suppress the warning\n",
      "C:\\Users\\USER\\AppData\\Roaming\\Python\\Python39\\site-packages\\sklearn\\cluster\\_kmeans.py:870: FutureWarning: The default value of `n_init` will change from 3 to 'auto' in 1.4. Set the value of `n_init` explicitly to suppress the warning\n",
      "C:\\Users\\USER\\AppData\\Roaming\\Python\\Python39\\site-packages\\sklearn\\cluster\\_kmeans.py:870: FutureWarning: The default value of `n_init` will change from 3 to 'auto' in 1.4. Set the value of `n_init` explicitly to suppress the warning\n",
      "C:\\Users\\USER\\AppData\\Roaming\\Python\\Python39\\site-packages\\sklearn\\cluster\\_kmeans.py:870: FutureWarning: The default value of `n_init` will change from 3 to 'auto' in 1.4. Set the value of `n_init` explicitly to suppress the warning\n",
      "C:\\Users\\USER\\AppData\\Roaming\\Python\\Python39\\site-packages\\sklearn\\cluster\\_kmeans.py:870: FutureWarning: The default value of `n_init` will change from 3 to 'auto' in 1.4. Set the value of `n_init` explicitly to suppress the warning\n",
      "C:\\Users\\USER\\AppData\\Roaming\\Python\\Python39\\site-packages\\sklearn\\cluster\\_kmeans.py:870: FutureWarning: The default value of `n_init` will change from 3 to 'auto' in 1.4. Set the value of `n_init` explicitly to suppress the warning\n",
      "C:\\Users\\USER\\AppData\\Roaming\\Python\\Python39\\site-packages\\sklearn\\cluster\\_kmeans.py:870: FutureWarning: The default value of `n_init` will change from 3 to 'auto' in 1.4. Set the value of `n_init` explicitly to suppress the warning\n",
      "C:\\Users\\USER\\AppData\\Roaming\\Python\\Python39\\site-packages\\sklearn\\cluster\\_kmeans.py:870: FutureWarning: The default value of `n_init` will change from 3 to 'auto' in 1.4. Set the value of `n_init` explicitly to suppress the warning\n"
     ]
    },
    {
     "name": "stdout",
     "output_type": "stream",
     "text": [
      "3_Default_CatBoost_KMeansFeatures rmse 3.242449 trained in 87.89 seconds\n"
     ]
    },
    {
     "name": "stderr",
     "output_type": "stream",
     "text": [
      "C:\\Users\\USER\\AppData\\Roaming\\Python\\Python39\\site-packages\\sklearn\\cluster\\_kmeans.py:870: FutureWarning: The default value of `n_init` will change from 3 to 'auto' in 1.4. Set the value of `n_init` explicitly to suppress the warning\n",
      "C:\\Users\\USER\\AppData\\Roaming\\Python\\Python39\\site-packages\\sklearn\\cluster\\_kmeans.py:870: FutureWarning: The default value of `n_init` will change from 3 to 'auto' in 1.4. Set the value of `n_init` explicitly to suppress the warning\n",
      "C:\\Users\\USER\\AppData\\Roaming\\Python\\Python39\\site-packages\\sklearn\\cluster\\_kmeans.py:870: FutureWarning: The default value of `n_init` will change from 3 to 'auto' in 1.4. Set the value of `n_init` explicitly to suppress the warning\n",
      "C:\\Users\\USER\\AppData\\Roaming\\Python\\Python39\\site-packages\\sklearn\\cluster\\_kmeans.py:870: FutureWarning: The default value of `n_init` will change from 3 to 'auto' in 1.4. Set the value of `n_init` explicitly to suppress the warning\n",
      "C:\\Users\\USER\\AppData\\Roaming\\Python\\Python39\\site-packages\\sklearn\\cluster\\_kmeans.py:870: FutureWarning: The default value of `n_init` will change from 3 to 'auto' in 1.4. Set the value of `n_init` explicitly to suppress the warning\n",
      "C:\\Users\\USER\\AppData\\Roaming\\Python\\Python39\\site-packages\\sklearn\\cluster\\_kmeans.py:870: FutureWarning: The default value of `n_init` will change from 3 to 'auto' in 1.4. Set the value of `n_init` explicitly to suppress the warning\n",
      "C:\\Users\\USER\\AppData\\Roaming\\Python\\Python39\\site-packages\\sklearn\\cluster\\_kmeans.py:870: FutureWarning: The default value of `n_init` will change from 3 to 'auto' in 1.4. Set the value of `n_init` explicitly to suppress the warning\n",
      "C:\\Users\\USER\\AppData\\Roaming\\Python\\Python39\\site-packages\\sklearn\\cluster\\_kmeans.py:870: FutureWarning: The default value of `n_init` will change from 3 to 'auto' in 1.4. Set the value of `n_init` explicitly to suppress the warning\n",
      "C:\\Users\\USER\\AppData\\Roaming\\Python\\Python39\\site-packages\\sklearn\\cluster\\_kmeans.py:870: FutureWarning: The default value of `n_init` will change from 3 to 'auto' in 1.4. Set the value of `n_init` explicitly to suppress the warning\n",
      "C:\\Users\\USER\\AppData\\Roaming\\Python\\Python39\\site-packages\\sklearn\\cluster\\_kmeans.py:870: FutureWarning: The default value of `n_init` will change from 3 to 'auto' in 1.4. Set the value of `n_init` explicitly to suppress the warning\n"
     ]
    },
    {
     "name": "stdout",
     "output_type": "stream",
     "text": [
      "25_CatBoost_KMeansFeatures rmse 3.242003 trained in 93.83 seconds\n"
     ]
    },
    {
     "name": "stderr",
     "output_type": "stream",
     "text": [
      "C:\\Users\\USER\\AppData\\Roaming\\Python\\Python39\\site-packages\\sklearn\\cluster\\_kmeans.py:870: FutureWarning: The default value of `n_init` will change from 3 to 'auto' in 1.4. Set the value of `n_init` explicitly to suppress the warning\n",
      "C:\\Users\\USER\\AppData\\Roaming\\Python\\Python39\\site-packages\\sklearn\\cluster\\_kmeans.py:870: FutureWarning: The default value of `n_init` will change from 3 to 'auto' in 1.4. Set the value of `n_init` explicitly to suppress the warning\n",
      "C:\\Users\\USER\\AppData\\Roaming\\Python\\Python39\\site-packages\\sklearn\\cluster\\_kmeans.py:870: FutureWarning: The default value of `n_init` will change from 3 to 'auto' in 1.4. Set the value of `n_init` explicitly to suppress the warning\n",
      "C:\\Users\\USER\\AppData\\Roaming\\Python\\Python39\\site-packages\\sklearn\\cluster\\_kmeans.py:870: FutureWarning: The default value of `n_init` will change from 3 to 'auto' in 1.4. Set the value of `n_init` explicitly to suppress the warning\n",
      "C:\\Users\\USER\\AppData\\Roaming\\Python\\Python39\\site-packages\\sklearn\\cluster\\_kmeans.py:870: FutureWarning: The default value of `n_init` will change from 3 to 'auto' in 1.4. Set the value of `n_init` explicitly to suppress the warning\n",
      "C:\\Users\\USER\\AppData\\Roaming\\Python\\Python39\\site-packages\\sklearn\\cluster\\_kmeans.py:870: FutureWarning: The default value of `n_init` will change from 3 to 'auto' in 1.4. Set the value of `n_init` explicitly to suppress the warning\n",
      "C:\\Users\\USER\\AppData\\Roaming\\Python\\Python39\\site-packages\\sklearn\\cluster\\_kmeans.py:870: FutureWarning: The default value of `n_init` will change from 3 to 'auto' in 1.4. Set the value of `n_init` explicitly to suppress the warning\n",
      "C:\\Users\\USER\\AppData\\Roaming\\Python\\Python39\\site-packages\\sklearn\\cluster\\_kmeans.py:870: FutureWarning: The default value of `n_init` will change from 3 to 'auto' in 1.4. Set the value of `n_init` explicitly to suppress the warning\n",
      "C:\\Users\\USER\\AppData\\Roaming\\Python\\Python39\\site-packages\\sklearn\\cluster\\_kmeans.py:870: FutureWarning: The default value of `n_init` will change from 3 to 'auto' in 1.4. Set the value of `n_init` explicitly to suppress the warning\n",
      "C:\\Users\\USER\\AppData\\Roaming\\Python\\Python39\\site-packages\\sklearn\\cluster\\_kmeans.py:870: FutureWarning: The default value of `n_init` will change from 3 to 'auto' in 1.4. Set the value of `n_init` explicitly to suppress the warning\n"
     ]
    },
    {
     "name": "stdout",
     "output_type": "stream",
     "text": [
      "31_CatBoost_KMeansFeatures rmse 3.242452 trained in 148.1 seconds\n",
      "* Step insert_random_feature will try to check up to 1 model\n",
      "3_Default_CatBoost_GoldenFeatures_RandomFeature rmse 3.241475 trained in 138.47 seconds\n",
      "Drop features ['차대차_sum_달서구 호림동', '토요일', '달서구 상인동', '북구 노원동1가_diff_차대차', '차량단독', '단일로 - 터널', '동구 덕곡동', '젖음/습기', '금요일', '화요일', '북구 금호동', '동구 용수동', '목요일', '차대차', '비', '중구 북성로1가', '동구 불로동', '동구 중대동', '북구 칠성동2가', '북구 조야동', '차대차_sum_중구 수창동', '중구 달성동', '차대차_sum_달서구 파호동', '중구 동인동2가', '맑음', '수성구 수성동4가', '동구 용계동', '북구 고성동3가', '북구 서변동', '동구 진인동', '달성군 다사읍', '동구 신평동', '북구 검단동', '달서구 송현동', '서리/결빙', '달성군 논공읍', '달서구 용산동', '단일로 - 기타', '동구 방촌동', '달성군 가창면', '동구 신암동', '달서구 이곡동', '달서구 장기동', '동구 신서동', '북구 노곡동', '동구 율암동', '달서구 신당동', '수성구 범어동', '달서구 월암동', '동구 대림동', '달성군 화원읍', '북구 동천동', '동구 상매동', '동구 부동', '동구 동호동', '수성구 가천동', '중구 대안동', '중구 포정동', '중구 화전동', '수성구 욱수동', '중구 인교동', '중구 태평로1가', '남구 이천동', '수성구 두산동', '중구 남산동', '동구 도동', '수성구 연호동', '동구 백안동', '수성구 상동', '동구 괴전동', '서구 원대동3가', '중구 동인동4가', '달서구 호림동', '북구 읍내동', '중구 상서동', '북구 노원동3가', '수성구 지산동', '수요일', '수성구 고모동', '달서구 성당동', '북구 태전동', '달성군 유가읍', '달서구 감삼동', '북구 노원동2가', '중구 공평동', '중구 동인동3가', '달서구 본동', '달서구 월성동', '달서구 대천동', '동구 사복동', '달서구 장동', '달서구 파호동', '동구 신기동', '동구 미대동', '북구 고성동2가', '북구 노원동1가', '북구 동변동', '동구 신용동', '동구 평광동', '동구 효목동', '북구 고성동1가', '수성구 중동', '중구 계산동1가', '달서구 갈산동', '중구 서성로2가', '중구 동일동', '중구 동인동1가', '중구 동성로3가', '중구 동성로2가', '중구 동성로1가', '중구 동문동', '중구 덕산동', '중구 대신동', '중구 서문로1가', '중구 서문로2가', '미분류 - 미분류', '중구 향촌동', '중구 하서동', '중구 종로2가', '중구 북성로2가', '중구 종로1가', '중구 전동', '중구 완전동', '중구 시장북로', '중구 수동', '중구 동산동', '중구 남성로', '수성구 노변동', '서구 원대동2가', '서구 내당동', '북구 학정동', '수성구 성동', '중구 교동', '중구 봉산동', '달서구 도원동', '동구 검사동', '중구 삼덕동3가', '동구 동내동', '동구 매여동', '동구 미곡동', '북구 연경동', '동구 도학동', '중구 사일동', '눈', '중구 서성로1가', '적설', '수성구 파동', '중구 계산동2가', '수성구 황금동', '달성군 구지면', '수성구 삼덕동', '북구 매천동', '수성구 수성동1가', '수성구 범물동', '동구 능성동', '북구 관음동', '수성구 수성동3가', '동구 서호동', '중구 수창동', '중구 삼덕동2가', '달서구 호산동', '동구 율하동', '중구 문화동', '수성구 사월동', '동구 지저동', '동구 숙천동', '북구 팔달동', '북구 침산동', '수성구 수성동2가', '동구 각산동', '북구 사수동', '달서구 유천동', '달서구 두류동', '수성구 매호동', '달서구 죽전동', '달서구 본리동', '노면상태-기타', '달서구 대곡동', '서구 중리동', '달성군 현풍읍', '북구 칠성동1가', '침수', '수성구 신매동', '동구 봉무동', '수성구 이천동', '기상상태-기타', '단일로 - 지하차도(도로)내', '수성구 만촌동', '월요일', '북구 산격동', '서구 이현동', '중구 대봉동', '동구 신천동', '북구 대현동', '남구 봉덕동', '수성구 시지동', '중구 남일동', '수성구 대흥동', '중구 태평로3가', '북구 국우동', '동구 송정동', '북구 복현동', '서구 원대동1가', '달성군 옥포읍', '달성군 하빈면', '서구 비산동', '동구 입석동', '동구 금강동', '북구 동호동', '동구 지묘동', '서구 평리동', '흐림', '중구 태평로2가', 'random_feature']\n",
      "* Step features_selection will try to check up to 4 models\n",
      "3_Default_CatBoost_GoldenFeatures_SelectedFeatures rmse 3.242527 trained in 20.74 seconds\n",
      "15_LightGBM_SelectedFeatures rmse 3.25215 trained in 19.34 seconds\n",
      "10_Xgboost_SelectedFeatures rmse 3.249639 trained in 12.15 seconds\n",
      "37_RandomForest_SelectedFeatures rmse 3.250936 trained in 29.82 seconds\n",
      "* Step hill_climbing_1 will try to check up to 15 models\n",
      "41_CatBoost_GoldenFeatures rmse 3.453737 trained in 83.13 seconds\n",
      "42_CatBoost_GoldenFeatures rmse 3.447682 trained in 87.41 seconds\n",
      "43_CatBoost rmse 3.462386 trained in 61.93 seconds\n",
      "44_LightGBM rmse 3.243903 trained in 55.0 seconds\n",
      "45_LightGBM rmse 3.242331 trained in 52.93 seconds\n",
      "46_LightGBM rmse 3.242591 trained in 52.19 seconds\n",
      "47_Xgboost rmse 3.242561 trained in 55.71 seconds\n",
      "48_Xgboost rmse 3.241979 trained in 56.98 seconds\n",
      "49_Xgboost rmse 3.241641 trained in 59.44 seconds\n",
      "50_Xgboost rmse 3.242944 trained in 58.81 seconds\n",
      "51_Xgboost rmse 3.243248 trained in 54.68 seconds\n",
      "52_LightGBM rmse 3.243709 trained in 63.29 seconds\n",
      "53_LightGBM rmse 3.243838 trained in 62.93 seconds\n",
      "54_RandomForest rmse 3.247658 trained in 136.76 seconds\n",
      "55_RandomForest rmse 3.248345 trained in 116.68 seconds\n",
      "Skip hill_climbing_2 because no parameters were generated.\n",
      "* Step boost_on_errors will try to check up to 1 model\n",
      "3_Default_CatBoost_GoldenFeatures_BoostOnErrors rmse 3.230885 trained in 71.78 seconds\n",
      "* Step ensemble will try to check up to 1 model\n",
      "Ensemble rmse 3.230885 trained in 15.54 seconds\n",
      "* Step stack will try to check up to 39 models\n",
      "3_Default_CatBoost_GoldenFeatures_Stacked rmse 3.238659 trained in 71.19 seconds\n",
      "49_Xgboost_Stacked rmse 3.242524 trained in 67.82 seconds\n",
      "45_LightGBM_Stacked rmse 3.240552 trained in 55.23 seconds\n",
      "37_RandomForest_Stacked rmse 3.238187 trained in 478.83 seconds\n",
      "25_CatBoost_GoldenFeatures_Stacked rmse 3.238233 trained in 78.65 seconds\n",
      "48_Xgboost_Stacked rmse 3.240555 trained in 58.39 seconds\n",
      "15_LightGBM_Stacked rmse 3.245855 trained in 58.37 seconds\n",
      "36_RandomForest_Stacked rmse 3.238435 trained in 367.31 seconds\n",
      "3_Default_CatBoost_Stacked rmse 3.239804 trained in 59.91 seconds\n",
      "10_Xgboost_Stacked rmse 3.240864 trained in 57.79 seconds\n",
      "14_LightGBM_Stacked rmse 3.24 trained in 54.74 seconds\n",
      "40_RandomForest_Stacked rmse 3.238146 trained in 400.15 seconds\n",
      "31_CatBoost_GoldenFeatures_Stacked rmse 3.238709 trained in 114.05 seconds\n",
      "47_Xgboost_Stacked rmse 3.241771 trained in 57.26 seconds\n",
      "46_LightGBM_Stacked rmse 3.240026 trained in 55.39 seconds\n",
      "54_RandomForest_Stacked rmse 3.238194 trained in 299.66 seconds\n",
      "25_CatBoost_Stacked rmse 3.238436 trained in 67.77 seconds\n",
      "11_Xgboost_Stacked rmse 3.243089 trained in 67.11 seconds\n",
      "16_LightGBM_Stacked rmse 3.240692 trained in 68.67 seconds\n",
      "35_RandomForest_Stacked rmse 3.238106 trained in 305.13 seconds\n",
      "31_CatBoost_Stacked rmse 3.238459 trained in 100.84 seconds\n",
      "9_Xgboost_Stacked rmse 3.241974 trained in 60.11 seconds\n",
      "1_Default_LightGBM_Stacked rmse 3.241103 trained in 75.19 seconds\n",
      "34_RandomForest_Stacked rmse 3.238569 trained in 499.32 seconds\n"
     ]
    },
    {
     "name": "stderr",
     "output_type": "stream",
     "text": [
      "C:\\Users\\USER\\AppData\\Roaming\\Python\\Python39\\site-packages\\sklearn\\cluster\\_kmeans.py:870: FutureWarning: The default value of `n_init` will change from 3 to 'auto' in 1.4. Set the value of `n_init` explicitly to suppress the warning\n",
      "C:\\Users\\USER\\AppData\\Roaming\\Python\\Python39\\site-packages\\sklearn\\cluster\\_kmeans.py:870: FutureWarning: The default value of `n_init` will change from 3 to 'auto' in 1.4. Set the value of `n_init` explicitly to suppress the warning\n",
      "C:\\Users\\USER\\AppData\\Roaming\\Python\\Python39\\site-packages\\sklearn\\cluster\\_kmeans.py:870: FutureWarning: The default value of `n_init` will change from 3 to 'auto' in 1.4. Set the value of `n_init` explicitly to suppress the warning\n",
      "C:\\Users\\USER\\AppData\\Roaming\\Python\\Python39\\site-packages\\sklearn\\cluster\\_kmeans.py:870: FutureWarning: The default value of `n_init` will change from 3 to 'auto' in 1.4. Set the value of `n_init` explicitly to suppress the warning\n",
      "C:\\Users\\USER\\AppData\\Roaming\\Python\\Python39\\site-packages\\sklearn\\cluster\\_kmeans.py:870: FutureWarning: The default value of `n_init` will change from 3 to 'auto' in 1.4. Set the value of `n_init` explicitly to suppress the warning\n",
      "C:\\Users\\USER\\AppData\\Roaming\\Python\\Python39\\site-packages\\sklearn\\cluster\\_kmeans.py:870: FutureWarning: The default value of `n_init` will change from 3 to 'auto' in 1.4. Set the value of `n_init` explicitly to suppress the warning\n",
      "C:\\Users\\USER\\AppData\\Roaming\\Python\\Python39\\site-packages\\sklearn\\cluster\\_kmeans.py:870: FutureWarning: The default value of `n_init` will change from 3 to 'auto' in 1.4. Set the value of `n_init` explicitly to suppress the warning\n",
      "C:\\Users\\USER\\AppData\\Roaming\\Python\\Python39\\site-packages\\sklearn\\cluster\\_kmeans.py:870: FutureWarning: The default value of `n_init` will change from 3 to 'auto' in 1.4. Set the value of `n_init` explicitly to suppress the warning\n",
      "C:\\Users\\USER\\AppData\\Roaming\\Python\\Python39\\site-packages\\sklearn\\cluster\\_kmeans.py:870: FutureWarning: The default value of `n_init` will change from 3 to 'auto' in 1.4. Set the value of `n_init` explicitly to suppress the warning\n",
      "C:\\Users\\USER\\AppData\\Roaming\\Python\\Python39\\site-packages\\sklearn\\cluster\\_kmeans.py:870: FutureWarning: The default value of `n_init` will change from 3 to 'auto' in 1.4. Set the value of `n_init` explicitly to suppress the warning\n"
     ]
    },
    {
     "name": "stdout",
     "output_type": "stream",
     "text": [
      "25_CatBoost_KMeansFeatures_Stacked rmse 3.23775 trained in 96.67 seconds\n",
      "50_Xgboost_Stacked rmse 3.242631 trained in 67.93 seconds\n",
      "22_LightGBM_Stacked rmse 3.2391 trained in 56.18 seconds\n",
      "55_RandomForest_Stacked rmse 3.238426 trained in 342.16 seconds\n",
      "23_CatBoost_Stacked rmse 3.23815 trained in 98.73 seconds\n",
      "51_Xgboost_Stacked rmse 3.242991 trained in 60.9 seconds\n",
      "21_LightGBM_Stacked rmse 3.241118 trained in 58.5 seconds\n",
      "4_Default_RandomForest_Stacked rmse 3.238811 trained in 360.85 seconds\n"
     ]
    },
    {
     "name": "stderr",
     "output_type": "stream",
     "text": [
      "C:\\Users\\USER\\AppData\\Roaming\\Python\\Python39\\site-packages\\sklearn\\cluster\\_kmeans.py:870: FutureWarning: The default value of `n_init` will change from 3 to 'auto' in 1.4. Set the value of `n_init` explicitly to suppress the warning\n",
      "C:\\Users\\USER\\AppData\\Roaming\\Python\\Python39\\site-packages\\sklearn\\cluster\\_kmeans.py:870: FutureWarning: The default value of `n_init` will change from 3 to 'auto' in 1.4. Set the value of `n_init` explicitly to suppress the warning\n",
      "C:\\Users\\USER\\AppData\\Roaming\\Python\\Python39\\site-packages\\sklearn\\cluster\\_kmeans.py:870: FutureWarning: The default value of `n_init` will change from 3 to 'auto' in 1.4. Set the value of `n_init` explicitly to suppress the warning\n",
      "C:\\Users\\USER\\AppData\\Roaming\\Python\\Python39\\site-packages\\sklearn\\cluster\\_kmeans.py:870: FutureWarning: The default value of `n_init` will change from 3 to 'auto' in 1.4. Set the value of `n_init` explicitly to suppress the warning\n",
      "C:\\Users\\USER\\AppData\\Roaming\\Python\\Python39\\site-packages\\sklearn\\cluster\\_kmeans.py:870: FutureWarning: The default value of `n_init` will change from 3 to 'auto' in 1.4. Set the value of `n_init` explicitly to suppress the warning\n",
      "C:\\Users\\USER\\AppData\\Roaming\\Python\\Python39\\site-packages\\sklearn\\cluster\\_kmeans.py:870: FutureWarning: The default value of `n_init` will change from 3 to 'auto' in 1.4. Set the value of `n_init` explicitly to suppress the warning\n",
      "C:\\Users\\USER\\AppData\\Roaming\\Python\\Python39\\site-packages\\sklearn\\cluster\\_kmeans.py:870: FutureWarning: The default value of `n_init` will change from 3 to 'auto' in 1.4. Set the value of `n_init` explicitly to suppress the warning\n",
      "C:\\Users\\USER\\AppData\\Roaming\\Python\\Python39\\site-packages\\sklearn\\cluster\\_kmeans.py:870: FutureWarning: The default value of `n_init` will change from 3 to 'auto' in 1.4. Set the value of `n_init` explicitly to suppress the warning\n",
      "C:\\Users\\USER\\AppData\\Roaming\\Python\\Python39\\site-packages\\sklearn\\cluster\\_kmeans.py:870: FutureWarning: The default value of `n_init` will change from 3 to 'auto' in 1.4. Set the value of `n_init` explicitly to suppress the warning\n",
      "C:\\Users\\USER\\AppData\\Roaming\\Python\\Python39\\site-packages\\sklearn\\cluster\\_kmeans.py:870: FutureWarning: The default value of `n_init` will change from 3 to 'auto' in 1.4. Set the value of `n_init` explicitly to suppress the warning\n"
     ]
    },
    {
     "name": "stdout",
     "output_type": "stream",
     "text": [
      "3_Default_CatBoost_KMeansFeatures_Stacked rmse 3.238077 trained in 90.9 seconds\n",
      "8_Xgboost_Stacked rmse 3.247068 trained in 62.19 seconds\n",
      "18_LightGBM_Stacked rmse 3.246241 trained in 61.89 seconds\n",
      "38_RandomForest_Stacked rmse 3.238367 trained in 243.32 seconds\n",
      "7_Xgboost_Stacked rmse 3.245233 trained in 62.06 seconds\n",
      "20_LightGBM_Stacked rmse 3.240546 trained in 65.99 seconds\n",
      "37_RandomForest_SelectedFeatures_Stacked rmse 3.237665 trained in 322.58 seconds\n",
      "* Step ensemble_stacked will try to check up to 1 model\n",
      "Ensemble_Stacked rmse 3.230885 trained in 44.57 seconds\n",
      "AutoML fit time: 11390.42 seconds\n",
      "AutoML best model: 3_Default_CatBoost_GoldenFeatures_BoostOnErrors\n"
     ]
    },
    {
     "data": {
      "text/html": [
       "<style>#sk-container-id-1 {color: black;background-color: white;}#sk-container-id-1 pre{padding: 0;}#sk-container-id-1 div.sk-toggleable {background-color: white;}#sk-container-id-1 label.sk-toggleable__label {cursor: pointer;display: block;width: 100%;margin-bottom: 0;padding: 0.3em;box-sizing: border-box;text-align: center;}#sk-container-id-1 label.sk-toggleable__label-arrow:before {content: \"▸\";float: left;margin-right: 0.25em;color: #696969;}#sk-container-id-1 label.sk-toggleable__label-arrow:hover:before {color: black;}#sk-container-id-1 div.sk-estimator:hover label.sk-toggleable__label-arrow:before {color: black;}#sk-container-id-1 div.sk-toggleable__content {max-height: 0;max-width: 0;overflow: hidden;text-align: left;background-color: #f0f8ff;}#sk-container-id-1 div.sk-toggleable__content pre {margin: 0.2em;color: black;border-radius: 0.25em;background-color: #f0f8ff;}#sk-container-id-1 input.sk-toggleable__control:checked~div.sk-toggleable__content {max-height: 200px;max-width: 100%;overflow: auto;}#sk-container-id-1 input.sk-toggleable__control:checked~label.sk-toggleable__label-arrow:before {content: \"▾\";}#sk-container-id-1 div.sk-estimator input.sk-toggleable__control:checked~label.sk-toggleable__label {background-color: #d4ebff;}#sk-container-id-1 div.sk-label input.sk-toggleable__control:checked~label.sk-toggleable__label {background-color: #d4ebff;}#sk-container-id-1 input.sk-hidden--visually {border: 0;clip: rect(1px 1px 1px 1px);clip: rect(1px, 1px, 1px, 1px);height: 1px;margin: -1px;overflow: hidden;padding: 0;position: absolute;width: 1px;}#sk-container-id-1 div.sk-estimator {font-family: monospace;background-color: #f0f8ff;border: 1px dotted black;border-radius: 0.25em;box-sizing: border-box;margin-bottom: 0.5em;}#sk-container-id-1 div.sk-estimator:hover {background-color: #d4ebff;}#sk-container-id-1 div.sk-parallel-item::after {content: \"\";width: 100%;border-bottom: 1px solid gray;flex-grow: 1;}#sk-container-id-1 div.sk-label:hover label.sk-toggleable__label {background-color: #d4ebff;}#sk-container-id-1 div.sk-serial::before {content: \"\";position: absolute;border-left: 1px solid gray;box-sizing: border-box;top: 0;bottom: 0;left: 50%;z-index: 0;}#sk-container-id-1 div.sk-serial {display: flex;flex-direction: column;align-items: center;background-color: white;padding-right: 0.2em;padding-left: 0.2em;position: relative;}#sk-container-id-1 div.sk-item {position: relative;z-index: 1;}#sk-container-id-1 div.sk-parallel {display: flex;align-items: stretch;justify-content: center;background-color: white;position: relative;}#sk-container-id-1 div.sk-item::before, #sk-container-id-1 div.sk-parallel-item::before {content: \"\";position: absolute;border-left: 1px solid gray;box-sizing: border-box;top: 0;bottom: 0;left: 50%;z-index: -1;}#sk-container-id-1 div.sk-parallel-item {display: flex;flex-direction: column;z-index: 1;position: relative;background-color: white;}#sk-container-id-1 div.sk-parallel-item:first-child::after {align-self: flex-end;width: 50%;}#sk-container-id-1 div.sk-parallel-item:last-child::after {align-self: flex-start;width: 50%;}#sk-container-id-1 div.sk-parallel-item:only-child::after {width: 0;}#sk-container-id-1 div.sk-dashed-wrapped {border: 1px dashed gray;margin: 0 0.4em 0.5em 0.4em;box-sizing: border-box;padding-bottom: 0.4em;background-color: white;}#sk-container-id-1 div.sk-label label {font-family: monospace;font-weight: bold;display: inline-block;line-height: 1.2em;}#sk-container-id-1 div.sk-label-container {text-align: center;}#sk-container-id-1 div.sk-container {/* jupyter's `normalize.less` sets `[hidden] { display: none; }` but bootstrap.min.css set `[hidden] { display: none !important; }` so we also need the `!important` here to be able to override the default hidden behavior on the sphinx rendered scikit-learn.org. See: https://github.com/scikit-learn/scikit-learn/issues/21755 */display: inline-block !important;position: relative;}#sk-container-id-1 div.sk-text-repr-fallback {display: none;}</style><div id=\"sk-container-id-1\" class=\"sk-top-container\"><div class=\"sk-text-repr-fallback\"><pre>AutoML(algorithms=[&#x27;Random Forest&#x27;, &#x27;LightGBM&#x27;, &#x27;Xgboost&#x27;, &#x27;CatBoost&#x27;],\n",
       "       eval_metric=&#x27;rmse&#x27;, ml_task=&#x27;regression&#x27;, mode=&#x27;Compete&#x27;,\n",
       "       total_time_limit=43200)</pre><b>In a Jupyter environment, please rerun this cell to show the HTML representation or trust the notebook. <br />On GitHub, the HTML representation is unable to render, please try loading this page with nbviewer.org.</b></div><div class=\"sk-container\" hidden><div class=\"sk-item\"><div class=\"sk-estimator sk-toggleable\"><input class=\"sk-toggleable__control sk-hidden--visually\" id=\"sk-estimator-id-1\" type=\"checkbox\" checked><label for=\"sk-estimator-id-1\" class=\"sk-toggleable__label sk-toggleable__label-arrow\">AutoML</label><div class=\"sk-toggleable__content\"><pre>AutoML(algorithms=[&#x27;Random Forest&#x27;, &#x27;LightGBM&#x27;, &#x27;Xgboost&#x27;, &#x27;CatBoost&#x27;],\n",
       "       eval_metric=&#x27;rmse&#x27;, ml_task=&#x27;regression&#x27;, mode=&#x27;Compete&#x27;,\n",
       "       total_time_limit=43200)</pre></div></div></div></div></div>"
      ],
      "text/plain": [
       "AutoML(algorithms=['Random Forest', 'LightGBM', 'Xgboost', 'CatBoost'],\n",
       "       eval_metric='rmse', ml_task='regression', mode='Compete',\n",
       "       total_time_limit=43200)"
      ]
     },
     "execution_count": 7,
     "metadata": {},
     "output_type": "execute_result"
    }
   ],
   "source": [
    "automl.fit(X, y)"
   ]
  },
  {
   "cell_type": "markdown",
   "id": "31a82785",
   "metadata": {},
   "source": [
    "---"
   ]
  },
  {
   "cell_type": "code",
   "execution_count": 20,
   "id": "38819853",
   "metadata": {
    "ExecuteTime": {
     "end_time": "2023-12-10T08:35:26.285246Z",
     "start_time": "2023-12-10T08:35:26.221678Z"
    }
   },
   "outputs": [],
   "source": [
    "sub_file = pd.read_csv(\"../data/sample_submission.csv\")"
   ]
  },
  {
   "cell_type": "code",
   "execution_count": 21,
   "id": "19febc39",
   "metadata": {
    "ExecuteTime": {
     "end_time": "2023-12-10T08:35:59.136489Z",
     "start_time": "2023-12-10T08:35:44.761834Z"
    }
   },
   "outputs": [],
   "source": [
    "pred = automl.predict(df_test)"
   ]
  },
  {
   "cell_type": "code",
   "execution_count": 22,
   "id": "1ce4c245",
   "metadata": {
    "ExecuteTime": {
     "end_time": "2023-12-10T08:36:15.971815Z",
     "start_time": "2023-12-10T08:36:15.950801Z"
    }
   },
   "outputs": [],
   "source": [
    "sub_file.ECLO = pred"
   ]
  },
  {
   "cell_type": "code",
   "execution_count": 25,
   "id": "9d818c1a",
   "metadata": {
    "ExecuteTime": {
     "end_time": "2023-12-10T08:36:50.505373Z",
     "start_time": "2023-12-10T08:36:50.437439Z"
    }
   },
   "outputs": [],
   "source": [
    "sub_file.to_csv(\"../data/sub_file/021automl.csv\", index=False)"
   ]
  }
 ],
 "metadata": {
  "hide_input": false,
  "kernelspec": {
   "display_name": "Python 3 (ipykernel)",
   "language": "python",
   "name": "python3"
  },
  "language_info": {
   "codemirror_mode": {
    "name": "ipython",
    "version": 3
   },
   "file_extension": ".py",
   "mimetype": "text/x-python",
   "name": "python",
   "nbconvert_exporter": "python",
   "pygments_lexer": "ipython3",
   "version": "3.9.12"
  },
  "toc": {
   "base_numbering": 1,
   "nav_menu": {},
   "number_sections": true,
   "sideBar": true,
   "skip_h1_title": false,
   "title_cell": "Table of Contents",
   "title_sidebar": "Contents",
   "toc_cell": false,
   "toc_position": {},
   "toc_section_display": true,
   "toc_window_display": false
  },
  "varInspector": {
   "cols": {
    "lenName": 16,
    "lenType": 16,
    "lenVar": 40
   },
   "kernels_config": {
    "python": {
     "delete_cmd_postfix": "",
     "delete_cmd_prefix": "del ",
     "library": "var_list.py",
     "varRefreshCmd": "print(var_dic_list())"
    },
    "r": {
     "delete_cmd_postfix": ") ",
     "delete_cmd_prefix": "rm(",
     "library": "var_list.r",
     "varRefreshCmd": "cat(var_dic_list()) "
    }
   },
   "types_to_exclude": [
    "module",
    "function",
    "builtin_function_or_method",
    "instance",
    "_Feature"
   ],
   "window_display": false
  }
 },
 "nbformat": 4,
 "nbformat_minor": 5
}
