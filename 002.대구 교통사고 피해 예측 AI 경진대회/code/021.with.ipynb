{
 "cells": [
  {
   "cell_type": "code",
   "execution_count": 116,
   "id": "b8342452",
   "metadata": {
    "ExecuteTime": {
     "end_time": "2023-12-08T14:39:04.628985Z",
     "start_time": "2023-12-08T14:39:04.610459Z"
    },
    "scrolled": false
   },
   "outputs": [],
   "source": [
    "import numpy as np\n",
    "import pandas as pd\n",
    "import tensorflow as tf\n",
    "import matplotlib.pyplot as plt\n",
    "\n",
    "from sklearn.model_selection import train_test_split\n",
    "\n",
    "plt.rc('font', family='Malgun Gothic')  # 폰트 지정\n",
    "plt.rc('axes', unicode_minus=False)  # 마이너스 폰트 설정\n",
    "%config InlineBackend.figure_format = 'retina'  # 그래프 글씨 뚜렷"
   ]
  },
  {
   "cell_type": "code",
   "execution_count": 117,
   "id": "111ab96e",
   "metadata": {
    "ExecuteTime": {
     "end_time": "2023-12-08T14:39:04.877555Z",
     "start_time": "2023-12-08T14:39:04.736289Z"
    }
   },
   "outputs": [],
   "source": [
    "df_train = pd.read_csv(\"../data/df_train_004.csv\")\n",
    "df_test = pd.read_csv(\"../data/df_test_004.csv\")\n",
    "\n",
    "df_train['target'] = df_train['사망자수']*10 + df_train['중상자수']*5 + df_train['경상자수']*3 + df_train['부상자수']\n",
    "df_train.drop(columns = ['사망자수','중상자수','경상자수','부상자수'], axis=1, inplace = True)"
   ]
  },
  {
   "cell_type": "code",
   "execution_count": 118,
   "id": "047e5346",
   "metadata": {
    "ExecuteTime": {
     "end_time": "2023-12-08T14:39:04.971670Z",
     "start_time": "2023-12-08T14:39:04.959598Z"
    }
   },
   "outputs": [],
   "source": [
    "X = df_train.drop(columns = 'target',axis=1)\n",
    "y = df_train['target']"
   ]
  },
  {
   "cell_type": "code",
   "execution_count": 119,
   "id": "41e73b1d",
   "metadata": {
    "ExecuteTime": {
     "end_time": "2023-12-08T14:39:05.081221Z",
     "start_time": "2023-12-08T14:39:05.052878Z"
    }
   },
   "outputs": [],
   "source": [
    "x_train, x_test, y_train , y_test = train_test_split(X, y, test_size = 0.2, random_state=42 )"
   ]
  },
  {
   "cell_type": "code",
   "execution_count": 120,
   "id": "9263ae53",
   "metadata": {
    "ExecuteTime": {
     "end_time": "2023-12-08T14:39:05.190105Z",
     "start_time": "2023-12-08T14:39:05.177485Z"
    }
   },
   "outputs": [],
   "source": [
    "import os\n",
    "import random"
   ]
  },
  {
   "cell_type": "code",
   "execution_count": 121,
   "id": "bf0be064",
   "metadata": {
    "ExecuteTime": {
     "end_time": "2023-12-08T14:39:05.282844Z",
     "start_time": "2023-12-08T14:39:05.272974Z"
    }
   },
   "outputs": [],
   "source": [
    "def seed_everything(seed):\n",
    "    random.seed(seed)\n",
    "    os.environ['PYTHONHASHSEED'] = str(seed)\n",
    "    np.random.seed(seed)\n",
    "\n",
    "seed_everything(42)"
   ]
  },
  {
   "cell_type": "markdown",
   "id": "b462c4a0",
   "metadata": {},
   "source": [
    "# plzplz"
   ]
  },
  {
   "cell_type": "code",
   "execution_count": 122,
   "id": "1c0232d4",
   "metadata": {
    "ExecuteTime": {
     "end_time": "2023-12-08T14:39:05.984404Z",
     "start_time": "2023-12-08T14:39:05.843172Z"
    }
   },
   "outputs": [],
   "source": [
    "model = tf.keras.Sequential([\n",
    "    tf.keras.layers.Dense(100, input_shape=[33]),\n",
    "    tf.keras.layers.BatchNormalization(),\n",
    "    tf.keras.layers.LeakyReLU(alpha=0.2),\n",
    "    tf.keras.layers.Dense(100),\n",
    "    tf.keras.layers.BatchNormalization(),\n",
    "    tf.keras.layers.LeakyReLU(alpha=0.2),\n",
    "    tf.keras.layers.Dense(100),\n",
    "    tf.keras.layers.BatchNormalization(),\n",
    "    tf.keras.layers.LeakyReLU(alpha=0.2),\n",
    "    tf.keras.layers.Dense(100),\n",
    "    tf.keras.layers.BatchNormalization(),\n",
    "    tf.keras.layers.LeakyReLU(alpha=0.2),\n",
    "    tf.keras.layers.Dense(1)\n",
    "])"
   ]
  },
  {
   "cell_type": "code",
   "execution_count": 123,
   "id": "88079d75",
   "metadata": {
    "ExecuteTime": {
     "end_time": "2023-12-08T14:39:12.238079Z",
     "start_time": "2023-12-08T14:39:12.212065Z"
    }
   },
   "outputs": [],
   "source": [
    "model.compile(optimizer = tf.keras.optimizers.Adam(learning_rate=0.0001), loss='mse', metrics=['mean_squared_logarithmic_error']) # mean_squared_logarithmic_error"
   ]
  },
  {
   "cell_type": "code",
   "execution_count": 124,
   "id": "c5d9ffe8",
   "metadata": {
    "ExecuteTime": {
     "end_time": "2023-12-08T14:39:12.860184Z",
     "start_time": "2023-12-08T14:39:12.841221Z"
    }
   },
   "outputs": [],
   "source": [
    "from keras.callbacks import EarlyStopping\n",
    "\n",
    "early_stopping = EarlyStopping(monitor='loss')"
   ]
  },
  {
   "cell_type": "code",
   "execution_count": 125,
   "id": "377e4003",
   "metadata": {
    "ExecuteTime": {
     "end_time": "2023-12-08T14:39:59.900369Z",
     "start_time": "2023-12-08T14:39:13.493425Z"
    },
    "scrolled": false
   },
   "outputs": [
    {
     "name": "stdout",
     "output_type": "stream",
     "text": [
      "Epoch 1/20\n",
      "990/990 [==============================] - 7s 5ms/step - loss: 22.3214 - mean_squared_logarithmic_error: 1.1139 - val_loss: 12.9544 - val_mean_squared_logarithmic_error: 0.2526\n",
      "Epoch 2/20\n",
      "990/990 [==============================] - 6s 6ms/step - loss: 10.8264 - mean_squared_logarithmic_error: 0.2165 - val_loss: 10.7246 - val_mean_squared_logarithmic_error: 0.2162\n",
      "Epoch 3/20\n",
      "990/990 [==============================] - 5s 5ms/step - loss: 10.0573 - mean_squared_logarithmic_error: 0.2138 - val_loss: 10.5479 - val_mean_squared_logarithmic_error: 0.2130\n",
      "Epoch 4/20\n",
      "990/990 [==============================] - 5s 5ms/step - loss: 10.0031 - mean_squared_logarithmic_error: 0.2133 - val_loss: 10.5228 - val_mean_squared_logarithmic_error: 0.2158\n",
      "Epoch 5/20\n",
      "990/990 [==============================] - 6s 6ms/step - loss: 9.9957 - mean_squared_logarithmic_error: 0.2144 - val_loss: 10.5225 - val_mean_squared_logarithmic_error: 0.2125\n",
      "Epoch 6/20\n",
      "990/990 [==============================] - 6s 6ms/step - loss: 9.9703 - mean_squared_logarithmic_error: 0.2133 - val_loss: 10.5180 - val_mean_squared_logarithmic_error: 0.2128\n",
      "Epoch 7/20\n",
      "990/990 [==============================] - 5s 5ms/step - loss: 9.9511 - mean_squared_logarithmic_error: 0.2128 - val_loss: 10.4767 - val_mean_squared_logarithmic_error: 0.2134\n",
      "Epoch 8/20\n",
      "990/990 [==============================] - 5s 5ms/step - loss: 9.9552 - mean_squared_logarithmic_error: 0.2129 - val_loss: 10.4618 - val_mean_squared_logarithmic_error: 0.2129\n"
     ]
    }
   ],
   "source": [
    "history = model.fit(x_train, y_train, validation_data=(x_test, y_test), epochs=20, callbacks=early_stopping)"
   ]
  },
  {
   "cell_type": "code",
   "execution_count": 129,
   "id": "38819853",
   "metadata": {
    "ExecuteTime": {
     "end_time": "2023-12-08T14:41:38.735648Z",
     "start_time": "2023-12-08T14:41:38.716761Z"
    }
   },
   "outputs": [],
   "source": [
    "sub_file = pd.read_csv(\"../data/sample_submission.csv\")"
   ]
  },
  {
   "cell_type": "code",
   "execution_count": 130,
   "id": "8b0be793",
   "metadata": {
    "ExecuteTime": {
     "end_time": "2023-12-08T14:41:39.606107Z",
     "start_time": "2023-12-08T14:41:38.840298Z"
    }
   },
   "outputs": [
    {
     "name": "stdout",
     "output_type": "stream",
     "text": [
      "343/343 [==============================] - 1s 2ms/step\n"
     ]
    }
   ],
   "source": [
    "sub_file['ECLO'] = model.predict(df_test)"
   ]
  },
  {
   "cell_type": "code",
   "execution_count": 131,
   "id": "9d818c1a",
   "metadata": {
    "ExecuteTime": {
     "end_time": "2023-12-08T14:42:04.752299Z",
     "start_time": "2023-12-08T14:42:04.699808Z"
    }
   },
   "outputs": [],
   "source": [
    "sub_file.to_csv(\"../data/sub_file/018not_round_mse.csv\", index=False)"
   ]
  },
  {
   "cell_type": "code",
   "execution_count": 132,
   "id": "58dc7ed6",
   "metadata": {
    "ExecuteTime": {
     "end_time": "2023-12-08T14:42:05.988414Z",
     "start_time": "2023-12-08T14:42:05.835589Z"
    }
   },
   "outputs": [
    {
     "data": {
      "text/plain": [
       "<AxesSubplot:>"
      ]
     },
     "execution_count": 132,
     "metadata": {},
     "output_type": "execute_result"
    },
    {
     "data": {
      "image/png": "[encoded data removed]",
      "text/plain": [
       "<Figure size 432x288 with 1 Axes>"
      ]
     },
     "metadata": {
      "image/png": {
       "height": 251,
       "width": 378
      },
      "needs_background": "light"
     },
     "output_type": "display_data"
    }
   ],
   "source": [
    "sub_file.ECLO.hist()"
   ]
  }
 ],
 "metadata": {
  "hide_input": false,
  "kernelspec": {
   "display_name": "Python 3 (ipykernel)",
   "language": "python",
   "name": "python3"
  },
  "language_info": {
   "codemirror_mode": {
    "name": "ipython",
    "version": 3
   },
   "file_extension": ".py",
   "mimetype": "text/x-python",
   "name": "python",
   "nbconvert_exporter": "python",
   "pygments_lexer": "ipython3",
   "version": "3.9.12"
  },
  "toc": {
   "base_numbering": 1,
   "nav_menu": {},
   "number_sections": true,
   "sideBar": true,
   "skip_h1_title": false,
   "title_cell": "Table of Contents",
   "title_sidebar": "Contents",
   "toc_cell": false,
   "toc_position": {},
   "toc_section_display": true,
   "toc_window_display": false
  },
  "varInspector": {
   "cols": {
    "lenName": 16,
    "lenType": 16,
    "lenVar": 40
   },
   "kernels_config": {
    "python": {
     "delete_cmd_postfix": "",
     "delete_cmd_prefix": "del ",
     "library": "var_list.py",
     "varRefreshCmd": "print(var_dic_list())"
    },
    "r": {
     "delete_cmd_postfix": ") ",
     "delete_cmd_prefix": "rm(",
     "library": "var_list.r",
     "varRefreshCmd": "cat(var_dic_list()) "
    }
   },
   "types_to_exclude": [
    "module",
    "function",
    "builtin_function_or_method",
    "instance",
    "_Feature"
   ],
   "window_display": false
  }
 },
 "nbformat": 4,
 "nbformat_minor": 5
}
