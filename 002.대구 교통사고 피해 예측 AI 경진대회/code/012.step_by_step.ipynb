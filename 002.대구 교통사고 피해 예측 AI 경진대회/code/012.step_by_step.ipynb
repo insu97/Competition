{
 "cells": [
  {
   "cell_type": "code",
   "execution_count": 2,
   "id": "c621b42f",
   "metadata": {
    "ExecuteTime": {
     "end_time": "2023-12-02T15:01:22.403427Z",
     "start_time": "2023-12-02T15:01:13.990141Z"
    }
   },
   "outputs": [],
   "source": [
    "import numpy as np\n",
    "import pandas as pd\n",
    "from sklearn.model_selection import train_test_split\n",
    "\n",
    "import lightgbm as lgb"
   ]
  },
  {
   "cell_type": "code",
   "execution_count": 24,
   "id": "08150936",
   "metadata": {
    "ExecuteTime": {
     "end_time": "2023-12-02T14:13:09.591231Z",
     "start_time": "2023-12-02T14:13:09.416930Z"
    }
   },
   "outputs": [],
   "source": [
    "df_train = pd.read_csv(\"../data/train.csv\")\n",
    "df_test = pd.read_csv(\"../data/test.csv\")\n",
    "\n",
    "target_col = ['사망자수','중상자수','경상자수','부상자수']\n",
    "\n",
    "use_col = df_test.columns.tolist()\n",
    "use_col.extend(target_col)\n",
    "\n",
    "df_train = df_train[use_col]"
   ]
  },
  {
   "cell_type": "code",
   "execution_count": 25,
   "id": "2a7a5f0a",
   "metadata": {
    "ExecuteTime": {
     "end_time": "2023-12-02T14:13:09.669022Z",
     "start_time": "2023-12-02T14:13:09.657126Z"
    }
   },
   "outputs": [],
   "source": [
    "df_train['target'] = df_train['사망자수']*10 + df_train['중상자수']*5 + df_train['경상자수']*3 + df_train['부상자수']\n",
    "df_train.drop(columns = ['사망자수','중상자수','경상자수','부상자수'], axis=1, inplace = True)"
   ]
  },
  {
   "cell_type": "markdown",
   "id": "a6a19623",
   "metadata": {},
   "source": [
    "# ID"
   ]
  },
  {
   "cell_type": "code",
   "execution_count": 26,
   "id": "0a0aec03",
   "metadata": {
    "ExecuteTime": {
     "end_time": "2023-12-02T14:13:11.289743Z",
     "start_time": "2023-12-02T14:13:11.264835Z"
    }
   },
   "outputs": [],
   "source": [
    "df_train.drop(['ID'], axis = 1,inplace = True)\n",
    "df_test.drop(['ID'], axis = 1,inplace = True)"
   ]
  },
  {
   "cell_type": "markdown",
   "id": "7bcded79",
   "metadata": {},
   "source": [
    "# 사고일시, 요일\n",
    "    - 요일 사용 -> '년-월-일' 중 '일' 데이터 사용 X\n",
    "    - 월, 시간 사용"
   ]
  },
  {
   "cell_type": "code",
   "execution_count": 27,
   "id": "4c36a321",
   "metadata": {
    "ExecuteTime": {
     "end_time": "2023-12-02T14:13:16.100560Z",
     "start_time": "2023-12-02T14:13:15.923222Z"
    }
   },
   "outputs": [],
   "source": [
    "df_train['date'] = df_train['사고일시'].str.split(expand=True)[0]\n",
    "df_train['time'] = df_train['사고일시'].str.split(expand=True)[1]\n",
    "\n",
    "df_test['date'] = df_test['사고일시'].str.split(expand=True)[0]\n",
    "df_test['time'] = df_test['사고일시'].str.split(expand=True)[1]\n",
    "\n",
    "df_train.drop(['사고일시'], axis = 1,inplace = True)\n",
    "df_test.drop(['사고일시'], axis = 1,inplace = True)"
   ]
  },
  {
   "cell_type": "code",
   "execution_count": 28,
   "id": "c333548c",
   "metadata": {
    "ExecuteTime": {
     "end_time": "2023-12-02T14:13:17.040127Z",
     "start_time": "2023-12-02T14:13:16.923885Z"
    }
   },
   "outputs": [],
   "source": [
    "df_train['month'] = df_train['date'].str.split('-', expand=True)[1]\n",
    "df_test['month'] = df_test['date'].str.split('-', expand=True)[1]"
   ]
  },
  {
   "cell_type": "code",
   "execution_count": 29,
   "id": "786f5249",
   "metadata": {
    "ExecuteTime": {
     "end_time": "2023-12-02T14:13:17.165091Z",
     "start_time": "2023-12-02T14:13:17.136025Z"
    }
   },
   "outputs": [],
   "source": [
    "df_train.drop(['date'], axis = 1,inplace = True)\n",
    "df_test.drop(['date'], axis = 1,inplace = True)"
   ]
  },
  {
   "cell_type": "code",
   "execution_count": 30,
   "id": "99e90d8c",
   "metadata": {
    "ExecuteTime": {
     "end_time": "2023-12-02T14:13:17.341276Z",
     "start_time": "2023-12-02T14:13:17.312296Z"
    }
   },
   "outputs": [],
   "source": [
    "df_train = pd.concat([df_train, pd.get_dummies(df_train['요일'])], axis=1)\n",
    "df_test = pd.concat([df_test, pd.get_dummies(df_test['요일'])], axis=1)\n",
    "\n",
    "df_train.drop(['요일'], axis = 1,inplace = True)\n",
    "df_test.drop(['요일'], axis = 1,inplace = True)"
   ]
  },
  {
   "cell_type": "markdown",
   "id": "5df97753",
   "metadata": {},
   "source": [
    "## 학습"
   ]
  },
  {
   "cell_type": "code",
   "execution_count": 31,
   "id": "70cec894",
   "metadata": {
    "ExecuteTime": {
     "end_time": "2023-12-02T14:13:18.501549Z",
     "start_time": "2023-12-02T14:13:18.494107Z"
    }
   },
   "outputs": [],
   "source": [
    "use_col = ['time','month','월요일','화요일','수요일','목요일','금요일','토요일','일요일']"
   ]
  },
  {
   "cell_type": "code",
   "execution_count": 32,
   "id": "ff95cec3",
   "metadata": {
    "ExecuteTime": {
     "end_time": "2023-12-02T14:13:18.674075Z",
     "start_time": "2023-12-02T14:13:18.651972Z"
    }
   },
   "outputs": [],
   "source": [
    "X = df_train[use_col]\n",
    "y = df_train['target']"
   ]
  },
  {
   "cell_type": "code",
   "execution_count": 33,
   "id": "2b2bc725",
   "metadata": {
    "ExecuteTime": {
     "end_time": "2023-12-02T14:13:18.814178Z",
     "start_time": "2023-12-02T14:13:18.790706Z"
    }
   },
   "outputs": [],
   "source": [
    "X = X.astype('float')"
   ]
  },
  {
   "cell_type": "code",
   "execution_count": 34,
   "id": "2cab514e",
   "metadata": {
    "ExecuteTime": {
     "end_time": "2023-12-02T14:13:18.954562Z",
     "start_time": "2023-12-02T14:13:18.936384Z"
    }
   },
   "outputs": [],
   "source": [
    "x_train, x_test, y_train , y_test = train_test_split(X, y, test_size = 0.3, random_state=42 )"
   ]
  },
  {
   "attachments": {
    "image.png": {
     "image/png": "[encoded data removed]"
    }
   },
   "cell_type": "markdown",
   "id": "e61abfff",
   "metadata": {},
   "source": [
    "![image.png](attachment:image.png)"
   ]
  },
  {
   "cell_type": "code",
   "execution_count": 35,
   "id": "21243e34",
   "metadata": {
    "ExecuteTime": {
     "end_time": "2023-12-02T14:13:19.222435Z",
     "start_time": "2023-12-02T14:13:19.208509Z"
    }
   },
   "outputs": [],
   "source": [
    "model = lgb.LGBMRegressor(learning_rate = 0.055, random_state=42, boosting_type='gbdt')"
   ]
  },
  {
   "cell_type": "code",
   "execution_count": 36,
   "id": "89877e87",
   "metadata": {
    "ExecuteTime": {
     "end_time": "2023-12-02T14:13:20.194072Z",
     "start_time": "2023-12-02T14:13:19.702376Z"
    }
   },
   "outputs": [
    {
     "data": {
      "text/html": [
       "<style>#sk-container-id-2 {color: black;background-color: white;}#sk-container-id-2 pre{padding: 0;}#sk-container-id-2 div.sk-toggleable {background-color: white;}#sk-container-id-2 label.sk-toggleable__label {cursor: pointer;display: block;width: 100%;margin-bottom: 0;padding: 0.3em;box-sizing: border-box;text-align: center;}#sk-container-id-2 label.sk-toggleable__label-arrow:before {content: \"▸\";float: left;margin-right: 0.25em;color: #696969;}#sk-container-id-2 label.sk-toggleable__label-arrow:hover:before {color: black;}#sk-container-id-2 div.sk-estimator:hover label.sk-toggleable__label-arrow:before {color: black;}#sk-container-id-2 div.sk-toggleable__content {max-height: 0;max-width: 0;overflow: hidden;text-align: left;background-color: #f0f8ff;}#sk-container-id-2 div.sk-toggleable__content pre {margin: 0.2em;color: black;border-radius: 0.25em;background-color: #f0f8ff;}#sk-container-id-2 input.sk-toggleable__control:checked~div.sk-toggleable__content {max-height: 200px;max-width: 100%;overflow: auto;}#sk-container-id-2 input.sk-toggleable__control:checked~label.sk-toggleable__label-arrow:before {content: \"▾\";}#sk-container-id-2 div.sk-estimator input.sk-toggleable__control:checked~label.sk-toggleable__label {background-color: #d4ebff;}#sk-container-id-2 div.sk-label input.sk-toggleable__control:checked~label.sk-toggleable__label {background-color: #d4ebff;}#sk-container-id-2 input.sk-hidden--visually {border: 0;clip: rect(1px 1px 1px 1px);clip: rect(1px, 1px, 1px, 1px);height: 1px;margin: -1px;overflow: hidden;padding: 0;position: absolute;width: 1px;}#sk-container-id-2 div.sk-estimator {font-family: monospace;background-color: #f0f8ff;border: 1px dotted black;border-radius: 0.25em;box-sizing: border-box;margin-bottom: 0.5em;}#sk-container-id-2 div.sk-estimator:hover {background-color: #d4ebff;}#sk-container-id-2 div.sk-parallel-item::after {content: \"\";width: 100%;border-bottom: 1px solid gray;flex-grow: 1;}#sk-container-id-2 div.sk-label:hover label.sk-toggleable__label {background-color: #d4ebff;}#sk-container-id-2 div.sk-serial::before {content: \"\";position: absolute;border-left: 1px solid gray;box-sizing: border-box;top: 0;bottom: 0;left: 50%;z-index: 0;}#sk-container-id-2 div.sk-serial {display: flex;flex-direction: column;align-items: center;background-color: white;padding-right: 0.2em;padding-left: 0.2em;position: relative;}#sk-container-id-2 div.sk-item {position: relative;z-index: 1;}#sk-container-id-2 div.sk-parallel {display: flex;align-items: stretch;justify-content: center;background-color: white;position: relative;}#sk-container-id-2 div.sk-item::before, #sk-container-id-2 div.sk-parallel-item::before {content: \"\";position: absolute;border-left: 1px solid gray;box-sizing: border-box;top: 0;bottom: 0;left: 50%;z-index: -1;}#sk-container-id-2 div.sk-parallel-item {display: flex;flex-direction: column;z-index: 1;position: relative;background-color: white;}#sk-container-id-2 div.sk-parallel-item:first-child::after {align-self: flex-end;width: 50%;}#sk-container-id-2 div.sk-parallel-item:last-child::after {align-self: flex-start;width: 50%;}#sk-container-id-2 div.sk-parallel-item:only-child::after {width: 0;}#sk-container-id-2 div.sk-dashed-wrapped {border: 1px dashed gray;margin: 0 0.4em 0.5em 0.4em;box-sizing: border-box;padding-bottom: 0.4em;background-color: white;}#sk-container-id-2 div.sk-label label {font-family: monospace;font-weight: bold;display: inline-block;line-height: 1.2em;}#sk-container-id-2 div.sk-label-container {text-align: center;}#sk-container-id-2 div.sk-container {/* jupyter's `normalize.less` sets `[hidden] { display: none; }` but bootstrap.min.css set `[hidden] { display: none !important; }` so we also need the `!important` here to be able to override the default hidden behavior on the sphinx rendered scikit-learn.org. See: https://github.com/scikit-learn/scikit-learn/issues/21755 */display: inline-block !important;position: relative;}#sk-container-id-2 div.sk-text-repr-fallback {display: none;}</style><div id=\"sk-container-id-2\" class=\"sk-top-container\"><div class=\"sk-text-repr-fallback\"><pre>LGBMRegressor(learning_rate=0.055, random_state=42)</pre><b>In a Jupyter environment, please rerun this cell to show the HTML representation or trust the notebook. <br />On GitHub, the HTML representation is unable to render, please try loading this page with nbviewer.org.</b></div><div class=\"sk-container\" hidden><div class=\"sk-item\"><div class=\"sk-estimator sk-toggleable\"><input class=\"sk-toggleable__control sk-hidden--visually\" id=\"sk-estimator-id-2\" type=\"checkbox\" checked><label for=\"sk-estimator-id-2\" class=\"sk-toggleable__label sk-toggleable__label-arrow\">LGBMRegressor</label><div class=\"sk-toggleable__content\"><pre>LGBMRegressor(learning_rate=0.055, random_state=42)</pre></div></div></div></div></div>"
      ],
      "text/plain": [
       "LGBMRegressor(learning_rate=0.055, random_state=42)"
      ]
     },
     "execution_count": 36,
     "metadata": {},
     "output_type": "execute_result"
    }
   ],
   "source": [
    "model.fit(x_train, y_train) "
   ]
  },
  {
   "cell_type": "code",
   "execution_count": 37,
   "id": "c2298ef2",
   "metadata": {
    "ExecuteTime": {
     "end_time": "2023-12-02T14:13:22.277504Z",
     "start_time": "2023-12-02T14:13:22.252875Z"
    }
   },
   "outputs": [],
   "source": [
    "pred = model.predict(x_test)"
   ]
  },
  {
   "cell_type": "code",
   "execution_count": 38,
   "id": "cfed802c",
   "metadata": {
    "ExecuteTime": {
     "end_time": "2023-12-02T14:13:22.433709Z",
     "start_time": "2023-12-02T14:13:22.420703Z"
    }
   },
   "outputs": [],
   "source": [
    "from sklearn.metrics import mean_squared_error"
   ]
  },
  {
   "cell_type": "code",
   "execution_count": 39,
   "id": "d5cf68fa",
   "metadata": {
    "ExecuteTime": {
     "end_time": "2023-12-02T14:13:22.589156Z",
     "start_time": "2023-12-02T14:13:22.574936Z"
    }
   },
   "outputs": [],
   "source": [
    "def rmse(y_true, y_pred):\n",
    "    return mean_squared_error(y_true, y_pred) ** 0.5"
   ]
  },
  {
   "cell_type": "code",
   "execution_count": 40,
   "id": "693ba320",
   "metadata": {
    "ExecuteTime": {
     "end_time": "2023-12-02T14:13:22.728293Z",
     "start_time": "2023-12-02T14:13:22.712984Z"
    }
   },
   "outputs": [
    {
     "data": {
      "text/plain": [
       "3.159920526750467"
      ]
     },
     "execution_count": 40,
     "metadata": {},
     "output_type": "execute_result"
    }
   ],
   "source": [
    "rmse(y_test, pred)"
   ]
  },
  {
   "cell_type": "code",
   "execution_count": 41,
   "id": "105e980c",
   "metadata": {
    "ExecuteTime": {
     "end_time": "2023-12-02T14:13:23.197430Z",
     "start_time": "2023-12-02T14:13:23.156172Z"
    }
   },
   "outputs": [
    {
     "data": {
      "text/plain": [
       "0.028252581867740045"
      ]
     },
     "execution_count": 41,
     "metadata": {},
     "output_type": "execute_result"
    }
   ],
   "source": [
    "model.score(x_train, y_train)"
   ]
  },
  {
   "cell_type": "code",
   "execution_count": 42,
   "id": "f1d66b01",
   "metadata": {
    "ExecuteTime": {
     "end_time": "2023-12-02T14:13:23.776981Z",
     "start_time": "2023-12-02T14:13:23.750491Z"
    }
   },
   "outputs": [
    {
     "data": {
      "text/plain": [
       "0.0005247524526552638"
      ]
     },
     "execution_count": 42,
     "metadata": {},
     "output_type": "execute_result"
    }
   ],
   "source": [
    "model.score(x_test, y_test)"
   ]
  },
  {
   "cell_type": "markdown",
   "id": "b2157a0c",
   "metadata": {},
   "source": [
    "# 기상상태"
   ]
  },
  {
   "cell_type": "code",
   "execution_count": 44,
   "id": "ef35c640",
   "metadata": {
    "ExecuteTime": {
     "end_time": "2023-12-02T14:14:27.358343Z",
     "start_time": "2023-12-02T14:14:27.330630Z"
    }
   },
   "outputs": [],
   "source": [
    "df_train.drop(df_train[df_train['기상상태'] == '안개'].index, axis = 0, inplace = True)\n",
    "\n",
    "df_train.reset_index(drop=True, inplace = True)"
   ]
  },
  {
   "cell_type": "code",
   "execution_count": 45,
   "id": "6781e3ec",
   "metadata": {
    "ExecuteTime": {
     "end_time": "2023-12-02T14:14:27.513618Z",
     "start_time": "2023-12-02T14:14:27.484093Z"
    }
   },
   "outputs": [],
   "source": [
    "df_train = pd.concat([df_train, pd.get_dummies(df_train['기상상태'])], axis=1)\n",
    "\n",
    "df_test = pd.concat([df_test, pd.get_dummies(df_test['기상상태'])], axis=1)\n",
    "\n",
    "df_train.drop(['기상상태'], axis=1, inplace = True)\n",
    "df_test.drop(['기상상태'], axis=1, inplace = True)"
   ]
  },
  {
   "cell_type": "code",
   "execution_count": 46,
   "id": "372e12cf",
   "metadata": {
    "ExecuteTime": {
     "end_time": "2023-12-02T14:14:27.638585Z",
     "start_time": "2023-12-02T14:14:27.621480Z"
    }
   },
   "outputs": [],
   "source": [
    "df_train.drop(columns='기타', axis=1,inplace=True)\n",
    "df_test.drop(columns='기타', axis=1,inplace=True)"
   ]
  },
  {
   "cell_type": "markdown",
   "id": "4ed19ab9",
   "metadata": {},
   "source": [
    "## 학습"
   ]
  },
  {
   "cell_type": "code",
   "execution_count": 47,
   "id": "ac0fae6d",
   "metadata": {
    "ExecuteTime": {
     "end_time": "2023-12-02T14:14:28.732614Z",
     "start_time": "2023-12-02T14:14:28.724084Z"
    }
   },
   "outputs": [
    {
     "data": {
      "text/plain": [
       "Index(['시군구', '도로형태', '노면상태', '사고유형', 'target', 'time', 'month', '금요일', '목요일',\n",
       "       '수요일', '월요일', '일요일', '토요일', '화요일', '눈', '맑음', '비', '흐림'],\n",
       "      dtype='object')"
      ]
     },
     "execution_count": 47,
     "metadata": {},
     "output_type": "execute_result"
    }
   ],
   "source": [
    "df_train.columns"
   ]
  },
  {
   "cell_type": "code",
   "execution_count": 48,
   "id": "8200b08e",
   "metadata": {
    "ExecuteTime": {
     "end_time": "2023-12-02T14:14:44.065391Z",
     "start_time": "2023-12-02T14:14:44.059599Z"
    }
   },
   "outputs": [],
   "source": [
    "use_col = ['눈', '맑음', '비', '흐림']"
   ]
  },
  {
   "cell_type": "code",
   "execution_count": 49,
   "id": "992b3a5d",
   "metadata": {
    "ExecuteTime": {
     "end_time": "2023-12-02T14:14:45.522650Z",
     "start_time": "2023-12-02T14:14:45.506831Z"
    }
   },
   "outputs": [],
   "source": [
    "X = df_train[use_col]\n",
    "y = df_train['target']"
   ]
  },
  {
   "cell_type": "code",
   "execution_count": 50,
   "id": "5f9ff078",
   "metadata": {
    "ExecuteTime": {
     "end_time": "2023-12-02T14:14:47.362845Z",
     "start_time": "2023-12-02T14:14:47.351654Z"
    }
   },
   "outputs": [],
   "source": [
    "X = X.astype('float')"
   ]
  },
  {
   "cell_type": "code",
   "execution_count": 51,
   "id": "a3a80b8c",
   "metadata": {
    "ExecuteTime": {
     "end_time": "2023-12-02T14:14:49.603948Z",
     "start_time": "2023-12-02T14:14:49.592776Z"
    }
   },
   "outputs": [],
   "source": [
    "x_train, x_test, y_train , y_test = train_test_split(X, y, test_size = 0.3, random_state=42 )"
   ]
  },
  {
   "cell_type": "code",
   "execution_count": 116,
   "id": "8f5e6d18",
   "metadata": {
    "ExecuteTime": {
     "end_time": "2023-12-02T14:16:35.968369Z",
     "start_time": "2023-12-02T14:16:35.955259Z"
    }
   },
   "outputs": [],
   "source": [
    "model = lgb.LGBMRegressor(learning_rate = 0.0113, random_state=42, boosting_type='gbdt')"
   ]
  },
  {
   "cell_type": "code",
   "execution_count": 117,
   "id": "04fc07e1",
   "metadata": {
    "ExecuteTime": {
     "end_time": "2023-12-02T14:16:36.200394Z",
     "start_time": "2023-12-02T14:16:36.109938Z"
    }
   },
   "outputs": [
    {
     "data": {
      "text/html": [
       "<style>#sk-container-id-11 {color: black;background-color: white;}#sk-container-id-11 pre{padding: 0;}#sk-container-id-11 div.sk-toggleable {background-color: white;}#sk-container-id-11 label.sk-toggleable__label {cursor: pointer;display: block;width: 100%;margin-bottom: 0;padding: 0.3em;box-sizing: border-box;text-align: center;}#sk-container-id-11 label.sk-toggleable__label-arrow:before {content: \"▸\";float: left;margin-right: 0.25em;color: #696969;}#sk-container-id-11 label.sk-toggleable__label-arrow:hover:before {color: black;}#sk-container-id-11 div.sk-estimator:hover label.sk-toggleable__label-arrow:before {color: black;}#sk-container-id-11 div.sk-toggleable__content {max-height: 0;max-width: 0;overflow: hidden;text-align: left;background-color: #f0f8ff;}#sk-container-id-11 div.sk-toggleable__content pre {margin: 0.2em;color: black;border-radius: 0.25em;background-color: #f0f8ff;}#sk-container-id-11 input.sk-toggleable__control:checked~div.sk-toggleable__content {max-height: 200px;max-width: 100%;overflow: auto;}#sk-container-id-11 input.sk-toggleable__control:checked~label.sk-toggleable__label-arrow:before {content: \"▾\";}#sk-container-id-11 div.sk-estimator input.sk-toggleable__control:checked~label.sk-toggleable__label {background-color: #d4ebff;}#sk-container-id-11 div.sk-label input.sk-toggleable__control:checked~label.sk-toggleable__label {background-color: #d4ebff;}#sk-container-id-11 input.sk-hidden--visually {border: 0;clip: rect(1px 1px 1px 1px);clip: rect(1px, 1px, 1px, 1px);height: 1px;margin: -1px;overflow: hidden;padding: 0;position: absolute;width: 1px;}#sk-container-id-11 div.sk-estimator {font-family: monospace;background-color: #f0f8ff;border: 1px dotted black;border-radius: 0.25em;box-sizing: border-box;margin-bottom: 0.5em;}#sk-container-id-11 div.sk-estimator:hover {background-color: #d4ebff;}#sk-container-id-11 div.sk-parallel-item::after {content: \"\";width: 100%;border-bottom: 1px solid gray;flex-grow: 1;}#sk-container-id-11 div.sk-label:hover label.sk-toggleable__label {background-color: #d4ebff;}#sk-container-id-11 div.sk-serial::before {content: \"\";position: absolute;border-left: 1px solid gray;box-sizing: border-box;top: 0;bottom: 0;left: 50%;z-index: 0;}#sk-container-id-11 div.sk-serial {display: flex;flex-direction: column;align-items: center;background-color: white;padding-right: 0.2em;padding-left: 0.2em;position: relative;}#sk-container-id-11 div.sk-item {position: relative;z-index: 1;}#sk-container-id-11 div.sk-parallel {display: flex;align-items: stretch;justify-content: center;background-color: white;position: relative;}#sk-container-id-11 div.sk-item::before, #sk-container-id-11 div.sk-parallel-item::before {content: \"\";position: absolute;border-left: 1px solid gray;box-sizing: border-box;top: 0;bottom: 0;left: 50%;z-index: -1;}#sk-container-id-11 div.sk-parallel-item {display: flex;flex-direction: column;z-index: 1;position: relative;background-color: white;}#sk-container-id-11 div.sk-parallel-item:first-child::after {align-self: flex-end;width: 50%;}#sk-container-id-11 div.sk-parallel-item:last-child::after {align-self: flex-start;width: 50%;}#sk-container-id-11 div.sk-parallel-item:only-child::after {width: 0;}#sk-container-id-11 div.sk-dashed-wrapped {border: 1px dashed gray;margin: 0 0.4em 0.5em 0.4em;box-sizing: border-box;padding-bottom: 0.4em;background-color: white;}#sk-container-id-11 div.sk-label label {font-family: monospace;font-weight: bold;display: inline-block;line-height: 1.2em;}#sk-container-id-11 div.sk-label-container {text-align: center;}#sk-container-id-11 div.sk-container {/* jupyter's `normalize.less` sets `[hidden] { display: none; }` but bootstrap.min.css set `[hidden] { display: none !important; }` so we also need the `!important` here to be able to override the default hidden behavior on the sphinx rendered scikit-learn.org. See: https://github.com/scikit-learn/scikit-learn/issues/21755 */display: inline-block !important;position: relative;}#sk-container-id-11 div.sk-text-repr-fallback {display: none;}</style><div id=\"sk-container-id-11\" class=\"sk-top-container\"><div class=\"sk-text-repr-fallback\"><pre>LGBMRegressor(learning_rate=0.0113, random_state=42)</pre><b>In a Jupyter environment, please rerun this cell to show the HTML representation or trust the notebook. <br />On GitHub, the HTML representation is unable to render, please try loading this page with nbviewer.org.</b></div><div class=\"sk-container\" hidden><div class=\"sk-item\"><div class=\"sk-estimator sk-toggleable\"><input class=\"sk-toggleable__control sk-hidden--visually\" id=\"sk-estimator-id-11\" type=\"checkbox\" checked><label for=\"sk-estimator-id-11\" class=\"sk-toggleable__label sk-toggleable__label-arrow\">LGBMRegressor</label><div class=\"sk-toggleable__content\"><pre>LGBMRegressor(learning_rate=0.0113, random_state=42)</pre></div></div></div></div></div>"
      ],
      "text/plain": [
       "LGBMRegressor(learning_rate=0.0113, random_state=42)"
      ]
     },
     "execution_count": 117,
     "metadata": {},
     "output_type": "execute_result"
    }
   ],
   "source": [
    "model.fit(x_train, y_train) "
   ]
  },
  {
   "cell_type": "code",
   "execution_count": 118,
   "id": "d11a61be",
   "metadata": {
    "ExecuteTime": {
     "end_time": "2023-12-02T14:16:36.311060Z",
     "start_time": "2023-12-02T14:16:36.289828Z"
    }
   },
   "outputs": [],
   "source": [
    "pred = model.predict(x_test)"
   ]
  },
  {
   "cell_type": "code",
   "execution_count": 119,
   "id": "a488ec1a",
   "metadata": {
    "ExecuteTime": {
     "end_time": "2023-12-02T14:16:36.482233Z",
     "start_time": "2023-12-02T14:16:36.465972Z"
    }
   },
   "outputs": [],
   "source": [
    "from sklearn.metrics import mean_squared_error"
   ]
  },
  {
   "cell_type": "code",
   "execution_count": 120,
   "id": "2978e99b",
   "metadata": {
    "ExecuteTime": {
     "end_time": "2023-12-02T14:16:36.669286Z",
     "start_time": "2023-12-02T14:16:36.652085Z"
    }
   },
   "outputs": [],
   "source": [
    "def rmse(y_true, y_pred):\n",
    "    return mean_squared_error(y_true, y_pred) ** 0.5"
   ]
  },
  {
   "cell_type": "code",
   "execution_count": 121,
   "id": "8101803c",
   "metadata": {
    "ExecuteTime": {
     "end_time": "2023-12-02T14:16:36.840472Z",
     "start_time": "2023-12-02T14:16:36.824708Z"
    }
   },
   "outputs": [
    {
     "data": {
      "text/plain": [
       "3.2751687062893815"
      ]
     },
     "execution_count": 121,
     "metadata": {},
     "output_type": "execute_result"
    }
   ],
   "source": [
    "rmse(y_test, pred)"
   ]
  },
  {
   "cell_type": "code",
   "execution_count": 122,
   "id": "3ca9774a",
   "metadata": {
    "ExecuteTime": {
     "end_time": "2023-12-02T14:16:37.105309Z",
     "start_time": "2023-12-02T14:16:37.086257Z"
    }
   },
   "outputs": [
    {
     "data": {
      "text/plain": [
       "0.00024114663735241848"
      ]
     },
     "execution_count": 122,
     "metadata": {},
     "output_type": "execute_result"
    }
   ],
   "source": [
    "model.score(x_train, y_train)"
   ]
  },
  {
   "cell_type": "code",
   "execution_count": 123,
   "id": "44cdaa0b",
   "metadata": {
    "ExecuteTime": {
     "end_time": "2023-12-02T14:16:37.541502Z",
     "start_time": "2023-12-02T14:16:37.522268Z"
    }
   },
   "outputs": [
    {
     "data": {
      "text/plain": [
       "1.5978511935799133e-07"
      ]
     },
     "execution_count": 123,
     "metadata": {},
     "output_type": "execute_result"
    }
   ],
   "source": [
    "model.score(x_test, y_test)"
   ]
  },
  {
   "cell_type": "markdown",
   "id": "bc642329",
   "metadata": {},
   "source": [
    "---"
   ]
  },
  {
   "cell_type": "code",
   "execution_count": 1,
   "id": "c78aad67",
   "metadata": {
    "ExecuteTime": {
     "end_time": "2023-12-02T15:01:08.905752Z",
     "start_time": "2023-12-02T15:00:57.989950Z"
    }
   },
   "outputs": [],
   "source": [
    "import numpy as np\n",
    "import pandas as pd\n",
    "import tensorflow as tf\n",
    "import matplotlib.pyplot as plt\n",
    "\n",
    "from sklearn.model_selection import train_test_split\n",
    "\n",
    "plt.rc('font', family='Malgun Gothic')  # 폰트 지정\n",
    "plt.rc('axes', unicode_minus=False)  # 마이너스 폰트 설정\n",
    "%config InlineBackend.figure_format = 'retina'  # 그래프 글씨 뚜렷\n",
    "\n",
    "df_train = pd.read_csv(\"../data/df_train_004.csv\")\n",
    "df_test = pd.read_csv(\"../data/df_test_004.csv\")\n",
    "\n",
    "df_train['target'] = df_train['사망자수']*10 + df_train['중상자수']*5 + df_train['경상자수']*3 + df_train['부상자수']\n",
    "df_train.drop(columns = ['사망자수','중상자수','경상자수','부상자수'], axis=1, inplace = True)\n",
    "\n",
    "X = df_train.drop(columns = 'target',axis=1)\n",
    "y = df_train['target']\n",
    "\n",
    "x_train, x_test, y_train , y_test = train_test_split(X, y, test_size = 0.3, random_state=42 )"
   ]
  },
  {
   "cell_type": "code",
   "execution_count": 29,
   "id": "fecba040",
   "metadata": {
    "ExecuteTime": {
     "end_time": "2023-12-02T15:03:04.851153Z",
     "start_time": "2023-12-02T15:03:04.842241Z"
    }
   },
   "outputs": [],
   "source": [
    "model = lgb.LGBMRegressor(learning_rate = 0.001, random_state=42, boosting_type='gbdt', n_estimators=20000)"
   ]
  },
  {
   "cell_type": "code",
   "execution_count": 30,
   "id": "2fb4eefe",
   "metadata": {
    "ExecuteTime": {
     "end_time": "2023-12-02T15:03:19.777360Z",
     "start_time": "2023-12-02T15:03:05.249547Z"
    }
   },
   "outputs": [
    {
     "data": {
      "text/html": [
       "<style>#sk-container-id-4 {color: black;background-color: white;}#sk-container-id-4 pre{padding: 0;}#sk-container-id-4 div.sk-toggleable {background-color: white;}#sk-container-id-4 label.sk-toggleable__label {cursor: pointer;display: block;width: 100%;margin-bottom: 0;padding: 0.3em;box-sizing: border-box;text-align: center;}#sk-container-id-4 label.sk-toggleable__label-arrow:before {content: \"▸\";float: left;margin-right: 0.25em;color: #696969;}#sk-container-id-4 label.sk-toggleable__label-arrow:hover:before {color: black;}#sk-container-id-4 div.sk-estimator:hover label.sk-toggleable__label-arrow:before {color: black;}#sk-container-id-4 div.sk-toggleable__content {max-height: 0;max-width: 0;overflow: hidden;text-align: left;background-color: #f0f8ff;}#sk-container-id-4 div.sk-toggleable__content pre {margin: 0.2em;color: black;border-radius: 0.25em;background-color: #f0f8ff;}#sk-container-id-4 input.sk-toggleable__control:checked~div.sk-toggleable__content {max-height: 200px;max-width: 100%;overflow: auto;}#sk-container-id-4 input.sk-toggleable__control:checked~label.sk-toggleable__label-arrow:before {content: \"▾\";}#sk-container-id-4 div.sk-estimator input.sk-toggleable__control:checked~label.sk-toggleable__label {background-color: #d4ebff;}#sk-container-id-4 div.sk-label input.sk-toggleable__control:checked~label.sk-toggleable__label {background-color: #d4ebff;}#sk-container-id-4 input.sk-hidden--visually {border: 0;clip: rect(1px 1px 1px 1px);clip: rect(1px, 1px, 1px, 1px);height: 1px;margin: -1px;overflow: hidden;padding: 0;position: absolute;width: 1px;}#sk-container-id-4 div.sk-estimator {font-family: monospace;background-color: #f0f8ff;border: 1px dotted black;border-radius: 0.25em;box-sizing: border-box;margin-bottom: 0.5em;}#sk-container-id-4 div.sk-estimator:hover {background-color: #d4ebff;}#sk-container-id-4 div.sk-parallel-item::after {content: \"\";width: 100%;border-bottom: 1px solid gray;flex-grow: 1;}#sk-container-id-4 div.sk-label:hover label.sk-toggleable__label {background-color: #d4ebff;}#sk-container-id-4 div.sk-serial::before {content: \"\";position: absolute;border-left: 1px solid gray;box-sizing: border-box;top: 0;bottom: 0;left: 50%;z-index: 0;}#sk-container-id-4 div.sk-serial {display: flex;flex-direction: column;align-items: center;background-color: white;padding-right: 0.2em;padding-left: 0.2em;position: relative;}#sk-container-id-4 div.sk-item {position: relative;z-index: 1;}#sk-container-id-4 div.sk-parallel {display: flex;align-items: stretch;justify-content: center;background-color: white;position: relative;}#sk-container-id-4 div.sk-item::before, #sk-container-id-4 div.sk-parallel-item::before {content: \"\";position: absolute;border-left: 1px solid gray;box-sizing: border-box;top: 0;bottom: 0;left: 50%;z-index: -1;}#sk-container-id-4 div.sk-parallel-item {display: flex;flex-direction: column;z-index: 1;position: relative;background-color: white;}#sk-container-id-4 div.sk-parallel-item:first-child::after {align-self: flex-end;width: 50%;}#sk-container-id-4 div.sk-parallel-item:last-child::after {align-self: flex-start;width: 50%;}#sk-container-id-4 div.sk-parallel-item:only-child::after {width: 0;}#sk-container-id-4 div.sk-dashed-wrapped {border: 1px dashed gray;margin: 0 0.4em 0.5em 0.4em;box-sizing: border-box;padding-bottom: 0.4em;background-color: white;}#sk-container-id-4 div.sk-label label {font-family: monospace;font-weight: bold;display: inline-block;line-height: 1.2em;}#sk-container-id-4 div.sk-label-container {text-align: center;}#sk-container-id-4 div.sk-container {/* jupyter's `normalize.less` sets `[hidden] { display: none; }` but bootstrap.min.css set `[hidden] { display: none !important; }` so we also need the `!important` here to be able to override the default hidden behavior on the sphinx rendered scikit-learn.org. See: https://github.com/scikit-learn/scikit-learn/issues/21755 */display: inline-block !important;position: relative;}#sk-container-id-4 div.sk-text-repr-fallback {display: none;}</style><div id=\"sk-container-id-4\" class=\"sk-top-container\"><div class=\"sk-text-repr-fallback\"><pre>LGBMRegressor(learning_rate=0.001, n_estimators=20000, random_state=42)</pre><b>In a Jupyter environment, please rerun this cell to show the HTML representation or trust the notebook. <br />On GitHub, the HTML representation is unable to render, please try loading this page with nbviewer.org.</b></div><div class=\"sk-container\" hidden><div class=\"sk-item\"><div class=\"sk-estimator sk-toggleable\"><input class=\"sk-toggleable__control sk-hidden--visually\" id=\"sk-estimator-id-4\" type=\"checkbox\" checked><label for=\"sk-estimator-id-4\" class=\"sk-toggleable__label sk-toggleable__label-arrow\">LGBMRegressor</label><div class=\"sk-toggleable__content\"><pre>LGBMRegressor(learning_rate=0.001, n_estimators=20000, random_state=42)</pre></div></div></div></div></div>"
      ],
      "text/plain": [
       "LGBMRegressor(learning_rate=0.001, n_estimators=20000, random_state=42)"
      ]
     },
     "execution_count": 30,
     "metadata": {},
     "output_type": "execute_result"
    }
   ],
   "source": [
    "model.fit(x_train, y_train) "
   ]
  },
  {
   "cell_type": "code",
   "execution_count": 31,
   "id": "d77c829d",
   "metadata": {
    "ExecuteTime": {
     "end_time": "2023-12-02T15:03:22.710336Z",
     "start_time": "2023-12-02T15:03:19.966130Z"
    }
   },
   "outputs": [],
   "source": [
    "pred = model.predict(x_test)"
   ]
  },
  {
   "cell_type": "code",
   "execution_count": 32,
   "id": "8ed937b4",
   "metadata": {
    "ExecuteTime": {
     "end_time": "2023-12-02T15:03:22.915541Z",
     "start_time": "2023-12-02T15:03:22.901351Z"
    }
   },
   "outputs": [],
   "source": [
    "from sklearn.metrics import mean_squared_error"
   ]
  },
  {
   "cell_type": "code",
   "execution_count": 33,
   "id": "bf8ac00b",
   "metadata": {
    "ExecuteTime": {
     "end_time": "2023-12-02T15:03:23.102223Z",
     "start_time": "2023-12-02T15:03:23.089569Z"
    }
   },
   "outputs": [],
   "source": [
    "def rmse(y_true, y_pred):\n",
    "    return mean_squared_error(y_true, y_pred) ** 0.5"
   ]
  },
  {
   "cell_type": "code",
   "execution_count": 34,
   "id": "1fb34af2",
   "metadata": {
    "ExecuteTime": {
     "end_time": "2023-12-02T15:03:23.291036Z",
     "start_time": "2023-12-02T15:03:23.277325Z"
    }
   },
   "outputs": [
    {
     "data": {
      "text/plain": [
       "3.2573156506501917"
      ]
     },
     "execution_count": 34,
     "metadata": {},
     "output_type": "execute_result"
    }
   ],
   "source": [
    "rmse(y_test, pred)"
   ]
  },
  {
   "cell_type": "code",
   "execution_count": 35,
   "id": "e7ad1903",
   "metadata": {
    "ExecuteTime": {
     "end_time": "2023-12-02T15:03:29.921048Z",
     "start_time": "2023-12-02T15:03:23.464937Z"
    }
   },
   "outputs": [
    {
     "data": {
      "text/plain": [
       "0.1511123863241337"
      ]
     },
     "execution_count": 35,
     "metadata": {},
     "output_type": "execute_result"
    }
   ],
   "source": [
    "model.score(x_train, y_train)"
   ]
  },
  {
   "cell_type": "code",
   "execution_count": 36,
   "id": "6530a4b2",
   "metadata": {
    "ExecuteTime": {
     "end_time": "2023-12-02T15:03:33.013203Z",
     "start_time": "2023-12-02T15:03:30.112353Z"
    }
   },
   "outputs": [
    {
     "data": {
      "text/plain": [
       "0.010872512073040963"
      ]
     },
     "execution_count": 36,
     "metadata": {},
     "output_type": "execute_result"
    }
   ],
   "source": [
    "model.score(x_test, y_test)"
   ]
  },
  {
   "cell_type": "code",
   "execution_count": 37,
   "id": "809b161f",
   "metadata": {
    "ExecuteTime": {
     "end_time": "2023-12-02T15:03:33.229602Z",
     "start_time": "2023-12-02T15:03:33.202173Z"
    }
   },
   "outputs": [
    {
     "data": {
      "text/html": [
       "<div>\n",
       "<style scoped>\n",
       "    .dataframe tbody tr th:only-of-type {\n",
       "        vertical-align: middle;\n",
       "    }\n",
       "\n",
       "    .dataframe tbody tr th {\n",
       "        vertical-align: top;\n",
       "    }\n",
       "\n",
       "    .dataframe thead th {\n",
       "        text-align: right;\n",
       "    }\n",
       "</style>\n",
       "<table border=\"1\" class=\"dataframe\">\n",
       "  <thead>\n",
       "    <tr style=\"text-align: right;\">\n",
       "      <th></th>\n",
       "      <th>time</th>\n",
       "      <th>month</th>\n",
       "      <th>day</th>\n",
       "      <th>금요일</th>\n",
       "      <th>목요일</th>\n",
       "      <th>수요일</th>\n",
       "      <th>월요일</th>\n",
       "      <th>일요일</th>\n",
       "      <th>토요일</th>\n",
       "      <th>화요일</th>\n",
       "      <th>...</th>\n",
       "      <th>단일로</th>\n",
       "      <th>주차장</th>\n",
       "      <th>건조</th>\n",
       "      <th>서리/결빙</th>\n",
       "      <th>적설</th>\n",
       "      <th>젖음/습기</th>\n",
       "      <th>침수</th>\n",
       "      <th>차대사람</th>\n",
       "      <th>차대차</th>\n",
       "      <th>차량단독</th>\n",
       "    </tr>\n",
       "  </thead>\n",
       "  <tbody>\n",
       "    <tr>\n",
       "      <th>feature_importance</th>\n",
       "      <td>134170</td>\n",
       "      <td>88884</td>\n",
       "      <td>156027</td>\n",
       "      <td>9517</td>\n",
       "      <td>7545</td>\n",
       "      <td>9501</td>\n",
       "      <td>10053</td>\n",
       "      <td>10041</td>\n",
       "      <td>11722</td>\n",
       "      <td>11334</td>\n",
       "      <td>...</td>\n",
       "      <td>17298</td>\n",
       "      <td>1254</td>\n",
       "      <td>3961</td>\n",
       "      <td>0</td>\n",
       "      <td>0</td>\n",
       "      <td>1944</td>\n",
       "      <td>0</td>\n",
       "      <td>5599</td>\n",
       "      <td>9011</td>\n",
       "      <td>3524</td>\n",
       "    </tr>\n",
       "  </tbody>\n",
       "</table>\n",
       "<p>1 rows × 33 columns</p>\n",
       "</div>"
      ],
      "text/plain": [
       "                      time  month     day   금요일   목요일   수요일    월요일    일요일  \\\n",
       "feature_importance  134170  88884  156027  9517  7545  9501  10053  10041   \n",
       "\n",
       "                      토요일    화요일  ...    단일로   주차장    건조  서리/결빙  적설  젖음/습기  \\\n",
       "feature_importance  11722  11334  ...  17298  1254  3961      0   0   1944   \n",
       "\n",
       "                    침수  차대사람   차대차  차량단독  \n",
       "feature_importance   0  5599  9011  3524  \n",
       "\n",
       "[1 rows x 33 columns]"
      ]
     },
     "execution_count": 37,
     "metadata": {},
     "output_type": "execute_result"
    }
   ],
   "source": [
    "feature_importance = pd.DataFrame(model.feature_importances_.reshape((1, -1)), columns=x_train.columns, index=['feature_importance'])\n",
    "feature_importance"
   ]
  }
 ],
 "metadata": {
  "hide_input": false,
  "kernelspec": {
   "display_name": "Python 3 (ipykernel)",
   "language": "python",
   "name": "python3"
  },
  "language_info": {
   "codemirror_mode": {
    "name": "ipython",
    "version": 3
   },
   "file_extension": ".py",
   "mimetype": "text/x-python",
   "name": "python",
   "nbconvert_exporter": "python",
   "pygments_lexer": "ipython3",
   "version": "3.9.12"
  },
  "toc": {
   "base_numbering": 1,
   "nav_menu": {},
   "number_sections": true,
   "sideBar": true,
   "skip_h1_title": false,
   "title_cell": "Table of Contents",
   "title_sidebar": "Contents",
   "toc_cell": false,
   "toc_position": {},
   "toc_section_display": true,
   "toc_window_display": true
  },
  "varInspector": {
   "cols": {
    "lenName": 16,
    "lenType": 16,
    "lenVar": 40
   },
   "kernels_config": {
    "python": {
     "delete_cmd_postfix": "",
     "delete_cmd_prefix": "del ",
     "library": "var_list.py",
     "varRefreshCmd": "print(var_dic_list())"
    },
    "r": {
     "delete_cmd_postfix": ") ",
     "delete_cmd_prefix": "rm(",
     "library": "var_list.r",
     "varRefreshCmd": "cat(var_dic_list()) "
    }
   },
   "types_to_exclude": [
    "module",
    "function",
    "builtin_function_or_method",
    "instance",
    "_Feature"
   ],
   "window_display": false
  }
 },
 "nbformat": 4,
 "nbformat_minor": 5
}
