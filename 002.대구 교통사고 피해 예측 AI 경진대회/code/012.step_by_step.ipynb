{
 "cells": [
  {
   "cell_type": "code",
   "execution_count": 1,
   "id": "c621b42f",
   "metadata": {
    "ExecuteTime": {
     "end_time": "2023-12-02T14:07:03.127951Z",
     "start_time": "2023-12-02T14:06:56.657652Z"
    }
   },
   "outputs": [],
   "source": [
    "import numpy as np\n",
    "import pandas as pd\n",
    "from sklearn.model_selection import train_test_split\n",
    "\n",
    "import lightgbm as lgb"
   ]
  },
  {
   "cell_type": "code",
   "execution_count": 2,
   "id": "08150936",
   "metadata": {
    "ExecuteTime": {
     "end_time": "2023-12-02T14:07:03.345784Z",
     "start_time": "2023-12-02T14:07:03.161620Z"
    }
   },
   "outputs": [],
   "source": [
    "df_train = pd.read_csv(\"../data/train.csv\")\n",
    "df_test = pd.read_csv(\"../data/test.csv\")\n",
    "\n",
    "target_col = ['사망자수','중상자수','경상자수','부상자수']\n",
    "\n",
    "use_col = df_test.columns.tolist()\n",
    "use_col.extend(target_col)\n",
    "\n",
    "df_train = df_train[use_col]"
   ]
  },
  {
   "cell_type": "markdown",
   "id": "a6a19623",
   "metadata": {},
   "source": [
    "# ID"
   ]
  },
  {
   "cell_type": "code",
   "execution_count": 3,
   "id": "0a0aec03",
   "metadata": {
    "ExecuteTime": {
     "end_time": "2023-12-02T14:07:03.409961Z",
     "start_time": "2023-12-02T14:07:03.396958Z"
    }
   },
   "outputs": [],
   "source": [
    "df_train.drop(['ID'], axis = 1,inplace = True)\n",
    "df_test.drop(['ID'], axis = 1,inplace = True)"
   ]
  },
  {
   "cell_type": "markdown",
   "id": "7bcded79",
   "metadata": {},
   "source": [
    "# 사고일시, 요일\n",
    "    - 요일 사용 -> '년-월-일' 중 '일' 데이터 사용 X\n",
    "    - 월, 시간 사용"
   ]
  },
  {
   "cell_type": "code",
   "execution_count": 4,
   "id": "4c36a321",
   "metadata": {
    "ExecuteTime": {
     "end_time": "2023-12-02T14:07:03.628878Z",
     "start_time": "2023-12-02T14:07:03.445257Z"
    }
   },
   "outputs": [],
   "source": [
    "df_train['date'] = df_train['사고일시'].str.split(expand=True)[0]\n",
    "df_train['time'] = df_train['사고일시'].str.split(expand=True)[1]\n",
    "\n",
    "df_test['date'] = df_test['사고일시'].str.split(expand=True)[0]\n",
    "df_test['time'] = df_test['사고일시'].str.split(expand=True)[1]\n",
    "\n",
    "df_train.drop(['사고일시'], axis = 1,inplace = True)\n",
    "df_test.drop(['사고일시'], axis = 1,inplace = True)"
   ]
  },
  {
   "cell_type": "code",
   "execution_count": 5,
   "id": "c333548c",
   "metadata": {
    "ExecuteTime": {
     "end_time": "2023-12-02T14:07:03.800683Z",
     "start_time": "2023-12-02T14:07:03.677493Z"
    }
   },
   "outputs": [],
   "source": [
    "df_train['month'] = df_train['date'].str.split('-', expand=True)[1]\n",
    "df_test['month'] = df_test['date'].str.split('-', expand=True)[1]"
   ]
  },
  {
   "cell_type": "code",
   "execution_count": 6,
   "id": "786f5249",
   "metadata": {
    "ExecuteTime": {
     "end_time": "2023-12-02T14:07:03.863684Z",
     "start_time": "2023-12-02T14:07:03.834263Z"
    }
   },
   "outputs": [],
   "source": [
    "df_train.drop(['date'], axis = 1,inplace = True)\n",
    "df_test.drop(['date'], axis = 1,inplace = True)"
   ]
  },
  {
   "cell_type": "code",
   "execution_count": 7,
   "id": "99e90d8c",
   "metadata": {
    "ExecuteTime": {
     "end_time": "2023-12-02T14:07:03.926224Z",
     "start_time": "2023-12-02T14:07:03.898082Z"
    }
   },
   "outputs": [],
   "source": [
    "df_train = pd.concat([df_train, pd.get_dummies(df_train['요일'])], axis=1)\n",
    "df_test = pd.concat([df_test, pd.get_dummies(df_test['요일'])], axis=1)\n",
    "\n",
    "df_train.drop(['요일'], axis = 1,inplace = True)\n",
    "df_test.drop(['요일'], axis = 1,inplace = True)"
   ]
  },
  {
   "cell_type": "markdown",
   "id": "5df97753",
   "metadata": {},
   "source": [
    "## 학습"
   ]
  },
  {
   "cell_type": "code",
   "execution_count": 8,
   "id": "0f343eeb",
   "metadata": {
    "ExecuteTime": {
     "end_time": "2023-12-02T14:07:03.988286Z",
     "start_time": "2023-12-02T14:07:03.975700Z"
    }
   },
   "outputs": [],
   "source": [
    "df_train['target'] = df_train['사망자수']*10 + df_train['중상자수']*5 + df_train['경상자수']*3 + df_train['부상자수']\n",
    "df_train.drop(columns = ['사망자수','중상자수','경상자수','부상자수'], axis=1, inplace = True)"
   ]
  },
  {
   "cell_type": "code",
   "execution_count": 9,
   "id": "70cec894",
   "metadata": {
    "ExecuteTime": {
     "end_time": "2023-12-02T14:07:04.034204Z",
     "start_time": "2023-12-02T14:07:04.021580Z"
    }
   },
   "outputs": [],
   "source": [
    "use_col = ['time','month','월요일','화요일','수요일','목요일','금요일','토요일','일요일']"
   ]
  },
  {
   "cell_type": "code",
   "execution_count": 10,
   "id": "ff95cec3",
   "metadata": {
    "ExecuteTime": {
     "end_time": "2023-12-02T14:07:04.097184Z",
     "start_time": "2023-12-02T14:07:04.085139Z"
    }
   },
   "outputs": [],
   "source": [
    "X = df_train[use_col]\n",
    "y = df_train['target']"
   ]
  },
  {
   "cell_type": "code",
   "execution_count": 11,
   "id": "2b2bc725",
   "metadata": {
    "ExecuteTime": {
     "end_time": "2023-12-02T14:07:04.191971Z",
     "start_time": "2023-12-02T14:07:04.163126Z"
    }
   },
   "outputs": [],
   "source": [
    "X = X.astype('float')"
   ]
  },
  {
   "cell_type": "code",
   "execution_count": 12,
   "id": "2cab514e",
   "metadata": {
    "ExecuteTime": {
     "end_time": "2023-12-02T14:07:04.783243Z",
     "start_time": "2023-12-02T14:07:04.768512Z"
    }
   },
   "outputs": [],
   "source": [
    "x_train, x_test, y_train , y_test = train_test_split(X, y, test_size = 0.3, random_state=42 )"
   ]
  },
  {
   "attachments": {
    "image.png": {
     "image/png": "[encoded data removed]"
    }
   },
   "cell_type": "markdown",
   "id": "e61abfff",
   "metadata": {},
   "source": [
    "![image.png](attachment:image.png)"
   ]
  },
  {
   "cell_type": "code",
   "execution_count": 13,
   "id": "21243e34",
   "metadata": {
    "ExecuteTime": {
     "end_time": "2023-12-02T14:07:08.296480Z",
     "start_time": "2023-12-02T14:07:08.290095Z"
    }
   },
   "outputs": [],
   "source": [
    "model = lgb.LGBMRegressor(learning_rate = 0.055, random_state=42, boosting_type='gbdt')"
   ]
  },
  {
   "cell_type": "code",
   "execution_count": 14,
   "id": "89877e87",
   "metadata": {
    "ExecuteTime": {
     "end_time": "2023-12-02T14:07:09.010660Z",
     "start_time": "2023-12-02T14:07:08.614345Z"
    }
   },
   "outputs": [
    {
     "data": {
      "text/html": [
       "<style>#sk-container-id-1 {color: black;background-color: white;}#sk-container-id-1 pre{padding: 0;}#sk-container-id-1 div.sk-toggleable {background-color: white;}#sk-container-id-1 label.sk-toggleable__label {cursor: pointer;display: block;width: 100%;margin-bottom: 0;padding: 0.3em;box-sizing: border-box;text-align: center;}#sk-container-id-1 label.sk-toggleable__label-arrow:before {content: \"▸\";float: left;margin-right: 0.25em;color: #696969;}#sk-container-id-1 label.sk-toggleable__label-arrow:hover:before {color: black;}#sk-container-id-1 div.sk-estimator:hover label.sk-toggleable__label-arrow:before {color: black;}#sk-container-id-1 div.sk-toggleable__content {max-height: 0;max-width: 0;overflow: hidden;text-align: left;background-color: #f0f8ff;}#sk-container-id-1 div.sk-toggleable__content pre {margin: 0.2em;color: black;border-radius: 0.25em;background-color: #f0f8ff;}#sk-container-id-1 input.sk-toggleable__control:checked~div.sk-toggleable__content {max-height: 200px;max-width: 100%;overflow: auto;}#sk-container-id-1 input.sk-toggleable__control:checked~label.sk-toggleable__label-arrow:before {content: \"▾\";}#sk-container-id-1 div.sk-estimator input.sk-toggleable__control:checked~label.sk-toggleable__label {background-color: #d4ebff;}#sk-container-id-1 div.sk-label input.sk-toggleable__control:checked~label.sk-toggleable__label {background-color: #d4ebff;}#sk-container-id-1 input.sk-hidden--visually {border: 0;clip: rect(1px 1px 1px 1px);clip: rect(1px, 1px, 1px, 1px);height: 1px;margin: -1px;overflow: hidden;padding: 0;position: absolute;width: 1px;}#sk-container-id-1 div.sk-estimator {font-family: monospace;background-color: #f0f8ff;border: 1px dotted black;border-radius: 0.25em;box-sizing: border-box;margin-bottom: 0.5em;}#sk-container-id-1 div.sk-estimator:hover {background-color: #d4ebff;}#sk-container-id-1 div.sk-parallel-item::after {content: \"\";width: 100%;border-bottom: 1px solid gray;flex-grow: 1;}#sk-container-id-1 div.sk-label:hover label.sk-toggleable__label {background-color: #d4ebff;}#sk-container-id-1 div.sk-serial::before {content: \"\";position: absolute;border-left: 1px solid gray;box-sizing: border-box;top: 0;bottom: 0;left: 50%;z-index: 0;}#sk-container-id-1 div.sk-serial {display: flex;flex-direction: column;align-items: center;background-color: white;padding-right: 0.2em;padding-left: 0.2em;position: relative;}#sk-container-id-1 div.sk-item {position: relative;z-index: 1;}#sk-container-id-1 div.sk-parallel {display: flex;align-items: stretch;justify-content: center;background-color: white;position: relative;}#sk-container-id-1 div.sk-item::before, #sk-container-id-1 div.sk-parallel-item::before {content: \"\";position: absolute;border-left: 1px solid gray;box-sizing: border-box;top: 0;bottom: 0;left: 50%;z-index: -1;}#sk-container-id-1 div.sk-parallel-item {display: flex;flex-direction: column;z-index: 1;position: relative;background-color: white;}#sk-container-id-1 div.sk-parallel-item:first-child::after {align-self: flex-end;width: 50%;}#sk-container-id-1 div.sk-parallel-item:last-child::after {align-self: flex-start;width: 50%;}#sk-container-id-1 div.sk-parallel-item:only-child::after {width: 0;}#sk-container-id-1 div.sk-dashed-wrapped {border: 1px dashed gray;margin: 0 0.4em 0.5em 0.4em;box-sizing: border-box;padding-bottom: 0.4em;background-color: white;}#sk-container-id-1 div.sk-label label {font-family: monospace;font-weight: bold;display: inline-block;line-height: 1.2em;}#sk-container-id-1 div.sk-label-container {text-align: center;}#sk-container-id-1 div.sk-container {/* jupyter's `normalize.less` sets `[hidden] { display: none; }` but bootstrap.min.css set `[hidden] { display: none !important; }` so we also need the `!important` here to be able to override the default hidden behavior on the sphinx rendered scikit-learn.org. See: https://github.com/scikit-learn/scikit-learn/issues/21755 */display: inline-block !important;position: relative;}#sk-container-id-1 div.sk-text-repr-fallback {display: none;}</style><div id=\"sk-container-id-1\" class=\"sk-top-container\"><div class=\"sk-text-repr-fallback\"><pre>LGBMRegressor(learning_rate=0.055, random_state=42)</pre><b>In a Jupyter environment, please rerun this cell to show the HTML representation or trust the notebook. <br />On GitHub, the HTML representation is unable to render, please try loading this page with nbviewer.org.</b></div><div class=\"sk-container\" hidden><div class=\"sk-item\"><div class=\"sk-estimator sk-toggleable\"><input class=\"sk-toggleable__control sk-hidden--visually\" id=\"sk-estimator-id-1\" type=\"checkbox\" checked><label for=\"sk-estimator-id-1\" class=\"sk-toggleable__label sk-toggleable__label-arrow\">LGBMRegressor</label><div class=\"sk-toggleable__content\"><pre>LGBMRegressor(learning_rate=0.055, random_state=42)</pre></div></div></div></div></div>"
      ],
      "text/plain": [
       "LGBMRegressor(learning_rate=0.055, random_state=42)"
      ]
     },
     "execution_count": 14,
     "metadata": {},
     "output_type": "execute_result"
    }
   ],
   "source": [
    "model.fit(x_train, y_train) "
   ]
  },
  {
   "cell_type": "code",
   "execution_count": 15,
   "id": "c2298ef2",
   "metadata": {
    "ExecuteTime": {
     "end_time": "2023-12-02T14:07:15.678992Z",
     "start_time": "2023-12-02T14:07:15.655390Z"
    }
   },
   "outputs": [],
   "source": [
    "pred = model.predict(x_test)"
   ]
  },
  {
   "cell_type": "code",
   "execution_count": 16,
   "id": "cfed802c",
   "metadata": {
    "ExecuteTime": {
     "end_time": "2023-12-02T14:07:15.818280Z",
     "start_time": "2023-12-02T14:07:15.801110Z"
    }
   },
   "outputs": [],
   "source": [
    "from sklearn.metrics import mean_squared_error"
   ]
  },
  {
   "cell_type": "code",
   "execution_count": 17,
   "id": "d5cf68fa",
   "metadata": {
    "ExecuteTime": {
     "end_time": "2023-12-02T14:07:16.160496Z",
     "start_time": "2023-12-02T14:07:16.143500Z"
    }
   },
   "outputs": [],
   "source": [
    "def rmse(y_true, y_pred):\n",
    "    return mean_squared_error(y_true, y_pred) ** 0.5"
   ]
  },
  {
   "cell_type": "code",
   "execution_count": 18,
   "id": "693ba320",
   "metadata": {
    "ExecuteTime": {
     "end_time": "2023-12-02T14:07:16.563979Z",
     "start_time": "2023-12-02T14:07:16.556410Z"
    }
   },
   "outputs": [
    {
     "data": {
      "text/plain": [
       "3.159920526750467"
      ]
     },
     "execution_count": 18,
     "metadata": {},
     "output_type": "execute_result"
    }
   ],
   "source": [
    "rmse(y_test, pred)"
   ]
  },
  {
   "cell_type": "code",
   "execution_count": 19,
   "id": "105e980c",
   "metadata": {
    "ExecuteTime": {
     "end_time": "2023-12-02T14:07:18.384710Z",
     "start_time": "2023-12-02T14:07:18.344549Z"
    }
   },
   "outputs": [
    {
     "data": {
      "text/plain": [
       "0.028252581867740045"
      ]
     },
     "execution_count": 19,
     "metadata": {},
     "output_type": "execute_result"
    }
   ],
   "source": [
    "model.score(x_train, y_train)"
   ]
  },
  {
   "cell_type": "code",
   "execution_count": 297,
   "id": "f1d66b01",
   "metadata": {
    "ExecuteTime": {
     "end_time": "2023-12-02T05:37:15.503336Z",
     "start_time": "2023-12-02T05:37:15.474883Z"
    }
   },
   "outputs": [
    {
     "data": {
      "text/plain": [
       "0.0005247524526552638"
      ]
     },
     "execution_count": 297,
     "metadata": {},
     "output_type": "execute_result"
    }
   ],
   "source": [
    "model.score(x_test, y_test)"
   ]
  }
 ],
 "metadata": {
  "hide_input": false,
  "kernelspec": {
   "display_name": "Python 3 (ipykernel)",
   "language": "python",
   "name": "python3"
  },
  "language_info": {
   "codemirror_mode": {
    "name": "ipython",
    "version": 3
   },
   "file_extension": ".py",
   "mimetype": "text/x-python",
   "name": "python",
   "nbconvert_exporter": "python",
   "pygments_lexer": "ipython3",
   "version": "3.9.12"
  },
  "toc": {
   "base_numbering": 1,
   "nav_menu": {},
   "number_sections": true,
   "sideBar": true,
   "skip_h1_title": false,
   "title_cell": "Table of Contents",
   "title_sidebar": "Contents",
   "toc_cell": false,
   "toc_position": {},
   "toc_section_display": true,
   "toc_window_display": true
  },
  "varInspector": {
   "cols": {
    "lenName": 16,
    "lenType": 16,
    "lenVar": 40
   },
   "kernels_config": {
    "python": {
     "delete_cmd_postfix": "",
     "delete_cmd_prefix": "del ",
     "library": "var_list.py",
     "varRefreshCmd": "print(var_dic_list())"
    },
    "r": {
     "delete_cmd_postfix": ") ",
     "delete_cmd_prefix": "rm(",
     "library": "var_list.r",
     "varRefreshCmd": "cat(var_dic_list()) "
    }
   },
   "types_to_exclude": [
    "module",
    "function",
    "builtin_function_or_method",
    "instance",
    "_Feature"
   ],
   "window_display": false
  }
 },
 "nbformat": 4,
 "nbformat_minor": 5
}
