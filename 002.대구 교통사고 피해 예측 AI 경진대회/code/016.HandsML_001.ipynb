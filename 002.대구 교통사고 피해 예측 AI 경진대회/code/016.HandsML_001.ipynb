{
 "cells": [
  {
   "cell_type": "code",
   "execution_count": 1,
   "id": "b8342452",
   "metadata": {
    "ExecuteTime": {
     "end_time": "2023-12-05T04:42:40.188269Z",
     "start_time": "2023-12-05T04:42:26.344218Z"
    },
    "scrolled": false
   },
   "outputs": [],
   "source": [
    "import numpy as np\n",
    "import pandas as pd\n",
    "import tensorflow as tf\n",
    "import matplotlib.pyplot as plt\n",
    "from keras.callbacks import EarlyStopping\n",
    "from sklearn.model_selection import train_test_split\n",
    "\n",
    "plt.rc('font', family='Malgun Gothic')  # 폰트 지정\n",
    "plt.rc('axes', unicode_minus=False)  # 마이너스 폰트 설정\n",
    "%config InlineBackend.figure_format = 'retina'  # 그래프 글씨 뚜렷"
   ]
  },
  {
   "cell_type": "code",
   "execution_count": 2,
   "id": "111ab96e",
   "metadata": {
    "ExecuteTime": {
     "end_time": "2023-12-05T04:42:40.329742Z",
     "start_time": "2023-12-05T04:42:40.205387Z"
    }
   },
   "outputs": [],
   "source": [
    "df_train = pd.read_csv(\"../data/df_train_004.csv\")\n",
    "df_test = pd.read_csv(\"../data/df_test_004.csv\")\n",
    "\n",
    "df_train['target'] = df_train['사망자수']*10 + df_train['중상자수'] * \\\n",
    "    5 + df_train['경상자수']*3 + df_train['부상자수']\n",
    "df_train.drop(columns=['사망자수', '중상자수', '경상자수', '부상자수'], axis=1, inplace=True)"
   ]
  },
  {
   "cell_type": "code",
   "execution_count": 3,
   "id": "047e5346",
   "metadata": {
    "ExecuteTime": {
     "end_time": "2023-12-05T04:42:40.376142Z",
     "start_time": "2023-12-05T04:42:40.362507Z"
    }
   },
   "outputs": [],
   "source": [
    "X = df_train.drop(columns='target', axis=1)\n",
    "y = df_train['target']"
   ]
  },
  {
   "cell_type": "code",
   "execution_count": 4,
   "id": "41e73b1d",
   "metadata": {
    "ExecuteTime": {
     "end_time": "2023-12-05T04:42:40.437965Z",
     "start_time": "2023-12-05T04:42:40.410283Z"
    }
   },
   "outputs": [],
   "source": [
    "x_train, x_test, y_train, y_test = train_test_split(\n",
    "    X, y, test_size=0.3, random_state=42)"
   ]
  },
  {
   "cell_type": "markdown",
   "id": "11d5eb9d",
   "metadata": {},
   "source": [
    "# book try"
   ]
  },
  {
   "cell_type": "code",
   "execution_count": 414,
   "id": "be75c2ec",
   "metadata": {
    "ExecuteTime": {
     "end_time": "2023-12-05T06:34:54.700902Z",
     "start_time": "2023-12-05T06:34:54.686446Z"
    }
   },
   "outputs": [],
   "source": [
    "import math\n",
    "\n",
    "batch_size = 32\n",
    "n_epochs = 25\n",
    "n_steps = n_epochs * math.ceil(len(x_train) / batch_size)\n",
    "\n",
    "scheduled_lr = tf.keras.optimizers.schedules.ExponentialDecay(\n",
    "    initial_learning_rate=0.01, decay_steps=n_steps, decay_rate=0.1)\n",
    "\n",
    "optimizer = tf.keras.optimizers.Nadam(learning_rate=scheduled_lr)"
   ]
  },
  {
   "cell_type": "code",
   "execution_count": 415,
   "id": "bea9d914",
   "metadata": {
    "ExecuteTime": {
     "end_time": "2023-12-05T06:34:55.742572Z",
     "start_time": "2023-12-05T06:34:55.722454Z"
    }
   },
   "outputs": [],
   "source": [
    "input_001 = tf.keras.layers.Input(shape=[11])\n",
    "input_002 = tf.keras.layers.Input(shape=[22])\n",
    "input_003 = tf.keras.layers.Input(shape=[33])"
   ]
  },
  {
   "cell_type": "code",
   "execution_count": 416,
   "id": "20ceab68",
   "metadata": {
    "ExecuteTime": {
     "end_time": "2023-12-05T06:34:55.980628Z",
     "start_time": "2023-12-05T06:34:55.914306Z"
    }
   },
   "outputs": [],
   "source": [
    "batchNormal_001_1 = tf.keras.layers.BatchNormalization()(input_001)\n",
    "batchNormal_001_2 = tf.keras.layers.BatchNormalization()(input_002)\n",
    "batchNormal_001_3 = tf.keras.layers.BatchNormalization()(input_003)"
   ]
  },
  {
   "cell_type": "code",
   "execution_count": 417,
   "id": "df9ce55c",
   "metadata": {
    "ExecuteTime": {
     "end_time": "2023-12-05T06:34:56.136529Z",
     "start_time": "2023-12-05T06:34:56.076998Z"
    }
   },
   "outputs": [],
   "source": [
    "hidden_001_1 = tf.keras.layers.Dense(\n",
    "    300, activation='swish')(batchNormal_001_1)\n",
    "hidden_001_2 = tf.keras.layers.Dense(\n",
    "    300, activation='swish')(batchNormal_001_2)\n",
    "hidden_001_3 = tf.keras.layers.Dense(\n",
    "    300, activation='swish')(batchNormal_001_3)"
   ]
  },
  {
   "cell_type": "code",
   "execution_count": 418,
   "id": "31e9761a",
   "metadata": {
    "ExecuteTime": {
     "end_time": "2023-12-05T06:34:56.431120Z",
     "start_time": "2023-12-05T06:34:56.381026Z"
    }
   },
   "outputs": [],
   "source": [
    "batchNormal_002_2 = tf.keras.layers.BatchNormalization()(hidden_001_2)\n",
    "batchNormal_002_3 = tf.keras.layers.BatchNormalization()(hidden_001_3)"
   ]
  },
  {
   "cell_type": "code",
   "execution_count": 419,
   "id": "6eb2cfc2",
   "metadata": {
    "ExecuteTime": {
     "end_time": "2023-12-05T06:35:05.764613Z",
     "start_time": "2023-12-05T06:35:05.710034Z"
    }
   },
   "outputs": [],
   "source": [
    "hidden_002_2 = tf.keras.layers.Dense(\n",
    "    100, activation='swish')(batchNormal_002_2)\n",
    "hidden_002_3 = tf.keras.layers.Dense(\n",
    "    100, activation='swish')(batchNormal_002_3)"
   ]
  },
  {
   "cell_type": "code",
   "execution_count": 420,
   "id": "1adeb7a9",
   "metadata": {
    "ExecuteTime": {
     "end_time": "2023-12-05T06:35:06.230712Z",
     "start_time": "2023-12-05T06:35:06.190320Z"
    }
   },
   "outputs": [],
   "source": [
    "batchNormal_003_3 = tf.keras.layers.BatchNormalization()(hidden_002_3)"
   ]
  },
  {
   "cell_type": "code",
   "execution_count": 421,
   "id": "022d35cf",
   "metadata": {
    "ExecuteTime": {
     "end_time": "2023-12-05T06:35:10.484303Z",
     "start_time": "2023-12-05T06:35:10.458576Z"
    }
   },
   "outputs": [],
   "source": [
    "hidden_003_3 = tf.keras.layers.Dense(\n",
    "    10, activation='swish')(batchNormal_003_3)"
   ]
  },
  {
   "cell_type": "code",
   "execution_count": 422,
   "id": "fca1d76a",
   "metadata": {
    "ExecuteTime": {
     "end_time": "2023-12-05T06:35:12.913406Z",
     "start_time": "2023-12-05T06:35:12.895394Z"
    }
   },
   "outputs": [],
   "source": [
    "concat = tf.keras.layers.concatenate(\n",
    "    [hidden_001_1, hidden_002_2, hidden_003_3])"
   ]
  },
  {
   "cell_type": "code",
   "execution_count": 423,
   "id": "959ef7ac",
   "metadata": {
    "ExecuteTime": {
     "end_time": "2023-12-05T06:35:13.147884Z",
     "start_time": "2023-12-05T06:35:13.131099Z"
    }
   },
   "outputs": [],
   "source": [
    "output = tf.keras.layers.Dense(1)(concat)"
   ]
  },
  {
   "cell_type": "code",
   "execution_count": 424,
   "id": "bda77807",
   "metadata": {
    "ExecuteTime": {
     "end_time": "2023-12-05T06:35:13.320963Z",
     "start_time": "2023-12-05T06:35:13.302963Z"
    }
   },
   "outputs": [],
   "source": [
    "model = tf.keras.Model(\n",
    "    inputs=[input_001, input_002, input_003], outputs=[output])"
   ]
  },
  {
   "cell_type": "code",
   "execution_count": 425,
   "id": "9321409f",
   "metadata": {
    "ExecuteTime": {
     "end_time": "2023-12-05T06:35:15.050678Z",
     "start_time": "2023-12-05T06:35:15.032404Z"
    }
   },
   "outputs": [],
   "source": [
    "model.compile(optimizer=optimizer, loss=tf.keras.losses.Huber(), metrics=['mse'])"
   ]
  },
  {
   "cell_type": "code",
   "execution_count": 426,
   "id": "738a6582",
   "metadata": {
    "ExecuteTime": {
     "end_time": "2023-12-05T06:35:15.828886Z",
     "start_time": "2023-12-05T06:35:15.813693Z"
    }
   },
   "outputs": [],
   "source": [
    "x_train_001, x_train_002, x_train_003 = x_train.iloc[:,\n",
    "                                                     :11], x_train.iloc[:, :22], x_train.iloc[:, :33]\n",
    "x_test_001, x_test_002, x_test_003 = x_test.iloc[:,\n",
    "                                                 :11], x_test.iloc[:, :22], x_test.iloc[:, :33]"
   ]
  },
  {
   "cell_type": "code",
   "execution_count": 427,
   "id": "cbeaa7c1",
   "metadata": {
    "ExecuteTime": {
     "end_time": "2023-12-05T06:35:16.934908Z",
     "start_time": "2023-12-05T06:35:16.915382Z"
    }
   },
   "outputs": [],
   "source": [
    "early_stopping = EarlyStopping(monitor='loss')"
   ]
  },
  {
   "cell_type": "code",
   "execution_count": 428,
   "id": "43109e0e",
   "metadata": {
    "ExecuteTime": {
     "end_time": "2023-12-05T06:38:14.041232Z",
     "start_time": "2023-12-05T06:35:17.496222Z"
    }
   },
   "outputs": [
    {
     "name": "stdout",
     "output_type": "stream",
     "text": [
      "Epoch 1/100\n",
      "867/867 [==============================] - 12s 8ms/step - loss: 1.6316 - mse: 11.0386 - val_loss: 1.5618 - val_mse: 11.6241\n",
      "Epoch 2/100\n",
      "867/867 [==============================] - 6s 7ms/step - loss: 1.5827 - mse: 10.8664 - val_loss: 1.5590 - val_mse: 11.2316\n",
      "Epoch 3/100\n",
      "867/867 [==============================] - 6s 7ms/step - loss: 1.5788 - mse: 10.8210 - val_loss: 1.5738 - val_mse: 11.0515\n",
      "Epoch 4/100\n",
      "867/867 [==============================] - 6s 7ms/step - loss: 1.5773 - mse: 10.7905 - val_loss: 1.5551 - val_mse: 11.4902\n",
      "Epoch 5/100\n",
      "867/867 [==============================] - 6s 7ms/step - loss: 1.5740 - mse: 10.7487 - val_loss: 1.5563 - val_mse: 11.2903\n",
      "Epoch 6/100\n",
      "867/867 [==============================] - 6s 7ms/step - loss: 1.5739 - mse: 10.7452 - val_loss: 1.5579 - val_mse: 11.3588\n",
      "Epoch 7/100\n",
      "867/867 [==============================] - 6s 7ms/step - loss: 1.5693 - mse: 10.7072 - val_loss: 1.5647 - val_mse: 11.0788\n",
      "Epoch 8/100\n",
      "867/867 [==============================] - 6s 7ms/step - loss: 1.5690 - mse: 10.6899 - val_loss: 1.5566 - val_mse: 11.4162\n",
      "Epoch 9/100\n",
      "867/867 [==============================] - 6s 7ms/step - loss: 1.5668 - mse: 10.6981 - val_loss: 1.5668 - val_mse: 11.3150\n",
      "Epoch 10/100\n",
      "867/867 [==============================] - 6s 7ms/step - loss: 1.5650 - mse: 10.6612 - val_loss: 1.5600 - val_mse: 11.3282\n",
      "Epoch 11/100\n",
      "867/867 [==============================] - 6s 7ms/step - loss: 1.5623 - mse: 10.6230 - val_loss: 1.5642 - val_mse: 11.4453\n",
      "Epoch 12/100\n",
      "867/867 [==============================] - 6s 7ms/step - loss: 1.5619 - mse: 10.6347 - val_loss: 1.5640 - val_mse: 11.4943\n",
      "Epoch 13/100\n",
      "867/867 [==============================] - 6s 7ms/step - loss: 1.5594 - mse: 10.5926 - val_loss: 1.5719 - val_mse: 11.7272\n",
      "Epoch 14/100\n",
      "867/867 [==============================] - 6s 7ms/step - loss: 1.5552 - mse: 10.5828 - val_loss: 1.5746 - val_mse: 11.1561\n",
      "Epoch 15/100\n",
      "867/867 [==============================] - 6s 7ms/step - loss: 1.5550 - mse: 10.5769 - val_loss: 1.5706 - val_mse: 11.4246\n",
      "Epoch 16/100\n",
      "867/867 [==============================] - 6s 7ms/step - loss: 1.5514 - mse: 10.5404 - val_loss: 1.6017 - val_mse: 24.0758\n",
      "Epoch 17/100\n",
      "867/867 [==============================] - 6s 7ms/step - loss: 1.5500 - mse: 10.5483 - val_loss: 1.5931 - val_mse: 12.3053\n",
      "Epoch 18/100\n",
      "867/867 [==============================] - 6s 7ms/step - loss: 1.5493 - mse: 10.5211 - val_loss: 1.5733 - val_mse: 11.2369\n",
      "Epoch 19/100\n",
      "867/867 [==============================] - 7s 8ms/step - loss: 1.5479 - mse: 10.5210 - val_loss: 1.5733 - val_mse: 11.3702\n",
      "Epoch 20/100\n",
      "867/867 [==============================] - 6s 7ms/step - loss: 1.5456 - mse: 10.4805 - val_loss: 1.5745 - val_mse: 11.5218\n",
      "Epoch 21/100\n",
      "867/867 [==============================] - 6s 7ms/step - loss: 1.5437 - mse: 10.5022 - val_loss: 1.5764 - val_mse: 11.4911\n",
      "Epoch 22/100\n",
      "867/867 [==============================] - 6s 7ms/step - loss: 1.5412 - mse: 10.4661 - val_loss: 1.5764 - val_mse: 11.4920\n",
      "Epoch 23/100\n",
      "867/867 [==============================] - 6s 7ms/step - loss: 1.5390 - mse: 10.4495 - val_loss: 1.5794 - val_mse: 11.2775\n",
      "Epoch 24/100\n",
      "867/867 [==============================] - 6s 7ms/step - loss: 1.5376 - mse: 10.4588 - val_loss: 1.5775 - val_mse: 11.2619\n",
      "Epoch 25/100\n",
      "867/867 [==============================] - 6s 7ms/step - loss: 1.5376 - mse: 10.4364 - val_loss: 1.5779 - val_mse: 11.3259\n",
      "Epoch 26/100\n",
      "867/867 [==============================] - 6s 7ms/step - loss: 1.5319 - mse: 10.3710 - val_loss: 1.5740 - val_mse: 11.4571\n",
      "Epoch 27/100\n",
      "867/867 [==============================] - 6s 7ms/step - loss: 1.5345 - mse: 10.4118 - val_loss: 1.5769 - val_mse: 11.3581\n"
     ]
    }
   ],
   "source": [
    "history = model.fit((x_train_001, x_train_002, x_train_003), y_train, validation_data=(\n",
    "    (x_test_001, x_test_002, x_test_003), y_test), epochs=100, callbacks=[early_stopping])"
   ]
  },
  {
   "cell_type": "code",
   "execution_count": 429,
   "id": "ec8542e2",
   "metadata": {
    "ExecuteTime": {
     "end_time": "2023-12-05T06:38:31.450064Z",
     "start_time": "2023-12-05T06:38:31.262343Z"
    }
   },
   "outputs": [
    {
     "data": {
      "text/plain": [
       "<AxesSubplot:xlabel='에포크'>"
      ]
     },
     "execution_count": 429,
     "metadata": {},
     "output_type": "execute_result"
    },
    {
     "data": {
      "image/png": "[encoded data removed]",
      "text/plain": [
       "<Figure size 432x288 with 1 Axes>"
      ]
     },
     "metadata": {
      "image/png": {
       "height": 266,
       "width": 367
      },
      "needs_background": "light"
     },
     "output_type": "display_data"
    }
   ],
   "source": [
    "pd.DataFrame(history.history).plot(xlabel='에포크')"
   ]
  },
  {
   "cell_type": "markdown",
   "id": "b87a513d",
   "metadata": {},
   "source": [
    "# 제출"
   ]
  },
  {
   "cell_type": "code",
   "execution_count": 435,
   "id": "58259c24",
   "metadata": {
    "ExecuteTime": {
     "end_time": "2023-12-05T06:39:11.379643Z",
     "start_time": "2023-12-05T06:39:11.295012Z"
    }
   },
   "outputs": [],
   "source": [
    "model.save('../model/009_swish-model.h5')"
   ]
  },
  {
   "cell_type": "code",
   "execution_count": 436,
   "id": "38819853",
   "metadata": {
    "ExecuteTime": {
     "end_time": "2023-12-05T06:39:14.407049Z",
     "start_time": "2023-12-05T06:39:14.378958Z"
    }
   },
   "outputs": [],
   "source": [
    "sub_file = pd.read_csv(\"../data/sample_submission.csv\")"
   ]
  },
  {
   "cell_type": "code",
   "execution_count": 437,
   "id": "6bf6dd79",
   "metadata": {
    "ExecuteTime": {
     "end_time": "2023-12-05T06:39:15.297741Z",
     "start_time": "2023-12-05T06:39:14.506771Z"
    }
   },
   "outputs": [
    {
     "name": "stdout",
     "output_type": "stream",
     "text": [
      "343/343 [==============================] - 1s 2ms/step\n"
     ]
    }
   ],
   "source": [
    "sub_file['ECLO'] = model.predict((df_test.iloc[:,:11], df_test.iloc[:,:22], df_test.iloc[:,:33]))"
   ]
  },
  {
   "cell_type": "code",
   "execution_count": 438,
   "id": "8b0be793",
   "metadata": {
    "ExecuteTime": {
     "end_time": "2023-12-05T06:39:15.422645Z",
     "start_time": "2023-12-05T06:39:15.410778Z"
    }
   },
   "outputs": [],
   "source": [
    "sub_file['ECLO'] = round(sub_file['ECLO'])"
   ]
  },
  {
   "cell_type": "code",
   "execution_count": 439,
   "id": "6f46b54e",
   "metadata": {
    "ExecuteTime": {
     "end_time": "2023-12-05T06:39:15.812147Z",
     "start_time": "2023-12-05T06:39:15.536831Z"
    }
   },
   "outputs": [],
   "source": [
    "for i in range(len(sub_file)):\n",
    "    if sub_file.iloc[i,1] < 0 :\n",
    "        sub_file.iloc[i, 1] = 0"
   ]
  },
  {
   "cell_type": "code",
   "execution_count": 440,
   "id": "f0eb87e6",
   "metadata": {
    "ExecuteTime": {
     "end_time": "2023-12-05T06:39:15.937552Z",
     "start_time": "2023-12-05T06:39:15.924849Z"
    }
   },
   "outputs": [
    {
     "data": {
      "text/plain": [
       "4.0     8356\n",
       "3.0     1338\n",
       "5.0     1101\n",
       "6.0      150\n",
       "7.0        6\n",
       "0.0        6\n",
       "2.0        2\n",
       "10.0       2\n",
       "1.0        1\n",
       "11.0       1\n",
       "Name: ECLO, dtype: int64"
      ]
     },
     "execution_count": 440,
     "metadata": {},
     "output_type": "execute_result"
    }
   ],
   "source": [
    "sub_file['ECLO'].value_counts()"
   ]
  },
  {
   "cell_type": "code",
   "execution_count": 441,
   "id": "9d818c1a",
   "metadata": {
    "ExecuteTime": {
     "end_time": "2023-12-05T06:39:26.282366Z",
     "start_time": "2023-12-05T06:39:26.251038Z"
    }
   },
   "outputs": [],
   "source": [
    "sub_file.to_csv(\"../data/sub_file/012tf_swish_round.csv\", index=False)"
   ]
  }
 ],
 "metadata": {
  "hide_input": false,
  "kernelspec": {
   "display_name": "Python 3 (ipykernel)",
   "language": "python",
   "name": "python3"
  },
  "language_info": {
   "codemirror_mode": {
    "name": "ipython",
    "version": 3
   },
   "file_extension": ".py",
   "mimetype": "text/x-python",
   "name": "python",
   "nbconvert_exporter": "python",
   "pygments_lexer": "ipython3",
   "version": "3.9.12"
  },
  "toc": {
   "base_numbering": 1,
   "nav_menu": {},
   "number_sections": true,
   "sideBar": true,
   "skip_h1_title": false,
   "title_cell": "Table of Contents",
   "title_sidebar": "Contents",
   "toc_cell": false,
   "toc_position": {},
   "toc_section_display": true,
   "toc_window_display": false
  },
  "varInspector": {
   "cols": {
    "lenName": 16,
    "lenType": 16,
    "lenVar": 40
   },
   "kernels_config": {
    "python": {
     "delete_cmd_postfix": "",
     "delete_cmd_prefix": "del ",
     "library": "var_list.py",
     "varRefreshCmd": "print(var_dic_list())"
    },
    "r": {
     "delete_cmd_postfix": ") ",
     "delete_cmd_prefix": "rm(",
     "library": "var_list.r",
     "varRefreshCmd": "cat(var_dic_list()) "
    }
   },
   "types_to_exclude": [
    "module",
    "function",
    "builtin_function_or_method",
    "instance",
    "_Feature"
   ],
   "window_display": false
  }
 },
 "nbformat": 4,
 "nbformat_minor": 5
}
