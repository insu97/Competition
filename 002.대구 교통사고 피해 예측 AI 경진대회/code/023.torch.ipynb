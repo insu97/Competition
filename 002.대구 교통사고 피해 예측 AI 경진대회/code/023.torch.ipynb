{
 "cells": [
  {
   "cell_type": "code",
   "execution_count": 331,
   "id": "b8342452",
   "metadata": {
    "ExecuteTime": {
     "end_time": "2023-12-09T14:20:27.631534Z",
     "start_time": "2023-12-09T14:20:27.605114Z"
    },
    "scrolled": false
   },
   "outputs": [],
   "source": [
    "import numpy as np\n",
    "import pandas as pd\n",
    "import tensorflow as tf\n",
    "import matplotlib.pyplot as plt\n",
    "\n",
    "from sklearn.model_selection import train_test_split\n",
    "\n",
    "plt.rc('font', family='Malgun Gothic')  # 폰트 지정\n",
    "plt.rc('axes', unicode_minus=False)  # 마이너스 폰트 설정\n",
    "%config InlineBackend.figure_format = 'retina'  # 그래프 글씨 뚜렷"
   ]
  },
  {
   "cell_type": "code",
   "execution_count": 332,
   "id": "dc4b0f3d",
   "metadata": {
    "ExecuteTime": {
     "end_time": "2023-12-09T14:20:28.707666Z",
     "start_time": "2023-12-09T14:20:27.798500Z"
    }
   },
   "outputs": [],
   "source": [
    "df_train = pd.read_csv(\"../data/df_train_005.csv\")\n",
    "df_test = pd.read_csv(\"../data/df_test_005.csv\")"
   ]
  },
  {
   "cell_type": "code",
   "execution_count": 333,
   "id": "047e5346",
   "metadata": {
    "ExecuteTime": {
     "end_time": "2023-12-09T14:20:28.942948Z",
     "start_time": "2023-12-09T14:20:28.884923Z"
    }
   },
   "outputs": [],
   "source": [
    "X = df_train.drop(columns = 'ECLO',axis=1)\n",
    "y = df_train['ECLO']"
   ]
  },
  {
   "cell_type": "code",
   "execution_count": 334,
   "id": "41e73b1d",
   "metadata": {
    "ExecuteTime": {
     "end_time": "2023-12-09T14:20:29.179844Z",
     "start_time": "2023-12-09T14:20:29.075552Z"
    }
   },
   "outputs": [],
   "source": [
    "x_train, x_test, y_train , y_test = train_test_split(X, y, test_size = 0.2, random_state=42 )"
   ]
  },
  {
   "cell_type": "code",
   "execution_count": 335,
   "id": "9263ae53",
   "metadata": {
    "ExecuteTime": {
     "end_time": "2023-12-09T14:20:29.338581Z",
     "start_time": "2023-12-09T14:20:29.327951Z"
    }
   },
   "outputs": [],
   "source": [
    "import os\n",
    "import random\n",
    "\n",
    "def seed_everything(seed):\n",
    "    random.seed(seed)\n",
    "    os.environ['PYTHONHASHSEED'] = str(seed)\n",
    "    np.random.seed(seed)\n",
    "\n",
    "seed_everything(42)"
   ]
  },
  {
   "cell_type": "markdown",
   "id": "8a713532",
   "metadata": {},
   "source": [
    "# torch"
   ]
  },
  {
   "cell_type": "code",
   "execution_count": 336,
   "id": "2b2ddde5",
   "metadata": {
    "ExecuteTime": {
     "end_time": "2023-12-09T14:20:29.465791Z",
     "start_time": "2023-12-09T14:20:29.454370Z"
    }
   },
   "outputs": [],
   "source": [
    "import torch\n",
    "import torch.nn as nn\n",
    "import torch.optim as optim"
   ]
  },
  {
   "cell_type": "code",
   "execution_count": 337,
   "id": "bc33340d",
   "metadata": {
    "ExecuteTime": {
     "end_time": "2023-12-09T14:20:29.641139Z",
     "start_time": "2023-12-09T14:20:29.582612Z"
    }
   },
   "outputs": [],
   "source": [
    "# 데이터를 PyTorch Tensor로 변환\n",
    "x_tensor = torch.tensor(X.values, dtype=torch.float32)\n",
    "y_tensor = torch.tensor(y.values.reshape(-1,1), dtype=torch.float32)"
   ]
  },
  {
   "cell_type": "code",
   "execution_count": 338,
   "id": "d14dc8f4",
   "metadata": {
    "ExecuteTime": {
     "end_time": "2023-12-09T14:20:29.765415Z",
     "start_time": "2023-12-09T14:20:29.754299Z"
    }
   },
   "outputs": [],
   "source": [
    "# Autoencoder 모델 정의\n",
    "class Autoencoder(nn.Module):\n",
    "    def __init__(self, input_dim):\n",
    "        super(Autoencoder, self).__init__()\n",
    "        self.encoder = nn.Sequential(\n",
    "            nn.Linear(input_dim, 128),  # 입력 차원: input_dim, 은닉층 차원: 128\n",
    "            nn.ReLU(),\n",
    "            nn.Linear(128, 64),  # 은닉층 차원: 128, 출력 차원: 64\n",
    "            nn.ReLU(),\n",
    "        )\n",
    "        self.decoder = nn.Sequential(\n",
    "            nn.Linear(64, 128),  # 입력 차원: 64, 은닉층 차원: 128\n",
    "            nn.ReLU(),\n",
    "            nn.Linear(128, 1),  # 은닉층 차원: 128, 출력 차원: 1\n",
    "        )\n",
    "\n",
    "    def forward(self, x):\n",
    "        encoded = self.encoder(x)\n",
    "        decoded = self.decoder(encoded)\n",
    "        return decoded"
   ]
  },
  {
   "cell_type": "code",
   "execution_count": 339,
   "id": "19d77f9a",
   "metadata": {
    "ExecuteTime": {
     "end_time": "2023-12-09T14:20:29.908069Z",
     "start_time": "2023-12-09T14:20:29.897014Z"
    }
   },
   "outputs": [],
   "source": [
    "class RMSLELoss(nn.Module):\n",
    "    def __init__(self):\n",
    "        super(RMSLELoss, self).__init__()\n",
    "\n",
    "    def forward(self, predicted, target):\n",
    "        \"\"\"\n",
    "        predicted: 예측값\n",
    "        target: 실제값\n",
    "        \"\"\"\n",
    "        loss = torch.sqrt(torch.mean((torch.log1p(predicted) - torch.log1p(target))**2))\n",
    "        return loss"
   ]
  },
  {
   "cell_type": "code",
   "execution_count": 340,
   "id": "91c8c8d6",
   "metadata": {
    "ExecuteTime": {
     "end_time": "2023-12-09T14:20:30.050500Z",
     "start_time": "2023-12-09T14:20:30.038403Z"
    }
   },
   "outputs": [],
   "source": [
    "# 모델 인스턴스 생성 및 손실 함수, 옵티마이저 정의\n",
    "model = Autoencoder(input_dim=226)\n",
    "criterion = RMSLELoss() #nn.HuberLoss(delta=0.2), nn.MSELoss()\n",
    "optimizer = optim.Adam(model.parameters(), lr=0.01)"
   ]
  },
  {
   "cell_type": "code",
   "execution_count": 341,
   "id": "94c32f31",
   "metadata": {
    "ExecuteTime": {
     "end_time": "2023-12-09T14:21:19.407658Z",
     "start_time": "2023-12-09T14:20:30.181376Z"
    }
   },
   "outputs": [
    {
     "name": "stdout",
     "output_type": "stream",
     "text": [
      "Epoch [0/500], Loss: 1.6133\n",
      "Epoch [10/500], Loss: 0.4771\n",
      "Epoch [20/500], Loss: 0.4805\n",
      "Epoch [30/500], Loss: 0.4539\n",
      "Epoch [40/500], Loss: 0.4453\n",
      "Epoch [50/500], Loss: 0.4460\n",
      "Epoch [60/500], Loss: 0.4438\n",
      "Epoch [70/500], Loss: 0.4424\n",
      "Epoch [80/500], Loss: 0.4409\n",
      "Epoch [90/500], Loss: 0.4395\n",
      "Epoch [100/500], Loss: 0.4385\n",
      "Epoch [110/500], Loss: 0.4379\n",
      "Epoch [120/500], Loss: 0.4375\n",
      "Epoch [130/500], Loss: 0.4371\n",
      "Epoch [140/500], Loss: 0.4365\n",
      "Epoch [150/500], Loss: 0.4354\n",
      "Epoch [160/500], Loss: 0.4337\n",
      "Epoch [170/500], Loss: 0.4313\n",
      "Epoch [180/500], Loss: 0.4289\n",
      "Epoch [190/500], Loss: 0.4304\n",
      "Epoch [200/500], Loss: 0.4256\n",
      "Epoch [210/500], Loss: 0.4225\n",
      "Epoch [220/500], Loss: 0.4215\n",
      "Epoch [230/500], Loss: 0.4183\n",
      "Epoch [240/500], Loss: 0.4173\n",
      "Epoch [250/500], Loss: 0.4170\n",
      "Epoch [260/500], Loss: 0.4143\n",
      "Epoch [270/500], Loss: 0.4126\n",
      "Epoch [280/500], Loss: 0.4183\n",
      "Epoch [290/500], Loss: 0.4132\n",
      "Epoch [300/500], Loss: 0.4111\n",
      "Epoch [310/500], Loss: 0.4097\n",
      "Epoch [320/500], Loss: 0.4083\n",
      "Epoch [330/500], Loss: 0.4112\n",
      "Epoch [340/500], Loss: 0.4130\n",
      "Epoch [350/500], Loss: 0.4082\n",
      "Epoch [360/500], Loss: 0.4064\n",
      "Epoch [370/500], Loss: 0.4070\n",
      "Epoch [380/500], Loss: 0.4086\n",
      "Epoch [390/500], Loss: 0.4115\n",
      "Epoch [400/500], Loss: 0.4063\n",
      "Epoch [410/500], Loss: 0.4041\n",
      "Epoch [420/500], Loss: 0.4046\n",
      "Epoch [430/500], Loss: 0.4053\n",
      "Epoch [440/500], Loss: 0.4115\n",
      "Epoch [450/500], Loss: 0.4053\n",
      "Epoch [460/500], Loss: 0.4027\n",
      "Epoch [470/500], Loss: 0.4005\n",
      "Epoch [480/500], Loss: 0.4003\n",
      "Epoch [490/500], Loss: 0.4011\n"
     ]
    }
   ],
   "source": [
    "# 학습\n",
    "num_epochs = 500\n",
    "for epoch in range(num_epochs):\n",
    "    # Forward Pass\n",
    "    outputs = model(x_tensor)\n",
    "\n",
    "    # Loss 계산\n",
    "    loss = criterion(outputs, y_tensor)\n",
    "\n",
    "    # Backward Pass 및 최적화\n",
    "    optimizer.zero_grad()\n",
    "    loss.backward()\n",
    "    optimizer.step()\n",
    "\n",
    "    # 로그 출력\n",
    "    if epoch % 10 == 0:\n",
    "        print(f'Epoch [{epoch}/{num_epochs}], Loss: {loss.item():.4f}')"
   ]
  },
  {
   "cell_type": "code",
   "execution_count": 342,
   "id": "aebf06c5",
   "metadata": {
    "ExecuteTime": {
     "end_time": "2023-12-09T14:21:19.596051Z",
     "start_time": "2023-12-09T14:21:19.542515Z"
    }
   },
   "outputs": [],
   "source": [
    "# 학습된 모델을 사용하여 예측\n",
    "with torch.no_grad():\n",
    "    predicted = model(x_tensor).numpy()"
   ]
  },
  {
   "cell_type": "code",
   "execution_count": 343,
   "id": "4d4b579a",
   "metadata": {
    "ExecuteTime": {
     "end_time": "2023-12-09T14:21:20.552552Z",
     "start_time": "2023-12-09T14:21:19.745977Z"
    }
   },
   "outputs": [
    {
     "data": {
      "image/png": "[encoded data removed]",
      "text/plain": [
       "<Figure size 432x288 with 1 Axes>"
      ]
     },
     "metadata": {
      "image/png": {
       "height": 263,
       "width": 381
      },
      "needs_background": "light"
     },
     "output_type": "display_data"
    }
   ],
   "source": [
    "# 시각화\n",
    "plt.scatter(y.values.reshape(-1,1), predicted, label='True vs Predicted', color='blue')\n",
    "plt.xlabel('True Labels')\n",
    "plt.ylabel('Predicted Labels')\n",
    "plt.legend()\n",
    "plt.show()"
   ]
  },
  {
   "cell_type": "code",
   "execution_count": 344,
   "id": "38819853",
   "metadata": {
    "ExecuteTime": {
     "end_time": "2023-12-09T14:21:20.708154Z",
     "start_time": "2023-12-09T14:21:20.680854Z"
    }
   },
   "outputs": [],
   "source": [
    "sub_file = pd.read_csv(\"../data/sample_submission.csv\")"
   ]
  },
  {
   "cell_type": "code",
   "execution_count": 345,
   "id": "9faf65b1",
   "metadata": {
    "ExecuteTime": {
     "end_time": "2023-12-09T14:21:20.849056Z",
     "start_time": "2023-12-09T14:21:20.823363Z"
    }
   },
   "outputs": [],
   "source": [
    "df_test_tensor = torch.tensor(df_test.values, dtype=torch.float32)"
   ]
  },
  {
   "cell_type": "code",
   "execution_count": 346,
   "id": "1ce4c245",
   "metadata": {
    "ExecuteTime": {
     "end_time": "2023-12-09T14:21:21.020089Z",
     "start_time": "2023-12-09T14:21:20.976721Z"
    }
   },
   "outputs": [],
   "source": [
    "sub_file.ECLO = model(df_test_tensor).detach().numpy()"
   ]
  },
  {
   "cell_type": "code",
   "execution_count": 347,
   "id": "58dc7ed6",
   "metadata": {
    "ExecuteTime": {
     "end_time": "2023-12-09T14:21:21.367012Z",
     "start_time": "2023-12-09T14:21:21.154062Z"
    }
   },
   "outputs": [
    {
     "data": {
      "text/plain": [
       "<AxesSubplot:>"
      ]
     },
     "execution_count": 347,
     "metadata": {},
     "output_type": "execute_result"
    },
    {
     "data": {
      "image/png": "[encoded data removed]",
      "text/plain": [
       "<Figure size 432x288 with 1 Axes>"
      ]
     },
     "metadata": {
      "image/png": {
       "height": 249,
       "width": 378
      },
      "needs_background": "light"
     },
     "output_type": "display_data"
    }
   ],
   "source": [
    "sub_file.ECLO.hist()"
   ]
  },
  {
   "cell_type": "code",
   "execution_count": 348,
   "id": "9d818c1a",
   "metadata": {
    "ExecuteTime": {
     "end_time": "2023-12-09T14:23:08.224704Z",
     "start_time": "2023-12-09T14:23:08.157675Z"
    }
   },
   "outputs": [],
   "source": [
    "sub_file.to_csv(\"../data/sub_file/020autoencoder.csv\", index=False)"
   ]
  }
 ],
 "metadata": {
  "hide_input": false,
  "kernelspec": {
   "display_name": "Python 3 (ipykernel)",
   "language": "python",
   "name": "python3"
  },
  "language_info": {
   "codemirror_mode": {
    "name": "ipython",
    "version": 3
   },
   "file_extension": ".py",
   "mimetype": "text/x-python",
   "name": "python",
   "nbconvert_exporter": "python",
   "pygments_lexer": "ipython3",
   "version": "3.9.12"
  },
  "toc": {
   "base_numbering": 1,
   "nav_menu": {},
   "number_sections": true,
   "sideBar": true,
   "skip_h1_title": false,
   "title_cell": "Table of Contents",
   "title_sidebar": "Contents",
   "toc_cell": false,
   "toc_position": {},
   "toc_section_display": true,
   "toc_window_display": false
  },
  "varInspector": {
   "cols": {
    "lenName": 16,
    "lenType": 16,
    "lenVar": 40
   },
   "kernels_config": {
    "python": {
     "delete_cmd_postfix": "",
     "delete_cmd_prefix": "del ",
     "library": "var_list.py",
     "varRefreshCmd": "print(var_dic_list())"
    },
    "r": {
     "delete_cmd_postfix": ") ",
     "delete_cmd_prefix": "rm(",
     "library": "var_list.r",
     "varRefreshCmd": "cat(var_dic_list()) "
    }
   },
   "types_to_exclude": [
    "module",
    "function",
    "builtin_function_or_method",
    "instance",
    "_Feature"
   ],
   "window_display": false
  }
 },
 "nbformat": 4,
 "nbformat_minor": 5
}
