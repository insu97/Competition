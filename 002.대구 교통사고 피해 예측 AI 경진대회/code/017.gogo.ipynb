{
 "cells": [
  {
   "cell_type": "code",
   "execution_count": 27,
   "id": "b8342452",
   "metadata": {
    "ExecuteTime": {
     "end_time": "2023-12-07T04:32:35.761894Z",
     "start_time": "2023-12-07T04:32:35.745896Z"
    },
    "scrolled": false
   },
   "outputs": [],
   "source": [
    "import numpy as np\n",
    "import pandas as pd\n",
    "import tensorflow as tf\n",
    "import matplotlib.pyplot as plt\n",
    "from keras.callbacks import EarlyStopping\n",
    "from sklearn.model_selection import train_test_split\n",
    "\n",
    "plt.rc('font', family='Malgun Gothic')  # 폰트 지정\n",
    "plt.rc('axes', unicode_minus=False)  # 마이너스 폰트 설정\n",
    "%config InlineBackend.figure_format = 'retina'  # 그래프 글씨 뚜렷"
   ]
  },
  {
   "cell_type": "code",
   "execution_count": 28,
   "id": "111ab96e",
   "metadata": {
    "ExecuteTime": {
     "end_time": "2023-12-07T04:32:36.044574Z",
     "start_time": "2023-12-07T04:32:35.902297Z"
    }
   },
   "outputs": [],
   "source": [
    "df_train = pd.read_csv(\"../data/df_train_004.csv\")\n",
    "df_test = pd.read_csv(\"../data/df_test_004.csv\")\n",
    "\n",
    "df_train['target'] = df_train['사망자수']*10 + df_train['중상자수'] * \\\n",
    "    5 + df_train['경상자수']*3 + df_train['부상자수']\n",
    "df_train.drop(columns=['사망자수', '중상자수', '경상자수', '부상자수'], axis=1, inplace=True)"
   ]
  },
  {
   "cell_type": "code",
   "execution_count": 29,
   "id": "047e5346",
   "metadata": {
    "ExecuteTime": {
     "end_time": "2023-12-07T04:32:36.186016Z",
     "start_time": "2023-12-07T04:32:36.143700Z"
    }
   },
   "outputs": [],
   "source": [
    "X = df_train.drop(columns='target', axis=1)\n",
    "X = X + 1\n",
    "X = np.log1p(X)\n",
    "y = df_train['target']"
   ]
  },
  {
   "cell_type": "code",
   "execution_count": 30,
   "id": "41e73b1d",
   "metadata": {
    "ExecuteTime": {
     "end_time": "2023-12-07T04:32:36.294671Z",
     "start_time": "2023-12-07T04:32:36.268937Z"
    }
   },
   "outputs": [],
   "source": [
    "x_train, x_test, y_train, y_test = train_test_split(\n",
    "    X, y, test_size=0.3, random_state=42)"
   ]
  },
  {
   "cell_type": "markdown",
   "id": "53c817c6",
   "metadata": {},
   "source": [
    "# CatBoostRegressor"
   ]
  },
  {
   "cell_type": "code",
   "execution_count": 31,
   "id": "d0ed8042",
   "metadata": {
    "ExecuteTime": {
     "end_time": "2023-12-07T04:32:36.637030Z",
     "start_time": "2023-12-07T04:32:36.621328Z"
    }
   },
   "outputs": [],
   "source": [
    "from sklearn.metrics import mean_squared_error\n",
    "from catboost import CatBoostRegressor"
   ]
  },
  {
   "cell_type": "code",
   "execution_count": 32,
   "id": "52a629d2",
   "metadata": {
    "ExecuteTime": {
     "end_time": "2023-12-07T04:32:36.823481Z",
     "start_time": "2023-12-07T04:32:36.809474Z"
    }
   },
   "outputs": [],
   "source": [
    "# CatBoostRegressor 모델 생성 및 RMSLE 메트릭 및 손실 함수 설정\n",
    "model = CatBoostRegressor(\n",
    "    iterations=1000,\n",
    "    learning_rate=0.005,\n",
    "    loss_function='RMSE',  # You can use 'RMSE' as a built-in loss function\n",
    "    custom_metric=['MSLE'],  # RMSLE as a custom metric\n",
    "    random_state=42\n",
    ")"
   ]
  },
  {
   "cell_type": "code",
   "execution_count": 33,
   "id": "2bbc5aa5",
   "metadata": {
    "ExecuteTime": {
     "end_time": "2023-12-07T04:32:42.941117Z",
     "start_time": "2023-12-07T04:32:37.749752Z"
    },
    "scrolled": false
   },
   "outputs": [
    {
     "data": {
      "application/vnd.jupyter.widget-view+json": {
       "model_id": "33518c45e4134cae8dcda63364fcf7ba",
       "version_major": 2,
       "version_minor": 0
      },
      "text/plain": [
       "MetricVisualizer(layout=Layout(align_self='stretch', height='500px'))"
      ]
     },
     "metadata": {},
     "output_type": "display_data"
    },
    {
     "name": "stdout",
     "output_type": "stream",
     "text": [
      "0:\tlearn: 3.1773084\ttest: 3.2748486\tbest: 3.2748486 (0)\ttotal: 4.41ms\tremaining: 4.41s\n",
      "50:\tlearn: 3.1614232\ttest: 3.2600575\tbest: 3.2600575 (50)\ttotal: 208ms\tremaining: 3.86s\n",
      "100:\tlearn: 3.1509827\ttest: 3.2505703\tbest: 3.2505703 (100)\ttotal: 411ms\tremaining: 3.66s\n",
      "150:\tlearn: 3.1437811\ttest: 3.2444209\tbest: 3.2444209 (150)\ttotal: 625ms\tremaining: 3.52s\n",
      "200:\tlearn: 3.1386849\ttest: 3.2402510\tbest: 3.2402510 (200)\ttotal: 891ms\tremaining: 3.54s\n",
      "250:\tlearn: 3.1347211\ttest: 3.2373811\tbest: 3.2373811 (250)\ttotal: 1.16s\tremaining: 3.46s\n",
      "300:\tlearn: 3.1314335\ttest: 3.2353433\tbest: 3.2353433 (300)\ttotal: 1.43s\tremaining: 3.31s\n",
      "350:\tlearn: 3.1288732\ttest: 3.2338407\tbest: 3.2338407 (350)\ttotal: 1.7s\tremaining: 3.13s\n",
      "400:\tlearn: 3.1266776\ttest: 3.2327984\tbest: 3.2327984 (400)\ttotal: 1.97s\tremaining: 2.95s\n",
      "450:\tlearn: 3.1245500\ttest: 3.2319324\tbest: 3.2319324 (450)\ttotal: 2.24s\tremaining: 2.73s\n",
      "500:\tlearn: 3.1225291\ttest: 3.2312190\tbest: 3.2312190 (500)\ttotal: 2.51s\tremaining: 2.5s\n",
      "550:\tlearn: 3.1207122\ttest: 3.2306563\tbest: 3.2306563 (550)\ttotal: 2.77s\tremaining: 2.26s\n",
      "600:\tlearn: 3.1189191\ttest: 3.2302958\tbest: 3.2302958 (600)\ttotal: 3.06s\tremaining: 2.03s\n",
      "650:\tlearn: 3.1170828\ttest: 3.2299249\tbest: 3.2299249 (650)\ttotal: 3.33s\tremaining: 1.78s\n",
      "700:\tlearn: 3.1154092\ttest: 3.2296360\tbest: 3.2296360 (700)\ttotal: 3.6s\tremaining: 1.54s\n",
      "750:\tlearn: 3.1138651\ttest: 3.2293716\tbest: 3.2293644 (748)\ttotal: 3.89s\tremaining: 1.29s\n",
      "800:\tlearn: 3.1124672\ttest: 3.2290670\tbest: 3.2290670 (800)\ttotal: 4.17s\tremaining: 1.03s\n",
      "850:\tlearn: 3.1110547\ttest: 3.2289019\tbest: 3.2289019 (850)\ttotal: 4.44s\tremaining: 777ms\n",
      "900:\tlearn: 3.1096613\ttest: 3.2288132\tbest: 3.2288088 (897)\ttotal: 4.71s\tremaining: 518ms\n",
      "Stopped by overfitting detector  (10 iterations wait)\n",
      "\n",
      "bestTest = 3.228798274\n",
      "bestIteration = 903\n",
      "\n",
      "Shrink model to first 904 iterations.\n"
     ]
    },
    {
     "data": {
      "text/plain": [
       "<catboost.core.CatBoostRegressor at 0x212e08fbe50>"
      ]
     },
     "execution_count": 33,
     "metadata": {},
     "output_type": "execute_result"
    }
   ],
   "source": [
    "# 모델 훈련 및 RMSLE 메트릭 설정\n",
    "model.fit(x_train, y_train, eval_set=(x_test, y_test), early_stopping_rounds=10,plot=True, verbose_eval=50)"
   ]
  },
  {
   "cell_type": "code",
   "execution_count": 34,
   "id": "59226f33",
   "metadata": {
    "ExecuteTime": {
     "end_time": "2023-12-07T04:32:48.197852Z",
     "start_time": "2023-12-07T04:32:48.188136Z"
    }
   },
   "outputs": [
    {
     "name": "stdout",
     "output_type": "stream",
     "text": [
      "MSLE on validation set: 0.20866875772119411\n"
     ]
    }
   ],
   "source": [
    "msle_score = model.get_best_score()['learn']['MSLE']\n",
    "print(f'MSLE on validation set: {msle_score}')"
   ]
  },
  {
   "cell_type": "code",
   "execution_count": 35,
   "id": "f157e472",
   "metadata": {
    "ExecuteTime": {
     "end_time": "2023-12-07T04:32:49.226141Z",
     "start_time": "2023-12-07T04:32:49.210926Z"
    }
   },
   "outputs": [
    {
     "name": "stdout",
     "output_type": "stream",
     "text": [
      "MSLE on validation set: 0.20916840677021353\n"
     ]
    }
   ],
   "source": [
    "msle_score = model.get_best_score()['validation']['MSLE']\n",
    "print(f'MSLE on validation set: {msle_score}')"
   ]
  },
  {
   "cell_type": "code",
   "execution_count": 36,
   "id": "54d1c4d6",
   "metadata": {
    "ExecuteTime": {
     "end_time": "2023-12-07T04:32:49.975163Z",
     "start_time": "2023-12-07T04:32:49.935877Z"
    }
   },
   "outputs": [],
   "source": [
    "y_pred = model.predict(X)"
   ]
  },
  {
   "cell_type": "code",
   "execution_count": 37,
   "id": "a947fde9",
   "metadata": {
    "ExecuteTime": {
     "end_time": "2023-12-07T04:32:50.209765Z",
     "start_time": "2023-12-07T04:32:50.189579Z"
    }
   },
   "outputs": [],
   "source": [
    "y_round = np.round(y_pred)\n",
    "y_floor = np.floor(y_pred)\n",
    "y_ceil = np.ceil(y_pred)"
   ]
  },
  {
   "cell_type": "code",
   "execution_count": 38,
   "id": "90b61123",
   "metadata": {
    "ExecuteTime": {
     "end_time": "2023-12-07T04:32:50.599479Z",
     "start_time": "2023-12-07T04:32:50.582246Z"
    }
   },
   "outputs": [
    {
     "name": "stdout",
     "output_type": "stream",
     "text": [
      "Training MSE: 9.896189609461679\n",
      "Training MSE: 10.006009949243706\n",
      "Training MSE: 10.33249160374738\n",
      "Training MSE: 10.09014923865559\n"
     ]
    }
   ],
   "source": [
    "print(f'Training MSE: {mean_squared_error(y, y_pred)}')\n",
    "print(f'Training MSE: {mean_squared_error(y, y_round)}')\n",
    "print(f'Training MSE: {mean_squared_error(y, y_floor)}')\n",
    "print(f'Training MSE: {mean_squared_error(y, y_ceil)}')"
   ]
  },
  {
   "cell_type": "code",
   "execution_count": 39,
   "id": "b9ab934a",
   "metadata": {
    "ExecuteTime": {
     "end_time": "2023-12-07T04:32:52.239595Z",
     "start_time": "2023-12-07T04:32:52.217446Z"
    }
   },
   "outputs": [],
   "source": [
    "# 특성 중요도 가져오기\n",
    "feature_importance = model.get_feature_importance(type='FeatureImportance')"
   ]
  },
  {
   "cell_type": "code",
   "execution_count": 40,
   "id": "8a99a321",
   "metadata": {
    "ExecuteTime": {
     "end_time": "2023-12-07T04:32:52.757756Z",
     "start_time": "2023-12-07T04:32:52.453479Z"
    }
   },
   "outputs": [
    {
     "data": {
      "image/png": "[encoded data removed]",
      "text/plain": [
       "<Figure size 720x432 with 1 Axes>"
      ]
     },
     "metadata": {
      "image/png": {
       "height": 416,
       "width": 604
      },
      "needs_background": "light"
     },
     "output_type": "display_data"
    }
   ],
   "source": [
    "# 특성 중요도를 데이터프레임으로 변환 (옵션)\n",
    "importance_df = pd.DataFrame({'Feature': X.columns, 'Importance': feature_importance})\n",
    "\n",
    "# 특성 중요도 시각화\n",
    "plt.figure(figsize=(10, 6))\n",
    "plt.bar(importance_df['Feature'], importance_df['Importance'])\n",
    "plt.xlabel('Features')\n",
    "plt.ylabel('Importance')\n",
    "plt.title('CatBoostRegressor Feature Importance')\n",
    "plt.xticks(rotation=45, ha='right')\n",
    "plt.show()"
   ]
  },
  {
   "cell_type": "code",
   "execution_count": 41,
   "id": "172348d9",
   "metadata": {
    "ExecuteTime": {
     "end_time": "2023-12-07T04:32:53.689150Z",
     "start_time": "2023-12-07T04:32:53.664066Z"
    }
   },
   "outputs": [],
   "source": [
    "sub_file = pd.read_csv(\"../data/sample_submission.csv\")"
   ]
  },
  {
   "cell_type": "code",
   "execution_count": 42,
   "id": "f4ceb536",
   "metadata": {
    "ExecuteTime": {
     "end_time": "2023-12-07T04:32:53.906797Z",
     "start_time": "2023-12-07T04:32:53.880459Z"
    }
   },
   "outputs": [],
   "source": [
    "sub_file['ECLO'] = np.round(model.predict(df_test))"
   ]
  },
  {
   "cell_type": "code",
   "execution_count": 43,
   "id": "06800007",
   "metadata": {
    "ExecuteTime": {
     "end_time": "2023-12-07T04:32:54.219934Z",
     "start_time": "2023-12-07T04:32:54.205411Z"
    }
   },
   "outputs": [
    {
     "data": {
      "text/plain": [
       "5.0    8136\n",
       "4.0    2369\n",
       "6.0     444\n",
       "3.0      14\n",
       "Name: ECLO, dtype: int64"
      ]
     },
     "execution_count": 43,
     "metadata": {},
     "output_type": "execute_result"
    }
   ],
   "source": [
    "sub_file.ECLO.value_counts()"
   ]
  },
  {
   "cell_type": "code",
   "execution_count": 44,
   "id": "94ce79e4",
   "metadata": {
    "ExecuteTime": {
     "end_time": "2023-12-07T04:34:32.780676Z",
     "start_time": "2023-12-07T04:34:32.731463Z"
    }
   },
   "outputs": [],
   "source": [
    "sub_file.to_csv(\"../data/sub_file/014_catboost.csv\", index=False)"
   ]
  }
 ],
 "metadata": {
  "hide_input": false,
  "kernelspec": {
   "display_name": "Python 3 (ipykernel)",
   "language": "python",
   "name": "python3"
  },
  "language_info": {
   "codemirror_mode": {
    "name": "ipython",
    "version": 3
   },
   "file_extension": ".py",
   "mimetype": "text/x-python",
   "name": "python",
   "nbconvert_exporter": "python",
   "pygments_lexer": "ipython3",
   "version": "3.9.12"
  },
  "toc": {
   "base_numbering": 1,
   "nav_menu": {},
   "number_sections": true,
   "sideBar": true,
   "skip_h1_title": false,
   "title_cell": "Table of Contents",
   "title_sidebar": "Contents",
   "toc_cell": false,
   "toc_position": {},
   "toc_section_display": true,
   "toc_window_display": false
  },
  "varInspector": {
   "cols": {
    "lenName": 16,
    "lenType": 16,
    "lenVar": 40
   },
   "kernels_config": {
    "python": {
     "delete_cmd_postfix": "",
     "delete_cmd_prefix": "del ",
     "library": "var_list.py",
     "varRefreshCmd": "print(var_dic_list())"
    },
    "r": {
     "delete_cmd_postfix": ") ",
     "delete_cmd_prefix": "rm(",
     "library": "var_list.r",
     "varRefreshCmd": "cat(var_dic_list()) "
    }
   },
   "types_to_exclude": [
    "module",
    "function",
    "builtin_function_or_method",
    "instance",
    "_Feature"
   ],
   "window_display": false
  }
 },
 "nbformat": 4,
 "nbformat_minor": 5
}
