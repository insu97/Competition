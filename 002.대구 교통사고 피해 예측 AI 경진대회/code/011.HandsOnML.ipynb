{
 "cells": [
  {
   "cell_type": "code",
   "execution_count": 1,
   "id": "1cd5d77e",
   "metadata": {
    "ExecuteTime": {
     "end_time": "2023-12-02T04:25:55.715887Z",
     "start_time": "2023-12-02T04:25:45.813751Z"
    }
   },
   "outputs": [],
   "source": [
    "import numpy as np\n",
    "import pandas as pd\n",
    "import tensorflow as tf\n",
    "import matplotlib.pyplot as plt\n",
    "\n",
    "from sklearn.model_selection import train_test_split\n",
    "\n",
    "plt.rc('font', family='Malgun Gothic')  # 폰트 지정\n",
    "plt.rc('axes', unicode_minus=False)  # 마이너스 폰트 설정\n",
    "%config InlineBackend.figure_format = 'retina'  # 그래프 글씨 뚜렷\n",
    "\n",
    "df_train = pd.read_csv(\"../data/df_train_004.csv\")\n",
    "df_test = pd.read_csv(\"../data/df_test_004.csv\")\n",
    "\n",
    "df_train['target'] = df_train['사망자수']*10 + df_train['중상자수']*5 + df_train['경상자수']*3 + df_train['부상자수']\n",
    "df_train.drop(columns = ['사망자수','중상자수','경상자수','부상자수'], axis=1, inplace = True)\n",
    "\n",
    "X = df_train.drop(columns = 'target',axis=1)\n",
    "y = df_train['target']\n",
    "\n",
    "x_train, x_test, y_train , y_test = train_test_split(X, y, test_size = 0.3, random_state=42 )"
   ]
  },
  {
   "cell_type": "markdown",
   "id": "f2a3486c",
   "metadata": {},
   "source": [
    "# HandsOnML - MLP"
   ]
  },
  {
   "cell_type": "code",
   "execution_count": 28,
   "id": "5886215d",
   "metadata": {
    "ExecuteTime": {
     "end_time": "2023-12-02T04:43:18.033722Z",
     "start_time": "2023-12-02T04:43:18.027105Z"
    }
   },
   "outputs": [],
   "source": [
    "from sklearn.neural_network import MLPRegressor\n",
    "from sklearn.metrics import mean_squared_error"
   ]
  },
  {
   "cell_type": "code",
   "execution_count": 23,
   "id": "102639e3",
   "metadata": {
    "ExecuteTime": {
     "end_time": "2023-12-02T04:37:36.121014Z",
     "start_time": "2023-12-02T04:37:36.100707Z"
    }
   },
   "outputs": [],
   "source": [
    "mlp_reg = MLPRegressor(hidden_layer_sizes=[50,50,50], random_state=42)"
   ]
  },
  {
   "cell_type": "code",
   "execution_count": 24,
   "id": "995b784e",
   "metadata": {
    "ExecuteTime": {
     "end_time": "2023-12-02T04:43:02.849943Z",
     "start_time": "2023-12-02T04:37:43.435983Z"
    }
   },
   "outputs": [
    {
     "name": "stderr",
     "output_type": "stream",
     "text": [
      "C:\\Users\\USER\\AppData\\Roaming\\Python\\Python39\\site-packages\\sklearn\\neural_network\\_multilayer_perceptron.py:686: ConvergenceWarning: Stochastic Optimizer: Maximum iterations (200) reached and the optimization hasn't converged yet.\n",
      "  warnings.warn(\n"
     ]
    },
    {
     "data": {
      "text/html": [
       "<style>#sk-container-id-1 {color: black;background-color: white;}#sk-container-id-1 pre{padding: 0;}#sk-container-id-1 div.sk-toggleable {background-color: white;}#sk-container-id-1 label.sk-toggleable__label {cursor: pointer;display: block;width: 100%;margin-bottom: 0;padding: 0.3em;box-sizing: border-box;text-align: center;}#sk-container-id-1 label.sk-toggleable__label-arrow:before {content: \"▸\";float: left;margin-right: 0.25em;color: #696969;}#sk-container-id-1 label.sk-toggleable__label-arrow:hover:before {color: black;}#sk-container-id-1 div.sk-estimator:hover label.sk-toggleable__label-arrow:before {color: black;}#sk-container-id-1 div.sk-toggleable__content {max-height: 0;max-width: 0;overflow: hidden;text-align: left;background-color: #f0f8ff;}#sk-container-id-1 div.sk-toggleable__content pre {margin: 0.2em;color: black;border-radius: 0.25em;background-color: #f0f8ff;}#sk-container-id-1 input.sk-toggleable__control:checked~div.sk-toggleable__content {max-height: 200px;max-width: 100%;overflow: auto;}#sk-container-id-1 input.sk-toggleable__control:checked~label.sk-toggleable__label-arrow:before {content: \"▾\";}#sk-container-id-1 div.sk-estimator input.sk-toggleable__control:checked~label.sk-toggleable__label {background-color: #d4ebff;}#sk-container-id-1 div.sk-label input.sk-toggleable__control:checked~label.sk-toggleable__label {background-color: #d4ebff;}#sk-container-id-1 input.sk-hidden--visually {border: 0;clip: rect(1px 1px 1px 1px);clip: rect(1px, 1px, 1px, 1px);height: 1px;margin: -1px;overflow: hidden;padding: 0;position: absolute;width: 1px;}#sk-container-id-1 div.sk-estimator {font-family: monospace;background-color: #f0f8ff;border: 1px dotted black;border-radius: 0.25em;box-sizing: border-box;margin-bottom: 0.5em;}#sk-container-id-1 div.sk-estimator:hover {background-color: #d4ebff;}#sk-container-id-1 div.sk-parallel-item::after {content: \"\";width: 100%;border-bottom: 1px solid gray;flex-grow: 1;}#sk-container-id-1 div.sk-label:hover label.sk-toggleable__label {background-color: #d4ebff;}#sk-container-id-1 div.sk-serial::before {content: \"\";position: absolute;border-left: 1px solid gray;box-sizing: border-box;top: 0;bottom: 0;left: 50%;z-index: 0;}#sk-container-id-1 div.sk-serial {display: flex;flex-direction: column;align-items: center;background-color: white;padding-right: 0.2em;padding-left: 0.2em;position: relative;}#sk-container-id-1 div.sk-item {position: relative;z-index: 1;}#sk-container-id-1 div.sk-parallel {display: flex;align-items: stretch;justify-content: center;background-color: white;position: relative;}#sk-container-id-1 div.sk-item::before, #sk-container-id-1 div.sk-parallel-item::before {content: \"\";position: absolute;border-left: 1px solid gray;box-sizing: border-box;top: 0;bottom: 0;left: 50%;z-index: -1;}#sk-container-id-1 div.sk-parallel-item {display: flex;flex-direction: column;z-index: 1;position: relative;background-color: white;}#sk-container-id-1 div.sk-parallel-item:first-child::after {align-self: flex-end;width: 50%;}#sk-container-id-1 div.sk-parallel-item:last-child::after {align-self: flex-start;width: 50%;}#sk-container-id-1 div.sk-parallel-item:only-child::after {width: 0;}#sk-container-id-1 div.sk-dashed-wrapped {border: 1px dashed gray;margin: 0 0.4em 0.5em 0.4em;box-sizing: border-box;padding-bottom: 0.4em;background-color: white;}#sk-container-id-1 div.sk-label label {font-family: monospace;font-weight: bold;display: inline-block;line-height: 1.2em;}#sk-container-id-1 div.sk-label-container {text-align: center;}#sk-container-id-1 div.sk-container {/* jupyter's `normalize.less` sets `[hidden] { display: none; }` but bootstrap.min.css set `[hidden] { display: none !important; }` so we also need the `!important` here to be able to override the default hidden behavior on the sphinx rendered scikit-learn.org. See: https://github.com/scikit-learn/scikit-learn/issues/21755 */display: inline-block !important;position: relative;}#sk-container-id-1 div.sk-text-repr-fallback {display: none;}</style><div id=\"sk-container-id-1\" class=\"sk-top-container\"><div class=\"sk-text-repr-fallback\"><pre>MLPRegressor(hidden_layer_sizes=[50, 50, 50], random_state=42)</pre><b>In a Jupyter environment, please rerun this cell to show the HTML representation or trust the notebook. <br />On GitHub, the HTML representation is unable to render, please try loading this page with nbviewer.org.</b></div><div class=\"sk-container\" hidden><div class=\"sk-item\"><div class=\"sk-estimator sk-toggleable\"><input class=\"sk-toggleable__control sk-hidden--visually\" id=\"sk-estimator-id-1\" type=\"checkbox\" checked><label for=\"sk-estimator-id-1\" class=\"sk-toggleable__label sk-toggleable__label-arrow\">MLPRegressor</label><div class=\"sk-toggleable__content\"><pre>MLPRegressor(hidden_layer_sizes=[50, 50, 50], random_state=42)</pre></div></div></div></div></div>"
      ],
      "text/plain": [
       "MLPRegressor(hidden_layer_sizes=[50, 50, 50], random_state=42)"
      ]
     },
     "execution_count": 24,
     "metadata": {},
     "output_type": "execute_result"
    }
   ],
   "source": [
    "mlp_reg.fit(x_train, y_train)"
   ]
  },
  {
   "cell_type": "code",
   "execution_count": 30,
   "id": "32ffed75",
   "metadata": {
    "ExecuteTime": {
     "end_time": "2023-12-02T04:43:29.754781Z",
     "start_time": "2023-12-02T04:43:29.404257Z"
    }
   },
   "outputs": [],
   "source": [
    "y_pred = mlp_reg.predict(x_test)"
   ]
  },
  {
   "cell_type": "code",
   "execution_count": 33,
   "id": "93849b13",
   "metadata": {
    "ExecuteTime": {
     "end_time": "2023-12-02T04:43:55.560350Z",
     "start_time": "2023-12-02T04:43:55.548757Z"
    }
   },
   "outputs": [],
   "source": [
    "mse = mean_squared_error(y_test, y_pred, squared=False)"
   ]
  },
  {
   "cell_type": "code",
   "execution_count": 34,
   "id": "5622d641",
   "metadata": {
    "ExecuteTime": {
     "end_time": "2023-12-02T04:43:55.700714Z",
     "start_time": "2023-12-02T04:43:55.683718Z"
    }
   },
   "outputs": [
    {
     "name": "stdout",
     "output_type": "stream",
     "text": [
      "3.4500422232354038\n"
     ]
    }
   ],
   "source": [
    "print(mse)"
   ]
  },
  {
   "cell_type": "markdown",
   "id": "a949c17e",
   "metadata": {},
   "source": [
    "# 제출"
   ]
  },
  {
   "cell_type": "code",
   "execution_count": 92,
   "id": "de6271aa",
   "metadata": {
    "ExecuteTime": {
     "end_time": "2023-12-02T04:55:59.425685Z",
     "start_time": "2023-12-02T04:55:59.396420Z"
    }
   },
   "outputs": [],
   "source": [
    "sub_file = pd.read_csv(\"../data/sample_submission.csv\")"
   ]
  },
  {
   "cell_type": "code",
   "execution_count": 93,
   "id": "9091559f",
   "metadata": {
    "ExecuteTime": {
     "end_time": "2023-12-02T04:55:59.863935Z",
     "start_time": "2023-12-02T04:55:59.542804Z"
    }
   },
   "outputs": [],
   "source": [
    "sub_file['ECLO'] = mlp_reg.predict(df_test)"
   ]
  },
  {
   "cell_type": "code",
   "execution_count": 94,
   "id": "2f1f4294",
   "metadata": {
    "ExecuteTime": {
     "end_time": "2023-12-02T04:55:59.959589Z",
     "start_time": "2023-12-02T04:55:59.950610Z"
    }
   },
   "outputs": [],
   "source": [
    "sub_file['ECLO'] = round(sub_file['ECLO'])"
   ]
  },
  {
   "cell_type": "code",
   "execution_count": 95,
   "id": "68b4c336",
   "metadata": {
    "ExecuteTime": {
     "end_time": "2023-12-02T04:56:00.086822Z",
     "start_time": "2023-12-02T04:56:00.063439Z"
    }
   },
   "outputs": [],
   "source": [
    "change_index = sub_file[sub_file['ECLO'] < 0].index"
   ]
  },
  {
   "cell_type": "code",
   "execution_count": 96,
   "id": "a900e86b",
   "metadata": {
    "ExecuteTime": {
     "end_time": "2023-12-02T04:56:00.321321Z",
     "start_time": "2023-12-02T04:56:00.299427Z"
    }
   },
   "outputs": [],
   "source": [
    "for i in change_index:\n",
    "    sub_file.loc[i, 'ECLO'] = 0"
   ]
  },
  {
   "cell_type": "code",
   "execution_count": 98,
   "id": "80b96615",
   "metadata": {
    "ExecuteTime": {
     "end_time": "2023-12-02T04:56:05.069396Z",
     "start_time": "2023-12-02T04:56:05.052405Z"
    }
   },
   "outputs": [
    {
     "data": {
      "text/plain": [
       "5.0     4188\n",
       "4.0     3465\n",
       "6.0     1363\n",
       "3.0     1024\n",
       "7.0      380\n",
       "2.0      175\n",
       "8.0      151\n",
       "9.0       58\n",
       "1.0       53\n",
       "10.0      32\n",
       "0.0       31\n",
       "11.0      21\n",
       "12.0       9\n",
       "13.0       5\n",
       "16.0       2\n",
       "14.0       2\n",
       "15.0       2\n",
       "17.0       1\n",
       "20.0       1\n",
       "Name: ECLO, dtype: int64"
      ]
     },
     "execution_count": 98,
     "metadata": {},
     "output_type": "execute_result"
    }
   ],
   "source": [
    "sub_file.ECLO.value_counts()"
   ]
  },
  {
   "cell_type": "code",
   "execution_count": 99,
   "id": "06e658d2",
   "metadata": {
    "ExecuteTime": {
     "end_time": "2023-12-02T04:56:20.024847Z",
     "start_time": "2023-12-02T04:56:19.959369Z"
    }
   },
   "outputs": [],
   "source": [
    "sub_file.to_csv(\"../data/sub_file/008HandsOnML_001.csv\", index=False)"
   ]
  }
 ],
 "metadata": {
  "hide_input": false,
  "kernelspec": {
   "display_name": "Python 3 (ipykernel)",
   "language": "python",
   "name": "python3"
  },
  "language_info": {
   "codemirror_mode": {
    "name": "ipython",
    "version": 3
   },
   "file_extension": ".py",
   "mimetype": "text/x-python",
   "name": "python",
   "nbconvert_exporter": "python",
   "pygments_lexer": "ipython3",
   "version": "3.9.12"
  },
  "toc": {
   "base_numbering": 1,
   "nav_menu": {},
   "number_sections": true,
   "sideBar": true,
   "skip_h1_title": false,
   "title_cell": "Table of Contents",
   "title_sidebar": "Contents",
   "toc_cell": false,
   "toc_position": {},
   "toc_section_display": true,
   "toc_window_display": false
  },
  "varInspector": {
   "cols": {
    "lenName": 16,
    "lenType": 16,
    "lenVar": 40
   },
   "kernels_config": {
    "python": {
     "delete_cmd_postfix": "",
     "delete_cmd_prefix": "del ",
     "library": "var_list.py",
     "varRefreshCmd": "print(var_dic_list())"
    },
    "r": {
     "delete_cmd_postfix": ") ",
     "delete_cmd_prefix": "rm(",
     "library": "var_list.r",
     "varRefreshCmd": "cat(var_dic_list()) "
    }
   },
   "types_to_exclude": [
    "module",
    "function",
    "builtin_function_or_method",
    "instance",
    "_Feature"
   ],
   "window_display": false
  }
 },
 "nbformat": 4,
 "nbformat_minor": 5
}
