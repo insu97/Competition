{
 "cells": [
  {
   "cell_type": "code",
   "execution_count": 1,
   "id": "cb1c1622",
   "metadata": {
    "ExecuteTime": {
     "end_time": "2023-12-02T04:18:17.482317Z",
     "start_time": "2023-12-02T04:18:16.511322Z"
    }
   },
   "outputs": [],
   "source": [
    "import pandas as pd"
   ]
  },
  {
   "cell_type": "code",
   "execution_count": 2,
   "id": "afb3ba64",
   "metadata": {
    "ExecuteTime": {
     "end_time": "2023-12-02T04:18:17.671849Z",
     "start_time": "2023-12-02T04:18:17.485112Z"
    }
   },
   "outputs": [],
   "source": [
    "df_train = pd.read_csv(\"../data/train.csv\")\n",
    "df_test = pd.read_csv(\"../data/test.csv\")\n",
    "\n",
    "target_col = ['사망자수','중상자수','경상자수','부상자수']\n",
    "\n",
    "use_col = df_test.columns.tolist()\n",
    "use_col.extend(target_col)\n",
    "\n",
    "df_train = df_train[use_col]"
   ]
  },
  {
   "cell_type": "code",
   "execution_count": 3,
   "id": "c26ee45d",
   "metadata": {
    "ExecuteTime": {
     "end_time": "2023-12-02T04:18:17.703523Z",
     "start_time": "2023-12-02T04:18:17.674267Z"
    }
   },
   "outputs": [
    {
     "data": {
      "text/html": [
       "<div>\n",
       "<style scoped>\n",
       "    .dataframe tbody tr th:only-of-type {\n",
       "        vertical-align: middle;\n",
       "    }\n",
       "\n",
       "    .dataframe tbody tr th {\n",
       "        vertical-align: top;\n",
       "    }\n",
       "\n",
       "    .dataframe thead th {\n",
       "        text-align: right;\n",
       "    }\n",
       "</style>\n",
       "<table border=\"1\" class=\"dataframe\">\n",
       "  <thead>\n",
       "    <tr style=\"text-align: right;\">\n",
       "      <th></th>\n",
       "      <th>ID</th>\n",
       "      <th>사고일시</th>\n",
       "      <th>요일</th>\n",
       "      <th>기상상태</th>\n",
       "      <th>시군구</th>\n",
       "      <th>도로형태</th>\n",
       "      <th>노면상태</th>\n",
       "      <th>사고유형</th>\n",
       "      <th>사망자수</th>\n",
       "      <th>중상자수</th>\n",
       "      <th>경상자수</th>\n",
       "      <th>부상자수</th>\n",
       "    </tr>\n",
       "  </thead>\n",
       "  <tbody>\n",
       "    <tr>\n",
       "      <th>0</th>\n",
       "      <td>ACCIDENT_00000</td>\n",
       "      <td>2019-01-01 00</td>\n",
       "      <td>화요일</td>\n",
       "      <td>맑음</td>\n",
       "      <td>대구광역시 중구 대신동</td>\n",
       "      <td>단일로 - 기타</td>\n",
       "      <td>건조</td>\n",
       "      <td>차대사람</td>\n",
       "      <td>0</td>\n",
       "      <td>1</td>\n",
       "      <td>0</td>\n",
       "      <td>0</td>\n",
       "    </tr>\n",
       "    <tr>\n",
       "      <th>1</th>\n",
       "      <td>ACCIDENT_00001</td>\n",
       "      <td>2019-01-01 00</td>\n",
       "      <td>화요일</td>\n",
       "      <td>흐림</td>\n",
       "      <td>대구광역시 달서구 감삼동</td>\n",
       "      <td>단일로 - 기타</td>\n",
       "      <td>건조</td>\n",
       "      <td>차대사람</td>\n",
       "      <td>0</td>\n",
       "      <td>0</td>\n",
       "      <td>1</td>\n",
       "      <td>0</td>\n",
       "    </tr>\n",
       "    <tr>\n",
       "      <th>2</th>\n",
       "      <td>ACCIDENT_00002</td>\n",
       "      <td>2019-01-01 01</td>\n",
       "      <td>화요일</td>\n",
       "      <td>맑음</td>\n",
       "      <td>대구광역시 수성구 두산동</td>\n",
       "      <td>단일로 - 기타</td>\n",
       "      <td>건조</td>\n",
       "      <td>차대사람</td>\n",
       "      <td>0</td>\n",
       "      <td>0</td>\n",
       "      <td>1</td>\n",
       "      <td>0</td>\n",
       "    </tr>\n",
       "    <tr>\n",
       "      <th>3</th>\n",
       "      <td>ACCIDENT_00003</td>\n",
       "      <td>2019-01-01 02</td>\n",
       "      <td>화요일</td>\n",
       "      <td>맑음</td>\n",
       "      <td>대구광역시 북구 복현동</td>\n",
       "      <td>단일로 - 기타</td>\n",
       "      <td>건조</td>\n",
       "      <td>차대차</td>\n",
       "      <td>0</td>\n",
       "      <td>1</td>\n",
       "      <td>0</td>\n",
       "      <td>0</td>\n",
       "    </tr>\n",
       "    <tr>\n",
       "      <th>4</th>\n",
       "      <td>ACCIDENT_00004</td>\n",
       "      <td>2019-01-01 04</td>\n",
       "      <td>화요일</td>\n",
       "      <td>맑음</td>\n",
       "      <td>대구광역시 동구 신암동</td>\n",
       "      <td>단일로 - 기타</td>\n",
       "      <td>건조</td>\n",
       "      <td>차대차</td>\n",
       "      <td>0</td>\n",
       "      <td>0</td>\n",
       "      <td>1</td>\n",
       "      <td>0</td>\n",
       "    </tr>\n",
       "  </tbody>\n",
       "</table>\n",
       "</div>"
      ],
      "text/plain": [
       "               ID           사고일시   요일 기상상태            시군구      도로형태 노면상태  \\\n",
       "0  ACCIDENT_00000  2019-01-01 00  화요일   맑음   대구광역시 중구 대신동  단일로 - 기타   건조   \n",
       "1  ACCIDENT_00001  2019-01-01 00  화요일   흐림  대구광역시 달서구 감삼동  단일로 - 기타   건조   \n",
       "2  ACCIDENT_00002  2019-01-01 01  화요일   맑음  대구광역시 수성구 두산동  단일로 - 기타   건조   \n",
       "3  ACCIDENT_00003  2019-01-01 02  화요일   맑음   대구광역시 북구 복현동  단일로 - 기타   건조   \n",
       "4  ACCIDENT_00004  2019-01-01 04  화요일   맑음   대구광역시 동구 신암동  단일로 - 기타   건조   \n",
       "\n",
       "   사고유형  사망자수  중상자수  경상자수  부상자수  \n",
       "0  차대사람     0     1     0     0  \n",
       "1  차대사람     0     0     1     0  \n",
       "2  차대사람     0     0     1     0  \n",
       "3   차대차     0     1     0     0  \n",
       "4   차대차     0     0     1     0  "
      ]
     },
     "execution_count": 3,
     "metadata": {},
     "output_type": "execute_result"
    }
   ],
   "source": [
    "df_train.head()"
   ]
  },
  {
   "cell_type": "markdown",
   "id": "8b61a0e9",
   "metadata": {},
   "source": [
    "# ID"
   ]
  },
  {
   "cell_type": "code",
   "execution_count": 4,
   "id": "2093c0e5",
   "metadata": {
    "ExecuteTime": {
     "end_time": "2023-12-02T04:18:17.718948Z",
     "start_time": "2023-12-02T04:18:17.705424Z"
    }
   },
   "outputs": [],
   "source": [
    "df_train.drop(['ID'], axis = 1,inplace = True)\n",
    "df_test.drop(['ID'], axis = 1,inplace = True)"
   ]
  },
  {
   "cell_type": "markdown",
   "id": "cd73ffc7",
   "metadata": {},
   "source": [
    "# 사고일시"
   ]
  },
  {
   "cell_type": "code",
   "execution_count": 5,
   "id": "0359ba09",
   "metadata": {
    "ExecuteTime": {
     "end_time": "2023-12-02T04:18:17.844333Z",
     "start_time": "2023-12-02T04:18:17.721579Z"
    }
   },
   "outputs": [],
   "source": [
    "df_train['date'] = df_train['사고일시'].str.split(expand=True)[0]\n",
    "df_train['time'] = df_train['사고일시'].str.split(expand=True)[1]\n",
    "\n",
    "df_test['date'] = df_test['사고일시'].str.split(expand=True)[0]\n",
    "df_test['time'] = df_test['사고일시'].str.split(expand=True)[1]"
   ]
  },
  {
   "cell_type": "code",
   "execution_count": 6,
   "id": "b18d8d82",
   "metadata": {
    "ExecuteTime": {
     "end_time": "2023-12-02T04:18:17.876136Z",
     "start_time": "2023-12-02T04:18:17.846337Z"
    }
   },
   "outputs": [],
   "source": [
    "df_train.drop(['사고일시'], axis = 1,inplace = True)\n",
    "df_test.drop(['사고일시'], axis = 1,inplace = True)"
   ]
  },
  {
   "cell_type": "code",
   "execution_count": 7,
   "id": "96a834fb",
   "metadata": {
    "ExecuteTime": {
     "end_time": "2023-12-02T04:18:18.034450Z",
     "start_time": "2023-12-02T04:18:17.879122Z"
    }
   },
   "outputs": [],
   "source": [
    "df_train['month'] = df_train['date'].str.split('-', expand=True)[1]\n",
    "df_train['day'] = df_train['date'].str.split('-', expand=True)[2]\n",
    "\n",
    "df_test['month'] = df_test['date'].str.split('-', expand=True)[1]\n",
    "df_test['day'] = df_test['date'].str.split('-', expand=True)[2]"
   ]
  },
  {
   "cell_type": "code",
   "execution_count": 8,
   "id": "374fd98b",
   "metadata": {
    "ExecuteTime": {
     "end_time": "2023-12-02T04:18:18.065838Z",
     "start_time": "2023-12-02T04:18:18.035471Z"
    }
   },
   "outputs": [],
   "source": [
    "df_train.drop(['date'], axis = 1,inplace = True)\n",
    "df_test.drop(['date'], axis = 1,inplace = True)"
   ]
  },
  {
   "cell_type": "code",
   "execution_count": 9,
   "id": "84100504",
   "metadata": {
    "ExecuteTime": {
     "end_time": "2023-12-02T04:18:18.081774Z",
     "start_time": "2023-12-02T04:18:18.069670Z"
    }
   },
   "outputs": [
    {
     "data": {
      "text/html": [
       "<div>\n",
       "<style scoped>\n",
       "    .dataframe tbody tr th:only-of-type {\n",
       "        vertical-align: middle;\n",
       "    }\n",
       "\n",
       "    .dataframe tbody tr th {\n",
       "        vertical-align: top;\n",
       "    }\n",
       "\n",
       "    .dataframe thead th {\n",
       "        text-align: right;\n",
       "    }\n",
       "</style>\n",
       "<table border=\"1\" class=\"dataframe\">\n",
       "  <thead>\n",
       "    <tr style=\"text-align: right;\">\n",
       "      <th></th>\n",
       "      <th>요일</th>\n",
       "      <th>기상상태</th>\n",
       "      <th>시군구</th>\n",
       "      <th>도로형태</th>\n",
       "      <th>노면상태</th>\n",
       "      <th>사고유형</th>\n",
       "      <th>사망자수</th>\n",
       "      <th>중상자수</th>\n",
       "      <th>경상자수</th>\n",
       "      <th>부상자수</th>\n",
       "      <th>time</th>\n",
       "      <th>month</th>\n",
       "      <th>day</th>\n",
       "    </tr>\n",
       "  </thead>\n",
       "  <tbody>\n",
       "    <tr>\n",
       "      <th>0</th>\n",
       "      <td>화요일</td>\n",
       "      <td>맑음</td>\n",
       "      <td>대구광역시 중구 대신동</td>\n",
       "      <td>단일로 - 기타</td>\n",
       "      <td>건조</td>\n",
       "      <td>차대사람</td>\n",
       "      <td>0</td>\n",
       "      <td>1</td>\n",
       "      <td>0</td>\n",
       "      <td>0</td>\n",
       "      <td>00</td>\n",
       "      <td>01</td>\n",
       "      <td>01</td>\n",
       "    </tr>\n",
       "    <tr>\n",
       "      <th>1</th>\n",
       "      <td>화요일</td>\n",
       "      <td>흐림</td>\n",
       "      <td>대구광역시 달서구 감삼동</td>\n",
       "      <td>단일로 - 기타</td>\n",
       "      <td>건조</td>\n",
       "      <td>차대사람</td>\n",
       "      <td>0</td>\n",
       "      <td>0</td>\n",
       "      <td>1</td>\n",
       "      <td>0</td>\n",
       "      <td>00</td>\n",
       "      <td>01</td>\n",
       "      <td>01</td>\n",
       "    </tr>\n",
       "    <tr>\n",
       "      <th>2</th>\n",
       "      <td>화요일</td>\n",
       "      <td>맑음</td>\n",
       "      <td>대구광역시 수성구 두산동</td>\n",
       "      <td>단일로 - 기타</td>\n",
       "      <td>건조</td>\n",
       "      <td>차대사람</td>\n",
       "      <td>0</td>\n",
       "      <td>0</td>\n",
       "      <td>1</td>\n",
       "      <td>0</td>\n",
       "      <td>01</td>\n",
       "      <td>01</td>\n",
       "      <td>01</td>\n",
       "    </tr>\n",
       "    <tr>\n",
       "      <th>3</th>\n",
       "      <td>화요일</td>\n",
       "      <td>맑음</td>\n",
       "      <td>대구광역시 북구 복현동</td>\n",
       "      <td>단일로 - 기타</td>\n",
       "      <td>건조</td>\n",
       "      <td>차대차</td>\n",
       "      <td>0</td>\n",
       "      <td>1</td>\n",
       "      <td>0</td>\n",
       "      <td>0</td>\n",
       "      <td>02</td>\n",
       "      <td>01</td>\n",
       "      <td>01</td>\n",
       "    </tr>\n",
       "    <tr>\n",
       "      <th>4</th>\n",
       "      <td>화요일</td>\n",
       "      <td>맑음</td>\n",
       "      <td>대구광역시 동구 신암동</td>\n",
       "      <td>단일로 - 기타</td>\n",
       "      <td>건조</td>\n",
       "      <td>차대차</td>\n",
       "      <td>0</td>\n",
       "      <td>0</td>\n",
       "      <td>1</td>\n",
       "      <td>0</td>\n",
       "      <td>04</td>\n",
       "      <td>01</td>\n",
       "      <td>01</td>\n",
       "    </tr>\n",
       "  </tbody>\n",
       "</table>\n",
       "</div>"
      ],
      "text/plain": [
       "    요일 기상상태            시군구      도로형태 노면상태  사고유형  사망자수  중상자수  경상자수  부상자수 time  \\\n",
       "0  화요일   맑음   대구광역시 중구 대신동  단일로 - 기타   건조  차대사람     0     1     0     0   00   \n",
       "1  화요일   흐림  대구광역시 달서구 감삼동  단일로 - 기타   건조  차대사람     0     0     1     0   00   \n",
       "2  화요일   맑음  대구광역시 수성구 두산동  단일로 - 기타   건조  차대사람     0     0     1     0   01   \n",
       "3  화요일   맑음   대구광역시 북구 복현동  단일로 - 기타   건조   차대차     0     1     0     0   02   \n",
       "4  화요일   맑음   대구광역시 동구 신암동  단일로 - 기타   건조   차대차     0     0     1     0   04   \n",
       "\n",
       "  month day  \n",
       "0    01  01  \n",
       "1    01  01  \n",
       "2    01  01  \n",
       "3    01  01  \n",
       "4    01  01  "
      ]
     },
     "execution_count": 9,
     "metadata": {},
     "output_type": "execute_result"
    }
   ],
   "source": [
    "df_train.head()"
   ]
  },
  {
   "cell_type": "code",
   "execution_count": 10,
   "id": "652199ff",
   "metadata": {
    "ExecuteTime": {
     "end_time": "2023-12-02T04:18:18.128250Z",
     "start_time": "2023-12-02T04:18:18.084669Z"
    }
   },
   "outputs": [],
   "source": [
    "df_train[['time','month','day']] = df_train[['time','month','day']].astype('int')\n",
    "df_test[['time','month','day']] = df_test[['time','month','day']].astype('int')"
   ]
  },
  {
   "cell_type": "markdown",
   "id": "3c44a31c",
   "metadata": {},
   "source": [
    "# 요일"
   ]
  },
  {
   "cell_type": "code",
   "execution_count": 11,
   "id": "c8add493",
   "metadata": {
    "ExecuteTime": {
     "end_time": "2023-12-02T04:18:18.160328Z",
     "start_time": "2023-12-02T04:18:18.131237Z"
    }
   },
   "outputs": [],
   "source": [
    "df_train = pd.concat([df_train, pd.get_dummies(df_train['요일'])], axis=1)\n",
    "df_test = pd.concat([df_test, pd.get_dummies(df_test['요일'])], axis=1)\n",
    "\n",
    "df_train.drop(['요일'], axis = 1,inplace = True)\n",
    "df_test.drop(['요일'], axis = 1,inplace = True)"
   ]
  },
  {
   "cell_type": "code",
   "execution_count": 12,
   "id": "c9c7a293",
   "metadata": {
    "ExecuteTime": {
     "end_time": "2023-12-02T04:18:18.191328Z",
     "start_time": "2023-12-02T04:18:18.165317Z"
    }
   },
   "outputs": [
    {
     "data": {
      "text/html": [
       "<div>\n",
       "<style scoped>\n",
       "    .dataframe tbody tr th:only-of-type {\n",
       "        vertical-align: middle;\n",
       "    }\n",
       "\n",
       "    .dataframe tbody tr th {\n",
       "        vertical-align: top;\n",
       "    }\n",
       "\n",
       "    .dataframe thead th {\n",
       "        text-align: right;\n",
       "    }\n",
       "</style>\n",
       "<table border=\"1\" class=\"dataframe\">\n",
       "  <thead>\n",
       "    <tr style=\"text-align: right;\">\n",
       "      <th></th>\n",
       "      <th>기상상태</th>\n",
       "      <th>시군구</th>\n",
       "      <th>도로형태</th>\n",
       "      <th>노면상태</th>\n",
       "      <th>사고유형</th>\n",
       "      <th>사망자수</th>\n",
       "      <th>중상자수</th>\n",
       "      <th>경상자수</th>\n",
       "      <th>부상자수</th>\n",
       "      <th>time</th>\n",
       "      <th>month</th>\n",
       "      <th>day</th>\n",
       "      <th>금요일</th>\n",
       "      <th>목요일</th>\n",
       "      <th>수요일</th>\n",
       "      <th>월요일</th>\n",
       "      <th>일요일</th>\n",
       "      <th>토요일</th>\n",
       "      <th>화요일</th>\n",
       "    </tr>\n",
       "  </thead>\n",
       "  <tbody>\n",
       "    <tr>\n",
       "      <th>0</th>\n",
       "      <td>맑음</td>\n",
       "      <td>대구광역시 중구 대신동</td>\n",
       "      <td>단일로 - 기타</td>\n",
       "      <td>건조</td>\n",
       "      <td>차대사람</td>\n",
       "      <td>0</td>\n",
       "      <td>1</td>\n",
       "      <td>0</td>\n",
       "      <td>0</td>\n",
       "      <td>0</td>\n",
       "      <td>1</td>\n",
       "      <td>1</td>\n",
       "      <td>0</td>\n",
       "      <td>0</td>\n",
       "      <td>0</td>\n",
       "      <td>0</td>\n",
       "      <td>0</td>\n",
       "      <td>0</td>\n",
       "      <td>1</td>\n",
       "    </tr>\n",
       "  </tbody>\n",
       "</table>\n",
       "</div>"
      ],
      "text/plain": [
       "  기상상태           시군구      도로형태 노면상태  사고유형  사망자수  중상자수  경상자수  부상자수  time  \\\n",
       "0   맑음  대구광역시 중구 대신동  단일로 - 기타   건조  차대사람     0     1     0     0     0   \n",
       "\n",
       "   month  day  금요일  목요일  수요일  월요일  일요일  토요일  화요일  \n",
       "0      1    1    0    0    0    0    0    0    1  "
      ]
     },
     "execution_count": 12,
     "metadata": {},
     "output_type": "execute_result"
    }
   ],
   "source": [
    "df_train.head(1)"
   ]
  },
  {
   "cell_type": "markdown",
   "id": "79429249",
   "metadata": {},
   "source": [
    "# 기상상태"
   ]
  },
  {
   "cell_type": "code",
   "execution_count": 13,
   "id": "72472b99",
   "metadata": {
    "ExecuteTime": {
     "end_time": "2023-12-02T04:18:18.207323Z",
     "start_time": "2023-12-02T04:18:18.193311Z"
    }
   },
   "outputs": [
    {
     "data": {
      "text/plain": [
       "맑음    36181\n",
       "비      2627\n",
       "흐림      729\n",
       "기타       56\n",
       "안개        8\n",
       "눈         8\n",
       "Name: 기상상태, dtype: int64"
      ]
     },
     "execution_count": 13,
     "metadata": {},
     "output_type": "execute_result"
    }
   ],
   "source": [
    "df_train['기상상태'].value_counts()"
   ]
  },
  {
   "cell_type": "code",
   "execution_count": 14,
   "id": "26ffee26",
   "metadata": {
    "ExecuteTime": {
     "end_time": "2023-12-02T04:18:18.222906Z",
     "start_time": "2023-12-02T04:18:18.209323Z"
    }
   },
   "outputs": [
    {
     "data": {
      "text/plain": [
       "맑음    10321\n",
       "비       394\n",
       "흐림      207\n",
       "기타       31\n",
       "눈        10\n",
       "Name: 기상상태, dtype: int64"
      ]
     },
     "execution_count": 14,
     "metadata": {},
     "output_type": "execute_result"
    }
   ],
   "source": [
    "df_test['기상상태'].value_counts()"
   ]
  },
  {
   "cell_type": "code",
   "execution_count": 15,
   "id": "ef35c640",
   "metadata": {
    "ExecuteTime": {
     "end_time": "2023-12-02T04:18:18.254102Z",
     "start_time": "2023-12-02T04:18:18.224888Z"
    }
   },
   "outputs": [],
   "source": [
    "df_train.drop(df_train[df_train['기상상태'] == '안개'].index, axis = 0, inplace = True)\n",
    "\n",
    "df_train.reset_index(drop=True, inplace = True)"
   ]
  },
  {
   "cell_type": "code",
   "execution_count": 16,
   "id": "6781e3ec",
   "metadata": {
    "ExecuteTime": {
     "end_time": "2023-12-02T04:18:18.284497Z",
     "start_time": "2023-12-02T04:18:18.256111Z"
    }
   },
   "outputs": [],
   "source": [
    "df_train = pd.concat([df_train, pd.get_dummies(df_train['기상상태'])], axis=1)\n",
    "\n",
    "df_test = pd.concat([df_test, pd.get_dummies(df_test['기상상태'])], axis=1)\n",
    "\n",
    "df_train.drop(['기상상태'], axis=1, inplace = True)\n",
    "df_test.drop(['기상상태'], axis=1, inplace = True)"
   ]
  },
  {
   "cell_type": "code",
   "execution_count": 17,
   "id": "372e12cf",
   "metadata": {
    "ExecuteTime": {
     "end_time": "2023-12-02T04:18:18.299676Z",
     "start_time": "2023-12-02T04:18:18.286477Z"
    }
   },
   "outputs": [],
   "source": [
    "df_train.drop(columns='기타', axis=1,inplace=True)\n",
    "df_test.drop(columns='기타', axis=1,inplace=True)"
   ]
  },
  {
   "cell_type": "code",
   "execution_count": 18,
   "id": "0f1dde0d",
   "metadata": {
    "ExecuteTime": {
     "end_time": "2023-12-02T04:18:18.315686Z",
     "start_time": "2023-12-02T04:18:18.301687Z"
    }
   },
   "outputs": [
    {
     "data": {
      "text/html": [
       "<div>\n",
       "<style scoped>\n",
       "    .dataframe tbody tr th:only-of-type {\n",
       "        vertical-align: middle;\n",
       "    }\n",
       "\n",
       "    .dataframe tbody tr th {\n",
       "        vertical-align: top;\n",
       "    }\n",
       "\n",
       "    .dataframe thead th {\n",
       "        text-align: right;\n",
       "    }\n",
       "</style>\n",
       "<table border=\"1\" class=\"dataframe\">\n",
       "  <thead>\n",
       "    <tr style=\"text-align: right;\">\n",
       "      <th></th>\n",
       "      <th>시군구</th>\n",
       "      <th>도로형태</th>\n",
       "      <th>노면상태</th>\n",
       "      <th>사고유형</th>\n",
       "      <th>사망자수</th>\n",
       "      <th>중상자수</th>\n",
       "      <th>경상자수</th>\n",
       "      <th>부상자수</th>\n",
       "      <th>time</th>\n",
       "      <th>month</th>\n",
       "      <th>...</th>\n",
       "      <th>목요일</th>\n",
       "      <th>수요일</th>\n",
       "      <th>월요일</th>\n",
       "      <th>일요일</th>\n",
       "      <th>토요일</th>\n",
       "      <th>화요일</th>\n",
       "      <th>눈</th>\n",
       "      <th>맑음</th>\n",
       "      <th>비</th>\n",
       "      <th>흐림</th>\n",
       "    </tr>\n",
       "  </thead>\n",
       "  <tbody>\n",
       "    <tr>\n",
       "      <th>0</th>\n",
       "      <td>대구광역시 중구 대신동</td>\n",
       "      <td>단일로 - 기타</td>\n",
       "      <td>건조</td>\n",
       "      <td>차대사람</td>\n",
       "      <td>0</td>\n",
       "      <td>1</td>\n",
       "      <td>0</td>\n",
       "      <td>0</td>\n",
       "      <td>0</td>\n",
       "      <td>1</td>\n",
       "      <td>...</td>\n",
       "      <td>0</td>\n",
       "      <td>0</td>\n",
       "      <td>0</td>\n",
       "      <td>0</td>\n",
       "      <td>0</td>\n",
       "      <td>1</td>\n",
       "      <td>0</td>\n",
       "      <td>1</td>\n",
       "      <td>0</td>\n",
       "      <td>0</td>\n",
       "    </tr>\n",
       "  </tbody>\n",
       "</table>\n",
       "<p>1 rows × 22 columns</p>\n",
       "</div>"
      ],
      "text/plain": [
       "            시군구      도로형태 노면상태  사고유형  사망자수  중상자수  경상자수  부상자수  time  month  \\\n",
       "0  대구광역시 중구 대신동  단일로 - 기타   건조  차대사람     0     1     0     0     0      1   \n",
       "\n",
       "   ...  목요일  수요일  월요일  일요일  토요일  화요일  눈  맑음  비  흐림  \n",
       "0  ...    0    0    0    0    0    1  0   1  0   0  \n",
       "\n",
       "[1 rows x 22 columns]"
      ]
     },
     "execution_count": 18,
     "metadata": {},
     "output_type": "execute_result"
    }
   ],
   "source": [
    "df_train.head(1)"
   ]
  },
  {
   "cell_type": "markdown",
   "id": "5e944126",
   "metadata": {},
   "source": [
    "# 시군구"
   ]
  },
  {
   "cell_type": "code",
   "execution_count": 19,
   "id": "e364626e",
   "metadata": {
    "ExecuteTime": {
     "end_time": "2023-12-02T04:18:20.467988Z",
     "start_time": "2023-12-02T04:18:18.317681Z"
    }
   },
   "outputs": [],
   "source": [
    "df_train['구'] = ''\n",
    "\n",
    "for i in range(len(df_train)):\n",
    "    df_train.iloc[i, -1] = df_train.iloc[i, 0].split()[1]\n",
    "\n",
    "df_train.drop(['시군구'], axis=1, inplace = True)"
   ]
  },
  {
   "cell_type": "code",
   "execution_count": 20,
   "id": "cff289c3",
   "metadata": {
    "ExecuteTime": {
     "end_time": "2023-12-02T04:18:21.035749Z",
     "start_time": "2023-12-02T04:18:20.470037Z"
    }
   },
   "outputs": [],
   "source": [
    "df_test['구'] = ''\n",
    "\n",
    "for i in range(len(df_test)):\n",
    "    df_test.iloc[i, -1] = df_test.iloc[i, 0].split()[1]\n",
    "\n",
    "df_test.drop(['시군구'], axis=1, inplace = True)"
   ]
  },
  {
   "cell_type": "code",
   "execution_count": 21,
   "id": "3e70653b",
   "metadata": {
    "ExecuteTime": {
     "end_time": "2023-12-02T04:18:21.067353Z",
     "start_time": "2023-12-02T04:18:21.039746Z"
    }
   },
   "outputs": [],
   "source": [
    "df_train = pd.concat([df_train, pd.get_dummies(df_train['구'])], axis=1)\n",
    "\n",
    "df_test = pd.concat([df_test, pd.get_dummies(df_test['구'])], axis=1)"
   ]
  },
  {
   "cell_type": "code",
   "execution_count": 22,
   "id": "9ec28725",
   "metadata": {
    "ExecuteTime": {
     "end_time": "2023-12-02T04:18:21.098479Z",
     "start_time": "2023-12-02T04:18:21.070381Z"
    }
   },
   "outputs": [],
   "source": [
    "df_train.drop(['구'], axis = 1,inplace = True)\n",
    "df_test.drop(['구'], axis = 1,inplace = True)"
   ]
  },
  {
   "cell_type": "markdown",
   "id": "3155a51f",
   "metadata": {},
   "source": [
    "# 도로형태"
   ]
  },
  {
   "cell_type": "code",
   "execution_count": 23,
   "id": "5bcd2f75",
   "metadata": {
    "ExecuteTime": {
     "end_time": "2023-12-02T04:18:21.209428Z",
     "start_time": "2023-12-02T04:18:21.102480Z"
    }
   },
   "outputs": [],
   "source": [
    "df_train['도로형태'] = df_train['도로형태'].str.split(expand=True)[0]\n",
    "df_test['도로형태'] = df_test['도로형태'].str.split(expand=True)[0]"
   ]
  },
  {
   "cell_type": "code",
   "execution_count": 24,
   "id": "695958a3",
   "metadata": {
    "ExecuteTime": {
     "end_time": "2023-12-02T04:18:21.240555Z",
     "start_time": "2023-12-02T04:18:21.211490Z"
    }
   },
   "outputs": [],
   "source": [
    "df_train = pd.concat([df_train, pd.get_dummies(df_train['도로형태'])], axis=1)\n",
    "df_test = pd.concat([df_test, pd.get_dummies(df_test['도로형태'])], axis=1)\n",
    "\n",
    "df_train.drop(['도로형태'], axis=1, inplace = True)\n",
    "df_test.drop(['도로형태'], axis=1, inplace = True)"
   ]
  },
  {
   "cell_type": "code",
   "execution_count": 25,
   "id": "423df85e",
   "metadata": {
    "ExecuteTime": {
     "end_time": "2023-12-02T04:18:21.255994Z",
     "start_time": "2023-12-02T04:18:21.242769Z"
    }
   },
   "outputs": [],
   "source": [
    "df_train.drop(columns = ['기타', '미분류'], axis=1, inplace = True)\n",
    "df_test.drop(columns = ['기타', '미분류'], axis=1, inplace = True)"
   ]
  },
  {
   "cell_type": "markdown",
   "id": "1711f40b",
   "metadata": {},
   "source": [
    "# 노면상태"
   ]
  },
  {
   "cell_type": "code",
   "execution_count": 26,
   "id": "5173db81",
   "metadata": {
    "ExecuteTime": {
     "end_time": "2023-12-02T04:18:21.286763Z",
     "start_time": "2023-12-02T04:18:21.258429Z"
    }
   },
   "outputs": [],
   "source": [
    "df_train = pd.concat([df_train, pd.get_dummies(df_train['노면상태'])], axis=1)\n",
    "df_test = pd.concat([df_test, pd.get_dummies(df_test['노면상태'])], axis=1)\n",
    "\n",
    "df_train.drop(['노면상태'], axis=1, inplace = True)\n",
    "df_test.drop(['노면상태'], axis=1, inplace = True)"
   ]
  },
  {
   "cell_type": "code",
   "execution_count": 27,
   "id": "fd4338b6",
   "metadata": {
    "ExecuteTime": {
     "end_time": "2023-12-02T04:18:21.302347Z",
     "start_time": "2023-12-02T04:18:21.291757Z"
    }
   },
   "outputs": [],
   "source": [
    "df_train.drop(columns=['기타'], axis=1, inplace=True)\n",
    "df_test.drop(columns=['기타'], axis=1, inplace=True)"
   ]
  },
  {
   "cell_type": "markdown",
   "id": "b5d054f2",
   "metadata": {},
   "source": [
    "# 사고유형"
   ]
  },
  {
   "cell_type": "code",
   "execution_count": 28,
   "id": "5f982382",
   "metadata": {
    "ExecuteTime": {
     "end_time": "2023-12-02T04:18:21.332785Z",
     "start_time": "2023-12-02T04:18:21.304371Z"
    }
   },
   "outputs": [],
   "source": [
    "df_train = pd.concat([df_train, pd.get_dummies(df_train['사고유형'])], axis=1)\n",
    "df_test = pd.concat([df_test, pd.get_dummies(df_test['사고유형'])], axis=1)\n",
    "\n",
    "df_train.drop(['사고유형'], axis=1, inplace = True)\n",
    "df_test.drop(['사고유형'], axis=1, inplace = True)"
   ]
  },
  {
   "cell_type": "markdown",
   "id": "ecd611a9",
   "metadata": {},
   "source": [
    "# Save"
   ]
  },
  {
   "cell_type": "code",
   "execution_count": 29,
   "id": "664e736a",
   "metadata": {
    "ExecuteTime": {
     "end_time": "2023-12-02T04:18:21.348787Z",
     "start_time": "2023-12-02T04:18:21.336786Z"
    }
   },
   "outputs": [
    {
     "data": {
      "text/plain": [
       "37"
      ]
     },
     "execution_count": 29,
     "metadata": {},
     "output_type": "execute_result"
    }
   ],
   "source": [
    "len(df_train.columns)"
   ]
  },
  {
   "cell_type": "code",
   "execution_count": 30,
   "id": "84f530eb",
   "metadata": {
    "ExecuteTime": {
     "end_time": "2023-12-02T04:18:21.363804Z",
     "start_time": "2023-12-02T04:18:21.351786Z"
    }
   },
   "outputs": [
    {
     "data": {
      "text/plain": [
       "33"
      ]
     },
     "execution_count": 30,
     "metadata": {},
     "output_type": "execute_result"
    }
   ],
   "source": [
    "len(df_test.columns)"
   ]
  },
  {
   "cell_type": "code",
   "execution_count": 31,
   "id": "ad5e898a",
   "metadata": {
    "ExecuteTime": {
     "end_time": "2023-12-02T04:18:21.379786Z",
     "start_time": "2023-12-02T04:18:21.366806Z"
    }
   },
   "outputs": [],
   "source": [
    "df_train = df_train.astype('int')\n",
    "df_test = df_test.astype('int')"
   ]
  },
  {
   "cell_type": "code",
   "execution_count": 32,
   "id": "fe5ca9a0",
   "metadata": {
    "ExecuteTime": {
     "end_time": "2023-12-02T04:18:21.615692Z",
     "start_time": "2023-12-02T04:18:21.381786Z"
    }
   },
   "outputs": [],
   "source": [
    "df_train.to_csv(\"../data/df_train_004.csv\", encoding='utf-8', index=False)\n",
    "df_test.to_csv(\"../data/df_test_004.csv\", encoding='utf-8', index=False)"
   ]
  }
 ],
 "metadata": {
  "hide_input": false,
  "kernelspec": {
   "display_name": "Python 3 (ipykernel)",
   "language": "python",
   "name": "python3"
  },
  "language_info": {
   "codemirror_mode": {
    "name": "ipython",
    "version": 3
   },
   "file_extension": ".py",
   "mimetype": "text/x-python",
   "name": "python",
   "nbconvert_exporter": "python",
   "pygments_lexer": "ipython3",
   "version": "3.9.12"
  },
  "toc": {
   "base_numbering": 1,
   "nav_menu": {},
   "number_sections": true,
   "sideBar": true,
   "skip_h1_title": false,
   "title_cell": "Table of Contents",
   "title_sidebar": "Contents",
   "toc_cell": false,
   "toc_position": {},
   "toc_section_display": true,
   "toc_window_display": true
  },
  "varInspector": {
   "cols": {
    "lenName": 16,
    "lenType": 16,
    "lenVar": 40
   },
   "kernels_config": {
    "python": {
     "delete_cmd_postfix": "",
     "delete_cmd_prefix": "del ",
     "library": "var_list.py",
     "varRefreshCmd": "print(var_dic_list())"
    },
    "r": {
     "delete_cmd_postfix": ") ",
     "delete_cmd_prefix": "rm(",
     "library": "var_list.r",
     "varRefreshCmd": "cat(var_dic_list()) "
    }
   },
   "types_to_exclude": [
    "module",
    "function",
    "builtin_function_or_method",
    "instance",
    "_Feature"
   ],
   "window_display": false
  }
 },
 "nbformat": 4,
 "nbformat_minor": 5
}
