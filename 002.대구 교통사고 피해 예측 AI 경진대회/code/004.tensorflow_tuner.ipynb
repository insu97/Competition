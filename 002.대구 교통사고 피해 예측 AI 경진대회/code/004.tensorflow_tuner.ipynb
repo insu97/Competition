{
 "cells": [
  {
   "cell_type": "code",
   "execution_count": 32,
   "id": "a4e2db5f",
   "metadata": {
    "ExecuteTime": {
     "end_time": "2023-11-30T12:57:11.983747Z",
     "start_time": "2023-11-30T12:57:11.885532Z"
    }
   },
   "outputs": [],
   "source": [
    "import numpy as np\n",
    "import pandas as pd\n",
    "import tensorflow as tf\n",
    "import matplotlib.pyplot as plt\n",
    "\n",
    "from sklearn.model_selection import train_test_split\n",
    "\n",
    "plt.rc('font', family='Malgun Gothic')  # 폰트 지정\n",
    "plt.rc('axes', unicode_minus=False)  # 마이너스 폰트 설정\n",
    "%config InlineBackend.figure_format = 'retina'  # 그래프 글씨 뚜렷\n",
    "\n",
    "df_train = pd.read_csv(\"../data/df_train.csv\")\n",
    "df_test = pd.read_csv(\"../data/df_test.csv\")\n",
    "\n",
    "df_train['target'] = df_train['사망자수']*10 + df_train['중상자수']*5 + df_train['경상자수']*3 + df_train['부상자수']\n",
    "df_train.drop(columns = ['사망자수','중상자수','경상자수','부상자수'], axis=1, inplace = True)\n",
    "\n",
    "X = df_train.drop(columns = 'target',axis=1)\n",
    "y = df_train['target']\n",
    "\n",
    "x_train, x_test, y_train , y_test = train_test_split(X, y, test_size = 0.3, random_state=42 )"
   ]
  },
  {
   "cell_type": "markdown",
   "id": "b96f23bd",
   "metadata": {},
   "source": [
    "# tuner"
   ]
  },
  {
   "cell_type": "code",
   "execution_count": 33,
   "id": "dd41dfdd",
   "metadata": {
    "ExecuteTime": {
     "end_time": "2023-11-30T12:57:12.209566Z",
     "start_time": "2023-11-30T12:57:12.205996Z"
    }
   },
   "outputs": [],
   "source": [
    "from tensorflow import keras\n",
    "from tensorflow.keras import layers\n",
    "from keras_tuner import RandomSearch"
   ]
  },
  {
   "cell_type": "code",
   "execution_count": 34,
   "id": "a79f56f1",
   "metadata": {
    "ExecuteTime": {
     "end_time": "2023-11-30T12:57:12.632135Z",
     "start_time": "2023-11-30T12:57:12.602143Z"
    }
   },
   "outputs": [],
   "source": [
    "def build_model(hp):\n",
    "\n",
    "    model = keras.Sequential()\n",
    "    model.add(layers.InputLayer(input_shape=[31]))\n",
    "\n",
    "    for i in range(hp.Int('num_layers', min_value=1, max_value=3)):\n",
    "        model.add(layers.Dense(units=hp.Int(\n",
    "            f'units_{i}', min_value=32, max_value=512, step=32), activation='relu'))\n",
    "        model.add(layers.Dense(1))\n",
    "        model.compile(optimizer='SGD', loss='mean_squared_error')\n",
    "        return model"
   ]
  },
  {
   "cell_type": "code",
   "execution_count": 40,
   "id": "9abda0c0",
   "metadata": {
    "ExecuteTime": {
     "end_time": "2023-11-30T12:57:41.383264Z",
     "start_time": "2023-11-30T12:57:41.339529Z"
    }
   },
   "outputs": [
    {
     "name": "stdout",
     "output_type": "stream",
     "text": [
      "Reloading Tuner from \\tuner\\002Project\\tuner0.json\n"
     ]
    }
   ],
   "source": [
    "tuner = RandomSearch(\n",
    "    build_model,\n",
    "    objective='val_loss',\n",
    "    max_trials=5, # 시도할 하이퍼파라미터 조합 수\n",
    "    executions_per_trial=3, # 각 조합에 대해 실행할 시도 횟수, 여러번 실행 후 가장 좋은 모델 선택\n",
    "    directory= '\\\\tuner', # 튜닝 중간 결과를 저장할 디렉토리\n",
    "    project_name='002Project'\n",
    ")"
   ]
  },
  {
   "cell_type": "code",
   "execution_count": 41,
   "id": "3bdbce0b",
   "metadata": {
    "ExecuteTime": {
     "end_time": "2023-11-30T12:59:46.507547Z",
     "start_time": "2023-11-30T12:57:41.877003Z"
    }
   },
   "outputs": [
    {
     "name": "stdout",
     "output_type": "stream",
     "text": [
      "Trial 5 Complete [00h 00m 39s]\n",
      "val_loss: 10.45837688446045\n",
      "\n",
      "Best val_loss So Far: 10.450213432312012\n",
      "Total elapsed time: 00h 02m 16s\n"
     ]
    }
   ],
   "source": [
    "tuner.search(x_train, y_train, epochs=10, validation_data=(x_test, y_test))"
   ]
  },
  {
   "cell_type": "code",
   "execution_count": 42,
   "id": "cf42ba3c",
   "metadata": {
    "ExecuteTime": {
     "end_time": "2023-11-30T12:59:54.066805Z",
     "start_time": "2023-11-30T12:59:54.055298Z"
    }
   },
   "outputs": [],
   "source": [
    "# 가장 좋은 트라이얼(모델)을 얻기\n",
    "best_trial = tuner.oracle.get_best_trials(num_trials=1)[0]"
   ]
  },
  {
   "cell_type": "code",
   "execution_count": 43,
   "id": "b0afc90d",
   "metadata": {
    "ExecuteTime": {
     "end_time": "2023-11-30T12:59:54.782297Z",
     "start_time": "2023-11-30T12:59:54.762596Z"
    }
   },
   "outputs": [
    {
     "data": {
      "text/plain": [
       "{'num_layers': 1, 'units_0': 416}"
      ]
     },
     "execution_count": 43,
     "metadata": {},
     "output_type": "execute_result"
    }
   ],
   "source": [
    "best_trial.hyperparameters.values"
   ]
  },
  {
   "cell_type": "markdown",
   "id": "25d815bb",
   "metadata": {},
   "source": [
    "# 학습"
   ]
  },
  {
   "cell_type": "code",
   "execution_count": 44,
   "id": "8de5d033",
   "metadata": {
    "ExecuteTime": {
     "end_time": "2023-11-30T13:00:11.839334Z",
     "start_time": "2023-11-30T13:00:11.793685Z"
    }
   },
   "outputs": [],
   "source": [
    "model = tf.keras.Sequential([\n",
    "    tf.keras.layers.Dense(416, input_shape=[31], activation='relu'),\n",
    "    tf.keras.layers.Dense(1)\n",
    "])"
   ]
  },
  {
   "cell_type": "code",
   "execution_count": 45,
   "id": "170818f4",
   "metadata": {
    "ExecuteTime": {
     "end_time": "2023-11-30T13:00:33.488613Z",
     "start_time": "2023-11-30T13:00:33.460185Z"
    }
   },
   "outputs": [],
   "source": [
    "model.compile(\n",
    "    optimizer = tf.keras.optimizers.SGD(learning_rate=0.01),\n",
    "    loss = tf.keras.losses.MeanAbsoluteError(),\n",
    "    metrics = [\n",
    "        tf.keras.metrics.MeanSquaredError()\n",
    "    ]\n",
    ")"
   ]
  },
  {
   "cell_type": "code",
   "execution_count": 46,
   "id": "18f274a5",
   "metadata": {
    "ExecuteTime": {
     "end_time": "2023-11-30T13:00:50.320390Z",
     "start_time": "2023-11-30T13:00:36.302895Z"
    }
   },
   "outputs": [
    {
     "name": "stdout",
     "output_type": "stream",
     "text": [
      "Epoch 1/10\n",
      "867/867 [==============================] - 2s 2ms/step - loss: 2.0767 - mean_squared_error: 12.3510 - val_loss: 1.9858 - val_mean_squared_error: 12.7047\n",
      "Epoch 2/10\n",
      "867/867 [==============================] - 1s 1ms/step - loss: 2.0057 - mean_squared_error: 12.1725 - val_loss: 1.9852 - val_mean_squared_error: 12.9725\n",
      "Epoch 3/10\n",
      "867/867 [==============================] - 1s 2ms/step - loss: 2.0022 - mean_squared_error: 12.1002 - val_loss: 1.9879 - val_mean_squared_error: 12.9569\n",
      "Epoch 4/10\n",
      "867/867 [==============================] - 1s 1ms/step - loss: 2.0005 - mean_squared_error: 12.0730 - val_loss: 1.9814 - val_mean_squared_error: 12.4893\n",
      "Epoch 5/10\n",
      "867/867 [==============================] - 1s 2ms/step - loss: 1.9997 - mean_squared_error: 12.0144 - val_loss: 1.9851 - val_mean_squared_error: 12.3345\n",
      "Epoch 6/10\n",
      "867/867 [==============================] - 1s 2ms/step - loss: 1.9992 - mean_squared_error: 11.9276 - val_loss: 1.9787 - val_mean_squared_error: 12.5042\n",
      "Epoch 7/10\n",
      "867/867 [==============================] - 1s 2ms/step - loss: 1.9988 - mean_squared_error: 11.9712 - val_loss: 1.9753 - val_mean_squared_error: 12.5416\n",
      "Epoch 8/10\n",
      "867/867 [==============================] - 1s 2ms/step - loss: 1.9980 - mean_squared_error: 11.9496 - val_loss: 1.9775 - val_mean_squared_error: 12.4384\n",
      "Epoch 9/10\n",
      "867/867 [==============================] - 1s 2ms/step - loss: 1.9977 - mean_squared_error: 11.8776 - val_loss: 1.9760 - val_mean_squared_error: 12.5124\n",
      "Epoch 10/10\n",
      "867/867 [==============================] - 2s 2ms/step - loss: 1.9976 - mean_squared_error: 11.9256 - val_loss: 1.9746 - val_mean_squared_error: 12.5033\n"
     ]
    }
   ],
   "source": [
    "history = model.fit(x_train, y_train, validation_data=(x_test, y_test),epochs=10)"
   ]
  },
  {
   "cell_type": "code",
   "execution_count": 47,
   "id": "57528262",
   "metadata": {
    "ExecuteTime": {
     "end_time": "2023-11-30T13:00:51.910145Z",
     "start_time": "2023-11-30T13:00:51.803658Z"
    }
   },
   "outputs": [
    {
     "data": {
      "image/png": "[encoded data removed]",
      "text/plain": [
       "<Figure size 432x288 with 1 Axes>"
      ]
     },
     "metadata": {
      "image/png": {
       "height": 264,
       "width": 374
      },
      "needs_background": "light"
     },
     "output_type": "display_data"
    }
   ],
   "source": [
    "plt.plot(history.history['loss'], label='train_mse')\n",
    "plt.plot(history.history['val_loss'], label='test_mse')\n",
    "plt.title('mse')\n",
    "plt.legend()\n",
    "plt.show()"
   ]
  },
  {
   "cell_type": "markdown",
   "id": "b1463bf3",
   "metadata": {},
   "source": [
    "# 제출"
   ]
  },
  {
   "cell_type": "code",
   "execution_count": 48,
   "id": "2662a123",
   "metadata": {
    "ExecuteTime": {
     "end_time": "2023-11-30T13:02:18.867719Z",
     "start_time": "2023-11-30T13:02:18.811786Z"
    }
   },
   "outputs": [],
   "source": [
    "model.save('../model/002_tuner_sgd-model.h5')"
   ]
  },
  {
   "cell_type": "code",
   "execution_count": 49,
   "id": "58e1649b",
   "metadata": {
    "ExecuteTime": {
     "end_time": "2023-11-30T13:02:32.654837Z",
     "start_time": "2023-11-30T13:02:32.601230Z"
    }
   },
   "outputs": [],
   "source": [
    "sub_file = pd.read_csv(\"../data/sample_submission.csv\")"
   ]
  },
  {
   "cell_type": "code",
   "execution_count": 50,
   "id": "c4d06cfd",
   "metadata": {
    "ExecuteTime": {
     "end_time": "2023-11-30T13:02:41.213457Z",
     "start_time": "2023-11-30T13:02:40.666454Z"
    }
   },
   "outputs": [
    {
     "name": "stdout",
     "output_type": "stream",
     "text": [
      "343/343 [==============================] - 0s 894us/step\n"
     ]
    }
   ],
   "source": [
    "sub_file['ECLO'] = model.predict(df_test)\n",
    "sub_file['ECLO'] = round(sub_file['ECLO'])"
   ]
  },
  {
   "cell_type": "code",
   "execution_count": 54,
   "id": "b3c63ab3",
   "metadata": {
    "ExecuteTime": {
     "end_time": "2023-11-30T13:02:52.462873Z",
     "start_time": "2023-11-30T13:02:52.435899Z"
    }
   },
   "outputs": [
    {
     "data": {
      "text/plain": [
       "3.0    7579\n",
       "4.0    3172\n",
       "5.0     193\n",
       "2.0      19\n",
       "Name: ECLO, dtype: int64"
      ]
     },
     "execution_count": 54,
     "metadata": {},
     "output_type": "execute_result"
    }
   ],
   "source": [
    "sub_file.ECLO.value_counts()"
   ]
  },
  {
   "cell_type": "code",
   "execution_count": 55,
   "id": "e0b572c8",
   "metadata": {
    "ExecuteTime": {
     "end_time": "2023-11-30T13:03:49.834923Z",
     "start_time": "2023-11-30T13:03:49.781399Z"
    }
   },
   "outputs": [],
   "source": [
    "sub_file.to_csv(\"../data/sub_file/003tf_tuner_round.csv\", index=False)"
   ]
  }
 ],
 "metadata": {
  "hide_input": false,
  "kernelspec": {
   "display_name": "Python 3 (ipykernel)",
   "language": "python",
   "name": "python3"
  },
  "language_info": {
   "codemirror_mode": {
    "name": "ipython",
    "version": 3
   },
   "file_extension": ".py",
   "mimetype": "text/x-python",
   "name": "python",
   "nbconvert_exporter": "python",
   "pygments_lexer": "ipython3",
   "version": "3.9.12"
  },
  "toc": {
   "base_numbering": 1,
   "nav_menu": {},
   "number_sections": true,
   "sideBar": true,
   "skip_h1_title": false,
   "title_cell": "Table of Contents",
   "title_sidebar": "Contents",
   "toc_cell": false,
   "toc_position": {},
   "toc_section_display": true,
   "toc_window_display": true
  },
  "varInspector": {
   "cols": {
    "lenName": 16,
    "lenType": 16,
    "lenVar": 40
   },
   "kernels_config": {
    "python": {
     "delete_cmd_postfix": "",
     "delete_cmd_prefix": "del ",
     "library": "var_list.py",
     "varRefreshCmd": "print(var_dic_list())"
    },
    "r": {
     "delete_cmd_postfix": ") ",
     "delete_cmd_prefix": "rm(",
     "library": "var_list.r",
     "varRefreshCmd": "cat(var_dic_list()) "
    }
   },
   "types_to_exclude": [
    "module",
    "function",
    "builtin_function_or_method",
    "instance",
    "_Feature"
   ],
   "window_display": false
  }
 },
 "nbformat": 4,
 "nbformat_minor": 5
}
