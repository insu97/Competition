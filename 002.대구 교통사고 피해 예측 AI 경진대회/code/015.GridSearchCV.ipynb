{
 "cells": [
  {
   "cell_type": "code",
   "execution_count": 1,
   "id": "b8342452",
   "metadata": {
    "ExecuteTime": {
     "end_time": "2023-12-04T07:20:04.812196Z",
     "start_time": "2023-12-04T07:19:59.226905Z"
    },
    "scrolled": false
   },
   "outputs": [],
   "source": [
    "import numpy as np\n",
    "import pandas as pd\n",
    "import tensorflow as tf\n",
    "import matplotlib.pyplot as plt\n",
    "from keras.callbacks import EarlyStopping\n",
    "from sklearn.model_selection import train_test_split\n",
    "\n",
    "plt.rc('font', family='Malgun Gothic')  # 폰트 지정\n",
    "plt.rc('axes', unicode_minus=False)  # 마이너스 폰트 설정\n",
    "%config InlineBackend.figure_format = 'retina'  # 그래프 글씨 뚜렷"
   ]
  },
  {
   "cell_type": "code",
   "execution_count": 2,
   "id": "111ab96e",
   "metadata": {
    "ExecuteTime": {
     "end_time": "2023-12-04T07:20:04.982802Z",
     "start_time": "2023-12-04T07:20:04.848005Z"
    }
   },
   "outputs": [],
   "source": [
    "df_train = pd.read_csv(\"../data/df_train_004.csv\")\n",
    "df_test = pd.read_csv(\"../data/df_test_004.csv\")\n",
    "\n",
    "df_train['target'] = df_train['사망자수']*10 + df_train['중상자수']*5 + df_train['경상자수']*3 + df_train['부상자수']\n",
    "df_train.drop(columns = ['사망자수','중상자수','경상자수','부상자수'], axis=1, inplace = True)"
   ]
  },
  {
   "cell_type": "code",
   "execution_count": 3,
   "id": "047e5346",
   "metadata": {
    "ExecuteTime": {
     "end_time": "2023-12-04T07:20:05.075384Z",
     "start_time": "2023-12-04T07:20:05.062851Z"
    }
   },
   "outputs": [],
   "source": [
    "X = df_train.drop(columns = 'target',axis=1)\n",
    "y = df_train['target']"
   ]
  },
  {
   "cell_type": "code",
   "execution_count": 4,
   "id": "41e73b1d",
   "metadata": {
    "ExecuteTime": {
     "end_time": "2023-12-04T07:20:05.167800Z",
     "start_time": "2023-12-04T07:20:05.141579Z"
    }
   },
   "outputs": [],
   "source": [
    "x_train, x_test, y_train , y_test = train_test_split(X, y, test_size = 0.3, random_state=42 )"
   ]
  },
  {
   "cell_type": "markdown",
   "id": "bb4375f7",
   "metadata": {},
   "source": [
    "# again"
   ]
  },
  {
   "cell_type": "code",
   "execution_count": 34,
   "id": "eb495f39",
   "metadata": {
    "ExecuteTime": {
     "end_time": "2023-12-04T07:27:12.757315Z",
     "start_time": "2023-12-04T07:27:12.744073Z"
    }
   },
   "outputs": [],
   "source": [
    "from sklearn.model_selection import GridSearchCV\n",
    "from keras.models import Sequential\n",
    "from keras.layers import Dense\n",
    "from keras.wrappers.scikit_learn import KerasRegressor\n",
    "from sklearn.metrics import mean_squared_error\n",
    "from keras.optimizers import Adam"
   ]
  },
  {
   "cell_type": "code",
   "execution_count": 35,
   "id": "fe857189",
   "metadata": {
    "ExecuteTime": {
     "end_time": "2023-12-04T07:27:12.930668Z",
     "start_time": "2023-12-04T07:27:12.916687Z"
    }
   },
   "outputs": [],
   "source": [
    "# 모델 생성 함수\n",
    "def create_model(activation='relu', optimizer='adam', learning_rate=0.001):\n",
    "    model = Sequential()\n",
    "    model.add(Dense(128, input_dim=33, activation=activation))\n",
    "    model.add(Dense(64, activation=activation))\n",
    "    model.add(Dense(1))\n",
    "    model.compile(loss='mean_squared_error', optimizer=optimizer(learning_rate=learning_rate))\n",
    "    return model"
   ]
  },
  {
   "cell_type": "code",
   "execution_count": 36,
   "id": "d3ad89c9",
   "metadata": {
    "ExecuteTime": {
     "end_time": "2023-12-04T07:27:13.087906Z",
     "start_time": "2023-12-04T07:27:13.076908Z"
    }
   },
   "outputs": [
    {
     "name": "stderr",
     "output_type": "stream",
     "text": [
      "C:\\Users\\USER\\AppData\\Local\\Temp\\ipykernel_15356\\1230915617.py:2: DeprecationWarning: KerasRegressor is deprecated, use Sci-Keras (https://github.com/adriangb/scikeras) instead. See https://www.adriangb.com/scikeras/stable/migration.html for help migrating.\n",
      "  model = KerasRegressor(build_fn=create_model, epochs=50, batch_size=32, verbose=0)\n"
     ]
    }
   ],
   "source": [
    "# KerasRegressor를 사용하여 모델을 Scikit-learn 추정기로 래핑\n",
    "model = KerasRegressor(build_fn=create_model, epochs=50, batch_size=32, verbose=0)"
   ]
  },
  {
   "cell_type": "code",
   "execution_count": 37,
   "id": "b88814bf",
   "metadata": {
    "ExecuteTime": {
     "end_time": "2023-12-04T07:27:14.114343Z",
     "start_time": "2023-12-04T07:27:14.109320Z"
    }
   },
   "outputs": [],
   "source": [
    "# 탐색할 매개변수 그리드 정의\n",
    "param_grid = {\n",
    "    'activation': ['relu', 'leaky_relu', 'prelu', 'swish'],\n",
    "    'optimizer': [Adam, 'rmsprop', 'sgd', 'adagrad'],\n",
    "    'learning_rate': [0.001, 0.01, 0.1]\n",
    "}"
   ]
  },
  {
   "cell_type": "code",
   "execution_count": 38,
   "id": "75d698dd",
   "metadata": {
    "ExecuteTime": {
     "end_time": "2023-12-04T07:50:55.837132Z",
     "start_time": "2023-12-04T07:27:14.736780Z"
    }
   },
   "outputs": [
    {
     "name": "stderr",
     "output_type": "stream",
     "text": [
      "C:\\Users\\USER\\AppData\\Roaming\\Python\\Python39\\site-packages\\sklearn\\model_selection\\_validation.py:378: FitFailedWarning: \n",
      "117 fits failed out of a total of 144.\n",
      "The score on these train-test partitions for these parameters will be set to nan.\n",
      "If these failures are not expected, you can try to debug them by setting error_score='raise'.\n",
      "\n",
      "Below are more details about the failures:\n",
      "--------------------------------------------------------------------------------\n",
      "81 fits failed with the following error:\n",
      "Traceback (most recent call last):\n",
      "  File \"C:\\Users\\USER\\AppData\\Roaming\\Python\\Python39\\site-packages\\sklearn\\model_selection\\_validation.py\", line 686, in _fit_and_score\n",
      "    estimator.fit(X_train, y_train, **fit_params)\n",
      "  File \"C:\\ProgramData\\Anaconda3\\lib\\site-packages\\keras\\wrappers\\scikit_learn.py\", line 164, in fit\n",
      "    self.model = self.build_fn(**self.filter_sk_params(self.build_fn))\n",
      "  File \"C:\\Users\\USER\\AppData\\Local\\Temp\\ipykernel_15356\\2403317239.py\", line 7, in create_model\n",
      "    model.compile(loss='mean_squared_error', optimizer=optimizer(learning_rate=learning_rate))\n",
      "TypeError: 'str' object is not callable\n",
      "\n",
      "--------------------------------------------------------------------------------\n",
      "36 fits failed with the following error:\n",
      "Traceback (most recent call last):\n",
      "  File \"C:\\Users\\USER\\AppData\\Roaming\\Python\\Python39\\site-packages\\sklearn\\model_selection\\_validation.py\", line 686, in _fit_and_score\n",
      "    estimator.fit(X_train, y_train, **fit_params)\n",
      "  File \"C:\\ProgramData\\Anaconda3\\lib\\site-packages\\keras\\wrappers\\scikit_learn.py\", line 164, in fit\n",
      "    self.model = self.build_fn(**self.filter_sk_params(self.build_fn))\n",
      "  File \"C:\\Users\\USER\\AppData\\Local\\Temp\\ipykernel_15356\\2403317239.py\", line 4, in create_model\n",
      "    model.add(Dense(128, input_dim=33, activation=activation))\n",
      "  File \"C:\\ProgramData\\Anaconda3\\lib\\site-packages\\keras\\dtensor\\utils.py\", line 96, in _wrap_function\n",
      "    init_method(layer_instance, *args, **kwargs)\n",
      "  File \"C:\\ProgramData\\Anaconda3\\lib\\site-packages\\keras\\layers\\core\\dense.py\", line 125, in __init__\n",
      "    self.activation = activations.get(activation)\n",
      "  File \"C:\\ProgramData\\Anaconda3\\lib\\site-packages\\tensorflow\\python\\util\\traceback_utils.py\", line 153, in error_handler\n",
      "    raise e.with_traceback(filtered_tb) from None\n",
      "  File \"C:\\ProgramData\\Anaconda3\\lib\\site-packages\\keras\\activations.py\", line 628, in get\n",
      "    return deserialize(identifier, use_legacy_format=use_legacy_format)\n",
      "  File \"C:\\ProgramData\\Anaconda3\\lib\\site-packages\\keras\\activations.py\", line 582, in deserialize\n",
      "    return legacy_serialization.deserialize_keras_object(\n",
      "  File \"C:\\ProgramData\\Anaconda3\\lib\\site-packages\\keras\\saving\\legacy\\serialization.py\", line 543, in deserialize_keras_object\n",
      "    raise ValueError(\n",
      "ValueError: Unknown activation function: 'prelu'. Please ensure you are using a `keras.utils.custom_object_scope` and that this object is included in the scope. See https://www.tensorflow.org/guide/keras/save_and_serialize#registering_the_custom_object for details.\n",
      "\n",
      "  warnings.warn(some_fits_failed_message, FitFailedWarning)\n",
      "C:\\Users\\USER\\AppData\\Roaming\\Python\\Python39\\site-packages\\sklearn\\model_selection\\_search.py:952: UserWarning: One or more of the test scores are non-finite: [ -10.47519393           nan           nan           nan  -10.17506425\n",
      "           nan           nan           nan  -10.10683169           nan\n",
      "           nan           nan  -10.05147139           nan           nan\n",
      "           nan   -9.9539253            nan           nan           nan\n",
      " -138.47276685           nan           nan           nan           nan\n",
      "           nan           nan           nan           nan           nan\n",
      "           nan           nan           nan           nan           nan\n",
      "           nan  -10.62248924           nan           nan           nan\n",
      "  -10.07648979           nan           nan           nan  -10.11746292\n",
      "           nan           nan           nan]\n",
      "  warnings.warn(\n"
     ]
    }
   ],
   "source": [
    "# GridSearchCV를 사용하여 최적의 매개변수 찾기\n",
    "grid = GridSearchCV(estimator=model, param_grid=param_grid, scoring='neg_mean_squared_error', cv=3)\n",
    "grid_result = grid.fit(x_train, y_train)"
   ]
  },
  {
   "cell_type": "code",
   "execution_count": 42,
   "id": "72ec752b",
   "metadata": {
    "ExecuteTime": {
     "end_time": "2023-12-04T07:54:18.469984Z",
     "start_time": "2023-12-04T07:54:18.462349Z"
    }
   },
   "outputs": [
    {
     "name": "stdout",
     "output_type": "stream",
     "text": [
      "Best: -9.953925 using {'activation': 'leaky_relu', 'learning_rate': 0.01, 'optimizer': <class 'keras.optimizers.legacy.adam.Adam'>}\n"
     ]
    }
   ],
   "source": [
    "# 결과 출력\n",
    "print(\"Best: %f using %s\" % (grid_result.best_score_, grid_result.best_params_))"
   ]
  },
  {
   "cell_type": "code",
   "execution_count": 39,
   "id": "21ab65d5",
   "metadata": {
    "ExecuteTime": {
     "end_time": "2023-12-04T07:50:56.117321Z",
     "start_time": "2023-12-04T07:50:56.090142Z"
    }
   },
   "outputs": [
    {
     "name": "stdout",
     "output_type": "stream",
     "text": [
      "Best: -9.953925 using {'activation': 'leaky_relu', 'learning_rate': 0.01, 'optimizer': <class 'keras.optimizers.legacy.adam.Adam'>}\n",
      "-10.475194 (0.237600) with: {'activation': 'relu', 'learning_rate': 0.001, 'optimizer': <class 'keras.optimizers.legacy.adam.Adam'>}\n",
      "nan (nan) with: {'activation': 'relu', 'learning_rate': 0.001, 'optimizer': 'rmsprop'}\n",
      "nan (nan) with: {'activation': 'relu', 'learning_rate': 0.001, 'optimizer': 'sgd'}\n",
      "nan (nan) with: {'activation': 'relu', 'learning_rate': 0.001, 'optimizer': 'adagrad'}\n",
      "-10.175064 (0.143651) with: {'activation': 'relu', 'learning_rate': 0.01, 'optimizer': <class 'keras.optimizers.legacy.adam.Adam'>}\n",
      "nan (nan) with: {'activation': 'relu', 'learning_rate': 0.01, 'optimizer': 'rmsprop'}\n",
      "nan (nan) with: {'activation': 'relu', 'learning_rate': 0.01, 'optimizer': 'sgd'}\n",
      "nan (nan) with: {'activation': 'relu', 'learning_rate': 0.01, 'optimizer': 'adagrad'}\n",
      "-10.106832 (0.332372) with: {'activation': 'relu', 'learning_rate': 0.1, 'optimizer': <class 'keras.optimizers.legacy.adam.Adam'>}\n",
      "nan (nan) with: {'activation': 'relu', 'learning_rate': 0.1, 'optimizer': 'rmsprop'}\n",
      "nan (nan) with: {'activation': 'relu', 'learning_rate': 0.1, 'optimizer': 'sgd'}\n",
      "nan (nan) with: {'activation': 'relu', 'learning_rate': 0.1, 'optimizer': 'adagrad'}\n",
      "-10.051471 (0.277049) with: {'activation': 'leaky_relu', 'learning_rate': 0.001, 'optimizer': <class 'keras.optimizers.legacy.adam.Adam'>}\n",
      "nan (nan) with: {'activation': 'leaky_relu', 'learning_rate': 0.001, 'optimizer': 'rmsprop'}\n",
      "nan (nan) with: {'activation': 'leaky_relu', 'learning_rate': 0.001, 'optimizer': 'sgd'}\n",
      "nan (nan) with: {'activation': 'leaky_relu', 'learning_rate': 0.001, 'optimizer': 'adagrad'}\n",
      "-9.953925 (0.244874) with: {'activation': 'leaky_relu', 'learning_rate': 0.01, 'optimizer': <class 'keras.optimizers.legacy.adam.Adam'>}\n",
      "nan (nan) with: {'activation': 'leaky_relu', 'learning_rate': 0.01, 'optimizer': 'rmsprop'}\n",
      "nan (nan) with: {'activation': 'leaky_relu', 'learning_rate': 0.01, 'optimizer': 'sgd'}\n",
      "nan (nan) with: {'activation': 'leaky_relu', 'learning_rate': 0.01, 'optimizer': 'adagrad'}\n",
      "-138.472767 (159.047611) with: {'activation': 'leaky_relu', 'learning_rate': 0.1, 'optimizer': <class 'keras.optimizers.legacy.adam.Adam'>}\n",
      "nan (nan) with: {'activation': 'leaky_relu', 'learning_rate': 0.1, 'optimizer': 'rmsprop'}\n",
      "nan (nan) with: {'activation': 'leaky_relu', 'learning_rate': 0.1, 'optimizer': 'sgd'}\n",
      "nan (nan) with: {'activation': 'leaky_relu', 'learning_rate': 0.1, 'optimizer': 'adagrad'}\n",
      "nan (nan) with: {'activation': 'prelu', 'learning_rate': 0.001, 'optimizer': <class 'keras.optimizers.legacy.adam.Adam'>}\n",
      "nan (nan) with: {'activation': 'prelu', 'learning_rate': 0.001, 'optimizer': 'rmsprop'}\n",
      "nan (nan) with: {'activation': 'prelu', 'learning_rate': 0.001, 'optimizer': 'sgd'}\n",
      "nan (nan) with: {'activation': 'prelu', 'learning_rate': 0.001, 'optimizer': 'adagrad'}\n",
      "nan (nan) with: {'activation': 'prelu', 'learning_rate': 0.01, 'optimizer': <class 'keras.optimizers.legacy.adam.Adam'>}\n",
      "nan (nan) with: {'activation': 'prelu', 'learning_rate': 0.01, 'optimizer': 'rmsprop'}\n",
      "nan (nan) with: {'activation': 'prelu', 'learning_rate': 0.01, 'optimizer': 'sgd'}\n",
      "nan (nan) with: {'activation': 'prelu', 'learning_rate': 0.01, 'optimizer': 'adagrad'}\n",
      "nan (nan) with: {'activation': 'prelu', 'learning_rate': 0.1, 'optimizer': <class 'keras.optimizers.legacy.adam.Adam'>}\n",
      "nan (nan) with: {'activation': 'prelu', 'learning_rate': 0.1, 'optimizer': 'rmsprop'}\n",
      "nan (nan) with: {'activation': 'prelu', 'learning_rate': 0.1, 'optimizer': 'sgd'}\n",
      "nan (nan) with: {'activation': 'prelu', 'learning_rate': 0.1, 'optimizer': 'adagrad'}\n",
      "-10.622489 (0.174611) with: {'activation': 'swish', 'learning_rate': 0.001, 'optimizer': <class 'keras.optimizers.legacy.adam.Adam'>}\n",
      "nan (nan) with: {'activation': 'swish', 'learning_rate': 0.001, 'optimizer': 'rmsprop'}\n",
      "nan (nan) with: {'activation': 'swish', 'learning_rate': 0.001, 'optimizer': 'sgd'}\n",
      "nan (nan) with: {'activation': 'swish', 'learning_rate': 0.001, 'optimizer': 'adagrad'}\n",
      "-10.076490 (0.273166) with: {'activation': 'swish', 'learning_rate': 0.01, 'optimizer': <class 'keras.optimizers.legacy.adam.Adam'>}\n",
      "nan (nan) with: {'activation': 'swish', 'learning_rate': 0.01, 'optimizer': 'rmsprop'}\n",
      "nan (nan) with: {'activation': 'swish', 'learning_rate': 0.01, 'optimizer': 'sgd'}\n",
      "nan (nan) with: {'activation': 'swish', 'learning_rate': 0.01, 'optimizer': 'adagrad'}\n",
      "-10.117463 (0.335057) with: {'activation': 'swish', 'learning_rate': 0.1, 'optimizer': <class 'keras.optimizers.legacy.adam.Adam'>}\n",
      "nan (nan) with: {'activation': 'swish', 'learning_rate': 0.1, 'optimizer': 'rmsprop'}\n",
      "nan (nan) with: {'activation': 'swish', 'learning_rate': 0.1, 'optimizer': 'sgd'}\n",
      "nan (nan) with: {'activation': 'swish', 'learning_rate': 0.1, 'optimizer': 'adagrad'}\n"
     ]
    }
   ],
   "source": [
    "means = grid_result.cv_results_['mean_test_score']\n",
    "stds = grid_result.cv_results_['std_test_score']\n",
    "params = grid_result.cv_results_['params']\n",
    "for mean, stdev, param in zip(means, stds, params):\n",
    "    print(\"%f (%f) with: %r\" % (mean, stdev, param))"
   ]
  },
  {
   "cell_type": "code",
   "execution_count": 44,
   "id": "48aeb201",
   "metadata": {
    "ExecuteTime": {
     "end_time": "2023-12-04T07:55:44.887886Z",
     "start_time": "2023-12-04T07:55:44.880568Z"
    }
   },
   "outputs": [],
   "source": [
    "best_params = {'activation': 'leaky_relu', 'optimizer': Adam(learning_rate=0.01)}"
   ]
  },
  {
   "cell_type": "code",
   "execution_count": 45,
   "id": "de5522db",
   "metadata": {
    "ExecuteTime": {
     "end_time": "2023-12-04T07:55:46.698513Z",
     "start_time": "2023-12-04T07:55:46.612644Z"
    }
   },
   "outputs": [],
   "source": [
    "# 최적의 매개변수로 모델 생성\n",
    "model = Sequential()\n",
    "model.add(Dense(128, input_dim=33, activation=best_params['activation']))\n",
    "model.add(Dense(64, activation=best_params['activation']))\n",
    "model.add(Dense(1))\n",
    "model.compile(loss='mean_squared_error', optimizer=best_params['optimizer'])"
   ]
  },
  {
   "cell_type": "code",
   "execution_count": 48,
   "id": "041dd3cc",
   "metadata": {
    "ExecuteTime": {
     "end_time": "2023-12-04T07:56:57.926246Z",
     "start_time": "2023-12-04T07:56:57.907280Z"
    }
   },
   "outputs": [],
   "source": [
    "from keras.callbacks import EarlyStopping"
   ]
  },
  {
   "cell_type": "code",
   "execution_count": 51,
   "id": "747e161e",
   "metadata": {
    "ExecuteTime": {
     "end_time": "2023-12-04T07:57:18.987964Z",
     "start_time": "2023-12-04T07:57:18.977983Z"
    }
   },
   "outputs": [],
   "source": [
    "early_stopping = EarlyStopping(monitor = 'loss')"
   ]
  },
  {
   "cell_type": "code",
   "execution_count": 60,
   "id": "b3567f85",
   "metadata": {
    "ExecuteTime": {
     "end_time": "2023-12-04T07:58:53.049108Z",
     "start_time": "2023-12-04T07:58:47.439730Z"
    }
   },
   "outputs": [
    {
     "name": "stdout",
     "output_type": "stream",
     "text": [
      "Epoch 1/50\n",
      "867/867 - 3s - loss: 9.9091 - val_loss: 10.5240 - 3s/epoch - 3ms/step\n",
      "Epoch 2/50\n",
      "867/867 - 3s - loss: 9.9345 - val_loss: 10.4541 - 3s/epoch - 3ms/step\n"
     ]
    },
    {
     "data": {
      "text/plain": [
       "<keras.callbacks.History at 0x1daecde0490>"
      ]
     },
     "execution_count": 60,
     "metadata": {},
     "output_type": "execute_result"
    }
   ],
   "source": [
    "# 모델 훈련\n",
    "model.fit(x_train, y_train,validation_data=(x_test, y_test), epochs=50, batch_size=32, verbose=2, callbacks=[early_stopping])"
   ]
  },
  {
   "cell_type": "code",
   "execution_count": 61,
   "id": "6c37be03",
   "metadata": {
    "ExecuteTime": {
     "end_time": "2023-12-04T07:59:06.406893Z",
     "start_time": "2023-12-04T07:59:04.948098Z"
    }
   },
   "outputs": [
    {
     "name": "stdout",
     "output_type": "stream",
     "text": [
      "372/372 [==============================] - 1s 2ms/step\n"
     ]
    }
   ],
   "source": [
    "# 테스트 데이터에 대한 예측\n",
    "y_pred = model.predict(x_test)"
   ]
  },
  {
   "cell_type": "code",
   "execution_count": 63,
   "id": "58259c24",
   "metadata": {
    "ExecuteTime": {
     "end_time": "2023-12-04T07:59:10.064521Z",
     "start_time": "2023-12-04T07:59:09.987457Z"
    }
   },
   "outputs": [],
   "source": [
    "model.save('../model/007_Leaky-model.h5')"
   ]
  },
  {
   "cell_type": "code",
   "execution_count": 64,
   "id": "38819853",
   "metadata": {
    "ExecuteTime": {
     "end_time": "2023-12-04T07:59:10.442227Z",
     "start_time": "2023-12-04T07:59:10.416068Z"
    }
   },
   "outputs": [],
   "source": [
    "sub_file = pd.read_csv(\"../data/sample_submission.csv\")"
   ]
  },
  {
   "cell_type": "code",
   "execution_count": 65,
   "id": "8b0be793",
   "metadata": {
    "ExecuteTime": {
     "end_time": "2023-12-04T07:59:12.135847Z",
     "start_time": "2023-12-04T07:59:10.715107Z"
    }
   },
   "outputs": [
    {
     "name": "stdout",
     "output_type": "stream",
     "text": [
      "343/343 [==============================] - 1s 2ms/step\n"
     ]
    }
   ],
   "source": [
    "sub_file['ECLO'] = model.predict(df_test)\n",
    "sub_file['ECLO'] = round(sub_file['ECLO'])"
   ]
  },
  {
   "cell_type": "code",
   "execution_count": 66,
   "id": "58dc7ed6",
   "metadata": {
    "ExecuteTime": {
     "end_time": "2023-12-04T07:59:12.451054Z",
     "start_time": "2023-12-04T07:59:12.438930Z"
    }
   },
   "outputs": [
    {
     "data": {
      "text/plain": [
       "5.0    7451\n",
       "4.0    3196\n",
       "6.0     223\n",
       "3.0      93\n",
       "Name: ECLO, dtype: int64"
      ]
     },
     "execution_count": 66,
     "metadata": {},
     "output_type": "execute_result"
    }
   ],
   "source": [
    "sub_file.ECLO.value_counts()"
   ]
  },
  {
   "cell_type": "code",
   "execution_count": 78,
   "id": "9d818c1a",
   "metadata": {
    "ExecuteTime": {
     "end_time": "2023-12-04T06:38:49.825841Z",
     "start_time": "2023-12-04T06:38:49.780860Z"
    }
   },
   "outputs": [],
   "source": [
    "sub_file.to_csv(\"../data/sub_file/010tf_Huber_lr.csv\", index=False)"
   ]
  },
  {
   "cell_type": "code",
   "execution_count": null,
   "id": "2793e5f8",
   "metadata": {},
   "outputs": [],
   "source": []
  },
  {
   "cell_type": "code",
   "execution_count": null,
   "id": "6d51bd18",
   "metadata": {},
   "outputs": [],
   "source": [
    "# 평가\n",
    "mse = mean_squared_error(y_test, y_pred)\n",
    "print(f'Mean Squared Error on Test Data: {mse}')"
   ]
  }
 ],
 "metadata": {
  "hide_input": false,
  "kernelspec": {
   "display_name": "Python 3 (ipykernel)",
   "language": "python",
   "name": "python3"
  },
  "language_info": {
   "codemirror_mode": {
    "name": "ipython",
    "version": 3
   },
   "file_extension": ".py",
   "mimetype": "text/x-python",
   "name": "python",
   "nbconvert_exporter": "python",
   "pygments_lexer": "ipython3",
   "version": "3.9.12"
  },
  "toc": {
   "base_numbering": 1,
   "nav_menu": {},
   "number_sections": true,
   "sideBar": true,
   "skip_h1_title": false,
   "title_cell": "Table of Contents",
   "title_sidebar": "Contents",
   "toc_cell": false,
   "toc_position": {},
   "toc_section_display": true,
   "toc_window_display": false
  },
  "varInspector": {
   "cols": {
    "lenName": 16,
    "lenType": 16,
    "lenVar": 40
   },
   "kernels_config": {
    "python": {
     "delete_cmd_postfix": "",
     "delete_cmd_prefix": "del ",
     "library": "var_list.py",
     "varRefreshCmd": "print(var_dic_list())"
    },
    "r": {
     "delete_cmd_postfix": ") ",
     "delete_cmd_prefix": "rm(",
     "library": "var_list.r",
     "varRefreshCmd": "cat(var_dic_list()) "
    }
   },
   "types_to_exclude": [
    "module",
    "function",
    "builtin_function_or_method",
    "instance",
    "_Feature"
   ],
   "window_display": false
  }
 },
 "nbformat": 4,
 "nbformat_minor": 5
}
