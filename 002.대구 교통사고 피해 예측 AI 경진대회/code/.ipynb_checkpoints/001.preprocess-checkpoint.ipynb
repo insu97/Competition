{
 "cells": [
  {
   "cell_type": "code",
   "execution_count": 422,
   "id": "e2b100a8",
   "metadata": {
    "ExecuteTime": {
     "end_time": "2023-11-25T14:56:23.746170Z",
     "start_time": "2023-11-25T14:56:23.737375Z"
    }
   },
   "outputs": [],
   "source": [
    "import pandas as pd"
   ]
  },
  {
   "cell_type": "code",
   "execution_count": 423,
   "id": "91859acd",
   "metadata": {
    "ExecuteTime": {
     "end_time": "2023-11-25T14:56:23.952618Z",
     "start_time": "2023-11-25T14:56:23.749600Z"
    }
   },
   "outputs": [],
   "source": [
    "df_train = pd.read_csv(\"../data/train.csv\")\n",
    "df_test = pd.read_csv(\"../data/test.csv\")"
   ]
  },
  {
   "cell_type": "code",
   "execution_count": 424,
   "id": "ecb6f9ac",
   "metadata": {
    "ExecuteTime": {
     "end_time": "2023-11-25T14:56:23.968669Z",
     "start_time": "2023-11-25T14:56:23.954774Z"
    }
   },
   "outputs": [],
   "source": [
    "target_col = ['사망자수','중상자수','경상자수','부상자수']"
   ]
  },
  {
   "cell_type": "code",
   "execution_count": 425,
   "id": "25c79d9e",
   "metadata": {
    "ExecuteTime": {
     "end_time": "2023-11-25T14:56:23.984275Z",
     "start_time": "2023-11-25T14:56:23.972182Z"
    }
   },
   "outputs": [],
   "source": [
    "use_col = df_test.columns.tolist()\n",
    "use_col.extend(target_col)"
   ]
  },
  {
   "cell_type": "code",
   "execution_count": 426,
   "id": "79d25b75",
   "metadata": {
    "ExecuteTime": {
     "end_time": "2023-11-25T14:56:24.000433Z",
     "start_time": "2023-11-25T14:56:23.987212Z"
    }
   },
   "outputs": [],
   "source": [
    "df_train = df_train[use_col]"
   ]
  },
  {
   "cell_type": "code",
   "execution_count": 427,
   "id": "d9f3bead",
   "metadata": {
    "ExecuteTime": {
     "end_time": "2023-11-25T14:56:24.015989Z",
     "start_time": "2023-11-25T14:56:24.002335Z"
    }
   },
   "outputs": [
    {
     "data": {
      "text/html": [
       "<div>\n",
       "<style scoped>\n",
       "    .dataframe tbody tr th:only-of-type {\n",
       "        vertical-align: middle;\n",
       "    }\n",
       "\n",
       "    .dataframe tbody tr th {\n",
       "        vertical-align: top;\n",
       "    }\n",
       "\n",
       "    .dataframe thead th {\n",
       "        text-align: right;\n",
       "    }\n",
       "</style>\n",
       "<table border=\"1\" class=\"dataframe\">\n",
       "  <thead>\n",
       "    <tr style=\"text-align: right;\">\n",
       "      <th></th>\n",
       "      <th>ID</th>\n",
       "      <th>사고일시</th>\n",
       "      <th>요일</th>\n",
       "      <th>기상상태</th>\n",
       "      <th>시군구</th>\n",
       "      <th>도로형태</th>\n",
       "      <th>노면상태</th>\n",
       "      <th>사고유형</th>\n",
       "      <th>사망자수</th>\n",
       "      <th>중상자수</th>\n",
       "      <th>경상자수</th>\n",
       "      <th>부상자수</th>\n",
       "    </tr>\n",
       "  </thead>\n",
       "  <tbody>\n",
       "    <tr>\n",
       "      <th>0</th>\n",
       "      <td>ACCIDENT_00000</td>\n",
       "      <td>2019-01-01 00</td>\n",
       "      <td>화요일</td>\n",
       "      <td>맑음</td>\n",
       "      <td>대구광역시 중구 대신동</td>\n",
       "      <td>단일로 - 기타</td>\n",
       "      <td>건조</td>\n",
       "      <td>차대사람</td>\n",
       "      <td>0</td>\n",
       "      <td>1</td>\n",
       "      <td>0</td>\n",
       "      <td>0</td>\n",
       "    </tr>\n",
       "    <tr>\n",
       "      <th>1</th>\n",
       "      <td>ACCIDENT_00001</td>\n",
       "      <td>2019-01-01 00</td>\n",
       "      <td>화요일</td>\n",
       "      <td>흐림</td>\n",
       "      <td>대구광역시 달서구 감삼동</td>\n",
       "      <td>단일로 - 기타</td>\n",
       "      <td>건조</td>\n",
       "      <td>차대사람</td>\n",
       "      <td>0</td>\n",
       "      <td>0</td>\n",
       "      <td>1</td>\n",
       "      <td>0</td>\n",
       "    </tr>\n",
       "    <tr>\n",
       "      <th>2</th>\n",
       "      <td>ACCIDENT_00002</td>\n",
       "      <td>2019-01-01 01</td>\n",
       "      <td>화요일</td>\n",
       "      <td>맑음</td>\n",
       "      <td>대구광역시 수성구 두산동</td>\n",
       "      <td>단일로 - 기타</td>\n",
       "      <td>건조</td>\n",
       "      <td>차대사람</td>\n",
       "      <td>0</td>\n",
       "      <td>0</td>\n",
       "      <td>1</td>\n",
       "      <td>0</td>\n",
       "    </tr>\n",
       "    <tr>\n",
       "      <th>3</th>\n",
       "      <td>ACCIDENT_00003</td>\n",
       "      <td>2019-01-01 02</td>\n",
       "      <td>화요일</td>\n",
       "      <td>맑음</td>\n",
       "      <td>대구광역시 북구 복현동</td>\n",
       "      <td>단일로 - 기타</td>\n",
       "      <td>건조</td>\n",
       "      <td>차대차</td>\n",
       "      <td>0</td>\n",
       "      <td>1</td>\n",
       "      <td>0</td>\n",
       "      <td>0</td>\n",
       "    </tr>\n",
       "    <tr>\n",
       "      <th>4</th>\n",
       "      <td>ACCIDENT_00004</td>\n",
       "      <td>2019-01-01 04</td>\n",
       "      <td>화요일</td>\n",
       "      <td>맑음</td>\n",
       "      <td>대구광역시 동구 신암동</td>\n",
       "      <td>단일로 - 기타</td>\n",
       "      <td>건조</td>\n",
       "      <td>차대차</td>\n",
       "      <td>0</td>\n",
       "      <td>0</td>\n",
       "      <td>1</td>\n",
       "      <td>0</td>\n",
       "    </tr>\n",
       "  </tbody>\n",
       "</table>\n",
       "</div>"
      ],
      "text/plain": [
       "               ID           사고일시   요일 기상상태            시군구      도로형태 노면상태  \\\n",
       "0  ACCIDENT_00000  2019-01-01 00  화요일   맑음   대구광역시 중구 대신동  단일로 - 기타   건조   \n",
       "1  ACCIDENT_00001  2019-01-01 00  화요일   흐림  대구광역시 달서구 감삼동  단일로 - 기타   건조   \n",
       "2  ACCIDENT_00002  2019-01-01 01  화요일   맑음  대구광역시 수성구 두산동  단일로 - 기타   건조   \n",
       "3  ACCIDENT_00003  2019-01-01 02  화요일   맑음   대구광역시 북구 복현동  단일로 - 기타   건조   \n",
       "4  ACCIDENT_00004  2019-01-01 04  화요일   맑음   대구광역시 동구 신암동  단일로 - 기타   건조   \n",
       "\n",
       "   사고유형  사망자수  중상자수  경상자수  부상자수  \n",
       "0  차대사람     0     1     0     0  \n",
       "1  차대사람     0     0     1     0  \n",
       "2  차대사람     0     0     1     0  \n",
       "3   차대차     0     1     0     0  \n",
       "4   차대차     0     0     1     0  "
      ]
     },
     "execution_count": 427,
     "metadata": {},
     "output_type": "execute_result"
    }
   ],
   "source": [
    "df_train.head()"
   ]
  },
  {
   "cell_type": "code",
   "execution_count": 428,
   "id": "254147cb",
   "metadata": {
    "ExecuteTime": {
     "end_time": "2023-11-25T14:56:24.031988Z",
     "start_time": "2023-11-25T14:56:24.017991Z"
    }
   },
   "outputs": [
    {
     "data": {
      "text/html": [
       "<div>\n",
       "<style scoped>\n",
       "    .dataframe tbody tr th:only-of-type {\n",
       "        vertical-align: middle;\n",
       "    }\n",
       "\n",
       "    .dataframe tbody tr th {\n",
       "        vertical-align: top;\n",
       "    }\n",
       "\n",
       "    .dataframe thead th {\n",
       "        text-align: right;\n",
       "    }\n",
       "</style>\n",
       "<table border=\"1\" class=\"dataframe\">\n",
       "  <thead>\n",
       "    <tr style=\"text-align: right;\">\n",
       "      <th></th>\n",
       "      <th>ID</th>\n",
       "      <th>사고일시</th>\n",
       "      <th>요일</th>\n",
       "      <th>기상상태</th>\n",
       "      <th>시군구</th>\n",
       "      <th>도로형태</th>\n",
       "      <th>노면상태</th>\n",
       "      <th>사고유형</th>\n",
       "    </tr>\n",
       "  </thead>\n",
       "  <tbody>\n",
       "    <tr>\n",
       "      <th>0</th>\n",
       "      <td>ACCIDENT_39609</td>\n",
       "      <td>2022-01-01 01</td>\n",
       "      <td>토요일</td>\n",
       "      <td>맑음</td>\n",
       "      <td>대구광역시 수성구 상동</td>\n",
       "      <td>교차로 - 교차로안</td>\n",
       "      <td>건조</td>\n",
       "      <td>차대사람</td>\n",
       "    </tr>\n",
       "    <tr>\n",
       "      <th>1</th>\n",
       "      <td>ACCIDENT_39610</td>\n",
       "      <td>2022-01-01 01</td>\n",
       "      <td>토요일</td>\n",
       "      <td>맑음</td>\n",
       "      <td>대구광역시 수성구 지산동</td>\n",
       "      <td>단일로 - 기타</td>\n",
       "      <td>건조</td>\n",
       "      <td>차대사람</td>\n",
       "    </tr>\n",
       "    <tr>\n",
       "      <th>2</th>\n",
       "      <td>ACCIDENT_39611</td>\n",
       "      <td>2022-01-01 04</td>\n",
       "      <td>토요일</td>\n",
       "      <td>맑음</td>\n",
       "      <td>대구광역시 수성구 수성동2가</td>\n",
       "      <td>교차로 - 교차로안</td>\n",
       "      <td>건조</td>\n",
       "      <td>차대차</td>\n",
       "    </tr>\n",
       "    <tr>\n",
       "      <th>3</th>\n",
       "      <td>ACCIDENT_39612</td>\n",
       "      <td>2022-01-01 04</td>\n",
       "      <td>토요일</td>\n",
       "      <td>맑음</td>\n",
       "      <td>대구광역시 수성구 신매동</td>\n",
       "      <td>단일로 - 기타</td>\n",
       "      <td>건조</td>\n",
       "      <td>차대차</td>\n",
       "    </tr>\n",
       "    <tr>\n",
       "      <th>4</th>\n",
       "      <td>ACCIDENT_39613</td>\n",
       "      <td>2022-01-01 06</td>\n",
       "      <td>토요일</td>\n",
       "      <td>맑음</td>\n",
       "      <td>대구광역시 달서구 감삼동</td>\n",
       "      <td>교차로 - 교차로안</td>\n",
       "      <td>건조</td>\n",
       "      <td>차대차</td>\n",
       "    </tr>\n",
       "  </tbody>\n",
       "</table>\n",
       "</div>"
      ],
      "text/plain": [
       "               ID           사고일시   요일 기상상태              시군구        도로형태 노면상태  \\\n",
       "0  ACCIDENT_39609  2022-01-01 01  토요일   맑음     대구광역시 수성구 상동  교차로 - 교차로안   건조   \n",
       "1  ACCIDENT_39610  2022-01-01 01  토요일   맑음    대구광역시 수성구 지산동    단일로 - 기타   건조   \n",
       "2  ACCIDENT_39611  2022-01-01 04  토요일   맑음  대구광역시 수성구 수성동2가  교차로 - 교차로안   건조   \n",
       "3  ACCIDENT_39612  2022-01-01 04  토요일   맑음    대구광역시 수성구 신매동    단일로 - 기타   건조   \n",
       "4  ACCIDENT_39613  2022-01-01 06  토요일   맑음    대구광역시 달서구 감삼동  교차로 - 교차로안   건조   \n",
       "\n",
       "   사고유형  \n",
       "0  차대사람  \n",
       "1  차대사람  \n",
       "2   차대차  \n",
       "3   차대차  \n",
       "4   차대차  "
      ]
     },
     "execution_count": 428,
     "metadata": {},
     "output_type": "execute_result"
    }
   ],
   "source": [
    "df_test.head()"
   ]
  },
  {
   "cell_type": "markdown",
   "id": "09264521",
   "metadata": {},
   "source": [
    "# ID"
   ]
  },
  {
   "cell_type": "code",
   "execution_count": 429,
   "id": "36d4e6d6",
   "metadata": {
    "ExecuteTime": {
     "end_time": "2023-11-25T14:56:24.047129Z",
     "start_time": "2023-11-25T14:56:24.033990Z"
    }
   },
   "outputs": [],
   "source": [
    "df_train.drop(['ID'], axis = 1,inplace = True)\n",
    "df_test.drop(['ID'], axis = 1,inplace = True)"
   ]
  },
  {
   "cell_type": "markdown",
   "id": "1a7796a1",
   "metadata": {},
   "source": [
    "# 사고일시"
   ]
  },
  {
   "cell_type": "code",
   "execution_count": 430,
   "id": "df6319ca",
   "metadata": {
    "ExecuteTime": {
     "end_time": "2023-11-25T14:56:24.061991Z",
     "start_time": "2023-11-25T14:56:24.049037Z"
    }
   },
   "outputs": [],
   "source": [
    "df_train.drop(['사고일시'], axis = 1,inplace = True)\n",
    "df_test.drop(['사고일시'], axis = 1,inplace = True)"
   ]
  },
  {
   "cell_type": "markdown",
   "id": "08383bd6",
   "metadata": {},
   "source": [
    "# 요일"
   ]
  },
  {
   "cell_type": "code",
   "execution_count": 431,
   "id": "22da93ba",
   "metadata": {
    "ExecuteTime": {
     "end_time": "2023-11-25T14:56:24.077735Z",
     "start_time": "2023-11-25T14:56:24.066989Z"
    }
   },
   "outputs": [],
   "source": [
    "day_map = {\n",
    "    '월요일': '평일',\n",
    "    '화요일' : '평일',\n",
    "    '수요일' : '평일',\n",
    "    '목요일' : '평일',\n",
    "    '금요일' : '평일',\n",
    "    '토요일' : '주말',\n",
    "    '일요일' : '주말'\n",
    "}"
   ]
  },
  {
   "cell_type": "code",
   "execution_count": 432,
   "id": "3a83e272",
   "metadata": {
    "ExecuteTime": {
     "end_time": "2023-11-25T14:56:24.107887Z",
     "start_time": "2023-11-25T14:56:24.080756Z"
    }
   },
   "outputs": [],
   "source": [
    "df_train['요일'] = df_train['요일'].replace(day_map)\n",
    "\n",
    "df_test['요일'] = df_test['요일'].replace(day_map)"
   ]
  },
  {
   "cell_type": "code",
   "execution_count": 433,
   "id": "bf2a5c53",
   "metadata": {
    "ExecuteTime": {
     "end_time": "2023-11-25T14:56:24.123449Z",
     "start_time": "2023-11-25T14:56:24.110453Z"
    }
   },
   "outputs": [],
   "source": [
    "df_train = pd.concat([df_train, pd.get_dummies(df_train['요일'])], axis=1)\n",
    "\n",
    "df_test = pd.concat([df_test, pd.get_dummies(df_test['요일'])], axis=1)"
   ]
  },
  {
   "cell_type": "code",
   "execution_count": 434,
   "id": "ee01552a",
   "metadata": {
    "ExecuteTime": {
     "end_time": "2023-11-25T14:56:24.139452Z",
     "start_time": "2023-11-25T14:56:24.125455Z"
    }
   },
   "outputs": [],
   "source": [
    "df_train.drop(['요일'], axis = 1,inplace = True)\n",
    "df_test.drop(['요일'], axis = 1,inplace = True)"
   ]
  },
  {
   "cell_type": "code",
   "execution_count": 435,
   "id": "c961291d",
   "metadata": {
    "ExecuteTime": {
     "end_time": "2023-11-25T14:56:24.155437Z",
     "start_time": "2023-11-25T14:56:24.142450Z"
    }
   },
   "outputs": [
    {
     "data": {
      "text/html": [
       "<div>\n",
       "<style scoped>\n",
       "    .dataframe tbody tr th:only-of-type {\n",
       "        vertical-align: middle;\n",
       "    }\n",
       "\n",
       "    .dataframe tbody tr th {\n",
       "        vertical-align: top;\n",
       "    }\n",
       "\n",
       "    .dataframe thead th {\n",
       "        text-align: right;\n",
       "    }\n",
       "</style>\n",
       "<table border=\"1\" class=\"dataframe\">\n",
       "  <thead>\n",
       "    <tr style=\"text-align: right;\">\n",
       "      <th></th>\n",
       "      <th>기상상태</th>\n",
       "      <th>시군구</th>\n",
       "      <th>도로형태</th>\n",
       "      <th>노면상태</th>\n",
       "      <th>사고유형</th>\n",
       "      <th>사망자수</th>\n",
       "      <th>중상자수</th>\n",
       "      <th>경상자수</th>\n",
       "      <th>부상자수</th>\n",
       "      <th>주말</th>\n",
       "      <th>평일</th>\n",
       "    </tr>\n",
       "  </thead>\n",
       "  <tbody>\n",
       "    <tr>\n",
       "      <th>0</th>\n",
       "      <td>맑음</td>\n",
       "      <td>대구광역시 중구 대신동</td>\n",
       "      <td>단일로 - 기타</td>\n",
       "      <td>건조</td>\n",
       "      <td>차대사람</td>\n",
       "      <td>0</td>\n",
       "      <td>1</td>\n",
       "      <td>0</td>\n",
       "      <td>0</td>\n",
       "      <td>0</td>\n",
       "      <td>1</td>\n",
       "    </tr>\n",
       "    <tr>\n",
       "      <th>1</th>\n",
       "      <td>흐림</td>\n",
       "      <td>대구광역시 달서구 감삼동</td>\n",
       "      <td>단일로 - 기타</td>\n",
       "      <td>건조</td>\n",
       "      <td>차대사람</td>\n",
       "      <td>0</td>\n",
       "      <td>0</td>\n",
       "      <td>1</td>\n",
       "      <td>0</td>\n",
       "      <td>0</td>\n",
       "      <td>1</td>\n",
       "    </tr>\n",
       "    <tr>\n",
       "      <th>2</th>\n",
       "      <td>맑음</td>\n",
       "      <td>대구광역시 수성구 두산동</td>\n",
       "      <td>단일로 - 기타</td>\n",
       "      <td>건조</td>\n",
       "      <td>차대사람</td>\n",
       "      <td>0</td>\n",
       "      <td>0</td>\n",
       "      <td>1</td>\n",
       "      <td>0</td>\n",
       "      <td>0</td>\n",
       "      <td>1</td>\n",
       "    </tr>\n",
       "    <tr>\n",
       "      <th>3</th>\n",
       "      <td>맑음</td>\n",
       "      <td>대구광역시 북구 복현동</td>\n",
       "      <td>단일로 - 기타</td>\n",
       "      <td>건조</td>\n",
       "      <td>차대차</td>\n",
       "      <td>0</td>\n",
       "      <td>1</td>\n",
       "      <td>0</td>\n",
       "      <td>0</td>\n",
       "      <td>0</td>\n",
       "      <td>1</td>\n",
       "    </tr>\n",
       "    <tr>\n",
       "      <th>4</th>\n",
       "      <td>맑음</td>\n",
       "      <td>대구광역시 동구 신암동</td>\n",
       "      <td>단일로 - 기타</td>\n",
       "      <td>건조</td>\n",
       "      <td>차대차</td>\n",
       "      <td>0</td>\n",
       "      <td>0</td>\n",
       "      <td>1</td>\n",
       "      <td>0</td>\n",
       "      <td>0</td>\n",
       "      <td>1</td>\n",
       "    </tr>\n",
       "  </tbody>\n",
       "</table>\n",
       "</div>"
      ],
      "text/plain": [
       "  기상상태            시군구      도로형태 노면상태  사고유형  사망자수  중상자수  경상자수  부상자수  주말  평일\n",
       "0   맑음   대구광역시 중구 대신동  단일로 - 기타   건조  차대사람     0     1     0     0   0   1\n",
       "1   흐림  대구광역시 달서구 감삼동  단일로 - 기타   건조  차대사람     0     0     1     0   0   1\n",
       "2   맑음  대구광역시 수성구 두산동  단일로 - 기타   건조  차대사람     0     0     1     0   0   1\n",
       "3   맑음   대구광역시 북구 복현동  단일로 - 기타   건조   차대차     0     1     0     0   0   1\n",
       "4   맑음   대구광역시 동구 신암동  단일로 - 기타   건조   차대차     0     0     1     0   0   1"
      ]
     },
     "execution_count": 435,
     "metadata": {},
     "output_type": "execute_result"
    }
   ],
   "source": [
    "df_train.head()"
   ]
  },
  {
   "cell_type": "code",
   "execution_count": 436,
   "id": "27720e9f",
   "metadata": {
    "ExecuteTime": {
     "end_time": "2023-11-25T14:56:24.171433Z",
     "start_time": "2023-11-25T14:56:24.157430Z"
    }
   },
   "outputs": [
    {
     "data": {
      "text/html": [
       "<div>\n",
       "<style scoped>\n",
       "    .dataframe tbody tr th:only-of-type {\n",
       "        vertical-align: middle;\n",
       "    }\n",
       "\n",
       "    .dataframe tbody tr th {\n",
       "        vertical-align: top;\n",
       "    }\n",
       "\n",
       "    .dataframe thead th {\n",
       "        text-align: right;\n",
       "    }\n",
       "</style>\n",
       "<table border=\"1\" class=\"dataframe\">\n",
       "  <thead>\n",
       "    <tr style=\"text-align: right;\">\n",
       "      <th></th>\n",
       "      <th>기상상태</th>\n",
       "      <th>시군구</th>\n",
       "      <th>도로형태</th>\n",
       "      <th>노면상태</th>\n",
       "      <th>사고유형</th>\n",
       "      <th>주말</th>\n",
       "      <th>평일</th>\n",
       "    </tr>\n",
       "  </thead>\n",
       "  <tbody>\n",
       "    <tr>\n",
       "      <th>0</th>\n",
       "      <td>맑음</td>\n",
       "      <td>대구광역시 수성구 상동</td>\n",
       "      <td>교차로 - 교차로안</td>\n",
       "      <td>건조</td>\n",
       "      <td>차대사람</td>\n",
       "      <td>1</td>\n",
       "      <td>0</td>\n",
       "    </tr>\n",
       "    <tr>\n",
       "      <th>1</th>\n",
       "      <td>맑음</td>\n",
       "      <td>대구광역시 수성구 지산동</td>\n",
       "      <td>단일로 - 기타</td>\n",
       "      <td>건조</td>\n",
       "      <td>차대사람</td>\n",
       "      <td>1</td>\n",
       "      <td>0</td>\n",
       "    </tr>\n",
       "    <tr>\n",
       "      <th>2</th>\n",
       "      <td>맑음</td>\n",
       "      <td>대구광역시 수성구 수성동2가</td>\n",
       "      <td>교차로 - 교차로안</td>\n",
       "      <td>건조</td>\n",
       "      <td>차대차</td>\n",
       "      <td>1</td>\n",
       "      <td>0</td>\n",
       "    </tr>\n",
       "    <tr>\n",
       "      <th>3</th>\n",
       "      <td>맑음</td>\n",
       "      <td>대구광역시 수성구 신매동</td>\n",
       "      <td>단일로 - 기타</td>\n",
       "      <td>건조</td>\n",
       "      <td>차대차</td>\n",
       "      <td>1</td>\n",
       "      <td>0</td>\n",
       "    </tr>\n",
       "    <tr>\n",
       "      <th>4</th>\n",
       "      <td>맑음</td>\n",
       "      <td>대구광역시 달서구 감삼동</td>\n",
       "      <td>교차로 - 교차로안</td>\n",
       "      <td>건조</td>\n",
       "      <td>차대차</td>\n",
       "      <td>1</td>\n",
       "      <td>0</td>\n",
       "    </tr>\n",
       "  </tbody>\n",
       "</table>\n",
       "</div>"
      ],
      "text/plain": [
       "  기상상태              시군구        도로형태 노면상태  사고유형  주말  평일\n",
       "0   맑음     대구광역시 수성구 상동  교차로 - 교차로안   건조  차대사람   1   0\n",
       "1   맑음    대구광역시 수성구 지산동    단일로 - 기타   건조  차대사람   1   0\n",
       "2   맑음  대구광역시 수성구 수성동2가  교차로 - 교차로안   건조   차대차   1   0\n",
       "3   맑음    대구광역시 수성구 신매동    단일로 - 기타   건조   차대차   1   0\n",
       "4   맑음    대구광역시 달서구 감삼동  교차로 - 교차로안   건조   차대차   1   0"
      ]
     },
     "execution_count": 436,
     "metadata": {},
     "output_type": "execute_result"
    }
   ],
   "source": [
    "df_test.head()"
   ]
  },
  {
   "cell_type": "markdown",
   "id": "4746ed63",
   "metadata": {},
   "source": [
    "# 기상상태"
   ]
  },
  {
   "cell_type": "code",
   "execution_count": 437,
   "id": "560f5995",
   "metadata": {
    "ExecuteTime": {
     "end_time": "2023-11-25T14:56:24.187431Z",
     "start_time": "2023-11-25T14:56:24.173466Z"
    }
   },
   "outputs": [
    {
     "data": {
      "text/plain": [
       "맑음    36181\n",
       "비      2627\n",
       "흐림      729\n",
       "기타       56\n",
       "안개        8\n",
       "눈         8\n",
       "Name: 기상상태, dtype: int64"
      ]
     },
     "execution_count": 437,
     "metadata": {},
     "output_type": "execute_result"
    }
   ],
   "source": [
    "df_train['기상상태'].value_counts()"
   ]
  },
  {
   "cell_type": "code",
   "execution_count": 438,
   "id": "c2a9cbf4",
   "metadata": {
    "ExecuteTime": {
     "end_time": "2023-11-25T14:56:24.202447Z",
     "start_time": "2023-11-25T14:56:24.190436Z"
    }
   },
   "outputs": [
    {
     "data": {
      "text/plain": [
       "맑음    10321\n",
       "비       394\n",
       "흐림      207\n",
       "기타       31\n",
       "눈        10\n",
       "Name: 기상상태, dtype: int64"
      ]
     },
     "execution_count": 438,
     "metadata": {},
     "output_type": "execute_result"
    }
   ],
   "source": [
    "df_test['기상상태'].value_counts()"
   ]
  },
  {
   "cell_type": "code",
   "execution_count": 439,
   "id": "b08b5afe",
   "metadata": {
    "ExecuteTime": {
     "end_time": "2023-11-25T14:56:24.233497Z",
     "start_time": "2023-11-25T14:56:24.207445Z"
    }
   },
   "outputs": [],
   "source": [
    "df_train.drop(df_train[df_train['기상상태'] == '안개'].index, axis = 0, inplace = True)\n",
    "\n",
    "df_train.reset_index(drop=True, inplace = True)"
   ]
  },
  {
   "cell_type": "code",
   "execution_count": 440,
   "id": "89dcc663",
   "metadata": {
    "ExecuteTime": {
     "end_time": "2023-11-25T14:56:24.248492Z",
     "start_time": "2023-11-25T14:56:24.236493Z"
    }
   },
   "outputs": [
    {
     "data": {
      "text/plain": [
       "맑음    36181\n",
       "비      2627\n",
       "흐림      729\n",
       "기타       56\n",
       "눈         8\n",
       "Name: 기상상태, dtype: int64"
      ]
     },
     "execution_count": 440,
     "metadata": {},
     "output_type": "execute_result"
    }
   ],
   "source": [
    "df_train['기상상태'].value_counts()"
   ]
  },
  {
   "cell_type": "code",
   "execution_count": 441,
   "id": "7f47eb77",
   "metadata": {
    "ExecuteTime": {
     "end_time": "2023-11-25T14:56:24.279492Z",
     "start_time": "2023-11-25T14:56:24.252493Z"
    }
   },
   "outputs": [],
   "source": [
    "df_train = pd.concat([df_train, pd.get_dummies(df_train['기상상태'])], axis=1)\n",
    "\n",
    "df_test = pd.concat([df_test, pd.get_dummies(df_test['기상상태'])], axis=1)\n",
    "\n",
    "df_train.drop(['기상상태'], axis=1, inplace = True)\n",
    "df_test.drop(['기상상태'], axis=1, inplace = True)"
   ]
  },
  {
   "cell_type": "code",
   "execution_count": 442,
   "id": "10c6aa81",
   "metadata": {
    "ExecuteTime": {
     "end_time": "2023-11-25T14:56:24.295499Z",
     "start_time": "2023-11-25T14:56:24.282493Z"
    }
   },
   "outputs": [
    {
     "data": {
      "text/html": [
       "<div>\n",
       "<style scoped>\n",
       "    .dataframe tbody tr th:only-of-type {\n",
       "        vertical-align: middle;\n",
       "    }\n",
       "\n",
       "    .dataframe tbody tr th {\n",
       "        vertical-align: top;\n",
       "    }\n",
       "\n",
       "    .dataframe thead th {\n",
       "        text-align: right;\n",
       "    }\n",
       "</style>\n",
       "<table border=\"1\" class=\"dataframe\">\n",
       "  <thead>\n",
       "    <tr style=\"text-align: right;\">\n",
       "      <th></th>\n",
       "      <th>시군구</th>\n",
       "      <th>도로형태</th>\n",
       "      <th>노면상태</th>\n",
       "      <th>사고유형</th>\n",
       "      <th>사망자수</th>\n",
       "      <th>중상자수</th>\n",
       "      <th>경상자수</th>\n",
       "      <th>부상자수</th>\n",
       "      <th>주말</th>\n",
       "      <th>평일</th>\n",
       "      <th>기타</th>\n",
       "      <th>눈</th>\n",
       "      <th>맑음</th>\n",
       "      <th>비</th>\n",
       "      <th>흐림</th>\n",
       "    </tr>\n",
       "  </thead>\n",
       "  <tbody>\n",
       "    <tr>\n",
       "      <th>0</th>\n",
       "      <td>대구광역시 중구 대신동</td>\n",
       "      <td>단일로 - 기타</td>\n",
       "      <td>건조</td>\n",
       "      <td>차대사람</td>\n",
       "      <td>0</td>\n",
       "      <td>1</td>\n",
       "      <td>0</td>\n",
       "      <td>0</td>\n",
       "      <td>0</td>\n",
       "      <td>1</td>\n",
       "      <td>0</td>\n",
       "      <td>0</td>\n",
       "      <td>1</td>\n",
       "      <td>0</td>\n",
       "      <td>0</td>\n",
       "    </tr>\n",
       "    <tr>\n",
       "      <th>1</th>\n",
       "      <td>대구광역시 달서구 감삼동</td>\n",
       "      <td>단일로 - 기타</td>\n",
       "      <td>건조</td>\n",
       "      <td>차대사람</td>\n",
       "      <td>0</td>\n",
       "      <td>0</td>\n",
       "      <td>1</td>\n",
       "      <td>0</td>\n",
       "      <td>0</td>\n",
       "      <td>1</td>\n",
       "      <td>0</td>\n",
       "      <td>0</td>\n",
       "      <td>0</td>\n",
       "      <td>0</td>\n",
       "      <td>1</td>\n",
       "    </tr>\n",
       "    <tr>\n",
       "      <th>2</th>\n",
       "      <td>대구광역시 수성구 두산동</td>\n",
       "      <td>단일로 - 기타</td>\n",
       "      <td>건조</td>\n",
       "      <td>차대사람</td>\n",
       "      <td>0</td>\n",
       "      <td>0</td>\n",
       "      <td>1</td>\n",
       "      <td>0</td>\n",
       "      <td>0</td>\n",
       "      <td>1</td>\n",
       "      <td>0</td>\n",
       "      <td>0</td>\n",
       "      <td>1</td>\n",
       "      <td>0</td>\n",
       "      <td>0</td>\n",
       "    </tr>\n",
       "    <tr>\n",
       "      <th>3</th>\n",
       "      <td>대구광역시 북구 복현동</td>\n",
       "      <td>단일로 - 기타</td>\n",
       "      <td>건조</td>\n",
       "      <td>차대차</td>\n",
       "      <td>0</td>\n",
       "      <td>1</td>\n",
       "      <td>0</td>\n",
       "      <td>0</td>\n",
       "      <td>0</td>\n",
       "      <td>1</td>\n",
       "      <td>0</td>\n",
       "      <td>0</td>\n",
       "      <td>1</td>\n",
       "      <td>0</td>\n",
       "      <td>0</td>\n",
       "    </tr>\n",
       "    <tr>\n",
       "      <th>4</th>\n",
       "      <td>대구광역시 동구 신암동</td>\n",
       "      <td>단일로 - 기타</td>\n",
       "      <td>건조</td>\n",
       "      <td>차대차</td>\n",
       "      <td>0</td>\n",
       "      <td>0</td>\n",
       "      <td>1</td>\n",
       "      <td>0</td>\n",
       "      <td>0</td>\n",
       "      <td>1</td>\n",
       "      <td>0</td>\n",
       "      <td>0</td>\n",
       "      <td>1</td>\n",
       "      <td>0</td>\n",
       "      <td>0</td>\n",
       "    </tr>\n",
       "  </tbody>\n",
       "</table>\n",
       "</div>"
      ],
      "text/plain": [
       "             시군구      도로형태 노면상태  사고유형  사망자수  중상자수  경상자수  부상자수  주말  평일  기타  눈  \\\n",
       "0   대구광역시 중구 대신동  단일로 - 기타   건조  차대사람     0     1     0     0   0   1   0  0   \n",
       "1  대구광역시 달서구 감삼동  단일로 - 기타   건조  차대사람     0     0     1     0   0   1   0  0   \n",
       "2  대구광역시 수성구 두산동  단일로 - 기타   건조  차대사람     0     0     1     0   0   1   0  0   \n",
       "3   대구광역시 북구 복현동  단일로 - 기타   건조   차대차     0     1     0     0   0   1   0  0   \n",
       "4   대구광역시 동구 신암동  단일로 - 기타   건조   차대차     0     0     1     0   0   1   0  0   \n",
       "\n",
       "   맑음  비  흐림  \n",
       "0   1  0   0  \n",
       "1   0  0   1  \n",
       "2   1  0   0  \n",
       "3   1  0   0  \n",
       "4   1  0   0  "
      ]
     },
     "execution_count": 442,
     "metadata": {},
     "output_type": "execute_result"
    }
   ],
   "source": [
    "df_train.head()"
   ]
  },
  {
   "cell_type": "code",
   "execution_count": 443,
   "id": "30051c61",
   "metadata": {
    "ExecuteTime": {
     "end_time": "2023-11-25T14:56:24.311069Z",
     "start_time": "2023-11-25T14:56:24.297501Z"
    }
   },
   "outputs": [
    {
     "data": {
      "text/html": [
       "<div>\n",
       "<style scoped>\n",
       "    .dataframe tbody tr th:only-of-type {\n",
       "        vertical-align: middle;\n",
       "    }\n",
       "\n",
       "    .dataframe tbody tr th {\n",
       "        vertical-align: top;\n",
       "    }\n",
       "\n",
       "    .dataframe thead th {\n",
       "        text-align: right;\n",
       "    }\n",
       "</style>\n",
       "<table border=\"1\" class=\"dataframe\">\n",
       "  <thead>\n",
       "    <tr style=\"text-align: right;\">\n",
       "      <th></th>\n",
       "      <th>시군구</th>\n",
       "      <th>도로형태</th>\n",
       "      <th>노면상태</th>\n",
       "      <th>사고유형</th>\n",
       "      <th>주말</th>\n",
       "      <th>평일</th>\n",
       "      <th>기타</th>\n",
       "      <th>눈</th>\n",
       "      <th>맑음</th>\n",
       "      <th>비</th>\n",
       "      <th>흐림</th>\n",
       "    </tr>\n",
       "  </thead>\n",
       "  <tbody>\n",
       "    <tr>\n",
       "      <th>0</th>\n",
       "      <td>대구광역시 수성구 상동</td>\n",
       "      <td>교차로 - 교차로안</td>\n",
       "      <td>건조</td>\n",
       "      <td>차대사람</td>\n",
       "      <td>1</td>\n",
       "      <td>0</td>\n",
       "      <td>0</td>\n",
       "      <td>0</td>\n",
       "      <td>1</td>\n",
       "      <td>0</td>\n",
       "      <td>0</td>\n",
       "    </tr>\n",
       "    <tr>\n",
       "      <th>1</th>\n",
       "      <td>대구광역시 수성구 지산동</td>\n",
       "      <td>단일로 - 기타</td>\n",
       "      <td>건조</td>\n",
       "      <td>차대사람</td>\n",
       "      <td>1</td>\n",
       "      <td>0</td>\n",
       "      <td>0</td>\n",
       "      <td>0</td>\n",
       "      <td>1</td>\n",
       "      <td>0</td>\n",
       "      <td>0</td>\n",
       "    </tr>\n",
       "    <tr>\n",
       "      <th>2</th>\n",
       "      <td>대구광역시 수성구 수성동2가</td>\n",
       "      <td>교차로 - 교차로안</td>\n",
       "      <td>건조</td>\n",
       "      <td>차대차</td>\n",
       "      <td>1</td>\n",
       "      <td>0</td>\n",
       "      <td>0</td>\n",
       "      <td>0</td>\n",
       "      <td>1</td>\n",
       "      <td>0</td>\n",
       "      <td>0</td>\n",
       "    </tr>\n",
       "    <tr>\n",
       "      <th>3</th>\n",
       "      <td>대구광역시 수성구 신매동</td>\n",
       "      <td>단일로 - 기타</td>\n",
       "      <td>건조</td>\n",
       "      <td>차대차</td>\n",
       "      <td>1</td>\n",
       "      <td>0</td>\n",
       "      <td>0</td>\n",
       "      <td>0</td>\n",
       "      <td>1</td>\n",
       "      <td>0</td>\n",
       "      <td>0</td>\n",
       "    </tr>\n",
       "    <tr>\n",
       "      <th>4</th>\n",
       "      <td>대구광역시 달서구 감삼동</td>\n",
       "      <td>교차로 - 교차로안</td>\n",
       "      <td>건조</td>\n",
       "      <td>차대차</td>\n",
       "      <td>1</td>\n",
       "      <td>0</td>\n",
       "      <td>0</td>\n",
       "      <td>0</td>\n",
       "      <td>1</td>\n",
       "      <td>0</td>\n",
       "      <td>0</td>\n",
       "    </tr>\n",
       "  </tbody>\n",
       "</table>\n",
       "</div>"
      ],
      "text/plain": [
       "               시군구        도로형태 노면상태  사고유형  주말  평일  기타  눈  맑음  비  흐림\n",
       "0     대구광역시 수성구 상동  교차로 - 교차로안   건조  차대사람   1   0   0  0   1  0   0\n",
       "1    대구광역시 수성구 지산동    단일로 - 기타   건조  차대사람   1   0   0  0   1  0   0\n",
       "2  대구광역시 수성구 수성동2가  교차로 - 교차로안   건조   차대차   1   0   0  0   1  0   0\n",
       "3    대구광역시 수성구 신매동    단일로 - 기타   건조   차대차   1   0   0  0   1  0   0\n",
       "4    대구광역시 달서구 감삼동  교차로 - 교차로안   건조   차대차   1   0   0  0   1  0   0"
      ]
     },
     "execution_count": 443,
     "metadata": {},
     "output_type": "execute_result"
    }
   ],
   "source": [
    "df_test.head()"
   ]
  },
  {
   "cell_type": "markdown",
   "id": "c6078889",
   "metadata": {},
   "source": [
    "# 시군구"
   ]
  },
  {
   "cell_type": "code",
   "execution_count": 444,
   "id": "e364626e",
   "metadata": {
    "ExecuteTime": {
     "end_time": "2023-11-25T14:56:27.410756Z",
     "start_time": "2023-11-25T14:56:24.313050Z"
    }
   },
   "outputs": [],
   "source": [
    "df_train['구'] = ''\n",
    "\n",
    "for i in range(len(df_train)):\n",
    "    df_train.iloc[i, 15] = df_train.iloc[i, 0].split()[1]\n",
    "\n",
    "df_train.drop(['시군구'], axis=1, inplace = True)"
   ]
  },
  {
   "cell_type": "code",
   "execution_count": 445,
   "id": "cff289c3",
   "metadata": {
    "ExecuteTime": {
     "end_time": "2023-11-25T14:56:28.264166Z",
     "start_time": "2023-11-25T14:56:27.413309Z"
    }
   },
   "outputs": [],
   "source": [
    "df_test['구'] = ''\n",
    "\n",
    "for i in range(len(df_test)):\n",
    "    df_test.iloc[i, 11] = df_test.iloc[i, 0].split()[1]\n",
    "\n",
    "df_test.drop(['시군구'], axis=1, inplace = True)"
   ]
  },
  {
   "cell_type": "code",
   "execution_count": 446,
   "id": "3e70653b",
   "metadata": {
    "ExecuteTime": {
     "end_time": "2023-11-25T14:56:28.295515Z",
     "start_time": "2023-11-25T14:56:28.266786Z"
    }
   },
   "outputs": [],
   "source": [
    "df_train = pd.concat([df_train, pd.get_dummies(df_train['구'])], axis=1)\n",
    "\n",
    "df_test = pd.concat([df_test, pd.get_dummies(df_test['구'])], axis=1)"
   ]
  },
  {
   "cell_type": "code",
   "execution_count": 447,
   "id": "a0fe7553",
   "metadata": {
    "ExecuteTime": {
     "end_time": "2023-11-25T14:56:28.327188Z",
     "start_time": "2023-11-25T14:56:28.298436Z"
    }
   },
   "outputs": [
    {
     "data": {
      "text/html": [
       "<div>\n",
       "<style scoped>\n",
       "    .dataframe tbody tr th:only-of-type {\n",
       "        vertical-align: middle;\n",
       "    }\n",
       "\n",
       "    .dataframe tbody tr th {\n",
       "        vertical-align: top;\n",
       "    }\n",
       "\n",
       "    .dataframe thead th {\n",
       "        text-align: right;\n",
       "    }\n",
       "</style>\n",
       "<table border=\"1\" class=\"dataframe\">\n",
       "  <thead>\n",
       "    <tr style=\"text-align: right;\">\n",
       "      <th></th>\n",
       "      <th>도로형태</th>\n",
       "      <th>노면상태</th>\n",
       "      <th>사고유형</th>\n",
       "      <th>사망자수</th>\n",
       "      <th>중상자수</th>\n",
       "      <th>경상자수</th>\n",
       "      <th>부상자수</th>\n",
       "      <th>주말</th>\n",
       "      <th>평일</th>\n",
       "      <th>기타</th>\n",
       "      <th>...</th>\n",
       "      <th>흐림</th>\n",
       "      <th>구</th>\n",
       "      <th>남구</th>\n",
       "      <th>달서구</th>\n",
       "      <th>달성군</th>\n",
       "      <th>동구</th>\n",
       "      <th>북구</th>\n",
       "      <th>서구</th>\n",
       "      <th>수성구</th>\n",
       "      <th>중구</th>\n",
       "    </tr>\n",
       "  </thead>\n",
       "  <tbody>\n",
       "    <tr>\n",
       "      <th>0</th>\n",
       "      <td>단일로 - 기타</td>\n",
       "      <td>건조</td>\n",
       "      <td>차대사람</td>\n",
       "      <td>0</td>\n",
       "      <td>1</td>\n",
       "      <td>0</td>\n",
       "      <td>0</td>\n",
       "      <td>0</td>\n",
       "      <td>1</td>\n",
       "      <td>0</td>\n",
       "      <td>...</td>\n",
       "      <td>0</td>\n",
       "      <td>중구</td>\n",
       "      <td>0</td>\n",
       "      <td>0</td>\n",
       "      <td>0</td>\n",
       "      <td>0</td>\n",
       "      <td>0</td>\n",
       "      <td>0</td>\n",
       "      <td>0</td>\n",
       "      <td>1</td>\n",
       "    </tr>\n",
       "    <tr>\n",
       "      <th>1</th>\n",
       "      <td>단일로 - 기타</td>\n",
       "      <td>건조</td>\n",
       "      <td>차대사람</td>\n",
       "      <td>0</td>\n",
       "      <td>0</td>\n",
       "      <td>1</td>\n",
       "      <td>0</td>\n",
       "      <td>0</td>\n",
       "      <td>1</td>\n",
       "      <td>0</td>\n",
       "      <td>...</td>\n",
       "      <td>1</td>\n",
       "      <td>달서구</td>\n",
       "      <td>0</td>\n",
       "      <td>1</td>\n",
       "      <td>0</td>\n",
       "      <td>0</td>\n",
       "      <td>0</td>\n",
       "      <td>0</td>\n",
       "      <td>0</td>\n",
       "      <td>0</td>\n",
       "    </tr>\n",
       "    <tr>\n",
       "      <th>2</th>\n",
       "      <td>단일로 - 기타</td>\n",
       "      <td>건조</td>\n",
       "      <td>차대사람</td>\n",
       "      <td>0</td>\n",
       "      <td>0</td>\n",
       "      <td>1</td>\n",
       "      <td>0</td>\n",
       "      <td>0</td>\n",
       "      <td>1</td>\n",
       "      <td>0</td>\n",
       "      <td>...</td>\n",
       "      <td>0</td>\n",
       "      <td>수성구</td>\n",
       "      <td>0</td>\n",
       "      <td>0</td>\n",
       "      <td>0</td>\n",
       "      <td>0</td>\n",
       "      <td>0</td>\n",
       "      <td>0</td>\n",
       "      <td>1</td>\n",
       "      <td>0</td>\n",
       "    </tr>\n",
       "    <tr>\n",
       "      <th>3</th>\n",
       "      <td>단일로 - 기타</td>\n",
       "      <td>건조</td>\n",
       "      <td>차대차</td>\n",
       "      <td>0</td>\n",
       "      <td>1</td>\n",
       "      <td>0</td>\n",
       "      <td>0</td>\n",
       "      <td>0</td>\n",
       "      <td>1</td>\n",
       "      <td>0</td>\n",
       "      <td>...</td>\n",
       "      <td>0</td>\n",
       "      <td>북구</td>\n",
       "      <td>0</td>\n",
       "      <td>0</td>\n",
       "      <td>0</td>\n",
       "      <td>0</td>\n",
       "      <td>1</td>\n",
       "      <td>0</td>\n",
       "      <td>0</td>\n",
       "      <td>0</td>\n",
       "    </tr>\n",
       "    <tr>\n",
       "      <th>4</th>\n",
       "      <td>단일로 - 기타</td>\n",
       "      <td>건조</td>\n",
       "      <td>차대차</td>\n",
       "      <td>0</td>\n",
       "      <td>0</td>\n",
       "      <td>1</td>\n",
       "      <td>0</td>\n",
       "      <td>0</td>\n",
       "      <td>1</td>\n",
       "      <td>0</td>\n",
       "      <td>...</td>\n",
       "      <td>0</td>\n",
       "      <td>동구</td>\n",
       "      <td>0</td>\n",
       "      <td>0</td>\n",
       "      <td>0</td>\n",
       "      <td>1</td>\n",
       "      <td>0</td>\n",
       "      <td>0</td>\n",
       "      <td>0</td>\n",
       "      <td>0</td>\n",
       "    </tr>\n",
       "  </tbody>\n",
       "</table>\n",
       "<p>5 rows × 23 columns</p>\n",
       "</div>"
      ],
      "text/plain": [
       "       도로형태 노면상태  사고유형  사망자수  중상자수  경상자수  부상자수  주말  평일  기타  ...  흐림    구  남구  \\\n",
       "0  단일로 - 기타   건조  차대사람     0     1     0     0   0   1   0  ...   0   중구   0   \n",
       "1  단일로 - 기타   건조  차대사람     0     0     1     0   0   1   0  ...   1  달서구   0   \n",
       "2  단일로 - 기타   건조  차대사람     0     0     1     0   0   1   0  ...   0  수성구   0   \n",
       "3  단일로 - 기타   건조   차대차     0     1     0     0   0   1   0  ...   0   북구   0   \n",
       "4  단일로 - 기타   건조   차대차     0     0     1     0   0   1   0  ...   0   동구   0   \n",
       "\n",
       "   달서구 달성군  동구  북구  서구  수성구  중구  \n",
       "0    0   0   0   0   0    0   1  \n",
       "1    1   0   0   0   0    0   0  \n",
       "2    0   0   0   0   0    1   0  \n",
       "3    0   0   0   1   0    0   0  \n",
       "4    0   0   1   0   0    0   0  \n",
       "\n",
       "[5 rows x 23 columns]"
      ]
     },
     "execution_count": 447,
     "metadata": {},
     "output_type": "execute_result"
    }
   ],
   "source": [
    "df_train.head()"
   ]
  },
  {
   "cell_type": "code",
   "execution_count": 448,
   "id": "6686cd53",
   "metadata": {
    "ExecuteTime": {
     "end_time": "2023-11-25T14:56:28.359226Z",
     "start_time": "2023-11-25T14:56:28.330188Z"
    }
   },
   "outputs": [
    {
     "data": {
      "text/html": [
       "<div>\n",
       "<style scoped>\n",
       "    .dataframe tbody tr th:only-of-type {\n",
       "        vertical-align: middle;\n",
       "    }\n",
       "\n",
       "    .dataframe tbody tr th {\n",
       "        vertical-align: top;\n",
       "    }\n",
       "\n",
       "    .dataframe thead th {\n",
       "        text-align: right;\n",
       "    }\n",
       "</style>\n",
       "<table border=\"1\" class=\"dataframe\">\n",
       "  <thead>\n",
       "    <tr style=\"text-align: right;\">\n",
       "      <th></th>\n",
       "      <th>도로형태</th>\n",
       "      <th>노면상태</th>\n",
       "      <th>사고유형</th>\n",
       "      <th>주말</th>\n",
       "      <th>평일</th>\n",
       "      <th>기타</th>\n",
       "      <th>눈</th>\n",
       "      <th>맑음</th>\n",
       "      <th>비</th>\n",
       "      <th>흐림</th>\n",
       "      <th>구</th>\n",
       "      <th>남구</th>\n",
       "      <th>달서구</th>\n",
       "      <th>달성군</th>\n",
       "      <th>동구</th>\n",
       "      <th>북구</th>\n",
       "      <th>서구</th>\n",
       "      <th>수성구</th>\n",
       "      <th>중구</th>\n",
       "    </tr>\n",
       "  </thead>\n",
       "  <tbody>\n",
       "    <tr>\n",
       "      <th>0</th>\n",
       "      <td>교차로 - 교차로안</td>\n",
       "      <td>건조</td>\n",
       "      <td>차대사람</td>\n",
       "      <td>1</td>\n",
       "      <td>0</td>\n",
       "      <td>0</td>\n",
       "      <td>0</td>\n",
       "      <td>1</td>\n",
       "      <td>0</td>\n",
       "      <td>0</td>\n",
       "      <td>수성구</td>\n",
       "      <td>0</td>\n",
       "      <td>0</td>\n",
       "      <td>0</td>\n",
       "      <td>0</td>\n",
       "      <td>0</td>\n",
       "      <td>0</td>\n",
       "      <td>1</td>\n",
       "      <td>0</td>\n",
       "    </tr>\n",
       "    <tr>\n",
       "      <th>1</th>\n",
       "      <td>단일로 - 기타</td>\n",
       "      <td>건조</td>\n",
       "      <td>차대사람</td>\n",
       "      <td>1</td>\n",
       "      <td>0</td>\n",
       "      <td>0</td>\n",
       "      <td>0</td>\n",
       "      <td>1</td>\n",
       "      <td>0</td>\n",
       "      <td>0</td>\n",
       "      <td>수성구</td>\n",
       "      <td>0</td>\n",
       "      <td>0</td>\n",
       "      <td>0</td>\n",
       "      <td>0</td>\n",
       "      <td>0</td>\n",
       "      <td>0</td>\n",
       "      <td>1</td>\n",
       "      <td>0</td>\n",
       "    </tr>\n",
       "    <tr>\n",
       "      <th>2</th>\n",
       "      <td>교차로 - 교차로안</td>\n",
       "      <td>건조</td>\n",
       "      <td>차대차</td>\n",
       "      <td>1</td>\n",
       "      <td>0</td>\n",
       "      <td>0</td>\n",
       "      <td>0</td>\n",
       "      <td>1</td>\n",
       "      <td>0</td>\n",
       "      <td>0</td>\n",
       "      <td>수성구</td>\n",
       "      <td>0</td>\n",
       "      <td>0</td>\n",
       "      <td>0</td>\n",
       "      <td>0</td>\n",
       "      <td>0</td>\n",
       "      <td>0</td>\n",
       "      <td>1</td>\n",
       "      <td>0</td>\n",
       "    </tr>\n",
       "    <tr>\n",
       "      <th>3</th>\n",
       "      <td>단일로 - 기타</td>\n",
       "      <td>건조</td>\n",
       "      <td>차대차</td>\n",
       "      <td>1</td>\n",
       "      <td>0</td>\n",
       "      <td>0</td>\n",
       "      <td>0</td>\n",
       "      <td>1</td>\n",
       "      <td>0</td>\n",
       "      <td>0</td>\n",
       "      <td>수성구</td>\n",
       "      <td>0</td>\n",
       "      <td>0</td>\n",
       "      <td>0</td>\n",
       "      <td>0</td>\n",
       "      <td>0</td>\n",
       "      <td>0</td>\n",
       "      <td>1</td>\n",
       "      <td>0</td>\n",
       "    </tr>\n",
       "    <tr>\n",
       "      <th>4</th>\n",
       "      <td>교차로 - 교차로안</td>\n",
       "      <td>건조</td>\n",
       "      <td>차대차</td>\n",
       "      <td>1</td>\n",
       "      <td>0</td>\n",
       "      <td>0</td>\n",
       "      <td>0</td>\n",
       "      <td>1</td>\n",
       "      <td>0</td>\n",
       "      <td>0</td>\n",
       "      <td>달서구</td>\n",
       "      <td>0</td>\n",
       "      <td>1</td>\n",
       "      <td>0</td>\n",
       "      <td>0</td>\n",
       "      <td>0</td>\n",
       "      <td>0</td>\n",
       "      <td>0</td>\n",
       "      <td>0</td>\n",
       "    </tr>\n",
       "  </tbody>\n",
       "</table>\n",
       "</div>"
      ],
      "text/plain": [
       "         도로형태 노면상태  사고유형  주말  평일  기타  눈  맑음  비  흐림    구  남구  달서구  달성군  동구  북구  \\\n",
       "0  교차로 - 교차로안   건조  차대사람   1   0   0  0   1  0   0  수성구   0    0    0   0   0   \n",
       "1    단일로 - 기타   건조  차대사람   1   0   0  0   1  0   0  수성구   0    0    0   0   0   \n",
       "2  교차로 - 교차로안   건조   차대차   1   0   0  0   1  0   0  수성구   0    0    0   0   0   \n",
       "3    단일로 - 기타   건조   차대차   1   0   0  0   1  0   0  수성구   0    0    0   0   0   \n",
       "4  교차로 - 교차로안   건조   차대차   1   0   0  0   1  0   0  달서구   0    1    0   0   0   \n",
       "\n",
       "   서구  수성구  중구  \n",
       "0   0    1   0  \n",
       "1   0    1   0  \n",
       "2   0    1   0  \n",
       "3   0    1   0  \n",
       "4   0    0   0  "
      ]
     },
     "execution_count": 448,
     "metadata": {},
     "output_type": "execute_result"
    }
   ],
   "source": [
    "df_test.head()"
   ]
  },
  {
   "cell_type": "markdown",
   "id": "a660fd2f",
   "metadata": {},
   "source": [
    "# 도로형태"
   ]
  },
  {
   "cell_type": "code",
   "execution_count": 143,
   "id": "fd039c8d",
   "metadata": {
    "ExecuteTime": {
     "end_time": "2023-11-25T11:21:18.875884Z",
     "start_time": "2023-11-25T11:21:18.855744Z"
    }
   },
   "outputs": [
    {
     "data": {
      "text/plain": [
       "단일로 - 기타           19485\n",
       "교차로 - 교차로안          9931\n",
       "교차로 - 교차로부근         5746\n",
       "기타 - 기타             1986\n",
       "교차로 - 교차로횡단보도내      1474\n",
       "단일로 - 지하차도(도로)내      309\n",
       "주차장 - 주차장            236\n",
       "단일로 - 교량             232\n",
       "단일로 - 고가도로위          138\n",
       "단일로 - 터널              64\n",
       "미분류 - 미분류              8\n",
       "Name: 도로형태, dtype: int64"
      ]
     },
     "execution_count": 143,
     "metadata": {},
     "output_type": "execute_result"
    }
   ],
   "source": [
    "df_train['도로형태'].value_counts()"
   ]
  },
  {
   "cell_type": "code",
   "execution_count": 146,
   "id": "bc64d466",
   "metadata": {
    "ExecuteTime": {
     "end_time": "2023-11-25T11:21:48.940091Z",
     "start_time": "2023-11-25T11:21:48.919812Z"
    }
   },
   "outputs": [
    {
     "data": {
      "text/plain": [
       "단일로 - 기타           5039\n",
       "교차로 - 교차로안         2540\n",
       "교차로 - 교차로부근        1673\n",
       "기타 - 기타             752\n",
       "교차로 - 교차로횡단보도내      480\n",
       "단일로 - 지하차도(도로)내     273\n",
       "단일로 - 교량             74\n",
       "주차장 - 주차장            64\n",
       "단일로 - 고가도로위          52\n",
       "단일로 - 터널             15\n",
       "미분류 - 미분류             1\n",
       "Name: 도로형태, dtype: int64"
      ]
     },
     "execution_count": 146,
     "metadata": {},
     "output_type": "execute_result"
    }
   ],
   "source": [
    "df_test['도로형태'].value_counts()"
   ]
  },
  {
   "cell_type": "code",
   "execution_count": 449,
   "id": "5da052a9",
   "metadata": {
    "ExecuteTime": {
     "end_time": "2023-11-25T15:17:28.991969Z",
     "start_time": "2023-11-25T15:17:28.955962Z"
    }
   },
   "outputs": [],
   "source": [
    "df_train = pd.concat([df_train, pd.get_dummies(df_train['도로형태'])], axis=1)\n",
    "df_test = pd.concat([df_test, pd.get_dummies(df_test['도로형태'])], axis=1)\n",
    "\n",
    "df_train.drop(['도로형태'], axis=1, inplace = True)\n",
    "df_test.drop(['도로형태'], axis=1, inplace = True)"
   ]
  },
  {
   "cell_type": "markdown",
   "id": "4a7dd5f5",
   "metadata": {},
   "source": [
    "# 노면상태"
   ]
  },
  {
   "cell_type": "code",
   "execution_count": 148,
   "id": "324c1b69",
   "metadata": {
    "ExecuteTime": {
     "end_time": "2023-11-25T11:24:06.134770Z",
     "start_time": "2023-11-25T11:24:06.119870Z"
    }
   },
   "outputs": [
    {
     "data": {
      "text/plain": [
       "건조       36420\n",
       "젖음/습기     3100\n",
       "기타          58\n",
       "서리/결빙       25\n",
       "침수           3\n",
       "적설           3\n",
       "Name: 노면상태, dtype: int64"
      ]
     },
     "execution_count": 148,
     "metadata": {},
     "output_type": "execute_result"
    }
   ],
   "source": [
    "df_train['노면상태'].value_counts()"
   ]
  },
  {
   "cell_type": "code",
   "execution_count": 149,
   "id": "19b0d096",
   "metadata": {
    "ExecuteTime": {
     "end_time": "2023-11-25T11:24:18.653614Z",
     "start_time": "2023-11-25T11:24:18.644348Z"
    }
   },
   "outputs": [
    {
     "data": {
      "text/plain": [
       "건조       10394\n",
       "젖음/습기      524\n",
       "기타          35\n",
       "서리/결빙        7\n",
       "침수           2\n",
       "적설           1\n",
       "Name: 노면상태, dtype: int64"
      ]
     },
     "execution_count": 149,
     "metadata": {},
     "output_type": "execute_result"
    }
   ],
   "source": [
    "df_test['노면상태'].value_counts()"
   ]
  },
  {
   "cell_type": "code",
   "execution_count": 453,
   "id": "814bdb10",
   "metadata": {
    "ExecuteTime": {
     "end_time": "2023-11-25T15:18:45.317673Z",
     "start_time": "2023-11-25T15:18:45.257918Z"
    }
   },
   "outputs": [],
   "source": [
    "df_train = pd.concat([df_train, pd.get_dummies(df_train['노면상태'])], axis=1)\n",
    "df_test = pd.concat([df_test, pd.get_dummies(df_test['노면상태'])], axis=1)\n",
    "\n",
    "df_train.drop(['노면상태'], axis=1, inplace = True)\n",
    "df_test.drop(['노면상태'], axis=1, inplace = True)"
   ]
  },
  {
   "cell_type": "markdown",
   "id": "eed6d64a",
   "metadata": {},
   "source": [
    "# 사고유형"
   ]
  },
  {
   "cell_type": "code",
   "execution_count": 152,
   "id": "dc912a70",
   "metadata": {
    "ExecuteTime": {
     "end_time": "2023-11-25T11:24:48.727389Z",
     "start_time": "2023-11-25T11:24:48.714827Z"
    }
   },
   "outputs": [
    {
     "data": {
      "text/plain": [
       "차대차     31785\n",
       "차대사람     6833\n",
       "차량단독      991\n",
       "Name: 사고유형, dtype: int64"
      ]
     },
     "execution_count": 152,
     "metadata": {},
     "output_type": "execute_result"
    }
   ],
   "source": [
    "df_train['사고유형'].value_counts()"
   ]
  },
  {
   "cell_type": "code",
   "execution_count": 153,
   "id": "73bf4efc",
   "metadata": {
    "ExecuteTime": {
     "end_time": "2023-11-25T11:24:58.235725Z",
     "start_time": "2023-11-25T11:24:58.227019Z"
    }
   },
   "outputs": [
    {
     "data": {
      "text/plain": [
       "차대차     8559\n",
       "차대사람    2079\n",
       "차량단독     325\n",
       "Name: 사고유형, dtype: int64"
      ]
     },
     "execution_count": 153,
     "metadata": {},
     "output_type": "execute_result"
    }
   ],
   "source": [
    "df_test['사고유형'].value_counts()"
   ]
  },
  {
   "cell_type": "code",
   "execution_count": 454,
   "id": "5baed318",
   "metadata": {
    "ExecuteTime": {
     "end_time": "2023-11-25T15:19:03.699157Z",
     "start_time": "2023-11-25T15:19:03.651521Z"
    }
   },
   "outputs": [],
   "source": [
    "df_train = pd.concat([df_train, pd.get_dummies(df_train['사고유형'])], axis=1)\n",
    "df_test = pd.concat([df_test, pd.get_dummies(df_test['사고유형'])], axis=1)\n",
    "\n",
    "df_train.drop(['사고유형'], axis=1, inplace = True)\n",
    "df_test.drop(['사고유형'], axis=1, inplace = True)"
   ]
  },
  {
   "cell_type": "code",
   "execution_count": 455,
   "id": "ba8193c1",
   "metadata": {
    "ExecuteTime": {
     "end_time": "2023-11-25T15:19:20.129886Z",
     "start_time": "2023-11-25T15:19:20.089148Z"
    }
   },
   "outputs": [
    {
     "data": {
      "text/html": [
       "<div>\n",
       "<style scoped>\n",
       "    .dataframe tbody tr th:only-of-type {\n",
       "        vertical-align: middle;\n",
       "    }\n",
       "\n",
       "    .dataframe tbody tr th {\n",
       "        vertical-align: top;\n",
       "    }\n",
       "\n",
       "    .dataframe thead th {\n",
       "        text-align: right;\n",
       "    }\n",
       "</style>\n",
       "<table border=\"1\" class=\"dataframe\">\n",
       "  <thead>\n",
       "    <tr style=\"text-align: right;\">\n",
       "      <th></th>\n",
       "      <th>사망자수</th>\n",
       "      <th>중상자수</th>\n",
       "      <th>경상자수</th>\n",
       "      <th>부상자수</th>\n",
       "      <th>주말</th>\n",
       "      <th>평일</th>\n",
       "      <th>기타</th>\n",
       "      <th>눈</th>\n",
       "      <th>맑음</th>\n",
       "      <th>비</th>\n",
       "      <th>...</th>\n",
       "      <th>주차장 - 주차장</th>\n",
       "      <th>건조</th>\n",
       "      <th>기타</th>\n",
       "      <th>서리/결빙</th>\n",
       "      <th>적설</th>\n",
       "      <th>젖음/습기</th>\n",
       "      <th>침수</th>\n",
       "      <th>차대사람</th>\n",
       "      <th>차대차</th>\n",
       "      <th>차량단독</th>\n",
       "    </tr>\n",
       "  </thead>\n",
       "  <tbody>\n",
       "    <tr>\n",
       "      <th>0</th>\n",
       "      <td>0</td>\n",
       "      <td>1</td>\n",
       "      <td>0</td>\n",
       "      <td>0</td>\n",
       "      <td>0</td>\n",
       "      <td>1</td>\n",
       "      <td>0</td>\n",
       "      <td>0</td>\n",
       "      <td>1</td>\n",
       "      <td>0</td>\n",
       "      <td>...</td>\n",
       "      <td>0</td>\n",
       "      <td>1</td>\n",
       "      <td>0</td>\n",
       "      <td>0</td>\n",
       "      <td>0</td>\n",
       "      <td>0</td>\n",
       "      <td>0</td>\n",
       "      <td>1</td>\n",
       "      <td>0</td>\n",
       "      <td>0</td>\n",
       "    </tr>\n",
       "    <tr>\n",
       "      <th>1</th>\n",
       "      <td>0</td>\n",
       "      <td>0</td>\n",
       "      <td>1</td>\n",
       "      <td>0</td>\n",
       "      <td>0</td>\n",
       "      <td>1</td>\n",
       "      <td>0</td>\n",
       "      <td>0</td>\n",
       "      <td>0</td>\n",
       "      <td>0</td>\n",
       "      <td>...</td>\n",
       "      <td>0</td>\n",
       "      <td>1</td>\n",
       "      <td>0</td>\n",
       "      <td>0</td>\n",
       "      <td>0</td>\n",
       "      <td>0</td>\n",
       "      <td>0</td>\n",
       "      <td>1</td>\n",
       "      <td>0</td>\n",
       "      <td>0</td>\n",
       "    </tr>\n",
       "    <tr>\n",
       "      <th>2</th>\n",
       "      <td>0</td>\n",
       "      <td>0</td>\n",
       "      <td>1</td>\n",
       "      <td>0</td>\n",
       "      <td>0</td>\n",
       "      <td>1</td>\n",
       "      <td>0</td>\n",
       "      <td>0</td>\n",
       "      <td>1</td>\n",
       "      <td>0</td>\n",
       "      <td>...</td>\n",
       "      <td>0</td>\n",
       "      <td>1</td>\n",
       "      <td>0</td>\n",
       "      <td>0</td>\n",
       "      <td>0</td>\n",
       "      <td>0</td>\n",
       "      <td>0</td>\n",
       "      <td>1</td>\n",
       "      <td>0</td>\n",
       "      <td>0</td>\n",
       "    </tr>\n",
       "    <tr>\n",
       "      <th>3</th>\n",
       "      <td>0</td>\n",
       "      <td>1</td>\n",
       "      <td>0</td>\n",
       "      <td>0</td>\n",
       "      <td>0</td>\n",
       "      <td>1</td>\n",
       "      <td>0</td>\n",
       "      <td>0</td>\n",
       "      <td>1</td>\n",
       "      <td>0</td>\n",
       "      <td>...</td>\n",
       "      <td>0</td>\n",
       "      <td>1</td>\n",
       "      <td>0</td>\n",
       "      <td>0</td>\n",
       "      <td>0</td>\n",
       "      <td>0</td>\n",
       "      <td>0</td>\n",
       "      <td>0</td>\n",
       "      <td>1</td>\n",
       "      <td>0</td>\n",
       "    </tr>\n",
       "    <tr>\n",
       "      <th>4</th>\n",
       "      <td>0</td>\n",
       "      <td>0</td>\n",
       "      <td>1</td>\n",
       "      <td>0</td>\n",
       "      <td>0</td>\n",
       "      <td>1</td>\n",
       "      <td>0</td>\n",
       "      <td>0</td>\n",
       "      <td>1</td>\n",
       "      <td>0</td>\n",
       "      <td>...</td>\n",
       "      <td>0</td>\n",
       "      <td>1</td>\n",
       "      <td>0</td>\n",
       "      <td>0</td>\n",
       "      <td>0</td>\n",
       "      <td>0</td>\n",
       "      <td>0</td>\n",
       "      <td>0</td>\n",
       "      <td>1</td>\n",
       "      <td>0</td>\n",
       "    </tr>\n",
       "  </tbody>\n",
       "</table>\n",
       "<p>5 rows × 40 columns</p>\n",
       "</div>"
      ],
      "text/plain": [
       "   사망자수  중상자수  경상자수  부상자수  주말  평일  기타  눈  맑음  비  ...  주차장 - 주차장 건조  기타  서리/결빙  \\\n",
       "0     0     1     0     0   0   1   0  0   1  0  ...          0  1   0      0   \n",
       "1     0     0     1     0   0   1   0  0   0  0  ...          0  1   0      0   \n",
       "2     0     0     1     0   0   1   0  0   1  0  ...          0  1   0      0   \n",
       "3     0     1     0     0   0   1   0  0   1  0  ...          0  1   0      0   \n",
       "4     0     0     1     0   0   1   0  0   1  0  ...          0  1   0      0   \n",
       "\n",
       "   적설  젖음/습기  침수  차대사람  차대차  차량단독  \n",
       "0   0      0   0     1    0     0  \n",
       "1   0      0   0     1    0     0  \n",
       "2   0      0   0     1    0     0  \n",
       "3   0      0   0     0    1     0  \n",
       "4   0      0   0     0    1     0  \n",
       "\n",
       "[5 rows x 40 columns]"
      ]
     },
     "execution_count": 455,
     "metadata": {},
     "output_type": "execute_result"
    }
   ],
   "source": [
    "df_train.head()"
   ]
  },
  {
   "cell_type": "code",
   "execution_count": 456,
   "id": "b8644f71",
   "metadata": {
    "ExecuteTime": {
     "end_time": "2023-11-25T15:19:58.244738Z",
     "start_time": "2023-11-25T15:19:57.745390Z"
    }
   },
   "outputs": [],
   "source": [
    "df_train.to_csv(\"../data/df_train.csv\", encoding='utf-8')\n",
    "df_test.to_csv(\"../data/df_test.csv\", encoding='utf-8')"
   ]
  }
 ],
 "metadata": {
  "hide_input": false,
  "kernelspec": {
   "display_name": "Python 3 (ipykernel)",
   "language": "python",
   "name": "python3"
  },
  "language_info": {
   "codemirror_mode": {
    "name": "ipython",
    "version": 3
   },
   "file_extension": ".py",
   "mimetype": "text/x-python",
   "name": "python",
   "nbconvert_exporter": "python",
   "pygments_lexer": "ipython3",
   "version": "3.9.12"
  },
  "toc": {
   "base_numbering": 1,
   "nav_menu": {},
   "number_sections": true,
   "sideBar": true,
   "skip_h1_title": false,
   "title_cell": "Table of Contents",
   "title_sidebar": "Contents",
   "toc_cell": false,
   "toc_position": {},
   "toc_section_display": true,
   "toc_window_display": true
  },
  "varInspector": {
   "cols": {
    "lenName": 16,
    "lenType": 16,
    "lenVar": 40
   },
   "kernels_config": {
    "python": {
     "delete_cmd_postfix": "",
     "delete_cmd_prefix": "del ",
     "library": "var_list.py",
     "varRefreshCmd": "print(var_dic_list())"
    },
    "r": {
     "delete_cmd_postfix": ") ",
     "delete_cmd_prefix": "rm(",
     "library": "var_list.r",
     "varRefreshCmd": "cat(var_dic_list()) "
    }
   },
   "types_to_exclude": [
    "module",
    "function",
    "builtin_function_or_method",
    "instance",
    "_Feature"
   ],
   "window_display": false
  }
 },
 "nbformat": 4,
 "nbformat_minor": 5
}
