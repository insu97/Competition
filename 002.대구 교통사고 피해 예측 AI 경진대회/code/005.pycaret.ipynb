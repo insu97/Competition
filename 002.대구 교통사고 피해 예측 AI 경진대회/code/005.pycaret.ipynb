{
 "cells": [
  {
   "cell_type": "code",
   "execution_count": 1,
   "id": "5b7fb823",
   "metadata": {
    "ExecuteTime": {
     "end_time": "2023-11-30T13:59:37.966943Z",
     "start_time": "2023-11-30T13:59:18.797870Z"
    }
   },
   "outputs": [],
   "source": [
    "import numpy as np\n",
    "import pandas as pd\n",
    "import tensorflow as tf\n",
    "import matplotlib.pyplot as plt\n",
    "\n",
    "from sklearn.model_selection import train_test_split\n",
    "\n",
    "plt.rc('font', family='Malgun Gothic')  # 폰트 지정\n",
    "plt.rc('axes', unicode_minus=False)  # 마이너스 폰트 설정\n",
    "%config InlineBackend.figure_format = 'retina'  # 그래프 글씨 뚜렷\n",
    "\n",
    "df_train = pd.read_csv(\"../data/df_train.csv\")\n",
    "df_test = pd.read_csv(\"../data/df_test.csv\")\n",
    "\n",
    "df_train['target'] = df_train['사망자수']*10 + df_train['중상자수']*5 + df_train['경상자수']*3 + df_train['부상자수']\n",
    "df_train.drop(columns = ['사망자수','중상자수','경상자수','부상자수'], axis=1, inplace = True)\n",
    "\n",
    "X = df_train.drop(columns = 'target',axis=1)\n",
    "y = df_train['target']\n",
    "\n",
    "x_train, x_test, y_train , y_test = train_test_split(X, y, test_size = 0.3, random_state=42 )"
   ]
  },
  {
   "cell_type": "markdown",
   "id": "69901c52",
   "metadata": {},
   "source": [
    "# pycaret"
   ]
  },
  {
   "cell_type": "code",
   "execution_count": 2,
   "id": "b11976cb",
   "metadata": {
    "ExecuteTime": {
     "end_time": "2023-11-30T13:59:49.675723Z",
     "start_time": "2023-11-30T13:59:38.458470Z"
    }
   },
   "outputs": [],
   "source": [
    "# 필요한 라이브러리 불러오기\n",
    "from pycaret.regression import *"
   ]
  },
  {
   "cell_type": "code",
   "execution_count": 3,
   "id": "fdc7c022",
   "metadata": {
    "ExecuteTime": {
     "end_time": "2023-11-30T13:59:58.894549Z",
     "start_time": "2023-11-30T13:59:52.677668Z"
    }
   },
   "outputs": [
    {
     "data": {
      "text/html": [
       "<style type=\"text/css\">\n",
       "#T_dcd77_row8_col1 {\n",
       "  background-color: lightgreen;\n",
       "}\n",
       "</style>\n",
       "<table id=\"T_dcd77\">\n",
       "  <thead>\n",
       "    <tr>\n",
       "      <th class=\"blank level0\" >&nbsp;</th>\n",
       "      <th id=\"T_dcd77_level0_col0\" class=\"col_heading level0 col0\" >Description</th>\n",
       "      <th id=\"T_dcd77_level0_col1\" class=\"col_heading level0 col1\" >Value</th>\n",
       "    </tr>\n",
       "  </thead>\n",
       "  <tbody>\n",
       "    <tr>\n",
       "      <th id=\"T_dcd77_level0_row0\" class=\"row_heading level0 row0\" >0</th>\n",
       "      <td id=\"T_dcd77_row0_col0\" class=\"data row0 col0\" >Session id</td>\n",
       "      <td id=\"T_dcd77_row0_col1\" class=\"data row0 col1\" >42</td>\n",
       "    </tr>\n",
       "    <tr>\n",
       "      <th id=\"T_dcd77_level0_row1\" class=\"row_heading level0 row1\" >1</th>\n",
       "      <td id=\"T_dcd77_row1_col0\" class=\"data row1 col0\" >Target</td>\n",
       "      <td id=\"T_dcd77_row1_col1\" class=\"data row1 col1\" >target</td>\n",
       "    </tr>\n",
       "    <tr>\n",
       "      <th id=\"T_dcd77_level0_row2\" class=\"row_heading level0 row2\" >2</th>\n",
       "      <td id=\"T_dcd77_row2_col0\" class=\"data row2 col0\" >Target type</td>\n",
       "      <td id=\"T_dcd77_row2_col1\" class=\"data row2 col1\" >Regression</td>\n",
       "    </tr>\n",
       "    <tr>\n",
       "      <th id=\"T_dcd77_level0_row3\" class=\"row_heading level0 row3\" >3</th>\n",
       "      <td id=\"T_dcd77_row3_col0\" class=\"data row3 col0\" >Original data shape</td>\n",
       "      <td id=\"T_dcd77_row3_col1\" class=\"data row3 col1\" >(39601, 32)</td>\n",
       "    </tr>\n",
       "    <tr>\n",
       "      <th id=\"T_dcd77_level0_row4\" class=\"row_heading level0 row4\" >4</th>\n",
       "      <td id=\"T_dcd77_row4_col0\" class=\"data row4 col0\" >Transformed data shape</td>\n",
       "      <td id=\"T_dcd77_row4_col1\" class=\"data row4 col1\" >(39601, 32)</td>\n",
       "    </tr>\n",
       "    <tr>\n",
       "      <th id=\"T_dcd77_level0_row5\" class=\"row_heading level0 row5\" >5</th>\n",
       "      <td id=\"T_dcd77_row5_col0\" class=\"data row5 col0\" >Transformed train set shape</td>\n",
       "      <td id=\"T_dcd77_row5_col1\" class=\"data row5 col1\" >(27720, 32)</td>\n",
       "    </tr>\n",
       "    <tr>\n",
       "      <th id=\"T_dcd77_level0_row6\" class=\"row_heading level0 row6\" >6</th>\n",
       "      <td id=\"T_dcd77_row6_col0\" class=\"data row6 col0\" >Transformed test set shape</td>\n",
       "      <td id=\"T_dcd77_row6_col1\" class=\"data row6 col1\" >(11881, 32)</td>\n",
       "    </tr>\n",
       "    <tr>\n",
       "      <th id=\"T_dcd77_level0_row7\" class=\"row_heading level0 row7\" >7</th>\n",
       "      <td id=\"T_dcd77_row7_col0\" class=\"data row7 col0\" >Numeric features</td>\n",
       "      <td id=\"T_dcd77_row7_col1\" class=\"data row7 col1\" >31</td>\n",
       "    </tr>\n",
       "    <tr>\n",
       "      <th id=\"T_dcd77_level0_row8\" class=\"row_heading level0 row8\" >8</th>\n",
       "      <td id=\"T_dcd77_row8_col0\" class=\"data row8 col0\" >Preprocess</td>\n",
       "      <td id=\"T_dcd77_row8_col1\" class=\"data row8 col1\" >True</td>\n",
       "    </tr>\n",
       "    <tr>\n",
       "      <th id=\"T_dcd77_level0_row9\" class=\"row_heading level0 row9\" >9</th>\n",
       "      <td id=\"T_dcd77_row9_col0\" class=\"data row9 col0\" >Imputation type</td>\n",
       "      <td id=\"T_dcd77_row9_col1\" class=\"data row9 col1\" >simple</td>\n",
       "    </tr>\n",
       "    <tr>\n",
       "      <th id=\"T_dcd77_level0_row10\" class=\"row_heading level0 row10\" >10</th>\n",
       "      <td id=\"T_dcd77_row10_col0\" class=\"data row10 col0\" >Numeric imputation</td>\n",
       "      <td id=\"T_dcd77_row10_col1\" class=\"data row10 col1\" >mean</td>\n",
       "    </tr>\n",
       "    <tr>\n",
       "      <th id=\"T_dcd77_level0_row11\" class=\"row_heading level0 row11\" >11</th>\n",
       "      <td id=\"T_dcd77_row11_col0\" class=\"data row11 col0\" >Categorical imputation</td>\n",
       "      <td id=\"T_dcd77_row11_col1\" class=\"data row11 col1\" >mode</td>\n",
       "    </tr>\n",
       "    <tr>\n",
       "      <th id=\"T_dcd77_level0_row12\" class=\"row_heading level0 row12\" >12</th>\n",
       "      <td id=\"T_dcd77_row12_col0\" class=\"data row12 col0\" >Fold Generator</td>\n",
       "      <td id=\"T_dcd77_row12_col1\" class=\"data row12 col1\" >KFold</td>\n",
       "    </tr>\n",
       "    <tr>\n",
       "      <th id=\"T_dcd77_level0_row13\" class=\"row_heading level0 row13\" >13</th>\n",
       "      <td id=\"T_dcd77_row13_col0\" class=\"data row13 col0\" >Fold Number</td>\n",
       "      <td id=\"T_dcd77_row13_col1\" class=\"data row13 col1\" >10</td>\n",
       "    </tr>\n",
       "    <tr>\n",
       "      <th id=\"T_dcd77_level0_row14\" class=\"row_heading level0 row14\" >14</th>\n",
       "      <td id=\"T_dcd77_row14_col0\" class=\"data row14 col0\" >CPU Jobs</td>\n",
       "      <td id=\"T_dcd77_row14_col1\" class=\"data row14 col1\" >-1</td>\n",
       "    </tr>\n",
       "    <tr>\n",
       "      <th id=\"T_dcd77_level0_row15\" class=\"row_heading level0 row15\" >15</th>\n",
       "      <td id=\"T_dcd77_row15_col0\" class=\"data row15 col0\" >Use GPU</td>\n",
       "      <td id=\"T_dcd77_row15_col1\" class=\"data row15 col1\" >False</td>\n",
       "    </tr>\n",
       "    <tr>\n",
       "      <th id=\"T_dcd77_level0_row16\" class=\"row_heading level0 row16\" >16</th>\n",
       "      <td id=\"T_dcd77_row16_col0\" class=\"data row16 col0\" >Log Experiment</td>\n",
       "      <td id=\"T_dcd77_row16_col1\" class=\"data row16 col1\" >False</td>\n",
       "    </tr>\n",
       "    <tr>\n",
       "      <th id=\"T_dcd77_level0_row17\" class=\"row_heading level0 row17\" >17</th>\n",
       "      <td id=\"T_dcd77_row17_col0\" class=\"data row17 col0\" >Experiment Name</td>\n",
       "      <td id=\"T_dcd77_row17_col1\" class=\"data row17 col1\" >reg-default-name</td>\n",
       "    </tr>\n",
       "    <tr>\n",
       "      <th id=\"T_dcd77_level0_row18\" class=\"row_heading level0 row18\" >18</th>\n",
       "      <td id=\"T_dcd77_row18_col0\" class=\"data row18 col0\" >USI</td>\n",
       "      <td id=\"T_dcd77_row18_col1\" class=\"data row18 col1\" >d32c</td>\n",
       "    </tr>\n",
       "  </tbody>\n",
       "</table>\n"
      ],
      "text/plain": [
       "<pandas.io.formats.style.Styler at 0x20bd4e32e50>"
      ]
     },
     "metadata": {},
     "output_type": "display_data"
    }
   ],
   "source": [
    "# PyCaret 설정\n",
    "reg = setup(data=df_train, target='target', session_id=42)"
   ]
  },
  {
   "cell_type": "code",
   "execution_count": 4,
   "id": "61c1dfe1",
   "metadata": {
    "ExecuteTime": {
     "end_time": "2023-11-30T14:01:10.817277Z",
     "start_time": "2023-11-30T14:00:00.977377Z"
    }
   },
   "outputs": [
    {
     "data": {
      "text/html": [],
      "text/plain": [
       "<IPython.core.display.HTML object>"
      ]
     },
     "metadata": {},
     "output_type": "display_data"
    },
    {
     "data": {
      "text/html": [
       "<style type=\"text/css\">\n",
       "#T_5a9c3 th {\n",
       "  text-align: left;\n",
       "}\n",
       "#T_5a9c3_row0_col0, #T_5a9c3_row0_col1, #T_5a9c3_row0_col5, #T_5a9c3_row0_col6, #T_5a9c3_row1_col0, #T_5a9c3_row1_col1, #T_5a9c3_row1_col2, #T_5a9c3_row1_col3, #T_5a9c3_row1_col4, #T_5a9c3_row1_col5, #T_5a9c3_row1_col6, #T_5a9c3_row2_col0, #T_5a9c3_row2_col1, #T_5a9c3_row2_col2, #T_5a9c3_row2_col3, #T_5a9c3_row2_col4, #T_5a9c3_row2_col5, #T_5a9c3_row2_col6, #T_5a9c3_row3_col0, #T_5a9c3_row3_col1, #T_5a9c3_row3_col2, #T_5a9c3_row3_col3, #T_5a9c3_row3_col4, #T_5a9c3_row3_col5, #T_5a9c3_row3_col6, #T_5a9c3_row4_col0, #T_5a9c3_row4_col1, #T_5a9c3_row4_col2, #T_5a9c3_row4_col3, #T_5a9c3_row4_col4, #T_5a9c3_row4_col5, #T_5a9c3_row4_col6, #T_5a9c3_row5_col0, #T_5a9c3_row5_col1, #T_5a9c3_row5_col2, #T_5a9c3_row5_col3, #T_5a9c3_row5_col4, #T_5a9c3_row5_col5, #T_5a9c3_row5_col6, #T_5a9c3_row6_col0, #T_5a9c3_row6_col1, #T_5a9c3_row6_col2, #T_5a9c3_row6_col3, #T_5a9c3_row6_col4, #T_5a9c3_row6_col5, #T_5a9c3_row6_col6, #T_5a9c3_row7_col0, #T_5a9c3_row7_col1, #T_5a9c3_row7_col2, #T_5a9c3_row7_col3, #T_5a9c3_row7_col4, #T_5a9c3_row7_col5, #T_5a9c3_row7_col6, #T_5a9c3_row8_col0, #T_5a9c3_row8_col1, #T_5a9c3_row8_col2, #T_5a9c3_row8_col3, #T_5a9c3_row8_col4, #T_5a9c3_row8_col5, #T_5a9c3_row8_col6, #T_5a9c3_row9_col0, #T_5a9c3_row9_col1, #T_5a9c3_row9_col2, #T_5a9c3_row9_col3, #T_5a9c3_row9_col4, #T_5a9c3_row9_col5, #T_5a9c3_row9_col6, #T_5a9c3_row10_col0, #T_5a9c3_row10_col1, #T_5a9c3_row10_col2, #T_5a9c3_row10_col3, #T_5a9c3_row10_col4, #T_5a9c3_row10_col5, #T_5a9c3_row10_col6, #T_5a9c3_row11_col0, #T_5a9c3_row11_col1, #T_5a9c3_row11_col2, #T_5a9c3_row11_col3, #T_5a9c3_row11_col4, #T_5a9c3_row11_col5, #T_5a9c3_row11_col6, #T_5a9c3_row12_col0, #T_5a9c3_row12_col1, #T_5a9c3_row12_col2, #T_5a9c3_row12_col3, #T_5a9c3_row12_col4, #T_5a9c3_row12_col5, #T_5a9c3_row12_col6, #T_5a9c3_row13_col0, #T_5a9c3_row13_col1, #T_5a9c3_row13_col2, #T_5a9c3_row13_col3, #T_5a9c3_row13_col4, #T_5a9c3_row13_col5, #T_5a9c3_row13_col6, #T_5a9c3_row14_col0, #T_5a9c3_row14_col1, #T_5a9c3_row14_col2, #T_5a9c3_row14_col3, #T_5a9c3_row14_col4, #T_5a9c3_row14_col5, #T_5a9c3_row14_col6, #T_5a9c3_row15_col0, #T_5a9c3_row15_col1, #T_5a9c3_row15_col2, #T_5a9c3_row15_col3, #T_5a9c3_row15_col4, #T_5a9c3_row15_col5, #T_5a9c3_row15_col6, #T_5a9c3_row16_col0, #T_5a9c3_row16_col2, #T_5a9c3_row16_col3, #T_5a9c3_row16_col4, #T_5a9c3_row17_col0, #T_5a9c3_row17_col1, #T_5a9c3_row17_col2, #T_5a9c3_row17_col3, #T_5a9c3_row17_col4, #T_5a9c3_row17_col5, #T_5a9c3_row17_col6, #T_5a9c3_row18_col0, #T_5a9c3_row18_col1, #T_5a9c3_row18_col2, #T_5a9c3_row18_col3, #T_5a9c3_row18_col4, #T_5a9c3_row18_col5, #T_5a9c3_row18_col6, #T_5a9c3_row19_col0, #T_5a9c3_row19_col1, #T_5a9c3_row19_col2, #T_5a9c3_row19_col3, #T_5a9c3_row19_col4, #T_5a9c3_row19_col5, #T_5a9c3_row19_col6 {\n",
       "  text-align: left;\n",
       "}\n",
       "#T_5a9c3_row0_col2, #T_5a9c3_row0_col3, #T_5a9c3_row0_col4, #T_5a9c3_row16_col1, #T_5a9c3_row16_col5, #T_5a9c3_row16_col6 {\n",
       "  text-align: left;\n",
       "  background-color: yellow;\n",
       "}\n",
       "#T_5a9c3_row0_col7, #T_5a9c3_row1_col7, #T_5a9c3_row2_col7, #T_5a9c3_row3_col7, #T_5a9c3_row4_col7, #T_5a9c3_row5_col7, #T_5a9c3_row6_col7, #T_5a9c3_row7_col7, #T_5a9c3_row8_col7, #T_5a9c3_row9_col7, #T_5a9c3_row10_col7, #T_5a9c3_row11_col7, #T_5a9c3_row13_col7, #T_5a9c3_row14_col7, #T_5a9c3_row15_col7, #T_5a9c3_row16_col7, #T_5a9c3_row17_col7, #T_5a9c3_row18_col7, #T_5a9c3_row19_col7 {\n",
       "  text-align: left;\n",
       "  background-color: lightgrey;\n",
       "}\n",
       "#T_5a9c3_row12_col7 {\n",
       "  text-align: left;\n",
       "  background-color: yellow;\n",
       "  background-color: lightgrey;\n",
       "}\n",
       "</style>\n",
       "<table id=\"T_5a9c3\">\n",
       "  <thead>\n",
       "    <tr>\n",
       "      <th class=\"blank level0\" >&nbsp;</th>\n",
       "      <th id=\"T_5a9c3_level0_col0\" class=\"col_heading level0 col0\" >Model</th>\n",
       "      <th id=\"T_5a9c3_level0_col1\" class=\"col_heading level0 col1\" >MAE</th>\n",
       "      <th id=\"T_5a9c3_level0_col2\" class=\"col_heading level0 col2\" >MSE</th>\n",
       "      <th id=\"T_5a9c3_level0_col3\" class=\"col_heading level0 col3\" >RMSE</th>\n",
       "      <th id=\"T_5a9c3_level0_col4\" class=\"col_heading level0 col4\" >R2</th>\n",
       "      <th id=\"T_5a9c3_level0_col5\" class=\"col_heading level0 col5\" >RMSLE</th>\n",
       "      <th id=\"T_5a9c3_level0_col6\" class=\"col_heading level0 col6\" >MAPE</th>\n",
       "      <th id=\"T_5a9c3_level0_col7\" class=\"col_heading level0 col7\" >TT (Sec)</th>\n",
       "    </tr>\n",
       "  </thead>\n",
       "  <tbody>\n",
       "    <tr>\n",
       "      <th id=\"T_5a9c3_level0_row0\" class=\"row_heading level0 row0\" >gbr</th>\n",
       "      <td id=\"T_5a9c3_row0_col0\" class=\"data row0 col0\" >Gradient Boosting Regressor</td>\n",
       "      <td id=\"T_5a9c3_row0_col1\" class=\"data row0 col1\" >2.1478</td>\n",
       "      <td id=\"T_5a9c3_row0_col2\" class=\"data row0 col2\" >9.8362</td>\n",
       "      <td id=\"T_5a9c3_row0_col3\" class=\"data row0 col3\" >3.1319</td>\n",
       "      <td id=\"T_5a9c3_row0_col4\" class=\"data row0 col4\" >0.0257</td>\n",
       "      <td id=\"T_5a9c3_row0_col5\" class=\"data row0 col5\" >0.4607</td>\n",
       "      <td id=\"T_5a9c3_row0_col6\" class=\"data row0 col6\" >0.6276</td>\n",
       "      <td id=\"T_5a9c3_row0_col7\" class=\"data row0 col7\" >0.3560</td>\n",
       "    </tr>\n",
       "    <tr>\n",
       "      <th id=\"T_5a9c3_level0_row1\" class=\"row_heading level0 row1\" >ridge</th>\n",
       "      <td id=\"T_5a9c3_row1_col0\" class=\"data row1 col0\" >Ridge Regression</td>\n",
       "      <td id=\"T_5a9c3_row1_col1\" class=\"data row1 col1\" >2.1486</td>\n",
       "      <td id=\"T_5a9c3_row1_col2\" class=\"data row1 col2\" >9.8443</td>\n",
       "      <td id=\"T_5a9c3_row1_col3\" class=\"data row1 col3\" >3.1333</td>\n",
       "      <td id=\"T_5a9c3_row1_col4\" class=\"data row1 col4\" >0.0249</td>\n",
       "      <td id=\"T_5a9c3_row1_col5\" class=\"data row1 col5\" >0.4612</td>\n",
       "      <td id=\"T_5a9c3_row1_col6\" class=\"data row1 col6\" >0.6283</td>\n",
       "      <td id=\"T_5a9c3_row1_col7\" class=\"data row1 col7\" >0.0270</td>\n",
       "    </tr>\n",
       "    <tr>\n",
       "      <th id=\"T_5a9c3_level0_row2\" class=\"row_heading level0 row2\" >br</th>\n",
       "      <td id=\"T_5a9c3_row2_col0\" class=\"data row2 col0\" >Bayesian Ridge</td>\n",
       "      <td id=\"T_5a9c3_row2_col1\" class=\"data row2 col1\" >2.1494</td>\n",
       "      <td id=\"T_5a9c3_row2_col2\" class=\"data row2 col2\" >9.8465</td>\n",
       "      <td id=\"T_5a9c3_row2_col3\" class=\"data row2 col3\" >3.1336</td>\n",
       "      <td id=\"T_5a9c3_row2_col4\" class=\"data row2 col4\" >0.0247</td>\n",
       "      <td id=\"T_5a9c3_row2_col5\" class=\"data row2 col5\" >0.4611</td>\n",
       "      <td id=\"T_5a9c3_row2_col6\" class=\"data row2 col6\" >0.6287</td>\n",
       "      <td id=\"T_5a9c3_row2_col7\" class=\"data row2 col7\" >0.0430</td>\n",
       "    </tr>\n",
       "    <tr>\n",
       "      <th id=\"T_5a9c3_level0_row3\" class=\"row_heading level0 row3\" >lr</th>\n",
       "      <td id=\"T_5a9c3_row3_col0\" class=\"data row3 col0\" >Linear Regression</td>\n",
       "      <td id=\"T_5a9c3_row3_col1\" class=\"data row3 col1\" >2.1492</td>\n",
       "      <td id=\"T_5a9c3_row3_col2\" class=\"data row3 col2\" >9.8473</td>\n",
       "      <td id=\"T_5a9c3_row3_col3\" class=\"data row3 col3\" >3.1337</td>\n",
       "      <td id=\"T_5a9c3_row3_col4\" class=\"data row3 col4\" >0.0246</td>\n",
       "      <td id=\"T_5a9c3_row3_col5\" class=\"data row3 col5\" >0.4613</td>\n",
       "      <td id=\"T_5a9c3_row3_col6\" class=\"data row3 col6\" >0.6286</td>\n",
       "      <td id=\"T_5a9c3_row3_col7\" class=\"data row3 col7\" >0.5850</td>\n",
       "    </tr>\n",
       "    <tr>\n",
       "      <th id=\"T_5a9c3_level0_row4\" class=\"row_heading level0 row4\" >lightgbm</th>\n",
       "      <td id=\"T_5a9c3_row4_col0\" class=\"data row4 col0\" >Light Gradient Boosting Machine</td>\n",
       "      <td id=\"T_5a9c3_row4_col1\" class=\"data row4 col1\" >2.1532</td>\n",
       "      <td id=\"T_5a9c3_row4_col2\" class=\"data row4 col2\" >9.8684</td>\n",
       "      <td id=\"T_5a9c3_row4_col3\" class=\"data row4 col3\" >3.1371</td>\n",
       "      <td id=\"T_5a9c3_row4_col4\" class=\"data row4 col4\" >0.0225</td>\n",
       "      <td id=\"T_5a9c3_row4_col5\" class=\"data row4 col5\" >0.4616</td>\n",
       "      <td id=\"T_5a9c3_row4_col6\" class=\"data row4 col6\" >0.6278</td>\n",
       "      <td id=\"T_5a9c3_row4_col7\" class=\"data row4 col7\" >0.3430</td>\n",
       "    </tr>\n",
       "    <tr>\n",
       "      <th id=\"T_5a9c3_level0_row5\" class=\"row_heading level0 row5\" >omp</th>\n",
       "      <td id=\"T_5a9c3_row5_col0\" class=\"data row5 col0\" >Orthogonal Matching Pursuit</td>\n",
       "      <td id=\"T_5a9c3_row5_col1\" class=\"data row5 col1\" >2.1522</td>\n",
       "      <td id=\"T_5a9c3_row5_col2\" class=\"data row5 col2\" >9.8742</td>\n",
       "      <td id=\"T_5a9c3_row5_col3\" class=\"data row5 col3\" >3.1381</td>\n",
       "      <td id=\"T_5a9c3_row5_col4\" class=\"data row5 col4\" >0.0218</td>\n",
       "      <td id=\"T_5a9c3_row5_col5\" class=\"data row5 col5\" >0.4616</td>\n",
       "      <td id=\"T_5a9c3_row5_col6\" class=\"data row5 col6\" >0.6293</td>\n",
       "      <td id=\"T_5a9c3_row5_col7\" class=\"data row5 col7\" >0.0260</td>\n",
       "    </tr>\n",
       "    <tr>\n",
       "      <th id=\"T_5a9c3_level0_row6\" class=\"row_heading level0 row6\" >lar</th>\n",
       "      <td id=\"T_5a9c3_row6_col0\" class=\"data row6 col0\" >Least Angle Regression</td>\n",
       "      <td id=\"T_5a9c3_row6_col1\" class=\"data row6 col1\" >2.1540</td>\n",
       "      <td id=\"T_5a9c3_row6_col2\" class=\"data row6 col2\" >9.9268</td>\n",
       "      <td id=\"T_5a9c3_row6_col3\" class=\"data row6 col3\" >3.1466</td>\n",
       "      <td id=\"T_5a9c3_row6_col4\" class=\"data row6 col4\" >0.0163</td>\n",
       "      <td id=\"T_5a9c3_row6_col5\" class=\"data row6 col5\" >0.4618</td>\n",
       "      <td id=\"T_5a9c3_row6_col6\" class=\"data row6 col6\" >0.6286</td>\n",
       "      <td id=\"T_5a9c3_row6_col7\" class=\"data row6 col7\" >0.0280</td>\n",
       "    </tr>\n",
       "    <tr>\n",
       "      <th id=\"T_5a9c3_level0_row7\" class=\"row_heading level0 row7\" >catboost</th>\n",
       "      <td id=\"T_5a9c3_row7_col0\" class=\"data row7 col0\" >CatBoost Regressor</td>\n",
       "      <td id=\"T_5a9c3_row7_col1\" class=\"data row7 col1\" >2.1618</td>\n",
       "      <td id=\"T_5a9c3_row7_col2\" class=\"data row7 col2\" >9.9566</td>\n",
       "      <td id=\"T_5a9c3_row7_col3\" class=\"data row7 col3\" >3.1514</td>\n",
       "      <td id=\"T_5a9c3_row7_col4\" class=\"data row7 col4\" >0.0134</td>\n",
       "      <td id=\"T_5a9c3_row7_col5\" class=\"data row7 col5\" >0.4636</td>\n",
       "      <td id=\"T_5a9c3_row7_col6\" class=\"data row7 col6\" >0.6295</td>\n",
       "      <td id=\"T_5a9c3_row7_col7\" class=\"data row7 col7\" >1.2670</td>\n",
       "    </tr>\n",
       "    <tr>\n",
       "      <th id=\"T_5a9c3_level0_row8\" class=\"row_heading level0 row8\" >rf</th>\n",
       "      <td id=\"T_5a9c3_row8_col0\" class=\"data row8 col0\" >Random Forest Regressor</td>\n",
       "      <td id=\"T_5a9c3_row8_col1\" class=\"data row8 col1\" >2.1680</td>\n",
       "      <td id=\"T_5a9c3_row8_col2\" class=\"data row8 col2\" >9.9995</td>\n",
       "      <td id=\"T_5a9c3_row8_col3\" class=\"data row8 col3\" >3.1582</td>\n",
       "      <td id=\"T_5a9c3_row8_col4\" class=\"data row8 col4\" >0.0092</td>\n",
       "      <td id=\"T_5a9c3_row8_col5\" class=\"data row8 col5\" >0.4650</td>\n",
       "      <td id=\"T_5a9c3_row8_col6\" class=\"data row8 col6\" >0.6310</td>\n",
       "      <td id=\"T_5a9c3_row8_col7\" class=\"data row8 col7\" >0.6900</td>\n",
       "    </tr>\n",
       "    <tr>\n",
       "      <th id=\"T_5a9c3_level0_row9\" class=\"row_heading level0 row9\" >xgboost</th>\n",
       "      <td id=\"T_5a9c3_row9_col0\" class=\"data row9 col0\" >Extreme Gradient Boosting</td>\n",
       "      <td id=\"T_5a9c3_row9_col1\" class=\"data row9 col1\" >2.1664</td>\n",
       "      <td id=\"T_5a9c3_row9_col2\" class=\"data row9 col2\" >10.0009</td>\n",
       "      <td id=\"T_5a9c3_row9_col3\" class=\"data row9 col3\" >3.1585</td>\n",
       "      <td id=\"T_5a9c3_row9_col4\" class=\"data row9 col4\" >0.0089</td>\n",
       "      <td id=\"T_5a9c3_row9_col5\" class=\"data row9 col5\" >0.4650</td>\n",
       "      <td id=\"T_5a9c3_row9_col6\" class=\"data row9 col6\" >0.6306</td>\n",
       "      <td id=\"T_5a9c3_row9_col7\" class=\"data row9 col7\" >0.6010</td>\n",
       "    </tr>\n",
       "    <tr>\n",
       "      <th id=\"T_5a9c3_level0_row10\" class=\"row_heading level0 row10\" >lasso</th>\n",
       "      <td id=\"T_5a9c3_row10_col0\" class=\"data row10 col0\" >Lasso Regression</td>\n",
       "      <td id=\"T_5a9c3_row10_col1\" class=\"data row10 col1\" >2.1661</td>\n",
       "      <td id=\"T_5a9c3_row10_col2\" class=\"data row10 col2\" >10.0989</td>\n",
       "      <td id=\"T_5a9c3_row10_col3\" class=\"data row10 col3\" >3.1737</td>\n",
       "      <td id=\"T_5a9c3_row10_col4\" class=\"data row10 col4\" >-0.0005</td>\n",
       "      <td id=\"T_5a9c3_row10_col5\" class=\"data row10 col5\" >0.4672</td>\n",
       "      <td id=\"T_5a9c3_row10_col6\" class=\"data row10 col6\" >0.6368</td>\n",
       "      <td id=\"T_5a9c3_row10_col7\" class=\"data row10 col7\" >0.6260</td>\n",
       "    </tr>\n",
       "    <tr>\n",
       "      <th id=\"T_5a9c3_level0_row11\" class=\"row_heading level0 row11\" >en</th>\n",
       "      <td id=\"T_5a9c3_row11_col0\" class=\"data row11 col0\" >Elastic Net</td>\n",
       "      <td id=\"T_5a9c3_row11_col1\" class=\"data row11 col1\" >2.1661</td>\n",
       "      <td id=\"T_5a9c3_row11_col2\" class=\"data row11 col2\" >10.0989</td>\n",
       "      <td id=\"T_5a9c3_row11_col3\" class=\"data row11 col3\" >3.1737</td>\n",
       "      <td id=\"T_5a9c3_row11_col4\" class=\"data row11 col4\" >-0.0005</td>\n",
       "      <td id=\"T_5a9c3_row11_col5\" class=\"data row11 col5\" >0.4672</td>\n",
       "      <td id=\"T_5a9c3_row11_col6\" class=\"data row11 col6\" >0.6368</td>\n",
       "      <td id=\"T_5a9c3_row11_col7\" class=\"data row11 col7\" >0.0290</td>\n",
       "    </tr>\n",
       "    <tr>\n",
       "      <th id=\"T_5a9c3_level0_row12\" class=\"row_heading level0 row12\" >llar</th>\n",
       "      <td id=\"T_5a9c3_row12_col0\" class=\"data row12 col0\" >Lasso Least Angle Regression</td>\n",
       "      <td id=\"T_5a9c3_row12_col1\" class=\"data row12 col1\" >2.1661</td>\n",
       "      <td id=\"T_5a9c3_row12_col2\" class=\"data row12 col2\" >10.0989</td>\n",
       "      <td id=\"T_5a9c3_row12_col3\" class=\"data row12 col3\" >3.1737</td>\n",
       "      <td id=\"T_5a9c3_row12_col4\" class=\"data row12 col4\" >-0.0005</td>\n",
       "      <td id=\"T_5a9c3_row12_col5\" class=\"data row12 col5\" >0.4672</td>\n",
       "      <td id=\"T_5a9c3_row12_col6\" class=\"data row12 col6\" >0.6368</td>\n",
       "      <td id=\"T_5a9c3_row12_col7\" class=\"data row12 col7\" >0.0250</td>\n",
       "    </tr>\n",
       "    <tr>\n",
       "      <th id=\"T_5a9c3_level0_row13\" class=\"row_heading level0 row13\" >dummy</th>\n",
       "      <td id=\"T_5a9c3_row13_col0\" class=\"data row13 col0\" >Dummy Regressor</td>\n",
       "      <td id=\"T_5a9c3_row13_col1\" class=\"data row13 col1\" >2.1661</td>\n",
       "      <td id=\"T_5a9c3_row13_col2\" class=\"data row13 col2\" >10.0989</td>\n",
       "      <td id=\"T_5a9c3_row13_col3\" class=\"data row13 col3\" >3.1737</td>\n",
       "      <td id=\"T_5a9c3_row13_col4\" class=\"data row13 col4\" >-0.0005</td>\n",
       "      <td id=\"T_5a9c3_row13_col5\" class=\"data row13 col5\" >0.4672</td>\n",
       "      <td id=\"T_5a9c3_row13_col6\" class=\"data row13 col6\" >0.6368</td>\n",
       "      <td id=\"T_5a9c3_row13_col7\" class=\"data row13 col7\" >0.0260</td>\n",
       "    </tr>\n",
       "    <tr>\n",
       "      <th id=\"T_5a9c3_level0_row14\" class=\"row_heading level0 row14\" >et</th>\n",
       "      <td id=\"T_5a9c3_row14_col0\" class=\"data row14 col0\" >Extra Trees Regressor</td>\n",
       "      <td id=\"T_5a9c3_row14_col1\" class=\"data row14 col1\" >2.1766</td>\n",
       "      <td id=\"T_5a9c3_row14_col2\" class=\"data row14 col2\" >10.1069</td>\n",
       "      <td id=\"T_5a9c3_row14_col3\" class=\"data row14 col3\" >3.1753</td>\n",
       "      <td id=\"T_5a9c3_row14_col4\" class=\"data row14 col4\" >-0.0018</td>\n",
       "      <td id=\"T_5a9c3_row14_col5\" class=\"data row14 col5\" >0.4679</td>\n",
       "      <td id=\"T_5a9c3_row14_col6\" class=\"data row14 col6\" >0.6332</td>\n",
       "      <td id=\"T_5a9c3_row14_col7\" class=\"data row14 col7\" >0.7700</td>\n",
       "    </tr>\n",
       "    <tr>\n",
       "      <th id=\"T_5a9c3_level0_row15\" class=\"row_heading level0 row15\" >dt</th>\n",
       "      <td id=\"T_5a9c3_row15_col0\" class=\"data row15 col0\" >Decision Tree Regressor</td>\n",
       "      <td id=\"T_5a9c3_row15_col1\" class=\"data row15 col1\" >2.1773</td>\n",
       "      <td id=\"T_5a9c3_row15_col2\" class=\"data row15 col2\" >10.1157</td>\n",
       "      <td id=\"T_5a9c3_row15_col3\" class=\"data row15 col3\" >3.1767</td>\n",
       "      <td id=\"T_5a9c3_row15_col4\" class=\"data row15 col4\" >-0.0026</td>\n",
       "      <td id=\"T_5a9c3_row15_col5\" class=\"data row15 col5\" >0.4681</td>\n",
       "      <td id=\"T_5a9c3_row15_col6\" class=\"data row15 col6\" >0.6334</td>\n",
       "      <td id=\"T_5a9c3_row15_col7\" class=\"data row15 col7\" >0.0330</td>\n",
       "    </tr>\n",
       "    <tr>\n",
       "      <th id=\"T_5a9c3_level0_row16\" class=\"row_heading level0 row16\" >huber</th>\n",
       "      <td id=\"T_5a9c3_row16_col0\" class=\"data row16 col0\" >Huber Regressor</td>\n",
       "      <td id=\"T_5a9c3_row16_col1\" class=\"data row16 col1\" >2.0742</td>\n",
       "      <td id=\"T_5a9c3_row16_col2\" class=\"data row16 col2\" >10.2830</td>\n",
       "      <td id=\"T_5a9c3_row16_col3\" class=\"data row16 col3\" >3.2021</td>\n",
       "      <td id=\"T_5a9c3_row16_col4\" class=\"data row16 col4\" >-0.0183</td>\n",
       "      <td id=\"T_5a9c3_row16_col5\" class=\"data row16 col5\" >0.4484</td>\n",
       "      <td id=\"T_5a9c3_row16_col6\" class=\"data row16 col6\" >0.5325</td>\n",
       "      <td id=\"T_5a9c3_row16_col7\" class=\"data row16 col7\" >0.2410</td>\n",
       "    </tr>\n",
       "    <tr>\n",
       "      <th id=\"T_5a9c3_level0_row17\" class=\"row_heading level0 row17\" >ada</th>\n",
       "      <td id=\"T_5a9c3_row17_col0\" class=\"data row17 col0\" >AdaBoost Regressor</td>\n",
       "      <td id=\"T_5a9c3_row17_col1\" class=\"data row17 col1\" >2.3425</td>\n",
       "      <td id=\"T_5a9c3_row17_col2\" class=\"data row17 col2\" >10.4891</td>\n",
       "      <td id=\"T_5a9c3_row17_col3\" class=\"data row17 col3\" >3.2293</td>\n",
       "      <td id=\"T_5a9c3_row17_col4\" class=\"data row17 col4\" >-0.0365</td>\n",
       "      <td id=\"T_5a9c3_row17_col5\" class=\"data row17 col5\" >0.4939</td>\n",
       "      <td id=\"T_5a9c3_row17_col6\" class=\"data row17 col6\" >0.7373</td>\n",
       "      <td id=\"T_5a9c3_row17_col7\" class=\"data row17 col7\" >0.1220</td>\n",
       "    </tr>\n",
       "    <tr>\n",
       "      <th id=\"T_5a9c3_level0_row18\" class=\"row_heading level0 row18\" >knn</th>\n",
       "      <td id=\"T_5a9c3_row18_col0\" class=\"data row18 col0\" >K Neighbors Regressor</td>\n",
       "      <td id=\"T_5a9c3_row18_col1\" class=\"data row18 col1\" >2.2570</td>\n",
       "      <td id=\"T_5a9c3_row18_col2\" class=\"data row18 col2\" >11.2622</td>\n",
       "      <td id=\"T_5a9c3_row18_col3\" class=\"data row18 col3\" >3.3522</td>\n",
       "      <td id=\"T_5a9c3_row18_col4\" class=\"data row18 col4\" >-0.1169</td>\n",
       "      <td id=\"T_5a9c3_row18_col5\" class=\"data row18 col5\" >0.4930</td>\n",
       "      <td id=\"T_5a9c3_row18_col6\" class=\"data row18 col6\" >0.6241</td>\n",
       "      <td id=\"T_5a9c3_row18_col7\" class=\"data row18 col7\" >0.2090</td>\n",
       "    </tr>\n",
       "    <tr>\n",
       "      <th id=\"T_5a9c3_level0_row19\" class=\"row_heading level0 row19\" >par</th>\n",
       "      <td id=\"T_5a9c3_row19_col0\" class=\"data row19 col0\" >Passive Aggressive Regressor</td>\n",
       "      <td id=\"T_5a9c3_row19_col1\" class=\"data row19 col1\" >3.9802</td>\n",
       "      <td id=\"T_5a9c3_row19_col2\" class=\"data row19 col2\" >25.6579</td>\n",
       "      <td id=\"T_5a9c3_row19_col3\" class=\"data row19 col3\" >4.9324</td>\n",
       "      <td id=\"T_5a9c3_row19_col4\" class=\"data row19 col4\" >-1.6027</td>\n",
       "      <td id=\"T_5a9c3_row19_col5\" class=\"data row19 col5\" >0.7714</td>\n",
       "      <td id=\"T_5a9c3_row19_col6\" class=\"data row19 col6\" >1.2347</td>\n",
       "      <td id=\"T_5a9c3_row19_col7\" class=\"data row19 col7\" >0.0330</td>\n",
       "    </tr>\n",
       "  </tbody>\n",
       "</table>\n"
      ],
      "text/plain": [
       "<pandas.io.formats.style.Styler at 0x20bd48354c0>"
      ]
     },
     "metadata": {},
     "output_type": "display_data"
    },
    {
     "data": {
      "application/vnd.jupyter.widget-view+json": {
       "model_id": "",
       "version_major": 2,
       "version_minor": 0
      },
      "text/plain": [
       "Processing:   0%|          | 0/85 [00:00<?, ?it/s]"
      ]
     },
     "metadata": {},
     "output_type": "display_data"
    }
   ],
   "source": [
    "# 모델 비교 및 선택\n",
    "best_model = compare_models()"
   ]
  },
  {
   "cell_type": "code",
   "execution_count": 5,
   "id": "af42772b",
   "metadata": {
    "ExecuteTime": {
     "end_time": "2023-11-30T14:02:22.777874Z",
     "start_time": "2023-11-30T14:02:19.469694Z"
    }
   },
   "outputs": [],
   "source": [
    "# 모델 학습\n",
    "# best_model을 사용해 다양한 모델 중 가장 좋은 모델을 선택하고 학습합니다.\n",
    "final_model = finalize_model(best_model)"
   ]
  },
  {
   "cell_type": "code",
   "execution_count": 9,
   "id": "a8d3864b",
   "metadata": {
    "ExecuteTime": {
     "end_time": "2023-11-30T14:08:32.344559Z",
     "start_time": "2023-11-30T14:08:32.055726Z"
    }
   },
   "outputs": [
    {
     "name": "stdout",
     "output_type": "stream",
     "text": [
      "Transformation Pipeline and Model Successfully Saved\n",
      "Transformation Pipeline and Model Successfully Loaded\n"
     ]
    }
   ],
   "source": [
    "# 모델 저장\n",
    "save_model(final_model, '../model/003pycaret_regression_model')\n",
    "\n",
    "# 모델 로드\n",
    "loaded_model = load_model('../model/003pycaret_regression_model')"
   ]
  },
  {
   "cell_type": "markdown",
   "id": "d60cd0ed",
   "metadata": {},
   "source": [
    "# 제출"
   ]
  },
  {
   "cell_type": "code",
   "execution_count": 11,
   "id": "de6271aa",
   "metadata": {
    "ExecuteTime": {
     "end_time": "2023-11-30T14:13:29.544895Z",
     "start_time": "2023-11-30T14:13:29.506339Z"
    }
   },
   "outputs": [],
   "source": [
    "sub_file = pd.read_csv(\"../data/sample_submission.csv\")"
   ]
  },
  {
   "cell_type": "code",
   "execution_count": 12,
   "id": "9091559f",
   "metadata": {
    "ExecuteTime": {
     "end_time": "2023-11-30T14:14:26.502605Z",
     "start_time": "2023-11-30T14:14:26.164314Z"
    }
   },
   "outputs": [
    {
     "data": {
      "text/html": [],
      "text/plain": [
       "<IPython.core.display.HTML object>"
      ]
     },
     "metadata": {},
     "output_type": "display_data"
    }
   ],
   "source": [
    "sub_file['ECLO'] = predict_model(final_model, df_test)['prediction_label']"
   ]
  },
  {
   "cell_type": "code",
   "execution_count": 13,
   "id": "2f1f4294",
   "metadata": {
    "ExecuteTime": {
     "end_time": "2023-11-30T14:14:35.898828Z",
     "start_time": "2023-11-30T14:14:35.878909Z"
    }
   },
   "outputs": [],
   "source": [
    "sub_file['ECLO'] = round(sub_file['ECLO'])"
   ]
  },
  {
   "cell_type": "code",
   "execution_count": 14,
   "id": "80b96615",
   "metadata": {
    "ExecuteTime": {
     "end_time": "2023-11-30T14:14:46.864133Z",
     "start_time": "2023-11-30T14:14:46.839457Z"
    }
   },
   "outputs": [
    {
     "data": {
      "text/plain": [
       "5.0    7969\n",
       "4.0    2604\n",
       "6.0     287\n",
       "3.0      92\n",
       "7.0      11\n",
       "Name: ECLO, dtype: int64"
      ]
     },
     "execution_count": 14,
     "metadata": {},
     "output_type": "execute_result"
    }
   ],
   "source": [
    "sub_file.ECLO.value_counts()"
   ]
  },
  {
   "cell_type": "code",
   "execution_count": 15,
   "id": "06e658d2",
   "metadata": {
    "ExecuteTime": {
     "end_time": "2023-11-30T14:15:15.381786Z",
     "start_time": "2023-11-30T14:15:15.323718Z"
    }
   },
   "outputs": [],
   "source": [
    "sub_file.to_csv(\"../data/sub_file/004pycaret.csv\", index=False)"
   ]
  }
 ],
 "metadata": {
  "hide_input": false,
  "kernelspec": {
   "display_name": "Python 3 (ipykernel)",
   "language": "python",
   "name": "python3"
  },
  "language_info": {
   "codemirror_mode": {
    "name": "ipython",
    "version": 3
   },
   "file_extension": ".py",
   "mimetype": "text/x-python",
   "name": "python",
   "nbconvert_exporter": "python",
   "pygments_lexer": "ipython3",
   "version": "3.9.12"
  },
  "toc": {
   "base_numbering": 1,
   "nav_menu": {},
   "number_sections": true,
   "sideBar": true,
   "skip_h1_title": false,
   "title_cell": "Table of Contents",
   "title_sidebar": "Contents",
   "toc_cell": false,
   "toc_position": {},
   "toc_section_display": true,
   "toc_window_display": false
  },
  "varInspector": {
   "cols": {
    "lenName": 16,
    "lenType": 16,
    "lenVar": 40
   },
   "kernels_config": {
    "python": {
     "delete_cmd_postfix": "",
     "delete_cmd_prefix": "del ",
     "library": "var_list.py",
     "varRefreshCmd": "print(var_dic_list())"
    },
    "r": {
     "delete_cmd_postfix": ") ",
     "delete_cmd_prefix": "rm(",
     "library": "var_list.r",
     "varRefreshCmd": "cat(var_dic_list()) "
    }
   },
   "types_to_exclude": [
    "module",
    "function",
    "builtin_function_or_method",
    "instance",
    "_Feature"
   ],
   "window_display": false
  }
 },
 "nbformat": 4,
 "nbformat_minor": 5
}
