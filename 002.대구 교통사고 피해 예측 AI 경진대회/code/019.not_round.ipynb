{
 "cells": [
  {
   "cell_type": "code",
   "execution_count": 1,
   "id": "b8342452",
   "metadata": {
    "ExecuteTime": {
     "end_time": "2023-12-07T10:02:06.062936Z",
     "start_time": "2023-12-07T10:01:51.013938Z"
    },
    "scrolled": false
   },
   "outputs": [],
   "source": [
    "import numpy as np\n",
    "import pandas as pd\n",
    "import tensorflow as tf\n",
    "import matplotlib.pyplot as plt\n",
    "\n",
    "from sklearn.model_selection import train_test_split\n",
    "\n",
    "plt.rc('font', family='Malgun Gothic')  # 폰트 지정\n",
    "plt.rc('axes', unicode_minus=False)  # 마이너스 폰트 설정\n",
    "%config InlineBackend.figure_format = 'retina'  # 그래프 글씨 뚜렷"
   ]
  },
  {
   "cell_type": "code",
   "execution_count": 2,
   "id": "111ab96e",
   "metadata": {
    "ExecuteTime": {
     "end_time": "2023-12-07T10:02:06.251323Z",
     "start_time": "2023-12-07T10:02:06.096776Z"
    }
   },
   "outputs": [],
   "source": [
    "df_train = pd.read_csv(\"../data/df_train_004.csv\")\n",
    "df_test = pd.read_csv(\"../data/df_test_004.csv\")\n",
    "\n",
    "df_train['target'] = df_train['사망자수']*10 + df_train['중상자수']*5 + df_train['경상자수']*3 + df_train['부상자수']\n",
    "df_train.drop(columns = ['사망자수','중상자수','경상자수','부상자수'], axis=1, inplace = True)"
   ]
  },
  {
   "cell_type": "code",
   "execution_count": 3,
   "id": "047e5346",
   "metadata": {
    "ExecuteTime": {
     "end_time": "2023-12-07T10:02:06.329398Z",
     "start_time": "2023-12-07T10:02:06.316889Z"
    }
   },
   "outputs": [],
   "source": [
    "X = df_train.drop(columns = 'target',axis=1)\n",
    "y = df_train['target']"
   ]
  },
  {
   "cell_type": "code",
   "execution_count": 4,
   "id": "41e73b1d",
   "metadata": {
    "ExecuteTime": {
     "end_time": "2023-12-07T10:02:06.424168Z",
     "start_time": "2023-12-07T10:02:06.395056Z"
    }
   },
   "outputs": [],
   "source": [
    "x_train, x_test, y_train , y_test = train_test_split(X, y, test_size = 0.3, random_state=42 )"
   ]
  },
  {
   "cell_type": "markdown",
   "id": "b462c4a0",
   "metadata": {},
   "source": [
    "# plzplz"
   ]
  },
  {
   "cell_type": "code",
   "execution_count": 21,
   "id": "1c0232d4",
   "metadata": {
    "ExecuteTime": {
     "end_time": "2023-12-07T10:09:56.064488Z",
     "start_time": "2023-12-07T10:09:56.001942Z"
    }
   },
   "outputs": [],
   "source": [
    "model = tf.keras.Sequential([\n",
    "    tf.keras.layers.Dense(10, input_shape=[33]),\n",
    "    tf.keras.layers.BatchNormalization(),\n",
    "    tf.keras.layers.LeakyReLU(alpha=0.2),\n",
    "    tf.keras.layers.Dense(5),\n",
    "    tf.keras.layers.BatchNormalization(),\n",
    "    tf.keras.layers.LeakyReLU(alpha=0.2),\n",
    "    tf.keras.layers.Dense(1)\n",
    "])"
   ]
  },
  {
   "cell_type": "code",
   "execution_count": 28,
   "id": "88079d75",
   "metadata": {
    "ExecuteTime": {
     "end_time": "2023-12-07T10:10:25.641406Z",
     "start_time": "2023-12-07T10:10:25.623870Z"
    }
   },
   "outputs": [],
   "source": [
    "model.compile(optimizer = tf.keras.optimizers.Nadam(learning_rate=0.001), loss='mean_squared_logarithmic_error', metrics=['mse'])"
   ]
  },
  {
   "cell_type": "code",
   "execution_count": 29,
   "id": "c5d9ffe8",
   "metadata": {
    "ExecuteTime": {
     "end_time": "2023-12-07T10:10:25.922285Z",
     "start_time": "2023-12-07T10:10:25.908120Z"
    }
   },
   "outputs": [],
   "source": [
    "from keras.callbacks import EarlyStopping\n",
    "\n",
    "early_stopping = EarlyStopping(monitor='val_loss')"
   ]
  },
  {
   "cell_type": "code",
   "execution_count": 30,
   "id": "377e4003",
   "metadata": {
    "ExecuteTime": {
     "end_time": "2023-12-07T10:10:31.350712Z",
     "start_time": "2023-12-07T10:10:26.318561Z"
    }
   },
   "outputs": [
    {
     "name": "stdout",
     "output_type": "stream",
     "text": [
      "Epoch 1/20\n",
      "867/867 [==============================] - 3s 2ms/step - loss: 0.2046 - mse: 10.3267 - val_loss: 0.1990 - val_mse: 10.8780\n",
      "Epoch 2/20\n",
      "867/867 [==============================] - 2s 2ms/step - loss: 0.2027 - mse: 10.2852 - val_loss: 0.2048 - val_mse: 10.5509\n"
     ]
    }
   ],
   "source": [
    "history = model.fit(x_train, y_train, validation_data=(x_test, y_test), epochs=20, callbacks=early_stopping)"
   ]
  },
  {
   "cell_type": "code",
   "execution_count": 14,
   "id": "38819853",
   "metadata": {
    "ExecuteTime": {
     "end_time": "2023-12-07T10:06:08.879392Z",
     "start_time": "2023-12-07T10:06:08.826052Z"
    }
   },
   "outputs": [],
   "source": [
    "sub_file = pd.read_csv(\"../data/sample_submission.csv\")"
   ]
  },
  {
   "cell_type": "code",
   "execution_count": 16,
   "id": "8b0be793",
   "metadata": {
    "ExecuteTime": {
     "end_time": "2023-12-07T10:06:18.653455Z",
     "start_time": "2023-12-07T10:06:18.075844Z"
    }
   },
   "outputs": [
    {
     "name": "stdout",
     "output_type": "stream",
     "text": [
      "343/343 [==============================] - 0s 966us/step\n"
     ]
    }
   ],
   "source": [
    "sub_file['ECLO'] = model.predict(df_test)"
   ]
  },
  {
   "cell_type": "code",
   "execution_count": 19,
   "id": "9d818c1a",
   "metadata": {
    "ExecuteTime": {
     "end_time": "2023-12-07T10:07:29.681042Z",
     "start_time": "2023-12-07T10:07:29.638230Z"
    }
   },
   "outputs": [],
   "source": [
    "sub_file.to_csv(\"../data/sub_file/016not_round.csv\", index=False)"
   ]
  },
  {
   "cell_type": "code",
   "execution_count": 20,
   "id": "58dc7ed6",
   "metadata": {
    "ExecuteTime": {
     "end_time": "2023-12-07T10:07:31.006615Z",
     "start_time": "2023-12-07T10:07:30.889395Z"
    }
   },
   "outputs": [
    {
     "data": {
      "text/plain": [
       "<AxesSubplot:>"
      ]
     },
     "execution_count": 20,
     "metadata": {},
     "output_type": "execute_result"
    },
    {
     "data": {
      "image/png": "[encoded data removed]",
      "text/plain": [
       "<Figure size 432x288 with 1 Axes>"
      ]
     },
     "metadata": {
      "image/png": {
       "height": 249,
       "width": 378
      },
      "needs_background": "light"
     },
     "output_type": "display_data"
    }
   ],
   "source": [
    "sub_file.ECLO.hist()"
   ]
  },
  {
   "cell_type": "code",
   "execution_count": null,
   "id": "161010b7",
   "metadata": {},
   "outputs": [],
   "source": []
  }
 ],
 "metadata": {
  "hide_input": false,
  "kernelspec": {
   "display_name": "Python 3 (ipykernel)",
   "language": "python",
   "name": "python3"
  },
  "language_info": {
   "codemirror_mode": {
    "name": "ipython",
    "version": 3
   },
   "file_extension": ".py",
   "mimetype": "text/x-python",
   "name": "python",
   "nbconvert_exporter": "python",
   "pygments_lexer": "ipython3",
   "version": "3.9.12"
  },
  "toc": {
   "base_numbering": 1,
   "nav_menu": {},
   "number_sections": true,
   "sideBar": true,
   "skip_h1_title": false,
   "title_cell": "Table of Contents",
   "title_sidebar": "Contents",
   "toc_cell": false,
   "toc_position": {},
   "toc_section_display": true,
   "toc_window_display": false
  },
  "varInspector": {
   "cols": {
    "lenName": 16,
    "lenType": 16,
    "lenVar": 40
   },
   "kernels_config": {
    "python": {
     "delete_cmd_postfix": "",
     "delete_cmd_prefix": "del ",
     "library": "var_list.py",
     "varRefreshCmd": "print(var_dic_list())"
    },
    "r": {
     "delete_cmd_postfix": ") ",
     "delete_cmd_prefix": "rm(",
     "library": "var_list.r",
     "varRefreshCmd": "cat(var_dic_list()) "
    }
   },
   "types_to_exclude": [
    "module",
    "function",
    "builtin_function_or_method",
    "instance",
    "_Feature"
   ],
   "window_display": false
  }
 },
 "nbformat": 4,
 "nbformat_minor": 5
}
