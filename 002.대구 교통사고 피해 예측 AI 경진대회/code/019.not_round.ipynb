{
 "cells": [
  {
   "cell_type": "code",
   "execution_count": 33,
   "id": "b8342452",
   "metadata": {
    "ExecuteTime": {
     "end_time": "2023-12-08T06:55:48.544646Z",
     "start_time": "2023-12-08T06:55:48.535109Z"
    },
    "scrolled": false
   },
   "outputs": [],
   "source": [
    "import numpy as np\n",
    "import pandas as pd\n",
    "import tensorflow as tf\n",
    "import matplotlib.pyplot as plt\n",
    "\n",
    "from sklearn.model_selection import train_test_split\n",
    "\n",
    "plt.rc('font', family='Malgun Gothic')  # 폰트 지정\n",
    "plt.rc('axes', unicode_minus=False)  # 마이너스 폰트 설정\n",
    "%config InlineBackend.figure_format = 'retina'  # 그래프 글씨 뚜렷"
   ]
  },
  {
   "cell_type": "code",
   "execution_count": 34,
   "id": "111ab96e",
   "metadata": {
    "ExecuteTime": {
     "end_time": "2023-12-08T06:55:48.793257Z",
     "start_time": "2023-12-08T06:55:48.702530Z"
    }
   },
   "outputs": [],
   "source": [
    "df_train = pd.read_csv(\"../data/df_train_004.csv\")\n",
    "df_test = pd.read_csv(\"../data/df_test_004.csv\")\n",
    "\n",
    "df_train['target'] = df_train['사망자수']*10 + df_train['중상자수']*5 + df_train['경상자수']*3 + df_train['부상자수']\n",
    "df_train.drop(columns = ['사망자수','중상자수','경상자수','부상자수'], axis=1, inplace = True)"
   ]
  },
  {
   "cell_type": "code",
   "execution_count": 35,
   "id": "047e5346",
   "metadata": {
    "ExecuteTime": {
     "end_time": "2023-12-08T06:55:48.948417Z",
     "start_time": "2023-12-08T06:55:48.936616Z"
    }
   },
   "outputs": [],
   "source": [
    "X = df_train.drop(columns = 'target',axis=1)\n",
    "y = df_train['target']"
   ]
  },
  {
   "cell_type": "code",
   "execution_count": 36,
   "id": "41e73b1d",
   "metadata": {
    "ExecuteTime": {
     "end_time": "2023-12-08T06:55:49.119028Z",
     "start_time": "2023-12-08T06:55:49.090178Z"
    }
   },
   "outputs": [],
   "source": [
    "x_train, x_test, y_train , y_test = train_test_split(X, y, test_size = 0.3, random_state=42 )"
   ]
  },
  {
   "cell_type": "code",
   "execution_count": 37,
   "id": "9263ae53",
   "metadata": {
    "ExecuteTime": {
     "end_time": "2023-12-08T06:55:49.277210Z",
     "start_time": "2023-12-08T06:55:49.263934Z"
    }
   },
   "outputs": [],
   "source": [
    "import os\n",
    "import random"
   ]
  },
  {
   "cell_type": "code",
   "execution_count": 38,
   "id": "bf0be064",
   "metadata": {
    "ExecuteTime": {
     "end_time": "2023-12-08T06:55:49.432642Z",
     "start_time": "2023-12-08T06:55:49.420917Z"
    }
   },
   "outputs": [],
   "source": [
    "def seed_everything(seed):\n",
    "    random.seed(seed)\n",
    "    os.environ['PYTHONHASHSEED'] = str(seed)\n",
    "    np.random.seed(seed)\n",
    "\n",
    "seed_everything(42)"
   ]
  },
  {
   "cell_type": "markdown",
   "id": "b462c4a0",
   "metadata": {},
   "source": [
    "# plzplz"
   ]
  },
  {
   "cell_type": "code",
   "execution_count": 1,
   "id": "1c0232d4",
   "metadata": {
    "ExecuteTime": {
     "end_time": "2023-12-08T14:31:10.615720Z",
     "start_time": "2023-12-08T14:31:10.105891Z"
    }
   },
   "outputs": [
    {
     "ename": "NameError",
     "evalue": "name 'tf' is not defined",
     "output_type": "error",
     "traceback": [
      "\u001b[1;31m---------------------------------------------------------------------------\u001b[0m",
      "\u001b[1;31mNameError\u001b[0m                                 Traceback (most recent call last)",
      "Input \u001b[1;32mIn [1]\u001b[0m, in \u001b[0;36m<cell line: 1>\u001b[1;34m()\u001b[0m\n\u001b[1;32m----> 1\u001b[0m model \u001b[38;5;241m=\u001b[39m \u001b[43mtf\u001b[49m\u001b[38;5;241m.\u001b[39mkeras\u001b[38;5;241m.\u001b[39mSequential([\n\u001b[0;32m      2\u001b[0m     tf\u001b[38;5;241m.\u001b[39mkeras\u001b[38;5;241m.\u001b[39mlayers\u001b[38;5;241m.\u001b[39mDense(\u001b[38;5;241m100\u001b[39m, input_shape\u001b[38;5;241m=\u001b[39m[\u001b[38;5;241m33\u001b[39m]),\n\u001b[0;32m      3\u001b[0m     tf\u001b[38;5;241m.\u001b[39mkeras\u001b[38;5;241m.\u001b[39mlayers\u001b[38;5;241m.\u001b[39mBatchNormalization(),\n\u001b[0;32m      4\u001b[0m     tf\u001b[38;5;241m.\u001b[39mkeras\u001b[38;5;241m.\u001b[39mlayers\u001b[38;5;241m.\u001b[39mLeakyReLU(alpha\u001b[38;5;241m=\u001b[39m\u001b[38;5;241m0.2\u001b[39m),\n\u001b[0;32m      5\u001b[0m     tf\u001b[38;5;241m.\u001b[39mkeras\u001b[38;5;241m.\u001b[39mlayers\u001b[38;5;241m.\u001b[39mDense(\u001b[38;5;241m60\u001b[39m),\n\u001b[0;32m      6\u001b[0m     tf\u001b[38;5;241m.\u001b[39mkeras\u001b[38;5;241m.\u001b[39mlayers\u001b[38;5;241m.\u001b[39mBatchNormalization(),\n\u001b[0;32m      7\u001b[0m     tf\u001b[38;5;241m.\u001b[39mkeras\u001b[38;5;241m.\u001b[39mlayers\u001b[38;5;241m.\u001b[39mLeakyReLU(alpha\u001b[38;5;241m=\u001b[39m\u001b[38;5;241m0.2\u001b[39m),\n\u001b[0;32m      8\u001b[0m     tf\u001b[38;5;241m.\u001b[39mkeras\u001b[38;5;241m.\u001b[39mlayers\u001b[38;5;241m.\u001b[39mDense(\u001b[38;5;241m20\u001b[39m),\n\u001b[0;32m      9\u001b[0m     tf\u001b[38;5;241m.\u001b[39mkeras\u001b[38;5;241m.\u001b[39mlayers\u001b[38;5;241m.\u001b[39mBatchNormalization(),\n\u001b[0;32m     10\u001b[0m     tf\u001b[38;5;241m.\u001b[39mkeras\u001b[38;5;241m.\u001b[39mlayers\u001b[38;5;241m.\u001b[39mLeakyReLU(alpha\u001b[38;5;241m=\u001b[39m\u001b[38;5;241m0.2\u001b[39m),\n\u001b[0;32m     11\u001b[0m     tf\u001b[38;5;241m.\u001b[39mkeras\u001b[38;5;241m.\u001b[39mlayers\u001b[38;5;241m.\u001b[39mDense(\u001b[38;5;241m10\u001b[39m),\n\u001b[0;32m     12\u001b[0m     tf\u001b[38;5;241m.\u001b[39mkeras\u001b[38;5;241m.\u001b[39mlayers\u001b[38;5;241m.\u001b[39mBatchNormalization(),\n\u001b[0;32m     13\u001b[0m     tf\u001b[38;5;241m.\u001b[39mkeras\u001b[38;5;241m.\u001b[39mlayers\u001b[38;5;241m.\u001b[39mLeakyReLU(alpha\u001b[38;5;241m=\u001b[39m\u001b[38;5;241m0.2\u001b[39m),\n\u001b[0;32m     14\u001b[0m     tf\u001b[38;5;241m.\u001b[39mkeras\u001b[38;5;241m.\u001b[39mlayers\u001b[38;5;241m.\u001b[39mDense(\u001b[38;5;241m1\u001b[39m, activation\u001b[38;5;241m=\u001b[39m\u001b[38;5;124m'\u001b[39m\u001b[38;5;124msoftplus\u001b[39m\u001b[38;5;124m'\u001b[39m)\n\u001b[0;32m     15\u001b[0m ])\n",
      "\u001b[1;31mNameError\u001b[0m: name 'tf' is not defined"
     ]
    }
   ],
   "source": [
    "model = tf.keras.Sequential([\n",
    "    tf.keras.layers.Dense(100, input_shape=[33]),\n",
    "    tf.keras.layers.BatchNormalization(),\n",
    "    tf.keras.layers.LeakyReLU(alpha=0.2),\n",
    "    tf.keras.layers.Dense(60),\n",
    "    tf.keras.layers.BatchNormalization(),\n",
    "    tf.keras.layers.LeakyReLU(alpha=0.2),\n",
    "    tf.keras.layers.Dense(20),\n",
    "    tf.keras.layers.BatchNormalization(),\n",
    "    tf.keras.layers.LeakyReLU(alpha=0.2),\n",
    "    tf.keras.layers.Dense(10),\n",
    "    tf.keras.layers.BatchNormalization(),\n",
    "    tf.keras.layers.LeakyReLU(alpha=0.2),\n",
    "    tf.keras.layers.Dense(1, activation='softplus')\n",
    "])"
   ]
  },
  {
   "cell_type": "code",
   "execution_count": null,
   "id": "88079d75",
   "metadata": {
    "ExecuteTime": {
     "end_time": "2023-12-08T14:31:10.624592Z",
     "start_time": "2023-12-08T14:31:10.624592Z"
    }
   },
   "outputs": [],
   "source": [
    "model.compile(optimizer = tf.keras.optimizers.Adam(learning_rate=0.0014), loss='mean_squared_logarithmic_error', metrics=['mse'])"
   ]
  },
  {
   "cell_type": "code",
   "execution_count": 54,
   "id": "c5d9ffe8",
   "metadata": {
    "ExecuteTime": {
     "end_time": "2023-12-08T06:57:39.969410Z",
     "start_time": "2023-12-08T06:57:39.962372Z"
    }
   },
   "outputs": [],
   "source": [
    "from keras.callbacks import EarlyStopping\n",
    "\n",
    "early_stopping = EarlyStopping(monitor='loss')"
   ]
  },
  {
   "cell_type": "code",
   "execution_count": 55,
   "id": "377e4003",
   "metadata": {
    "ExecuteTime": {
     "end_time": "2023-12-08T06:57:47.985744Z",
     "start_time": "2023-12-08T06:57:40.112527Z"
    }
   },
   "outputs": [
    {
     "name": "stdout",
     "output_type": "stream",
     "text": [
      "Epoch 1/20\n",
      "867/867 [==============================] - 3s 3ms/step - loss: 0.1998 - mse: 10.1691 - val_loss: 0.1992 - val_mse: 10.6995\n",
      "Epoch 2/20\n",
      "867/867 [==============================] - 2s 2ms/step - loss: 0.1996 - mse: 10.1643 - val_loss: 0.1985 - val_mse: 10.8075\n",
      "Epoch 3/20\n",
      "867/867 [==============================] - 2s 2ms/step - loss: 0.1998 - mse: 10.1610 - val_loss: 0.1983 - val_mse: 10.7352\n"
     ]
    }
   ],
   "source": [
    "history = model.fit(x_train, y_train, validation_data=(x_test, y_test), epochs=20, callbacks=early_stopping)"
   ]
  },
  {
   "cell_type": "code",
   "execution_count": 56,
   "id": "38819853",
   "metadata": {
    "ExecuteTime": {
     "end_time": "2023-12-08T06:57:50.457381Z",
     "start_time": "2023-12-08T06:57:50.431185Z"
    }
   },
   "outputs": [],
   "source": [
    "sub_file = pd.read_csv(\"../data/sample_submission.csv\")"
   ]
  },
  {
   "cell_type": "code",
   "execution_count": 57,
   "id": "8b0be793",
   "metadata": {
    "ExecuteTime": {
     "end_time": "2023-12-08T06:57:51.391120Z",
     "start_time": "2023-12-08T06:57:50.861306Z"
    }
   },
   "outputs": [
    {
     "name": "stdout",
     "output_type": "stream",
     "text": [
      "343/343 [==============================] - 0s 1ms/step\n"
     ]
    }
   ],
   "source": [
    "sub_file['ECLO'] = model.predict(df_test)"
   ]
  },
  {
   "cell_type": "code",
   "execution_count": 59,
   "id": "9d818c1a",
   "metadata": {
    "ExecuteTime": {
     "end_time": "2023-12-08T06:58:20.236524Z",
     "start_time": "2023-12-08T06:58:20.181037Z"
    }
   },
   "outputs": [],
   "source": [
    "sub_file.to_csv(\"../data/sub_file/017not_round_softplus.csv\", index=False)"
   ]
  },
  {
   "cell_type": "code",
   "execution_count": 60,
   "id": "58dc7ed6",
   "metadata": {
    "ExecuteTime": {
     "end_time": "2023-12-08T06:58:21.798995Z",
     "start_time": "2023-12-08T06:58:21.676581Z"
    }
   },
   "outputs": [
    {
     "data": {
      "text/plain": [
       "<AxesSubplot:>"
      ]
     },
     "execution_count": 60,
     "metadata": {},
     "output_type": "execute_result"
    },
    {
     "data": {
      "image/png": "[encoded data removed]",
      "text/plain": [
       "<Figure size 432x288 with 1 Axes>"
      ]
     },
     "metadata": {
      "image/png": {
       "height": 249,
       "width": 378
      },
      "needs_background": "light"
     },
     "output_type": "display_data"
    }
   ],
   "source": [
    "sub_file.ECLO.hist()"
   ]
  }
 ],
 "metadata": {
  "hide_input": false,
  "kernelspec": {
   "display_name": "Python 3 (ipykernel)",
   "language": "python",
   "name": "python3"
  },
  "language_info": {
   "codemirror_mode": {
    "name": "ipython",
    "version": 3
   },
   "file_extension": ".py",
   "mimetype": "text/x-python",
   "name": "python",
   "nbconvert_exporter": "python",
   "pygments_lexer": "ipython3",
   "version": "3.9.12"
  },
  "toc": {
   "base_numbering": 1,
   "nav_menu": {},
   "number_sections": true,
   "sideBar": true,
   "skip_h1_title": false,
   "title_cell": "Table of Contents",
   "title_sidebar": "Contents",
   "toc_cell": false,
   "toc_position": {},
   "toc_section_display": true,
   "toc_window_display": false
  },
  "varInspector": {
   "cols": {
    "lenName": 16,
    "lenType": 16,
    "lenVar": 40
   },
   "kernels_config": {
    "python": {
     "delete_cmd_postfix": "",
     "delete_cmd_prefix": "del ",
     "library": "var_list.py",
     "varRefreshCmd": "print(var_dic_list())"
    },
    "r": {
     "delete_cmd_postfix": ") ",
     "delete_cmd_prefix": "rm(",
     "library": "var_list.r",
     "varRefreshCmd": "cat(var_dic_list()) "
    }
   },
   "types_to_exclude": [
    "module",
    "function",
    "builtin_function_or_method",
    "instance",
    "_Feature"
   ],
   "window_display": false
  }
 },
 "nbformat": 4,
 "nbformat_minor": 5
}
