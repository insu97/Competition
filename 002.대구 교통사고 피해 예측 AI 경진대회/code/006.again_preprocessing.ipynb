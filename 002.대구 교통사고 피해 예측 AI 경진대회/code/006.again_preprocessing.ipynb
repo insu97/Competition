{
 "cells": [
  {
   "cell_type": "code",
   "execution_count": 1,
   "id": "e2b100a8",
   "metadata": {
    "ExecuteTime": {
     "end_time": "2023-12-01T06:18:15.596586Z",
     "start_time": "2023-12-01T06:18:14.484463Z"
    }
   },
   "outputs": [],
   "source": [
    "import pandas as pd"
   ]
  },
  {
   "cell_type": "code",
   "execution_count": 54,
   "id": "91859acd",
   "metadata": {
    "ExecuteTime": {
     "end_time": "2023-12-01T06:23:37.798502Z",
     "start_time": "2023-12-01T06:23:37.634722Z"
    }
   },
   "outputs": [],
   "source": [
    "df_train = pd.read_csv(\"../data/train.csv\")\n",
    "df_test = pd.read_csv(\"../data/test.csv\")\n",
    "\n",
    "target_col = ['사망자수','중상자수','경상자수','부상자수']\n",
    "\n",
    "use_col = df_test.columns.tolist()\n",
    "use_col.extend(target_col)\n",
    "\n",
    "df_train = df_train[use_col]"
   ]
  },
  {
   "cell_type": "code",
   "execution_count": 55,
   "id": "acd7abb0",
   "metadata": {
    "ExecuteTime": {
     "end_time": "2023-12-01T06:23:37.999984Z",
     "start_time": "2023-12-01T06:23:37.976611Z"
    }
   },
   "outputs": [
    {
     "data": {
      "text/html": [
       "<div>\n",
       "<style scoped>\n",
       "    .dataframe tbody tr th:only-of-type {\n",
       "        vertical-align: middle;\n",
       "    }\n",
       "\n",
       "    .dataframe tbody tr th {\n",
       "        vertical-align: top;\n",
       "    }\n",
       "\n",
       "    .dataframe thead th {\n",
       "        text-align: right;\n",
       "    }\n",
       "</style>\n",
       "<table border=\"1\" class=\"dataframe\">\n",
       "  <thead>\n",
       "    <tr style=\"text-align: right;\">\n",
       "      <th></th>\n",
       "      <th>ID</th>\n",
       "      <th>사고일시</th>\n",
       "      <th>요일</th>\n",
       "      <th>기상상태</th>\n",
       "      <th>시군구</th>\n",
       "      <th>도로형태</th>\n",
       "      <th>노면상태</th>\n",
       "      <th>사고유형</th>\n",
       "      <th>사망자수</th>\n",
       "      <th>중상자수</th>\n",
       "      <th>경상자수</th>\n",
       "      <th>부상자수</th>\n",
       "    </tr>\n",
       "  </thead>\n",
       "  <tbody>\n",
       "    <tr>\n",
       "      <th>0</th>\n",
       "      <td>ACCIDENT_00000</td>\n",
       "      <td>2019-01-01 00</td>\n",
       "      <td>화요일</td>\n",
       "      <td>맑음</td>\n",
       "      <td>대구광역시 중구 대신동</td>\n",
       "      <td>단일로 - 기타</td>\n",
       "      <td>건조</td>\n",
       "      <td>차대사람</td>\n",
       "      <td>0</td>\n",
       "      <td>1</td>\n",
       "      <td>0</td>\n",
       "      <td>0</td>\n",
       "    </tr>\n",
       "    <tr>\n",
       "      <th>1</th>\n",
       "      <td>ACCIDENT_00001</td>\n",
       "      <td>2019-01-01 00</td>\n",
       "      <td>화요일</td>\n",
       "      <td>흐림</td>\n",
       "      <td>대구광역시 달서구 감삼동</td>\n",
       "      <td>단일로 - 기타</td>\n",
       "      <td>건조</td>\n",
       "      <td>차대사람</td>\n",
       "      <td>0</td>\n",
       "      <td>0</td>\n",
       "      <td>1</td>\n",
       "      <td>0</td>\n",
       "    </tr>\n",
       "    <tr>\n",
       "      <th>2</th>\n",
       "      <td>ACCIDENT_00002</td>\n",
       "      <td>2019-01-01 01</td>\n",
       "      <td>화요일</td>\n",
       "      <td>맑음</td>\n",
       "      <td>대구광역시 수성구 두산동</td>\n",
       "      <td>단일로 - 기타</td>\n",
       "      <td>건조</td>\n",
       "      <td>차대사람</td>\n",
       "      <td>0</td>\n",
       "      <td>0</td>\n",
       "      <td>1</td>\n",
       "      <td>0</td>\n",
       "    </tr>\n",
       "    <tr>\n",
       "      <th>3</th>\n",
       "      <td>ACCIDENT_00003</td>\n",
       "      <td>2019-01-01 02</td>\n",
       "      <td>화요일</td>\n",
       "      <td>맑음</td>\n",
       "      <td>대구광역시 북구 복현동</td>\n",
       "      <td>단일로 - 기타</td>\n",
       "      <td>건조</td>\n",
       "      <td>차대차</td>\n",
       "      <td>0</td>\n",
       "      <td>1</td>\n",
       "      <td>0</td>\n",
       "      <td>0</td>\n",
       "    </tr>\n",
       "    <tr>\n",
       "      <th>4</th>\n",
       "      <td>ACCIDENT_00004</td>\n",
       "      <td>2019-01-01 04</td>\n",
       "      <td>화요일</td>\n",
       "      <td>맑음</td>\n",
       "      <td>대구광역시 동구 신암동</td>\n",
       "      <td>단일로 - 기타</td>\n",
       "      <td>건조</td>\n",
       "      <td>차대차</td>\n",
       "      <td>0</td>\n",
       "      <td>0</td>\n",
       "      <td>1</td>\n",
       "      <td>0</td>\n",
       "    </tr>\n",
       "  </tbody>\n",
       "</table>\n",
       "</div>"
      ],
      "text/plain": [
       "               ID           사고일시   요일 기상상태            시군구      도로형태 노면상태  \\\n",
       "0  ACCIDENT_00000  2019-01-01 00  화요일   맑음   대구광역시 중구 대신동  단일로 - 기타   건조   \n",
       "1  ACCIDENT_00001  2019-01-01 00  화요일   흐림  대구광역시 달서구 감삼동  단일로 - 기타   건조   \n",
       "2  ACCIDENT_00002  2019-01-01 01  화요일   맑음  대구광역시 수성구 두산동  단일로 - 기타   건조   \n",
       "3  ACCIDENT_00003  2019-01-01 02  화요일   맑음   대구광역시 북구 복현동  단일로 - 기타   건조   \n",
       "4  ACCIDENT_00004  2019-01-01 04  화요일   맑음   대구광역시 동구 신암동  단일로 - 기타   건조   \n",
       "\n",
       "   사고유형  사망자수  중상자수  경상자수  부상자수  \n",
       "0  차대사람     0     1     0     0  \n",
       "1  차대사람     0     0     1     0  \n",
       "2  차대사람     0     0     1     0  \n",
       "3   차대차     0     1     0     0  \n",
       "4   차대차     0     0     1     0  "
      ]
     },
     "execution_count": 55,
     "metadata": {},
     "output_type": "execute_result"
    }
   ],
   "source": [
    "df_train.head()"
   ]
  },
  {
   "cell_type": "markdown",
   "id": "738e31ff",
   "metadata": {},
   "source": [
    "# ID"
   ]
  },
  {
   "cell_type": "code",
   "execution_count": 56,
   "id": "a4d036bc",
   "metadata": {
    "ExecuteTime": {
     "end_time": "2023-12-01T06:23:38.720429Z",
     "start_time": "2023-12-01T06:23:38.700334Z"
    }
   },
   "outputs": [],
   "source": [
    "df_train.drop(['ID'], axis = 1,inplace = True)\n",
    "df_test.drop(['ID'], axis = 1,inplace = True)"
   ]
  },
  {
   "cell_type": "markdown",
   "id": "709574c3",
   "metadata": {},
   "source": [
    "# 사고일시"
   ]
  },
  {
   "cell_type": "code",
   "execution_count": 57,
   "id": "abede58e",
   "metadata": {
    "ExecuteTime": {
     "end_time": "2023-12-01T06:23:40.231135Z",
     "start_time": "2023-12-01T06:23:40.210278Z"
    }
   },
   "outputs": [
    {
     "data": {
      "text/plain": [
       "0    2019-01-01 00\n",
       "1    2019-01-01 00\n",
       "2    2019-01-01 01\n",
       "3    2019-01-01 02\n",
       "4    2019-01-01 04\n",
       "Name: 사고일시, dtype: object"
      ]
     },
     "execution_count": 57,
     "metadata": {},
     "output_type": "execute_result"
    }
   ],
   "source": [
    "df_train['사고일시'].head()"
   ]
  },
  {
   "cell_type": "code",
   "execution_count": 58,
   "id": "feeac2eb",
   "metadata": {
    "ExecuteTime": {
     "end_time": "2023-12-01T06:23:44.539468Z",
     "start_time": "2023-12-01T06:23:44.480778Z"
    }
   },
   "outputs": [
    {
     "data": {
      "text/plain": [
       "18    3398\n",
       "17    2772\n",
       "19    2739\n",
       "16    2529\n",
       "15    2374\n",
       "14    2342\n",
       "13    2198\n",
       "20    2154\n",
       "12    2104\n",
       "11    2016\n",
       "08    1924\n",
       "10    1803\n",
       "21    1749\n",
       "09    1735\n",
       "22    1506\n",
       "07    1213\n",
       "23    1096\n",
       "00     828\n",
       "06     750\n",
       "01     669\n",
       "02     520\n",
       "05     467\n",
       "04     367\n",
       "03     356\n",
       "Name: 1, dtype: int64"
      ]
     },
     "execution_count": 58,
     "metadata": {},
     "output_type": "execute_result"
    }
   ],
   "source": [
    "df_train['사고일시'].str.split(expand=True)[1].value_counts()"
   ]
  },
  {
   "cell_type": "code",
   "execution_count": 59,
   "id": "134eff7f",
   "metadata": {
    "ExecuteTime": {
     "end_time": "2023-12-01T06:23:45.317597Z",
     "start_time": "2023-12-01T06:23:44.990304Z"
    }
   },
   "outputs": [],
   "source": [
    "df_train['time'] = df_train['사고일시'].str.split(expand=True)[1]\n",
    "df_test['time'] = df_test['사고일시'].str.split(expand=True)[1]"
   ]
  },
  {
   "cell_type": "code",
   "execution_count": 60,
   "id": "a7c1a69e",
   "metadata": {
    "ExecuteTime": {
     "end_time": "2023-12-01T06:23:53.927700Z",
     "start_time": "2023-12-01T06:23:53.902699Z"
    }
   },
   "outputs": [],
   "source": [
    "df_train.drop(['사고일시'], axis = 1,inplace = True)\n",
    "df_test.drop(['사고일시'], axis = 1,inplace = True)"
   ]
  },
  {
   "cell_type": "code",
   "execution_count": 61,
   "id": "d4c01d39",
   "metadata": {
    "ExecuteTime": {
     "end_time": "2023-12-01T06:23:57.488461Z",
     "start_time": "2023-12-01T06:23:57.469503Z"
    }
   },
   "outputs": [
    {
     "data": {
      "text/html": [
       "<div>\n",
       "<style scoped>\n",
       "    .dataframe tbody tr th:only-of-type {\n",
       "        vertical-align: middle;\n",
       "    }\n",
       "\n",
       "    .dataframe tbody tr th {\n",
       "        vertical-align: top;\n",
       "    }\n",
       "\n",
       "    .dataframe thead th {\n",
       "        text-align: right;\n",
       "    }\n",
       "</style>\n",
       "<table border=\"1\" class=\"dataframe\">\n",
       "  <thead>\n",
       "    <tr style=\"text-align: right;\">\n",
       "      <th></th>\n",
       "      <th>요일</th>\n",
       "      <th>기상상태</th>\n",
       "      <th>시군구</th>\n",
       "      <th>도로형태</th>\n",
       "      <th>노면상태</th>\n",
       "      <th>사고유형</th>\n",
       "      <th>사망자수</th>\n",
       "      <th>중상자수</th>\n",
       "      <th>경상자수</th>\n",
       "      <th>부상자수</th>\n",
       "      <th>time</th>\n",
       "    </tr>\n",
       "  </thead>\n",
       "  <tbody>\n",
       "    <tr>\n",
       "      <th>0</th>\n",
       "      <td>화요일</td>\n",
       "      <td>맑음</td>\n",
       "      <td>대구광역시 중구 대신동</td>\n",
       "      <td>단일로 - 기타</td>\n",
       "      <td>건조</td>\n",
       "      <td>차대사람</td>\n",
       "      <td>0</td>\n",
       "      <td>1</td>\n",
       "      <td>0</td>\n",
       "      <td>0</td>\n",
       "      <td>00</td>\n",
       "    </tr>\n",
       "    <tr>\n",
       "      <th>1</th>\n",
       "      <td>화요일</td>\n",
       "      <td>흐림</td>\n",
       "      <td>대구광역시 달서구 감삼동</td>\n",
       "      <td>단일로 - 기타</td>\n",
       "      <td>건조</td>\n",
       "      <td>차대사람</td>\n",
       "      <td>0</td>\n",
       "      <td>0</td>\n",
       "      <td>1</td>\n",
       "      <td>0</td>\n",
       "      <td>00</td>\n",
       "    </tr>\n",
       "    <tr>\n",
       "      <th>2</th>\n",
       "      <td>화요일</td>\n",
       "      <td>맑음</td>\n",
       "      <td>대구광역시 수성구 두산동</td>\n",
       "      <td>단일로 - 기타</td>\n",
       "      <td>건조</td>\n",
       "      <td>차대사람</td>\n",
       "      <td>0</td>\n",
       "      <td>0</td>\n",
       "      <td>1</td>\n",
       "      <td>0</td>\n",
       "      <td>01</td>\n",
       "    </tr>\n",
       "    <tr>\n",
       "      <th>3</th>\n",
       "      <td>화요일</td>\n",
       "      <td>맑음</td>\n",
       "      <td>대구광역시 북구 복현동</td>\n",
       "      <td>단일로 - 기타</td>\n",
       "      <td>건조</td>\n",
       "      <td>차대차</td>\n",
       "      <td>0</td>\n",
       "      <td>1</td>\n",
       "      <td>0</td>\n",
       "      <td>0</td>\n",
       "      <td>02</td>\n",
       "    </tr>\n",
       "    <tr>\n",
       "      <th>4</th>\n",
       "      <td>화요일</td>\n",
       "      <td>맑음</td>\n",
       "      <td>대구광역시 동구 신암동</td>\n",
       "      <td>단일로 - 기타</td>\n",
       "      <td>건조</td>\n",
       "      <td>차대차</td>\n",
       "      <td>0</td>\n",
       "      <td>0</td>\n",
       "      <td>1</td>\n",
       "      <td>0</td>\n",
       "      <td>04</td>\n",
       "    </tr>\n",
       "  </tbody>\n",
       "</table>\n",
       "</div>"
      ],
      "text/plain": [
       "    요일 기상상태            시군구      도로형태 노면상태  사고유형  사망자수  중상자수  경상자수  부상자수 time\n",
       "0  화요일   맑음   대구광역시 중구 대신동  단일로 - 기타   건조  차대사람     0     1     0     0   00\n",
       "1  화요일   흐림  대구광역시 달서구 감삼동  단일로 - 기타   건조  차대사람     0     0     1     0   00\n",
       "2  화요일   맑음  대구광역시 수성구 두산동  단일로 - 기타   건조  차대사람     0     0     1     0   01\n",
       "3  화요일   맑음   대구광역시 북구 복현동  단일로 - 기타   건조   차대차     0     1     0     0   02\n",
       "4  화요일   맑음   대구광역시 동구 신암동  단일로 - 기타   건조   차대차     0     0     1     0   04"
      ]
     },
     "execution_count": 61,
     "metadata": {},
     "output_type": "execute_result"
    }
   ],
   "source": [
    "df_train.head()"
   ]
  },
  {
   "cell_type": "markdown",
   "id": "653bffc6",
   "metadata": {},
   "source": [
    "# 요일"
   ]
  },
  {
   "cell_type": "code",
   "execution_count": 63,
   "id": "72fd219a",
   "metadata": {
    "ExecuteTime": {
     "end_time": "2023-12-01T06:24:51.147343Z",
     "start_time": "2023-12-01T06:24:51.134048Z"
    }
   },
   "outputs": [
    {
     "data": {
      "text/plain": [
       "금요일    6179\n",
       "화요일    6023\n",
       "수요일    5969\n",
       "월요일    5895\n",
       "목요일    5759\n",
       "토요일    5670\n",
       "일요일    4114\n",
       "Name: 요일, dtype: int64"
      ]
     },
     "execution_count": 63,
     "metadata": {},
     "output_type": "execute_result"
    }
   ],
   "source": [
    "df_train.요일.value_counts()"
   ]
  },
  {
   "cell_type": "code",
   "execution_count": 64,
   "id": "4ef61812",
   "metadata": {
    "ExecuteTime": {
     "end_time": "2023-12-01T06:25:00.718027Z",
     "start_time": "2023-12-01T06:25:00.703397Z"
    }
   },
   "outputs": [
    {
     "data": {
      "text/plain": [
       "금요일    1743\n",
       "토요일    1638\n",
       "목요일    1636\n",
       "화요일    1599\n",
       "수요일    1592\n",
       "월요일    1587\n",
       "일요일    1168\n",
       "Name: 요일, dtype: int64"
      ]
     },
     "execution_count": 64,
     "metadata": {},
     "output_type": "execute_result"
    }
   ],
   "source": [
    "df_test.요일.value_counts()"
   ]
  },
  {
   "cell_type": "code",
   "execution_count": 65,
   "id": "238f91ba",
   "metadata": {
    "ExecuteTime": {
     "end_time": "2023-12-01T06:25:22.041928Z",
     "start_time": "2023-12-01T06:25:22.012035Z"
    }
   },
   "outputs": [],
   "source": [
    "df_train = pd.concat([df_train, pd.get_dummies(df_train['요일'])], axis=1)\n",
    "\n",
    "df_test = pd.concat([df_test, pd.get_dummies(df_test['요일'])], axis=1)"
   ]
  },
  {
   "cell_type": "code",
   "execution_count": 66,
   "id": "aeacaaa2",
   "metadata": {
    "ExecuteTime": {
     "end_time": "2023-12-01T06:25:28.346928Z",
     "start_time": "2023-12-01T06:25:28.330188Z"
    }
   },
   "outputs": [],
   "source": [
    "df_train.drop(['요일'], axis = 1,inplace = True)\n",
    "df_test.drop(['요일'], axis = 1,inplace = True)"
   ]
  },
  {
   "cell_type": "code",
   "execution_count": 69,
   "id": "eb94e322",
   "metadata": {
    "ExecuteTime": {
     "end_time": "2023-12-01T06:25:47.102650Z",
     "start_time": "2023-12-01T06:25:47.079756Z"
    }
   },
   "outputs": [
    {
     "data": {
      "text/html": [
       "<div>\n",
       "<style scoped>\n",
       "    .dataframe tbody tr th:only-of-type {\n",
       "        vertical-align: middle;\n",
       "    }\n",
       "\n",
       "    .dataframe tbody tr th {\n",
       "        vertical-align: top;\n",
       "    }\n",
       "\n",
       "    .dataframe thead th {\n",
       "        text-align: right;\n",
       "    }\n",
       "</style>\n",
       "<table border=\"1\" class=\"dataframe\">\n",
       "  <thead>\n",
       "    <tr style=\"text-align: right;\">\n",
       "      <th></th>\n",
       "      <th>기상상태</th>\n",
       "      <th>시군구</th>\n",
       "      <th>도로형태</th>\n",
       "      <th>노면상태</th>\n",
       "      <th>사고유형</th>\n",
       "      <th>사망자수</th>\n",
       "      <th>중상자수</th>\n",
       "      <th>경상자수</th>\n",
       "      <th>부상자수</th>\n",
       "      <th>time</th>\n",
       "      <th>금요일</th>\n",
       "      <th>목요일</th>\n",
       "      <th>수요일</th>\n",
       "      <th>월요일</th>\n",
       "      <th>일요일</th>\n",
       "      <th>토요일</th>\n",
       "      <th>화요일</th>\n",
       "    </tr>\n",
       "  </thead>\n",
       "  <tbody>\n",
       "    <tr>\n",
       "      <th>0</th>\n",
       "      <td>맑음</td>\n",
       "      <td>대구광역시 중구 대신동</td>\n",
       "      <td>단일로 - 기타</td>\n",
       "      <td>건조</td>\n",
       "      <td>차대사람</td>\n",
       "      <td>0</td>\n",
       "      <td>1</td>\n",
       "      <td>0</td>\n",
       "      <td>0</td>\n",
       "      <td>00</td>\n",
       "      <td>0</td>\n",
       "      <td>0</td>\n",
       "      <td>0</td>\n",
       "      <td>0</td>\n",
       "      <td>0</td>\n",
       "      <td>0</td>\n",
       "      <td>1</td>\n",
       "    </tr>\n",
       "    <tr>\n",
       "      <th>1</th>\n",
       "      <td>흐림</td>\n",
       "      <td>대구광역시 달서구 감삼동</td>\n",
       "      <td>단일로 - 기타</td>\n",
       "      <td>건조</td>\n",
       "      <td>차대사람</td>\n",
       "      <td>0</td>\n",
       "      <td>0</td>\n",
       "      <td>1</td>\n",
       "      <td>0</td>\n",
       "      <td>00</td>\n",
       "      <td>0</td>\n",
       "      <td>0</td>\n",
       "      <td>0</td>\n",
       "      <td>0</td>\n",
       "      <td>0</td>\n",
       "      <td>0</td>\n",
       "      <td>1</td>\n",
       "    </tr>\n",
       "    <tr>\n",
       "      <th>2</th>\n",
       "      <td>맑음</td>\n",
       "      <td>대구광역시 수성구 두산동</td>\n",
       "      <td>단일로 - 기타</td>\n",
       "      <td>건조</td>\n",
       "      <td>차대사람</td>\n",
       "      <td>0</td>\n",
       "      <td>0</td>\n",
       "      <td>1</td>\n",
       "      <td>0</td>\n",
       "      <td>01</td>\n",
       "      <td>0</td>\n",
       "      <td>0</td>\n",
       "      <td>0</td>\n",
       "      <td>0</td>\n",
       "      <td>0</td>\n",
       "      <td>0</td>\n",
       "      <td>1</td>\n",
       "    </tr>\n",
       "    <tr>\n",
       "      <th>3</th>\n",
       "      <td>맑음</td>\n",
       "      <td>대구광역시 북구 복현동</td>\n",
       "      <td>단일로 - 기타</td>\n",
       "      <td>건조</td>\n",
       "      <td>차대차</td>\n",
       "      <td>0</td>\n",
       "      <td>1</td>\n",
       "      <td>0</td>\n",
       "      <td>0</td>\n",
       "      <td>02</td>\n",
       "      <td>0</td>\n",
       "      <td>0</td>\n",
       "      <td>0</td>\n",
       "      <td>0</td>\n",
       "      <td>0</td>\n",
       "      <td>0</td>\n",
       "      <td>1</td>\n",
       "    </tr>\n",
       "    <tr>\n",
       "      <th>4</th>\n",
       "      <td>맑음</td>\n",
       "      <td>대구광역시 동구 신암동</td>\n",
       "      <td>단일로 - 기타</td>\n",
       "      <td>건조</td>\n",
       "      <td>차대차</td>\n",
       "      <td>0</td>\n",
       "      <td>0</td>\n",
       "      <td>1</td>\n",
       "      <td>0</td>\n",
       "      <td>04</td>\n",
       "      <td>0</td>\n",
       "      <td>0</td>\n",
       "      <td>0</td>\n",
       "      <td>0</td>\n",
       "      <td>0</td>\n",
       "      <td>0</td>\n",
       "      <td>1</td>\n",
       "    </tr>\n",
       "  </tbody>\n",
       "</table>\n",
       "</div>"
      ],
      "text/plain": [
       "  기상상태            시군구      도로형태 노면상태  사고유형  사망자수  중상자수  경상자수  부상자수 time  금요일  \\\n",
       "0   맑음   대구광역시 중구 대신동  단일로 - 기타   건조  차대사람     0     1     0     0   00    0   \n",
       "1   흐림  대구광역시 달서구 감삼동  단일로 - 기타   건조  차대사람     0     0     1     0   00    0   \n",
       "2   맑음  대구광역시 수성구 두산동  단일로 - 기타   건조  차대사람     0     0     1     0   01    0   \n",
       "3   맑음   대구광역시 북구 복현동  단일로 - 기타   건조   차대차     0     1     0     0   02    0   \n",
       "4   맑음   대구광역시 동구 신암동  단일로 - 기타   건조   차대차     0     0     1     0   04    0   \n",
       "\n",
       "   목요일  수요일  월요일  일요일  토요일  화요일  \n",
       "0    0    0    0    0    0    1  \n",
       "1    0    0    0    0    0    1  \n",
       "2    0    0    0    0    0    1  \n",
       "3    0    0    0    0    0    1  \n",
       "4    0    0    0    0    0    1  "
      ]
     },
     "execution_count": 69,
     "metadata": {},
     "output_type": "execute_result"
    }
   ],
   "source": [
    "df_train.head()"
   ]
  },
  {
   "cell_type": "markdown",
   "id": "7b84a625",
   "metadata": {},
   "source": [
    "# 기상상태"
   ]
  },
  {
   "cell_type": "code",
   "execution_count": 70,
   "id": "2db257aa",
   "metadata": {
    "ExecuteTime": {
     "end_time": "2023-12-01T06:25:58.067791Z",
     "start_time": "2023-12-01T06:25:58.047384Z"
    }
   },
   "outputs": [
    {
     "data": {
      "text/plain": [
       "맑음    36181\n",
       "비      2627\n",
       "흐림      729\n",
       "기타       56\n",
       "안개        8\n",
       "눈         8\n",
       "Name: 기상상태, dtype: int64"
      ]
     },
     "execution_count": 70,
     "metadata": {},
     "output_type": "execute_result"
    }
   ],
   "source": [
    "df_train['기상상태'].value_counts()"
   ]
  },
  {
   "cell_type": "code",
   "execution_count": 71,
   "id": "fb98b89f",
   "metadata": {
    "ExecuteTime": {
     "end_time": "2023-12-01T06:26:02.407052Z",
     "start_time": "2023-12-01T06:26:02.383679Z"
    }
   },
   "outputs": [
    {
     "data": {
      "text/plain": [
       "맑음    10321\n",
       "비       394\n",
       "흐림      207\n",
       "기타       31\n",
       "눈        10\n",
       "Name: 기상상태, dtype: int64"
      ]
     },
     "execution_count": 71,
     "metadata": {},
     "output_type": "execute_result"
    }
   ],
   "source": [
    "df_test['기상상태'].value_counts()"
   ]
  },
  {
   "cell_type": "code",
   "execution_count": 72,
   "id": "8084c787",
   "metadata": {
    "ExecuteTime": {
     "end_time": "2023-12-01T06:26:21.898886Z",
     "start_time": "2023-12-01T06:26:21.880357Z"
    }
   },
   "outputs": [],
   "source": [
    "df_train.drop(df_train[df_train['기상상태'] == '안개'].index, axis = 0, inplace = True)\n",
    "\n",
    "df_train.reset_index(drop=True, inplace = True)"
   ]
  },
  {
   "cell_type": "code",
   "execution_count": 73,
   "id": "9b0c120e",
   "metadata": {
    "ExecuteTime": {
     "end_time": "2023-12-01T06:27:06.077511Z",
     "start_time": "2023-12-01T06:27:06.048327Z"
    }
   },
   "outputs": [],
   "source": [
    "df_train = pd.concat([df_train, pd.get_dummies(df_train['기상상태'])], axis=1)\n",
    "\n",
    "df_test = pd.concat([df_test, pd.get_dummies(df_test['기상상태'])], axis=1)\n",
    "\n",
    "df_train.drop(['기상상태'], axis=1, inplace = True)\n",
    "df_test.drop(['기상상태'], axis=1, inplace = True)"
   ]
  },
  {
   "cell_type": "code",
   "execution_count": 74,
   "id": "991f3e9c",
   "metadata": {
    "ExecuteTime": {
     "end_time": "2023-12-01T06:27:10.169770Z",
     "start_time": "2023-12-01T06:27:10.147033Z"
    }
   },
   "outputs": [],
   "source": [
    "df_train.drop(columns='기타', axis=1,inplace=True)\n",
    "df_test.drop(columns='기타', axis=1,inplace=True)"
   ]
  },
  {
   "cell_type": "code",
   "execution_count": 77,
   "id": "d48731e8",
   "metadata": {
    "ExecuteTime": {
     "end_time": "2023-12-01T06:27:18.631494Z",
     "start_time": "2023-12-01T06:27:18.612544Z"
    }
   },
   "outputs": [
    {
     "data": {
      "text/html": [
       "<div>\n",
       "<style scoped>\n",
       "    .dataframe tbody tr th:only-of-type {\n",
       "        vertical-align: middle;\n",
       "    }\n",
       "\n",
       "    .dataframe tbody tr th {\n",
       "        vertical-align: top;\n",
       "    }\n",
       "\n",
       "    .dataframe thead th {\n",
       "        text-align: right;\n",
       "    }\n",
       "</style>\n",
       "<table border=\"1\" class=\"dataframe\">\n",
       "  <thead>\n",
       "    <tr style=\"text-align: right;\">\n",
       "      <th></th>\n",
       "      <th>시군구</th>\n",
       "      <th>도로형태</th>\n",
       "      <th>노면상태</th>\n",
       "      <th>사고유형</th>\n",
       "      <th>사망자수</th>\n",
       "      <th>중상자수</th>\n",
       "      <th>경상자수</th>\n",
       "      <th>부상자수</th>\n",
       "      <th>time</th>\n",
       "      <th>금요일</th>\n",
       "      <th>목요일</th>\n",
       "      <th>수요일</th>\n",
       "      <th>월요일</th>\n",
       "      <th>일요일</th>\n",
       "      <th>토요일</th>\n",
       "      <th>화요일</th>\n",
       "      <th>눈</th>\n",
       "      <th>맑음</th>\n",
       "      <th>비</th>\n",
       "      <th>흐림</th>\n",
       "    </tr>\n",
       "  </thead>\n",
       "  <tbody>\n",
       "    <tr>\n",
       "      <th>0</th>\n",
       "      <td>대구광역시 중구 대신동</td>\n",
       "      <td>단일로 - 기타</td>\n",
       "      <td>건조</td>\n",
       "      <td>차대사람</td>\n",
       "      <td>0</td>\n",
       "      <td>1</td>\n",
       "      <td>0</td>\n",
       "      <td>0</td>\n",
       "      <td>00</td>\n",
       "      <td>0</td>\n",
       "      <td>0</td>\n",
       "      <td>0</td>\n",
       "      <td>0</td>\n",
       "      <td>0</td>\n",
       "      <td>0</td>\n",
       "      <td>1</td>\n",
       "      <td>0</td>\n",
       "      <td>1</td>\n",
       "      <td>0</td>\n",
       "      <td>0</td>\n",
       "    </tr>\n",
       "    <tr>\n",
       "      <th>1</th>\n",
       "      <td>대구광역시 달서구 감삼동</td>\n",
       "      <td>단일로 - 기타</td>\n",
       "      <td>건조</td>\n",
       "      <td>차대사람</td>\n",
       "      <td>0</td>\n",
       "      <td>0</td>\n",
       "      <td>1</td>\n",
       "      <td>0</td>\n",
       "      <td>00</td>\n",
       "      <td>0</td>\n",
       "      <td>0</td>\n",
       "      <td>0</td>\n",
       "      <td>0</td>\n",
       "      <td>0</td>\n",
       "      <td>0</td>\n",
       "      <td>1</td>\n",
       "      <td>0</td>\n",
       "      <td>0</td>\n",
       "      <td>0</td>\n",
       "      <td>1</td>\n",
       "    </tr>\n",
       "  </tbody>\n",
       "</table>\n",
       "</div>"
      ],
      "text/plain": [
       "             시군구      도로형태 노면상태  사고유형  사망자수  중상자수  경상자수  부상자수 time  금요일  목요일  \\\n",
       "0   대구광역시 중구 대신동  단일로 - 기타   건조  차대사람     0     1     0     0   00    0    0   \n",
       "1  대구광역시 달서구 감삼동  단일로 - 기타   건조  차대사람     0     0     1     0   00    0    0   \n",
       "\n",
       "   수요일  월요일  일요일  토요일  화요일  눈  맑음  비  흐림  \n",
       "0    0    0    0    0    1  0   1  0   0  \n",
       "1    0    0    0    0    1  0   0  0   1  "
      ]
     },
     "execution_count": 77,
     "metadata": {},
     "output_type": "execute_result"
    }
   ],
   "source": [
    "df_train.head(2)"
   ]
  },
  {
   "cell_type": "markdown",
   "id": "8c0a059e",
   "metadata": {},
   "source": [
    "# 시군구"
   ]
  },
  {
   "cell_type": "code",
   "execution_count": 78,
   "id": "e364626e",
   "metadata": {
    "ExecuteTime": {
     "end_time": "2023-12-01T06:28:29.095154Z",
     "start_time": "2023-12-01T06:28:27.320302Z"
    }
   },
   "outputs": [],
   "source": [
    "df_train['구'] = ''\n",
    "\n",
    "for i in range(len(df_train)):\n",
    "    df_train.iloc[i, 20] = df_train.iloc[i, 0].split()[1]\n",
    "\n",
    "df_train.drop(['시군구'], axis=1, inplace = True)"
   ]
  },
  {
   "cell_type": "code",
   "execution_count": 81,
   "id": "cff289c3",
   "metadata": {
    "ExecuteTime": {
     "end_time": "2023-12-01T06:28:59.715238Z",
     "start_time": "2023-12-01T06:28:59.220288Z"
    }
   },
   "outputs": [],
   "source": [
    "df_test['구'] = ''\n",
    "\n",
    "for i in range(len(df_test)):\n",
    "    df_test.iloc[i, -1] = df_test.iloc[i, 0].split()[1]\n",
    "\n",
    "df_test.drop(['시군구'], axis=1, inplace = True)"
   ]
  },
  {
   "cell_type": "code",
   "execution_count": 82,
   "id": "3e70653b",
   "metadata": {
    "ExecuteTime": {
     "end_time": "2023-12-01T06:29:01.389889Z",
     "start_time": "2023-12-01T06:29:01.366831Z"
    }
   },
   "outputs": [],
   "source": [
    "df_train = pd.concat([df_train, pd.get_dummies(df_train['구'])], axis=1)\n",
    "\n",
    "df_test = pd.concat([df_test, pd.get_dummies(df_test['구'])], axis=1)"
   ]
  },
  {
   "cell_type": "code",
   "execution_count": 83,
   "id": "9ec28725",
   "metadata": {
    "ExecuteTime": {
     "end_time": "2023-12-01T06:29:02.697525Z",
     "start_time": "2023-12-01T06:29:02.678579Z"
    }
   },
   "outputs": [],
   "source": [
    "df_train.drop(['구'], axis = 1,inplace = True)\n",
    "df_test.drop(['구'], axis = 1,inplace = True)"
   ]
  },
  {
   "cell_type": "code",
   "execution_count": 84,
   "id": "a0fe7553",
   "metadata": {
    "ExecuteTime": {
     "end_time": "2023-12-01T06:29:05.990446Z",
     "start_time": "2023-12-01T06:29:05.966239Z"
    }
   },
   "outputs": [
    {
     "data": {
      "text/html": [
       "<div>\n",
       "<style scoped>\n",
       "    .dataframe tbody tr th:only-of-type {\n",
       "        vertical-align: middle;\n",
       "    }\n",
       "\n",
       "    .dataframe tbody tr th {\n",
       "        vertical-align: top;\n",
       "    }\n",
       "\n",
       "    .dataframe thead th {\n",
       "        text-align: right;\n",
       "    }\n",
       "</style>\n",
       "<table border=\"1\" class=\"dataframe\">\n",
       "  <thead>\n",
       "    <tr style=\"text-align: right;\">\n",
       "      <th></th>\n",
       "      <th>도로형태</th>\n",
       "      <th>노면상태</th>\n",
       "      <th>사고유형</th>\n",
       "      <th>사망자수</th>\n",
       "      <th>중상자수</th>\n",
       "      <th>경상자수</th>\n",
       "      <th>부상자수</th>\n",
       "      <th>time</th>\n",
       "      <th>금요일</th>\n",
       "      <th>목요일</th>\n",
       "      <th>...</th>\n",
       "      <th>비</th>\n",
       "      <th>흐림</th>\n",
       "      <th>남구</th>\n",
       "      <th>달서구</th>\n",
       "      <th>달성군</th>\n",
       "      <th>동구</th>\n",
       "      <th>북구</th>\n",
       "      <th>서구</th>\n",
       "      <th>수성구</th>\n",
       "      <th>중구</th>\n",
       "    </tr>\n",
       "  </thead>\n",
       "  <tbody>\n",
       "    <tr>\n",
       "      <th>0</th>\n",
       "      <td>단일로 - 기타</td>\n",
       "      <td>건조</td>\n",
       "      <td>차대사람</td>\n",
       "      <td>0</td>\n",
       "      <td>1</td>\n",
       "      <td>0</td>\n",
       "      <td>0</td>\n",
       "      <td>00</td>\n",
       "      <td>0</td>\n",
       "      <td>0</td>\n",
       "      <td>...</td>\n",
       "      <td>0</td>\n",
       "      <td>0</td>\n",
       "      <td>0</td>\n",
       "      <td>0</td>\n",
       "      <td>0</td>\n",
       "      <td>0</td>\n",
       "      <td>0</td>\n",
       "      <td>0</td>\n",
       "      <td>0</td>\n",
       "      <td>1</td>\n",
       "    </tr>\n",
       "    <tr>\n",
       "      <th>1</th>\n",
       "      <td>단일로 - 기타</td>\n",
       "      <td>건조</td>\n",
       "      <td>차대사람</td>\n",
       "      <td>0</td>\n",
       "      <td>0</td>\n",
       "      <td>1</td>\n",
       "      <td>0</td>\n",
       "      <td>00</td>\n",
       "      <td>0</td>\n",
       "      <td>0</td>\n",
       "      <td>...</td>\n",
       "      <td>0</td>\n",
       "      <td>1</td>\n",
       "      <td>0</td>\n",
       "      <td>1</td>\n",
       "      <td>0</td>\n",
       "      <td>0</td>\n",
       "      <td>0</td>\n",
       "      <td>0</td>\n",
       "      <td>0</td>\n",
       "      <td>0</td>\n",
       "    </tr>\n",
       "    <tr>\n",
       "      <th>2</th>\n",
       "      <td>단일로 - 기타</td>\n",
       "      <td>건조</td>\n",
       "      <td>차대사람</td>\n",
       "      <td>0</td>\n",
       "      <td>0</td>\n",
       "      <td>1</td>\n",
       "      <td>0</td>\n",
       "      <td>01</td>\n",
       "      <td>0</td>\n",
       "      <td>0</td>\n",
       "      <td>...</td>\n",
       "      <td>0</td>\n",
       "      <td>0</td>\n",
       "      <td>0</td>\n",
       "      <td>0</td>\n",
       "      <td>0</td>\n",
       "      <td>0</td>\n",
       "      <td>0</td>\n",
       "      <td>0</td>\n",
       "      <td>1</td>\n",
       "      <td>0</td>\n",
       "    </tr>\n",
       "    <tr>\n",
       "      <th>3</th>\n",
       "      <td>단일로 - 기타</td>\n",
       "      <td>건조</td>\n",
       "      <td>차대차</td>\n",
       "      <td>0</td>\n",
       "      <td>1</td>\n",
       "      <td>0</td>\n",
       "      <td>0</td>\n",
       "      <td>02</td>\n",
       "      <td>0</td>\n",
       "      <td>0</td>\n",
       "      <td>...</td>\n",
       "      <td>0</td>\n",
       "      <td>0</td>\n",
       "      <td>0</td>\n",
       "      <td>0</td>\n",
       "      <td>0</td>\n",
       "      <td>0</td>\n",
       "      <td>1</td>\n",
       "      <td>0</td>\n",
       "      <td>0</td>\n",
       "      <td>0</td>\n",
       "    </tr>\n",
       "    <tr>\n",
       "      <th>4</th>\n",
       "      <td>단일로 - 기타</td>\n",
       "      <td>건조</td>\n",
       "      <td>차대차</td>\n",
       "      <td>0</td>\n",
       "      <td>0</td>\n",
       "      <td>1</td>\n",
       "      <td>0</td>\n",
       "      <td>04</td>\n",
       "      <td>0</td>\n",
       "      <td>0</td>\n",
       "      <td>...</td>\n",
       "      <td>0</td>\n",
       "      <td>0</td>\n",
       "      <td>0</td>\n",
       "      <td>0</td>\n",
       "      <td>0</td>\n",
       "      <td>1</td>\n",
       "      <td>0</td>\n",
       "      <td>0</td>\n",
       "      <td>0</td>\n",
       "      <td>0</td>\n",
       "    </tr>\n",
       "  </tbody>\n",
       "</table>\n",
       "<p>5 rows × 27 columns</p>\n",
       "</div>"
      ],
      "text/plain": [
       "       도로형태 노면상태  사고유형  사망자수  중상자수  경상자수  부상자수 time  금요일  목요일  ...  비  흐림  남구  \\\n",
       "0  단일로 - 기타   건조  차대사람     0     1     0     0   00    0    0  ...  0   0   0   \n",
       "1  단일로 - 기타   건조  차대사람     0     0     1     0   00    0    0  ...  0   1   0   \n",
       "2  단일로 - 기타   건조  차대사람     0     0     1     0   01    0    0  ...  0   0   0   \n",
       "3  단일로 - 기타   건조   차대차     0     1     0     0   02    0    0  ...  0   0   0   \n",
       "4  단일로 - 기타   건조   차대차     0     0     1     0   04    0    0  ...  0   0   0   \n",
       "\n",
       "   달서구  달성군  동구  북구  서구  수성구  중구  \n",
       "0    0    0   0   0   0    0   1  \n",
       "1    1    0   0   0   0    0   0  \n",
       "2    0    0   0   0   0    1   0  \n",
       "3    0    0   0   1   0    0   0  \n",
       "4    0    0   1   0   0    0   0  \n",
       "\n",
       "[5 rows x 27 columns]"
      ]
     },
     "execution_count": 84,
     "metadata": {},
     "output_type": "execute_result"
    }
   ],
   "source": [
    "df_train.head()"
   ]
  },
  {
   "cell_type": "code",
   "execution_count": 85,
   "id": "6686cd53",
   "metadata": {
    "ExecuteTime": {
     "end_time": "2023-12-01T06:29:06.519305Z",
     "start_time": "2023-12-01T06:29:06.489583Z"
    }
   },
   "outputs": [
    {
     "data": {
      "text/html": [
       "<div>\n",
       "<style scoped>\n",
       "    .dataframe tbody tr th:only-of-type {\n",
       "        vertical-align: middle;\n",
       "    }\n",
       "\n",
       "    .dataframe tbody tr th {\n",
       "        vertical-align: top;\n",
       "    }\n",
       "\n",
       "    .dataframe thead th {\n",
       "        text-align: right;\n",
       "    }\n",
       "</style>\n",
       "<table border=\"1\" class=\"dataframe\">\n",
       "  <thead>\n",
       "    <tr style=\"text-align: right;\">\n",
       "      <th></th>\n",
       "      <th>도로형태</th>\n",
       "      <th>노면상태</th>\n",
       "      <th>사고유형</th>\n",
       "      <th>time</th>\n",
       "      <th>금요일</th>\n",
       "      <th>목요일</th>\n",
       "      <th>수요일</th>\n",
       "      <th>월요일</th>\n",
       "      <th>일요일</th>\n",
       "      <th>토요일</th>\n",
       "      <th>...</th>\n",
       "      <th>비</th>\n",
       "      <th>흐림</th>\n",
       "      <th>남구</th>\n",
       "      <th>달서구</th>\n",
       "      <th>달성군</th>\n",
       "      <th>동구</th>\n",
       "      <th>북구</th>\n",
       "      <th>서구</th>\n",
       "      <th>수성구</th>\n",
       "      <th>중구</th>\n",
       "    </tr>\n",
       "  </thead>\n",
       "  <tbody>\n",
       "    <tr>\n",
       "      <th>0</th>\n",
       "      <td>교차로 - 교차로안</td>\n",
       "      <td>건조</td>\n",
       "      <td>차대사람</td>\n",
       "      <td>01</td>\n",
       "      <td>0</td>\n",
       "      <td>0</td>\n",
       "      <td>0</td>\n",
       "      <td>0</td>\n",
       "      <td>0</td>\n",
       "      <td>1</td>\n",
       "      <td>...</td>\n",
       "      <td>0</td>\n",
       "      <td>0</td>\n",
       "      <td>0</td>\n",
       "      <td>0</td>\n",
       "      <td>0</td>\n",
       "      <td>0</td>\n",
       "      <td>0</td>\n",
       "      <td>0</td>\n",
       "      <td>1</td>\n",
       "      <td>0</td>\n",
       "    </tr>\n",
       "    <tr>\n",
       "      <th>1</th>\n",
       "      <td>단일로 - 기타</td>\n",
       "      <td>건조</td>\n",
       "      <td>차대사람</td>\n",
       "      <td>01</td>\n",
       "      <td>0</td>\n",
       "      <td>0</td>\n",
       "      <td>0</td>\n",
       "      <td>0</td>\n",
       "      <td>0</td>\n",
       "      <td>1</td>\n",
       "      <td>...</td>\n",
       "      <td>0</td>\n",
       "      <td>0</td>\n",
       "      <td>0</td>\n",
       "      <td>0</td>\n",
       "      <td>0</td>\n",
       "      <td>0</td>\n",
       "      <td>0</td>\n",
       "      <td>0</td>\n",
       "      <td>1</td>\n",
       "      <td>0</td>\n",
       "    </tr>\n",
       "    <tr>\n",
       "      <th>2</th>\n",
       "      <td>교차로 - 교차로안</td>\n",
       "      <td>건조</td>\n",
       "      <td>차대차</td>\n",
       "      <td>04</td>\n",
       "      <td>0</td>\n",
       "      <td>0</td>\n",
       "      <td>0</td>\n",
       "      <td>0</td>\n",
       "      <td>0</td>\n",
       "      <td>1</td>\n",
       "      <td>...</td>\n",
       "      <td>0</td>\n",
       "      <td>0</td>\n",
       "      <td>0</td>\n",
       "      <td>0</td>\n",
       "      <td>0</td>\n",
       "      <td>0</td>\n",
       "      <td>0</td>\n",
       "      <td>0</td>\n",
       "      <td>1</td>\n",
       "      <td>0</td>\n",
       "    </tr>\n",
       "    <tr>\n",
       "      <th>3</th>\n",
       "      <td>단일로 - 기타</td>\n",
       "      <td>건조</td>\n",
       "      <td>차대차</td>\n",
       "      <td>04</td>\n",
       "      <td>0</td>\n",
       "      <td>0</td>\n",
       "      <td>0</td>\n",
       "      <td>0</td>\n",
       "      <td>0</td>\n",
       "      <td>1</td>\n",
       "      <td>...</td>\n",
       "      <td>0</td>\n",
       "      <td>0</td>\n",
       "      <td>0</td>\n",
       "      <td>0</td>\n",
       "      <td>0</td>\n",
       "      <td>0</td>\n",
       "      <td>0</td>\n",
       "      <td>0</td>\n",
       "      <td>1</td>\n",
       "      <td>0</td>\n",
       "    </tr>\n",
       "    <tr>\n",
       "      <th>4</th>\n",
       "      <td>교차로 - 교차로안</td>\n",
       "      <td>건조</td>\n",
       "      <td>차대차</td>\n",
       "      <td>06</td>\n",
       "      <td>0</td>\n",
       "      <td>0</td>\n",
       "      <td>0</td>\n",
       "      <td>0</td>\n",
       "      <td>0</td>\n",
       "      <td>1</td>\n",
       "      <td>...</td>\n",
       "      <td>0</td>\n",
       "      <td>0</td>\n",
       "      <td>0</td>\n",
       "      <td>1</td>\n",
       "      <td>0</td>\n",
       "      <td>0</td>\n",
       "      <td>0</td>\n",
       "      <td>0</td>\n",
       "      <td>0</td>\n",
       "      <td>0</td>\n",
       "    </tr>\n",
       "  </tbody>\n",
       "</table>\n",
       "<p>5 rows × 23 columns</p>\n",
       "</div>"
      ],
      "text/plain": [
       "         도로형태 노면상태  사고유형 time  금요일  목요일  수요일  월요일  일요일  토요일  ...  비  흐림  남구  \\\n",
       "0  교차로 - 교차로안   건조  차대사람   01    0    0    0    0    0    1  ...  0   0   0   \n",
       "1    단일로 - 기타   건조  차대사람   01    0    0    0    0    0    1  ...  0   0   0   \n",
       "2  교차로 - 교차로안   건조   차대차   04    0    0    0    0    0    1  ...  0   0   0   \n",
       "3    단일로 - 기타   건조   차대차   04    0    0    0    0    0    1  ...  0   0   0   \n",
       "4  교차로 - 교차로안   건조   차대차   06    0    0    0    0    0    1  ...  0   0   0   \n",
       "\n",
       "   달서구  달성군  동구  북구  서구  수성구  중구  \n",
       "0    0    0   0   0   0    1   0  \n",
       "1    0    0   0   0   0    1   0  \n",
       "2    0    0   0   0   0    1   0  \n",
       "3    0    0   0   0   0    1   0  \n",
       "4    1    0   0   0   0    0   0  \n",
       "\n",
       "[5 rows x 23 columns]"
      ]
     },
     "execution_count": 85,
     "metadata": {},
     "output_type": "execute_result"
    }
   ],
   "source": [
    "df_test.head()"
   ]
  },
  {
   "cell_type": "markdown",
   "id": "c71149a7",
   "metadata": {},
   "source": [
    "# 도로형태"
   ]
  },
  {
   "cell_type": "code",
   "execution_count": 86,
   "id": "36cd502e",
   "metadata": {
    "ExecuteTime": {
     "end_time": "2023-12-01T06:29:29.978110Z",
     "start_time": "2023-12-01T06:29:29.962654Z"
    }
   },
   "outputs": [
    {
     "data": {
      "text/plain": [
       "단일로 - 기타           19481\n",
       "교차로 - 교차로안          9928\n",
       "교차로 - 교차로부근         5746\n",
       "기타 - 기타             1986\n",
       "교차로 - 교차로횡단보도내      1474\n",
       "단일로 - 지하차도(도로)내      309\n",
       "주차장 - 주차장            236\n",
       "단일로 - 교량             231\n",
       "단일로 - 고가도로위          138\n",
       "단일로 - 터널              64\n",
       "미분류 - 미분류              8\n",
       "Name: 도로형태, dtype: int64"
      ]
     },
     "execution_count": 86,
     "metadata": {},
     "output_type": "execute_result"
    }
   ],
   "source": [
    "df_train['도로형태'].value_counts()"
   ]
  },
  {
   "cell_type": "code",
   "execution_count": 87,
   "id": "e350495f",
   "metadata": {
    "ExecuteTime": {
     "end_time": "2023-12-01T06:29:34.674730Z",
     "start_time": "2023-12-01T06:29:34.659583Z"
    }
   },
   "outputs": [
    {
     "data": {
      "text/plain": [
       "단일로 - 기타           5039\n",
       "교차로 - 교차로안         2540\n",
       "교차로 - 교차로부근        1673\n",
       "기타 - 기타             752\n",
       "교차로 - 교차로횡단보도내      480\n",
       "단일로 - 지하차도(도로)내     273\n",
       "단일로 - 교량             74\n",
       "주차장 - 주차장            64\n",
       "단일로 - 고가도로위          52\n",
       "단일로 - 터널             15\n",
       "미분류 - 미분류             1\n",
       "Name: 도로형태, dtype: int64"
      ]
     },
     "execution_count": 87,
     "metadata": {},
     "output_type": "execute_result"
    }
   ],
   "source": [
    "df_test['도로형태'].value_counts()"
   ]
  },
  {
   "cell_type": "code",
   "execution_count": 92,
   "id": "75cea525",
   "metadata": {
    "ExecuteTime": {
     "end_time": "2023-12-01T06:30:43.737345Z",
     "start_time": "2023-12-01T06:30:43.672845Z"
    }
   },
   "outputs": [],
   "source": [
    "df_train['도로형태'] = df_train['도로형태'].str.split(expand=True)[0]\n",
    "df_test['도로형태'] = df_test['도로형태'].str.split(expand=True)[0]"
   ]
  },
  {
   "cell_type": "code",
   "execution_count": 93,
   "id": "0d9a75c4",
   "metadata": {
    "ExecuteTime": {
     "end_time": "2023-12-01T06:30:51.071989Z",
     "start_time": "2023-12-01T06:30:51.063528Z"
    }
   },
   "outputs": [
    {
     "data": {
      "text/plain": [
       "단일로    20223\n",
       "교차로    17148\n",
       "기타      1986\n",
       "주차장      236\n",
       "미분류        8\n",
       "Name: 도로형태, dtype: int64"
      ]
     },
     "execution_count": 93,
     "metadata": {},
     "output_type": "execute_result"
    }
   ],
   "source": [
    "df_train['도로형태'].value_counts()"
   ]
  },
  {
   "cell_type": "code",
   "execution_count": 94,
   "id": "20d2b45e",
   "metadata": {
    "ExecuteTime": {
     "end_time": "2023-12-01T06:30:51.541662Z",
     "start_time": "2023-12-01T06:30:51.519646Z"
    }
   },
   "outputs": [
    {
     "data": {
      "text/plain": [
       "단일로    5453\n",
       "교차로    4693\n",
       "기타      752\n",
       "주차장      64\n",
       "미분류       1\n",
       "Name: 도로형태, dtype: int64"
      ]
     },
     "execution_count": 94,
     "metadata": {},
     "output_type": "execute_result"
    }
   ],
   "source": [
    "df_test['도로형태'].value_counts()"
   ]
  },
  {
   "cell_type": "code",
   "execution_count": 95,
   "id": "695958a3",
   "metadata": {
    "ExecuteTime": {
     "end_time": "2023-12-01T06:31:03.130077Z",
     "start_time": "2023-12-01T06:31:03.086150Z"
    }
   },
   "outputs": [],
   "source": [
    "df_train = pd.concat([df_train, pd.get_dummies(df_train['도로형태'])], axis=1)\n",
    "df_test = pd.concat([df_test, pd.get_dummies(df_test['도로형태'])], axis=1)\n",
    "\n",
    "df_train.drop(['도로형태'], axis=1, inplace = True)\n",
    "df_test.drop(['도로형태'], axis=1, inplace = True)"
   ]
  },
  {
   "cell_type": "code",
   "execution_count": 96,
   "id": "423df85e",
   "metadata": {
    "ExecuteTime": {
     "end_time": "2023-12-01T06:31:28.354991Z",
     "start_time": "2023-12-01T06:31:28.344984Z"
    }
   },
   "outputs": [],
   "source": [
    "df_train.drop(columns = ['기타', '미분류'], axis=1, inplace = True)\n",
    "df_test.drop(columns = ['기타', '미분류'], axis=1, inplace = True)"
   ]
  },
  {
   "cell_type": "code",
   "execution_count": 98,
   "id": "8ef3f64b",
   "metadata": {
    "ExecuteTime": {
     "end_time": "2023-12-01T06:31:34.597068Z",
     "start_time": "2023-12-01T06:31:34.577037Z"
    }
   },
   "outputs": [
    {
     "data": {
      "text/html": [
       "<div>\n",
       "<style scoped>\n",
       "    .dataframe tbody tr th:only-of-type {\n",
       "        vertical-align: middle;\n",
       "    }\n",
       "\n",
       "    .dataframe tbody tr th {\n",
       "        vertical-align: top;\n",
       "    }\n",
       "\n",
       "    .dataframe thead th {\n",
       "        text-align: right;\n",
       "    }\n",
       "</style>\n",
       "<table border=\"1\" class=\"dataframe\">\n",
       "  <thead>\n",
       "    <tr style=\"text-align: right;\">\n",
       "      <th></th>\n",
       "      <th>노면상태</th>\n",
       "      <th>사고유형</th>\n",
       "      <th>사망자수</th>\n",
       "      <th>중상자수</th>\n",
       "      <th>경상자수</th>\n",
       "      <th>부상자수</th>\n",
       "      <th>time</th>\n",
       "      <th>금요일</th>\n",
       "      <th>목요일</th>\n",
       "      <th>수요일</th>\n",
       "      <th>...</th>\n",
       "      <th>달서구</th>\n",
       "      <th>달성군</th>\n",
       "      <th>동구</th>\n",
       "      <th>북구</th>\n",
       "      <th>서구</th>\n",
       "      <th>수성구</th>\n",
       "      <th>중구</th>\n",
       "      <th>교차로</th>\n",
       "      <th>단일로</th>\n",
       "      <th>주차장</th>\n",
       "    </tr>\n",
       "  </thead>\n",
       "  <tbody>\n",
       "    <tr>\n",
       "      <th>0</th>\n",
       "      <td>건조</td>\n",
       "      <td>차대사람</td>\n",
       "      <td>0</td>\n",
       "      <td>1</td>\n",
       "      <td>0</td>\n",
       "      <td>0</td>\n",
       "      <td>00</td>\n",
       "      <td>0</td>\n",
       "      <td>0</td>\n",
       "      <td>0</td>\n",
       "      <td>...</td>\n",
       "      <td>0</td>\n",
       "      <td>0</td>\n",
       "      <td>0</td>\n",
       "      <td>0</td>\n",
       "      <td>0</td>\n",
       "      <td>0</td>\n",
       "      <td>1</td>\n",
       "      <td>0</td>\n",
       "      <td>1</td>\n",
       "      <td>0</td>\n",
       "    </tr>\n",
       "  </tbody>\n",
       "</table>\n",
       "<p>1 rows × 29 columns</p>\n",
       "</div>"
      ],
      "text/plain": [
       "  노면상태  사고유형  사망자수  중상자수  경상자수  부상자수 time  금요일  목요일  수요일  ...  달서구  달성군  동구  \\\n",
       "0   건조  차대사람     0     1     0     0   00    0    0    0  ...    0    0   0   \n",
       "\n",
       "   북구  서구  수성구  중구  교차로  단일로  주차장  \n",
       "0   0   0    0   1    0    1    0  \n",
       "\n",
       "[1 rows x 29 columns]"
      ]
     },
     "execution_count": 98,
     "metadata": {},
     "output_type": "execute_result"
    }
   ],
   "source": [
    "df_train.head(1)"
   ]
  },
  {
   "cell_type": "markdown",
   "id": "cb5c3f49",
   "metadata": {},
   "source": [
    "# 노면상태"
   ]
  },
  {
   "cell_type": "code",
   "execution_count": 99,
   "id": "60cf6290",
   "metadata": {
    "ExecuteTime": {
     "end_time": "2023-12-01T06:31:57.256000Z",
     "start_time": "2023-12-01T06:31:57.246196Z"
    }
   },
   "outputs": [
    {
     "data": {
      "text/plain": [
       "건조       36420\n",
       "젖음/습기     3095\n",
       "기타          56\n",
       "서리/결빙       24\n",
       "침수           3\n",
       "적설           3\n",
       "Name: 노면상태, dtype: int64"
      ]
     },
     "execution_count": 99,
     "metadata": {},
     "output_type": "execute_result"
    }
   ],
   "source": [
    "df_train['노면상태'].value_counts()"
   ]
  },
  {
   "cell_type": "code",
   "execution_count": 100,
   "id": "75308379",
   "metadata": {
    "ExecuteTime": {
     "end_time": "2023-12-01T06:32:04.405682Z",
     "start_time": "2023-12-01T06:32:04.392244Z"
    }
   },
   "outputs": [
    {
     "data": {
      "text/plain": [
       "건조       10394\n",
       "젖음/습기      524\n",
       "기타          35\n",
       "서리/결빙        7\n",
       "침수           2\n",
       "적설           1\n",
       "Name: 노면상태, dtype: int64"
      ]
     },
     "execution_count": 100,
     "metadata": {},
     "output_type": "execute_result"
    }
   ],
   "source": [
    "df_test['노면상태'].value_counts()"
   ]
  },
  {
   "cell_type": "code",
   "execution_count": 101,
   "id": "5173db81",
   "metadata": {
    "ExecuteTime": {
     "end_time": "2023-12-01T06:32:21.368143Z",
     "start_time": "2023-12-01T06:32:21.340613Z"
    }
   },
   "outputs": [],
   "source": [
    "df_train = pd.concat([df_train, pd.get_dummies(df_train['노면상태'])], axis=1)\n",
    "df_test = pd.concat([df_test, pd.get_dummies(df_test['노면상태'])], axis=1)\n",
    "\n",
    "df_train.drop(['노면상태'], axis=1, inplace = True)\n",
    "df_test.drop(['노면상태'], axis=1, inplace = True)"
   ]
  },
  {
   "cell_type": "code",
   "execution_count": 102,
   "id": "fd4338b6",
   "metadata": {
    "ExecuteTime": {
     "end_time": "2023-12-01T06:32:25.707348Z",
     "start_time": "2023-12-01T06:32:25.687822Z"
    }
   },
   "outputs": [],
   "source": [
    "df_train.drop(columns=['기타'], axis=1, inplace=True)\n",
    "df_test.drop(columns=['기타'], axis=1, inplace=True)"
   ]
  },
  {
   "cell_type": "code",
   "execution_count": 103,
   "id": "d8e8efa8",
   "metadata": {
    "ExecuteTime": {
     "end_time": "2023-12-01T06:32:31.809797Z",
     "start_time": "2023-12-01T06:32:31.784369Z"
    }
   },
   "outputs": [
    {
     "data": {
      "text/html": [
       "<div>\n",
       "<style scoped>\n",
       "    .dataframe tbody tr th:only-of-type {\n",
       "        vertical-align: middle;\n",
       "    }\n",
       "\n",
       "    .dataframe tbody tr th {\n",
       "        vertical-align: top;\n",
       "    }\n",
       "\n",
       "    .dataframe thead th {\n",
       "        text-align: right;\n",
       "    }\n",
       "</style>\n",
       "<table border=\"1\" class=\"dataframe\">\n",
       "  <thead>\n",
       "    <tr style=\"text-align: right;\">\n",
       "      <th></th>\n",
       "      <th>사고유형</th>\n",
       "      <th>사망자수</th>\n",
       "      <th>중상자수</th>\n",
       "      <th>경상자수</th>\n",
       "      <th>부상자수</th>\n",
       "      <th>time</th>\n",
       "      <th>금요일</th>\n",
       "      <th>목요일</th>\n",
       "      <th>수요일</th>\n",
       "      <th>월요일</th>\n",
       "      <th>...</th>\n",
       "      <th>수성구</th>\n",
       "      <th>중구</th>\n",
       "      <th>교차로</th>\n",
       "      <th>단일로</th>\n",
       "      <th>주차장</th>\n",
       "      <th>건조</th>\n",
       "      <th>서리/결빙</th>\n",
       "      <th>적설</th>\n",
       "      <th>젖음/습기</th>\n",
       "      <th>침수</th>\n",
       "    </tr>\n",
       "  </thead>\n",
       "  <tbody>\n",
       "    <tr>\n",
       "      <th>0</th>\n",
       "      <td>차대사람</td>\n",
       "      <td>0</td>\n",
       "      <td>1</td>\n",
       "      <td>0</td>\n",
       "      <td>0</td>\n",
       "      <td>00</td>\n",
       "      <td>0</td>\n",
       "      <td>0</td>\n",
       "      <td>0</td>\n",
       "      <td>0</td>\n",
       "      <td>...</td>\n",
       "      <td>0</td>\n",
       "      <td>1</td>\n",
       "      <td>0</td>\n",
       "      <td>1</td>\n",
       "      <td>0</td>\n",
       "      <td>1</td>\n",
       "      <td>0</td>\n",
       "      <td>0</td>\n",
       "      <td>0</td>\n",
       "      <td>0</td>\n",
       "    </tr>\n",
       "  </tbody>\n",
       "</table>\n",
       "<p>1 rows × 33 columns</p>\n",
       "</div>"
      ],
      "text/plain": [
       "   사고유형  사망자수  중상자수  경상자수  부상자수 time  금요일  목요일  수요일  월요일  ...  수성구  중구  교차로  \\\n",
       "0  차대사람     0     1     0     0   00    0    0    0    0  ...    0   1    0   \n",
       "\n",
       "   단일로  주차장  건조  서리/결빙  적설  젖음/습기  침수  \n",
       "0    1    0   1      0   0      0   0  \n",
       "\n",
       "[1 rows x 33 columns]"
      ]
     },
     "execution_count": 103,
     "metadata": {},
     "output_type": "execute_result"
    }
   ],
   "source": [
    "df_train.head(1)"
   ]
  },
  {
   "cell_type": "markdown",
   "id": "fda8ab47",
   "metadata": {},
   "source": [
    "# 사고유형"
   ]
  },
  {
   "cell_type": "code",
   "execution_count": 106,
   "id": "e8faf990",
   "metadata": {
    "ExecuteTime": {
     "end_time": "2023-12-01T06:32:47.145671Z",
     "start_time": "2023-12-01T06:32:47.127780Z"
    }
   },
   "outputs": [
    {
     "data": {
      "text/plain": [
       "차대차     31777\n",
       "차대사람     6833\n",
       "차량단독      991\n",
       "Name: 사고유형, dtype: int64"
      ]
     },
     "execution_count": 106,
     "metadata": {},
     "output_type": "execute_result"
    }
   ],
   "source": [
    "df_train['사고유형'].value_counts()"
   ]
  },
  {
   "cell_type": "code",
   "execution_count": 107,
   "id": "6685aa2e",
   "metadata": {
    "ExecuteTime": {
     "end_time": "2023-12-01T06:32:52.918358Z",
     "start_time": "2023-12-01T06:32:52.901932Z"
    }
   },
   "outputs": [
    {
     "data": {
      "text/plain": [
       "차대차     8559\n",
       "차대사람    2079\n",
       "차량단독     325\n",
       "Name: 사고유형, dtype: int64"
      ]
     },
     "execution_count": 107,
     "metadata": {},
     "output_type": "execute_result"
    }
   ],
   "source": [
    "df_test['사고유형'].value_counts()"
   ]
  },
  {
   "cell_type": "code",
   "execution_count": 108,
   "id": "17738f05",
   "metadata": {
    "ExecuteTime": {
     "end_time": "2023-12-01T06:33:00.809308Z",
     "start_time": "2023-12-01T06:33:00.776631Z"
    }
   },
   "outputs": [],
   "source": [
    "df_train = pd.concat([df_train, pd.get_dummies(df_train['사고유형'])], axis=1)\n",
    "df_test = pd.concat([df_test, pd.get_dummies(df_test['사고유형'])], axis=1)\n",
    "\n",
    "df_train.drop(['사고유형'], axis=1, inplace = True)\n",
    "df_test.drop(['사고유형'], axis=1, inplace = True)"
   ]
  },
  {
   "cell_type": "markdown",
   "id": "2e03e9b3",
   "metadata": {},
   "source": [
    "# Save"
   ]
  },
  {
   "cell_type": "code",
   "execution_count": 110,
   "id": "ca0785f8",
   "metadata": {
    "ExecuteTime": {
     "end_time": "2023-12-01T06:33:13.328097Z",
     "start_time": "2023-12-01T06:33:13.311633Z"
    }
   },
   "outputs": [
    {
     "data": {
      "text/plain": [
       "Index(['사망자수', '중상자수', '경상자수', '부상자수', 'time', '금요일', '목요일', '수요일', '월요일',\n",
       "       '일요일', '토요일', '화요일', '눈', '맑음', '비', '흐림', '남구', '달서구', '달성군', '동구',\n",
       "       '북구', '서구', '수성구', '중구', '교차로', '단일로', '주차장', '건조', '서리/결빙', '적설',\n",
       "       '젖음/습기', '침수', '차대사람', '차대차', '차량단독'],\n",
       "      dtype='object')"
      ]
     },
     "execution_count": 110,
     "metadata": {},
     "output_type": "execute_result"
    }
   ],
   "source": [
    "df_train.columns"
   ]
  },
  {
   "cell_type": "code",
   "execution_count": 111,
   "id": "2d665392",
   "metadata": {
    "ExecuteTime": {
     "end_time": "2023-12-01T06:33:17.321327Z",
     "start_time": "2023-12-01T06:33:17.307741Z"
    }
   },
   "outputs": [
    {
     "data": {
      "text/plain": [
       "Index(['time', '금요일', '목요일', '수요일', '월요일', '일요일', '토요일', '화요일', '눈', '맑음', '비',\n",
       "       '흐림', '남구', '달서구', '달성군', '동구', '북구', '서구', '수성구', '중구', '교차로', '단일로',\n",
       "       '주차장', '건조', '서리/결빙', '적설', '젖음/습기', '침수', '차대사람', '차대차', '차량단독'],\n",
       "      dtype='object')"
      ]
     },
     "execution_count": 111,
     "metadata": {},
     "output_type": "execute_result"
    }
   ],
   "source": [
    "df_test.columns"
   ]
  },
  {
   "cell_type": "code",
   "execution_count": 112,
   "id": "6299ac42",
   "metadata": {
    "ExecuteTime": {
     "end_time": "2023-12-01T06:33:23.503188Z",
     "start_time": "2023-12-01T06:33:23.485080Z"
    }
   },
   "outputs": [
    {
     "data": {
      "text/plain": [
       "35"
      ]
     },
     "execution_count": 112,
     "metadata": {},
     "output_type": "execute_result"
    }
   ],
   "source": [
    "len(df_train.columns)"
   ]
  },
  {
   "cell_type": "code",
   "execution_count": 113,
   "id": "8d9bb10a",
   "metadata": {
    "ExecuteTime": {
     "end_time": "2023-12-01T06:33:27.885395Z",
     "start_time": "2023-12-01T06:33:27.877878Z"
    }
   },
   "outputs": [
    {
     "data": {
      "text/plain": [
       "31"
      ]
     },
     "execution_count": 113,
     "metadata": {},
     "output_type": "execute_result"
    }
   ],
   "source": [
    "len(df_test.columns)"
   ]
  },
  {
   "cell_type": "code",
   "execution_count": 116,
   "id": "64ffb123",
   "metadata": {
    "ExecuteTime": {
     "end_time": "2023-12-01T06:34:11.894751Z",
     "start_time": "2023-12-01T06:34:11.876726Z"
    }
   },
   "outputs": [],
   "source": [
    "df_train = df_train.astype('float')\n",
    "df_test = df_test.astype('float')"
   ]
  },
  {
   "cell_type": "code",
   "execution_count": 117,
   "id": "b8644f71",
   "metadata": {
    "ExecuteTime": {
     "end_time": "2023-12-01T06:34:24.318424Z",
     "start_time": "2023-12-01T06:34:23.717440Z"
    }
   },
   "outputs": [],
   "source": [
    "df_train.to_csv(\"../data/df_train_002.csv\", encoding='utf-8', index=False)\n",
    "df_test.to_csv(\"../data/df_test_002.csv\", encoding='utf-8', index=False)"
   ]
  }
 ],
 "metadata": {
  "hide_input": false,
  "kernelspec": {
   "display_name": "Python 3 (ipykernel)",
   "language": "python",
   "name": "python3"
  },
  "language_info": {
   "codemirror_mode": {
    "name": "ipython",
    "version": 3
   },
   "file_extension": ".py",
   "mimetype": "text/x-python",
   "name": "python",
   "nbconvert_exporter": "python",
   "pygments_lexer": "ipython3",
   "version": "3.9.12"
  },
  "toc": {
   "base_numbering": 1,
   "nav_menu": {},
   "number_sections": true,
   "sideBar": true,
   "skip_h1_title": false,
   "title_cell": "Table of Contents",
   "title_sidebar": "Contents",
   "toc_cell": false,
   "toc_position": {},
   "toc_section_display": true,
   "toc_window_display": true
  },
  "varInspector": {
   "cols": {
    "lenName": 16,
    "lenType": 16,
    "lenVar": 40
   },
   "kernels_config": {
    "python": {
     "delete_cmd_postfix": "",
     "delete_cmd_prefix": "del ",
     "library": "var_list.py",
     "varRefreshCmd": "print(var_dic_list())"
    },
    "r": {
     "delete_cmd_postfix": ") ",
     "delete_cmd_prefix": "rm(",
     "library": "var_list.r",
     "varRefreshCmd": "cat(var_dic_list()) "
    }
   },
   "types_to_exclude": [
    "module",
    "function",
    "builtin_function_or_method",
    "instance",
    "_Feature"
   ],
   "window_display": false
  }
 },
 "nbformat": 4,
 "nbformat_minor": 5
}
