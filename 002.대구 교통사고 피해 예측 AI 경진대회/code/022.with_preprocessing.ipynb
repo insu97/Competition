{
 "cells": [
  {
   "cell_type": "code",
   "execution_count": 1,
   "id": "ba045b4e",
   "metadata": {
    "ExecuteTime": {
     "end_time": "2023-12-08T16:32:04.594174Z",
     "start_time": "2023-12-08T16:32:04.427894Z"
    }
   },
   "outputs": [],
   "source": [
    "import os\n",
    "import random\n",
    "import numpy as np\n",
    "\n",
    "\n",
    "def seed_everything(seed):\n",
    "    random.seed(seed)\n",
    "    os.environ['PYTHONHASHSEED'] = str(seed)\n",
    "    np.random.seed(seed)\n",
    "\n",
    "\n",
    "seed_everything(42)"
   ]
  },
  {
   "cell_type": "code",
   "execution_count": 2,
   "id": "b8342452",
   "metadata": {
    "ExecuteTime": {
     "end_time": "2023-12-08T16:32:13.940861Z",
     "start_time": "2023-12-08T16:32:04.597694Z"
    },
    "scrolled": false
   },
   "outputs": [],
   "source": [
    "\n",
    "import pandas as pd\n",
    "import tensorflow as tf\n",
    "import matplotlib.pyplot as plt\n",
    "\n",
    "from sklearn.model_selection import train_test_split\n",
    "\n",
    "plt.rc('font', family='Malgun Gothic')  # 폰트 지정\n",
    "plt.rc('axes', unicode_minus=False)  # 마이너스 폰트 설정\n",
    "%config InlineBackend.figure_format = 'retina'  # 그래프 글씨 뚜렷"
   ]
  },
  {
   "cell_type": "code",
   "execution_count": 3,
   "id": "04dd3fcb",
   "metadata": {
    "ExecuteTime": {
     "end_time": "2023-12-08T16:32:14.493789Z",
     "start_time": "2023-12-08T16:32:13.950241Z"
    }
   },
   "outputs": [],
   "source": [
    "df_train = pd.read_csv(\"../data/train.csv\")\n",
    "df_test = pd.read_csv(\"../data/test.csv\")"
   ]
  },
  {
   "cell_type": "code",
   "execution_count": 4,
   "id": "7d6e6f4f",
   "metadata": {
    "ExecuteTime": {
     "end_time": "2023-12-08T16:32:14.524600Z",
     "start_time": "2023-12-08T16:32:14.504327Z"
    }
   },
   "outputs": [],
   "source": [
    "target_col = ['ECLO']\n",
    "use_col = df_test.columns.tolist()\n",
    "\n",
    "use_col.extend(target_col)"
   ]
  },
  {
   "cell_type": "code",
   "execution_count": 5,
   "id": "5c9302b0",
   "metadata": {
    "ExecuteTime": {
     "end_time": "2023-12-08T16:32:14.602982Z",
     "start_time": "2023-12-08T16:32:14.535063Z"
    }
   },
   "outputs": [
    {
     "name": "stdout",
     "output_type": "stream",
     "text": [
      "9 8\n"
     ]
    }
   ],
   "source": [
    "df_train = df_train[use_col]\n",
    "\n",
    "print(len(df_train.columns), len(df_test.columns))"
   ]
  },
  {
   "cell_type": "markdown",
   "id": "f9689ddb",
   "metadata": {},
   "source": [
    "# ID"
   ]
  },
  {
   "cell_type": "code",
   "execution_count": 6,
   "id": "0d88bd00",
   "metadata": {
    "ExecuteTime": {
     "end_time": "2023-12-08T16:32:14.648850Z",
     "start_time": "2023-12-08T16:32:14.608473Z"
    }
   },
   "outputs": [],
   "source": [
    "df_train.drop(columns=['ID'], axis=1, inplace=True)\n",
    "df_test.drop(columns=['ID'], axis=1, inplace=True)"
   ]
  },
  {
   "cell_type": "markdown",
   "id": "a555e7ae",
   "metadata": {},
   "source": [
    "# 사고일시\n",
    "    - 달 : month\n",
    "    - 시간 : time"
   ]
  },
  {
   "cell_type": "code",
   "execution_count": 7,
   "id": "bfbe9395",
   "metadata": {
    "ExecuteTime": {
     "end_time": "2023-12-08T16:32:15.462683Z",
     "start_time": "2023-12-08T16:32:14.653835Z"
    }
   },
   "outputs": [],
   "source": [
    "df_train['month'] = df_train['사고일시'].str.split(expand=True)[0]\n",
    "df_train['time'] = df_train['사고일시'].str.split(expand=True)[1]\n",
    "\n",
    "df_test['month'] = df_test['사고일시'].str.split(expand=True)[0]\n",
    "df_test['time'] = df_test['사고일시'].str.split(expand=True)[1]\n",
    "\n",
    "df_train['month'] = df_train['month'].str.split('-', expand=True)[1]\n",
    "df_test['month'] = df_test['month'].str.split('-', expand=True)[1]\n",
    "\n",
    "df_train.drop(columns=['사고일시'], axis=1, inplace=True)\n",
    "df_test.drop(columns=['사고일시'], axis=1, inplace=True)\n",
    "\n",
    "df_train[['month', 'time']] = df_train[['month', 'time']].astype('float')\n",
    "df_test[['month', 'time']] = df_test[['month', 'time']].astype('float')"
   ]
  },
  {
   "cell_type": "code",
   "execution_count": 8,
   "id": "7f5c876d",
   "metadata": {
    "ExecuteTime": {
     "end_time": "2023-12-08T16:32:15.509857Z",
     "start_time": "2023-12-08T16:32:15.471056Z"
    }
   },
   "outputs": [],
   "source": [
    "from sklearn.preprocessing import MinMaxScaler\n",
    "\n",
    "mms = MinMaxScaler()\n",
    "\n",
    "df_train[['month', 'time']] = mms.fit_transform(df_train[['month', 'time']])\n",
    "df_test[['month', 'time']] = mms.fit_transform(df_test[['month', 'time']])"
   ]
  },
  {
   "cell_type": "code",
   "execution_count": 9,
   "id": "0ca19c40",
   "metadata": {
    "ExecuteTime": {
     "end_time": "2023-12-08T16:32:15.540146Z",
     "start_time": "2023-12-08T16:32:15.524065Z"
    }
   },
   "outputs": [
    {
     "name": "stdout",
     "output_type": "stream",
     "text": [
      "9 8\n"
     ]
    }
   ],
   "source": [
    "print(len(df_train.columns), len(df_test.columns))"
   ]
  },
  {
   "cell_type": "markdown",
   "id": "c759af00",
   "metadata": {},
   "source": [
    "# 요일\n",
    "    - 원-핫"
   ]
  },
  {
   "cell_type": "code",
   "execution_count": 10,
   "id": "637f8210",
   "metadata": {
    "ExecuteTime": {
     "end_time": "2023-12-08T16:32:15.586134Z",
     "start_time": "2023-12-08T16:32:15.544147Z"
    }
   },
   "outputs": [],
   "source": [
    "df_train = pd.concat([df_train, pd.get_dummies(df_train['요일'])], axis=1)\n",
    "df_test = pd.concat([df_test, pd.get_dummies(df_test['요일'])], axis=1)"
   ]
  },
  {
   "cell_type": "code",
   "execution_count": 11,
   "id": "1e910e54",
   "metadata": {
    "ExecuteTime": {
     "end_time": "2023-12-08T16:32:15.616851Z",
     "start_time": "2023-12-08T16:32:15.592695Z"
    }
   },
   "outputs": [],
   "source": [
    "df_train.drop(columns=['요일'], axis=1, inplace=True)\n",
    "df_test.drop(columns=['요일'], axis=1, inplace=True)"
   ]
  },
  {
   "cell_type": "code",
   "execution_count": 12,
   "id": "f21cbdcd",
   "metadata": {
    "ExecuteTime": {
     "end_time": "2023-12-08T16:32:15.693541Z",
     "start_time": "2023-12-08T16:32:15.623170Z"
    }
   },
   "outputs": [
    {
     "data": {
      "text/html": [
       "<div>\n",
       "<style scoped>\n",
       "    .dataframe tbody tr th:only-of-type {\n",
       "        vertical-align: middle;\n",
       "    }\n",
       "\n",
       "    .dataframe tbody tr th {\n",
       "        vertical-align: top;\n",
       "    }\n",
       "\n",
       "    .dataframe thead th {\n",
       "        text-align: right;\n",
       "    }\n",
       "</style>\n",
       "<table border=\"1\" class=\"dataframe\">\n",
       "  <thead>\n",
       "    <tr style=\"text-align: right;\">\n",
       "      <th></th>\n",
       "      <th>month</th>\n",
       "      <th>time</th>\n",
       "      <th>금요일</th>\n",
       "      <th>목요일</th>\n",
       "      <th>수요일</th>\n",
       "      <th>월요일</th>\n",
       "      <th>일요일</th>\n",
       "      <th>토요일</th>\n",
       "      <th>화요일</th>\n",
       "    </tr>\n",
       "  </thead>\n",
       "  <tbody>\n",
       "    <tr>\n",
       "      <th>0</th>\n",
       "      <td>0.0</td>\n",
       "      <td>0.000000</td>\n",
       "      <td>0</td>\n",
       "      <td>0</td>\n",
       "      <td>0</td>\n",
       "      <td>0</td>\n",
       "      <td>0</td>\n",
       "      <td>0</td>\n",
       "      <td>1</td>\n",
       "    </tr>\n",
       "    <tr>\n",
       "      <th>1</th>\n",
       "      <td>0.0</td>\n",
       "      <td>0.000000</td>\n",
       "      <td>0</td>\n",
       "      <td>0</td>\n",
       "      <td>0</td>\n",
       "      <td>0</td>\n",
       "      <td>0</td>\n",
       "      <td>0</td>\n",
       "      <td>1</td>\n",
       "    </tr>\n",
       "    <tr>\n",
       "      <th>2</th>\n",
       "      <td>0.0</td>\n",
       "      <td>0.043478</td>\n",
       "      <td>0</td>\n",
       "      <td>0</td>\n",
       "      <td>0</td>\n",
       "      <td>0</td>\n",
       "      <td>0</td>\n",
       "      <td>0</td>\n",
       "      <td>1</td>\n",
       "    </tr>\n",
       "  </tbody>\n",
       "</table>\n",
       "</div>"
      ],
      "text/plain": [
       "   month      time  금요일  목요일  수요일  월요일  일요일  토요일  화요일\n",
       "0    0.0  0.000000    0    0    0    0    0    0    1\n",
       "1    0.0  0.000000    0    0    0    0    0    0    1\n",
       "2    0.0  0.043478    0    0    0    0    0    0    1"
      ]
     },
     "execution_count": 12,
     "metadata": {},
     "output_type": "execute_result"
    }
   ],
   "source": [
    "df_train.iloc[:3, -9:]"
   ]
  },
  {
   "cell_type": "code",
   "execution_count": 13,
   "id": "1acf63f2",
   "metadata": {
    "ExecuteTime": {
     "end_time": "2023-12-08T16:32:15.708586Z",
     "start_time": "2023-12-08T16:32:15.698059Z"
    }
   },
   "outputs": [
    {
     "name": "stdout",
     "output_type": "stream",
     "text": [
      "15 14\n"
     ]
    }
   ],
   "source": [
    "print(len(df_train.columns), len(df_test.columns))"
   ]
  },
  {
   "cell_type": "markdown",
   "id": "a56d94e3",
   "metadata": {},
   "source": [
    "# 기상상태\n",
    "    - 1. train 안개 포함 행을 지워 -> 원핫인코딩 , 데이터 개수가 줄어\n",
    "    - 2. 원-핫 -> 안개 컬럼을 지워, 안개 컬럼의 정보가 들어가 있음\n",
    "    - 기타 -> 살리자"
   ]
  },
  {
   "cell_type": "code",
   "execution_count": 14,
   "id": "f4a75ddb",
   "metadata": {
    "ExecuteTime": {
     "end_time": "2023-12-08T16:32:15.754775Z",
     "start_time": "2023-12-08T16:32:15.717103Z"
    }
   },
   "outputs": [],
   "source": [
    "not_use_col_train = df_train[df_train['기상상태'] == '안개'].index.tolist()\n",
    "\n",
    "df_train.drop(index=not_use_col_train, inplace=True)\n",
    "\n",
    "df_train.reset_index(drop=True, inplace=True)"
   ]
  },
  {
   "cell_type": "code",
   "execution_count": 15,
   "id": "8c67cbd1",
   "metadata": {
    "ExecuteTime": {
     "end_time": "2023-12-08T16:32:15.786157Z",
     "start_time": "2023-12-08T16:32:15.759070Z"
    }
   },
   "outputs": [],
   "source": [
    "df_train = pd.concat([df_train, pd.get_dummies(df_train['기상상태'])], axis=1)\n",
    "df_test = pd.concat([df_test, pd.get_dummies(df_test['기상상태'])], axis=1)"
   ]
  },
  {
   "cell_type": "code",
   "execution_count": 16,
   "id": "aca59660",
   "metadata": {
    "ExecuteTime": {
     "end_time": "2023-12-08T16:32:15.816450Z",
     "start_time": "2023-12-08T16:32:15.791690Z"
    }
   },
   "outputs": [],
   "source": [
    "df_train.drop(columns=['기상상태'], axis=1, inplace = True)\n",
    "df_test.drop(columns=['기상상태'], axis=1, inplace = True)"
   ]
  },
  {
   "cell_type": "code",
   "execution_count": 17,
   "id": "be5d032b",
   "metadata": {
    "ExecuteTime": {
     "end_time": "2023-12-08T16:32:15.846760Z",
     "start_time": "2023-12-08T16:32:15.820484Z"
    }
   },
   "outputs": [
    {
     "data": {
      "text/html": [
       "<div>\n",
       "<style scoped>\n",
       "    .dataframe tbody tr th:only-of-type {\n",
       "        vertical-align: middle;\n",
       "    }\n",
       "\n",
       "    .dataframe tbody tr th {\n",
       "        vertical-align: top;\n",
       "    }\n",
       "\n",
       "    .dataframe thead th {\n",
       "        text-align: right;\n",
       "    }\n",
       "</style>\n",
       "<table border=\"1\" class=\"dataframe\">\n",
       "  <thead>\n",
       "    <tr style=\"text-align: right;\">\n",
       "      <th></th>\n",
       "      <th>month</th>\n",
       "      <th>time</th>\n",
       "      <th>금요일</th>\n",
       "      <th>목요일</th>\n",
       "      <th>수요일</th>\n",
       "      <th>월요일</th>\n",
       "      <th>일요일</th>\n",
       "      <th>토요일</th>\n",
       "      <th>화요일</th>\n",
       "      <th>기타</th>\n",
       "      <th>눈</th>\n",
       "      <th>맑음</th>\n",
       "      <th>비</th>\n",
       "      <th>흐림</th>\n",
       "    </tr>\n",
       "  </thead>\n",
       "  <tbody>\n",
       "    <tr>\n",
       "      <th>0</th>\n",
       "      <td>0.0</td>\n",
       "      <td>0.000000</td>\n",
       "      <td>0</td>\n",
       "      <td>0</td>\n",
       "      <td>0</td>\n",
       "      <td>0</td>\n",
       "      <td>0</td>\n",
       "      <td>0</td>\n",
       "      <td>1</td>\n",
       "      <td>0</td>\n",
       "      <td>0</td>\n",
       "      <td>1</td>\n",
       "      <td>0</td>\n",
       "      <td>0</td>\n",
       "    </tr>\n",
       "    <tr>\n",
       "      <th>1</th>\n",
       "      <td>0.0</td>\n",
       "      <td>0.000000</td>\n",
       "      <td>0</td>\n",
       "      <td>0</td>\n",
       "      <td>0</td>\n",
       "      <td>0</td>\n",
       "      <td>0</td>\n",
       "      <td>0</td>\n",
       "      <td>1</td>\n",
       "      <td>0</td>\n",
       "      <td>0</td>\n",
       "      <td>0</td>\n",
       "      <td>0</td>\n",
       "      <td>1</td>\n",
       "    </tr>\n",
       "    <tr>\n",
       "      <th>2</th>\n",
       "      <td>0.0</td>\n",
       "      <td>0.043478</td>\n",
       "      <td>0</td>\n",
       "      <td>0</td>\n",
       "      <td>0</td>\n",
       "      <td>0</td>\n",
       "      <td>0</td>\n",
       "      <td>0</td>\n",
       "      <td>1</td>\n",
       "      <td>0</td>\n",
       "      <td>0</td>\n",
       "      <td>1</td>\n",
       "      <td>0</td>\n",
       "      <td>0</td>\n",
       "    </tr>\n",
       "  </tbody>\n",
       "</table>\n",
       "</div>"
      ],
      "text/plain": [
       "   month      time  금요일  목요일  수요일  월요일  일요일  토요일  화요일  기타  눈  맑음  비  흐림\n",
       "0    0.0  0.000000    0    0    0    0    0    0    1   0  0   1  0   0\n",
       "1    0.0  0.000000    0    0    0    0    0    0    1   0  0   0  0   1\n",
       "2    0.0  0.043478    0    0    0    0    0    0    1   0  0   1  0   0"
      ]
     },
     "execution_count": 17,
     "metadata": {},
     "output_type": "execute_result"
    }
   ],
   "source": [
    "df_train.iloc[:3, -14:]"
   ]
  },
  {
   "cell_type": "code",
   "execution_count": 18,
   "id": "f5560bbf",
   "metadata": {
    "ExecuteTime": {
     "end_time": "2023-12-08T16:32:15.861759Z",
     "start_time": "2023-12-08T16:32:15.850219Z"
    }
   },
   "outputs": [
    {
     "name": "stdout",
     "output_type": "stream",
     "text": [
      "19 18\n"
     ]
    }
   ],
   "source": [
    "print(len(df_train.columns), len(df_test.columns))"
   ]
  },
  {
   "cell_type": "code",
   "execution_count": 19,
   "id": "b610d3fb",
   "metadata": {
    "ExecuteTime": {
     "end_time": "2023-12-08T16:32:15.892835Z",
     "start_time": "2023-12-08T16:32:15.866815Z"
    }
   },
   "outputs": [],
   "source": [
    "df_train.rename(columns={'기타': \"기상상태-기타\"}, inplace=True)\n",
    "\n",
    "df_test.rename(columns={'기타': \"기상상태-기타\"}, inplace=True)"
   ]
  },
  {
   "cell_type": "markdown",
   "id": "46c8a1dc",
   "metadata": {},
   "source": [
    "# 시군구"
   ]
  },
  {
   "cell_type": "code",
   "execution_count": 20,
   "id": "0953556e",
   "metadata": {
    "ExecuteTime": {
     "end_time": "2023-12-08T16:32:16.448482Z",
     "start_time": "2023-12-08T16:32:15.899887Z"
    }
   },
   "outputs": [],
   "source": [
    "df_train['군구'] = df_train['시군구'].str.split(expand=True)[1] + ' ' + \\\n",
    "    df_train['시군구'].str.split(expand=True)[2]\n",
    "\n",
    "df_test['군구'] = df_test['시군구'].str.split(expand=True)[1] + ' ' + \\\n",
    "    df_test['시군구'].str.split(expand=True)[2]"
   ]
  },
  {
   "cell_type": "code",
   "execution_count": 21,
   "id": "88e4f7e9",
   "metadata": {
    "ExecuteTime": {
     "end_time": "2023-12-08T16:32:16.493638Z",
     "start_time": "2023-12-08T16:32:16.455477Z"
    }
   },
   "outputs": [],
   "source": [
    "df_train.drop(columns=['시군구'], axis=1, inplace = True)\n",
    "df_test.drop(columns=['시군구'], axis=1, inplace = True)"
   ]
  },
  {
   "cell_type": "code",
   "execution_count": 22,
   "id": "7574a5be",
   "metadata": {
    "ExecuteTime": {
     "end_time": "2023-12-08T16:32:16.539519Z",
     "start_time": "2023-12-08T16:32:16.502967Z"
    }
   },
   "outputs": [],
   "source": [
    "gu_train = df_train['군구'].value_counts().index.tolist()\n",
    "gu_test = df_test['군구'].value_counts().index.tolist()"
   ]
  },
  {
   "cell_type": "code",
   "execution_count": 23,
   "id": "8f57eca1",
   "metadata": {
    "ExecuteTime": {
     "end_time": "2023-12-08T16:32:16.570716Z",
     "start_time": "2023-12-08T16:32:16.547020Z"
    }
   },
   "outputs": [],
   "source": [
    "not_gu_use_col = []\n",
    "\n",
    "for i in range(len(gu_train)):\n",
    "    if gu_train[i] not in gu_test :\n",
    "        not_gu_use_col.append(gu_train[i])"
   ]
  },
  {
   "cell_type": "code",
   "execution_count": 24,
   "id": "fe5912d9",
   "metadata": {
    "ExecuteTime": {
     "end_time": "2023-12-08T16:32:16.601652Z",
     "start_time": "2023-12-08T16:32:16.577916Z"
    }
   },
   "outputs": [
    {
     "data": {
      "text/plain": [
       "['동구 신무동', '동구 둔산동', '동구 내동', '중구 서야동', '중구 장관동', '중구 도원동', '북구 도남동']"
      ]
     },
     "execution_count": 24,
     "metadata": {},
     "output_type": "execute_result"
    }
   ],
   "source": [
    "not_gu_use_col"
   ]
  },
  {
   "cell_type": "code",
   "execution_count": 25,
   "id": "48cc976b",
   "metadata": {
    "ExecuteTime": {
     "end_time": "2023-12-08T16:32:16.818561Z",
     "start_time": "2023-12-08T16:32:16.608156Z"
    }
   },
   "outputs": [],
   "source": [
    "for i in not_gu_use_col :\n",
    "    not_use_col = df_train[df_train['군구'] == i].index.tolist()\n",
    "    df_train.drop(index=not_use_col, inplace = True)\n",
    "    df_train.reset_index(drop=True)"
   ]
  },
  {
   "cell_type": "code",
   "execution_count": 26,
   "id": "b09bf426",
   "metadata": {
    "ExecuteTime": {
     "end_time": "2023-12-08T16:32:16.863305Z",
     "start_time": "2023-12-08T16:32:16.824572Z"
    }
   },
   "outputs": [
    {
     "data": {
      "text/plain": [
       "(192, 192)"
      ]
     },
     "execution_count": 26,
     "metadata": {},
     "output_type": "execute_result"
    }
   ],
   "source": [
    "len(df_train['군구'].value_counts()) , len(df_test['군구'].value_counts())"
   ]
  },
  {
   "cell_type": "code",
   "execution_count": 27,
   "id": "9743cf97",
   "metadata": {
    "ExecuteTime": {
     "end_time": "2023-12-08T16:32:17.094254Z",
     "start_time": "2023-12-08T16:32:16.886789Z"
    }
   },
   "outputs": [],
   "source": [
    "df_train = pd.concat([df_train, pd.get_dummies(df_train['군구'])], axis=1)\n",
    "df_test = pd.concat([df_test, pd.get_dummies(df_test['군구'])], axis=1)\n",
    "\n",
    "df_train.drop(columns=['군구'], axis=1, inplace = True)\n",
    "df_test.drop(columns=['군구'], axis=1, inplace = True)"
   ]
  },
  {
   "cell_type": "code",
   "execution_count": 28,
   "id": "c083b7b2",
   "metadata": {
    "ExecuteTime": {
     "end_time": "2023-12-08T16:32:17.124968Z",
     "start_time": "2023-12-08T16:32:17.101785Z"
    }
   },
   "outputs": [
    {
     "name": "stdout",
     "output_type": "stream",
     "text": [
      "210 209\n"
     ]
    }
   ],
   "source": [
    "print(len(df_train.columns), len(df_test.columns))"
   ]
  },
  {
   "cell_type": "markdown",
   "id": "04c32dcc",
   "metadata": {},
   "source": [
    "# 도로형태"
   ]
  },
  {
   "cell_type": "code",
   "execution_count": 29,
   "id": "850c1ca9",
   "metadata": {
    "ExecuteTime": {
     "end_time": "2023-12-08T16:32:17.216812Z",
     "start_time": "2023-12-08T16:32:17.131522Z"
    }
   },
   "outputs": [],
   "source": [
    "df_train = pd.concat([df_train, pd.get_dummies(df_train['도로형태'])], axis=1)\n",
    "df_test = pd.concat([df_test, pd.get_dummies(df_test['도로형태'])], axis=1)\n",
    "\n",
    "df_train.drop(columns=['도로형태'], axis=1, inplace = True)\n",
    "df_test.drop(columns=['도로형태'], axis=1, inplace = True)"
   ]
  },
  {
   "cell_type": "code",
   "execution_count": 30,
   "id": "2306ebc1",
   "metadata": {
    "ExecuteTime": {
     "end_time": "2023-12-08T16:32:17.247912Z",
     "start_time": "2023-12-08T16:32:17.221792Z"
    }
   },
   "outputs": [
    {
     "name": "stdout",
     "output_type": "stream",
     "text": [
      "220 219\n"
     ]
    }
   ],
   "source": [
    "print(len(df_train.columns), len(df_test.columns))"
   ]
  },
  {
   "cell_type": "markdown",
   "id": "3710719a",
   "metadata": {},
   "source": [
    "# 노면상태"
   ]
  },
  {
   "cell_type": "code",
   "execution_count": 31,
   "id": "d651014f",
   "metadata": {
    "ExecuteTime": {
     "end_time": "2023-12-08T16:32:17.323737Z",
     "start_time": "2023-12-08T16:32:17.252963Z"
    }
   },
   "outputs": [],
   "source": [
    "df_train = pd.concat([df_train, pd.get_dummies(df_train['노면상태'])], axis=1)\n",
    "df_test = pd.concat([df_test, pd.get_dummies(df_test['노면상태'])], axis=1)\n",
    "\n",
    "df_train.drop(columns=['노면상태'], axis=1, inplace = True)\n",
    "df_test.drop(columns=['노면상태'], axis=1, inplace = True)"
   ]
  },
  {
   "cell_type": "code",
   "execution_count": 32,
   "id": "602ff13f",
   "metadata": {
    "ExecuteTime": {
     "end_time": "2023-12-08T16:32:17.354699Z",
     "start_time": "2023-12-08T16:32:17.329799Z"
    }
   },
   "outputs": [
    {
     "name": "stdout",
     "output_type": "stream",
     "text": [
      "225 224\n"
     ]
    }
   ],
   "source": [
    "print(len(df_train.columns), len(df_test.columns))"
   ]
  },
  {
   "cell_type": "code",
   "execution_count": 33,
   "id": "4500034c",
   "metadata": {
    "ExecuteTime": {
     "end_time": "2023-12-08T16:32:17.385871Z",
     "start_time": "2023-12-08T16:32:17.365725Z"
    }
   },
   "outputs": [],
   "source": [
    "df_train.rename(columns={'기타': \"노면상태-기타\"}, inplace=True)\n",
    "\n",
    "df_test.rename(columns={'기타': \"노면상태-기타\"}, inplace=True)"
   ]
  },
  {
   "cell_type": "markdown",
   "id": "9bd10498",
   "metadata": {},
   "source": [
    "# 사고유형"
   ]
  },
  {
   "cell_type": "code",
   "execution_count": 34,
   "id": "18442e0e",
   "metadata": {
    "ExecuteTime": {
     "end_time": "2023-12-08T16:32:17.479533Z",
     "start_time": "2023-12-08T16:32:17.393418Z"
    }
   },
   "outputs": [],
   "source": [
    "df_train = pd.concat([df_train, pd.get_dummies(df_train['사고유형'])], axis=1)\n",
    "df_test = pd.concat([df_test, pd.get_dummies(df_test['사고유형'])], axis=1)\n",
    "\n",
    "df_train.drop(columns=['사고유형'], axis=1, inplace = True)\n",
    "df_test.drop(columns=['사고유형'], axis=1, inplace = True)"
   ]
  },
  {
   "cell_type": "code",
   "execution_count": 35,
   "id": "0daff166",
   "metadata": {
    "ExecuteTime": {
     "end_time": "2023-12-08T16:32:17.495602Z",
     "start_time": "2023-12-08T16:32:17.485519Z"
    }
   },
   "outputs": [
    {
     "name": "stdout",
     "output_type": "stream",
     "text": [
      "227 226\n"
     ]
    }
   ],
   "source": [
    "print(len(df_train.columns), len(df_test.columns))"
   ]
  },
  {
   "cell_type": "markdown",
   "id": "88754ae3",
   "metadata": {},
   "source": [
    "# 데이터 저장"
   ]
  },
  {
   "cell_type": "code",
   "execution_count": 36,
   "id": "62840a7a",
   "metadata": {
    "ExecuteTime": {
     "end_time": "2023-12-08T16:32:21.057166Z",
     "start_time": "2023-12-08T16:32:17.504978Z"
    }
   },
   "outputs": [],
   "source": [
    "df_train.to_csv(\"../data/df_train_005.csv\", index=False, encoding='utf-8')\n",
    "df_test.to_csv(\"../data/df_test_005.csv\", index=False, encoding='utf-8')"
   ]
  }
 ],
 "metadata": {
  "hide_input": false,
  "kernelspec": {
   "display_name": "Python 3 (ipykernel)",
   "language": "python",
   "name": "python3"
  },
  "language_info": {
   "codemirror_mode": {
    "name": "ipython",
    "version": 3
   },
   "file_extension": ".py",
   "mimetype": "text/x-python",
   "name": "python",
   "nbconvert_exporter": "python",
   "pygments_lexer": "ipython3",
   "version": "3.9.12"
  },
  "toc": {
   "base_numbering": 1,
   "nav_menu": {},
   "number_sections": true,
   "sideBar": true,
   "skip_h1_title": false,
   "title_cell": "Table of Contents",
   "title_sidebar": "Contents",
   "toc_cell": false,
   "toc_position": {
    "height": "calc(100% - 180px)",
    "left": "10px",
    "top": "150px",
    "width": "212.391px"
   },
   "toc_section_display": true,
   "toc_window_display": false
  },
  "varInspector": {
   "cols": {
    "lenName": 16,
    "lenType": 16,
    "lenVar": 40
   },
   "kernels_config": {
    "python": {
     "delete_cmd_postfix": "",
     "delete_cmd_prefix": "del ",
     "library": "var_list.py",
     "varRefreshCmd": "print(var_dic_list())"
    },
    "r": {
     "delete_cmd_postfix": ") ",
     "delete_cmd_prefix": "rm(",
     "library": "var_list.r",
     "varRefreshCmd": "cat(var_dic_list()) "
    }
   },
   "types_to_exclude": [
    "module",
    "function",
    "builtin_function_or_method",
    "instance",
    "_Feature"
   ],
   "window_display": false
  }
 },
 "nbformat": 4,
 "nbformat_minor": 5
}
